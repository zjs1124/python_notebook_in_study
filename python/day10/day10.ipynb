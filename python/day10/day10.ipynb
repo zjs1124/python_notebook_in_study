{
 "cells": [
  {
   "cell_type": "code",
   "execution_count": null,
   "id": "2333f11a",
   "metadata": {},
   "outputs": [],
   "source": [
    "# 正则表达式：\n",
    "# 使用单个字符串来描述、匹配某个句法规则的字符串\n",
    "# 常用来检索、替换那些符合某个模式的文本"
   ]
  },
  {
   "cell_type": "code",
   "execution_count": null,
   "id": "7a1c5cd5",
   "metadata": {},
   "outputs": [],
   "source": [
    "# python正则表达式，使用re模块。并基于re模块中三个基础方法来做正则匹配。"
   ]
  },
  {
   "cell_type": "code",
   "execution_count": null,
   "id": "75ce1c84",
   "metadata": {},
   "outputs": [],
   "source": [
    "# (1) match\n",
    "# 语法：\n",
    "# re.match(匹配规则,被匹配的字符串)\n",
    "# 从被匹配字符串开头进行匹配，匹配成功返回匹配对象\n",
    "# （包含匹配的信息）,匹配不成功则为空。\n"
   ]
  },
  {
   "cell_type": "code",
   "execution_count": null,
   "id": "f047c804",
   "metadata": {},
   "outputs": [],
   "source": [
    "# (2)search\n",
    "# 语法：\n",
    "# re.search(匹配规则，被匹配的字符串)\n",
    "# 搜索整个字符串,找到匹配的。从前向后，找到第一个后就停止。\n",
    "# 不会继续向后。如果整个字符串都找不到，返回None."
   ]
  },
  {
   "cell_type": "code",
   "execution_count": null,
   "id": "e19e5c82",
   "metadata": {},
   "outputs": [],
   "source": [
    "# (3)findall\n",
    "#语法：\n",
    "# re.findall(匹配规则,被匹配的字符串)\n",
    "# 匹配整个字符串，找到全部匹配项,如果找不到则返回为空"
   ]
  },
  {
   "cell_type": "code",
   "execution_count": 1,
   "id": "4fa31992",
   "metadata": {},
   "outputs": [],
   "source": [
    "import re"
   ]
  },
  {
   "cell_type": "code",
   "execution_count": null,
   "id": "23abf1a9",
   "metadata": {},
   "outputs": [
    {
     "name": "stdout",
     "output_type": "stream",
     "text": [
      "<re.Match object; span=(0, 6), match='Python'>\n"
     ]
    }
   ],
   "source": [
    "#match\n",
    "s = \"Python lanzhi Python shujia Python Python\"\n",
    "result = re.match('Python',s)\n",
    "print(result)"
   ]
  },
  {
   "cell_type": "code",
   "execution_count": null,
   "id": "ee98b9d0",
   "metadata": {},
   "outputs": [
    {
     "name": "stdout",
     "output_type": "stream",
     "text": [
      "(0, 6)\n"
     ]
    }
   ],
   "source": [
    "print(result.span())#字符的索引，第0个到第5个字符"
   ]
  },
  {
   "cell_type": "code",
   "execution_count": null,
   "id": "6d18543c",
   "metadata": {},
   "outputs": [
    {
     "name": "stdout",
     "output_type": "stream",
     "text": [
      "Python\n"
     ]
    }
   ],
   "source": [
    "print(result.group())#返回匹配对象"
   ]
  },
  {
   "cell_type": "code",
   "execution_count": 7,
   "id": "ea5927e0",
   "metadata": {},
   "outputs": [
    {
     "name": "stdout",
     "output_type": "stream",
     "text": [
      "<re.Match object; span=(5, 11), match='Python'>\n"
     ]
    }
   ],
   "source": [
    "#search()\n",
    "s = \"11111Python lanzhi Python shujia Python Python\"\n",
    "result = re.search('Python',s)\n",
    "print(result)"
   ]
  },
  {
   "cell_type": "code",
   "execution_count": 9,
   "id": "692b8b3e",
   "metadata": {},
   "outputs": [
    {
     "name": "stdout",
     "output_type": "stream",
     "text": [
      "['Python', 'Python', 'Python', 'Python']\n"
     ]
    }
   ],
   "source": [
    "# findall()\n",
    "s = \"11111Python lanzhi Python shujia Python Python\"\n",
    "result = re.findall('Python',s)\n",
    "print(result)"
   ]
  },
  {
   "cell_type": "code",
   "execution_count": null,
   "id": "623eaf59",
   "metadata": {},
   "outputs": [],
   "source": [
    "#re.ASCII 仅匹配AscII码\n",
    "#re.I 忽略大小写\n",
    "#re.L 表示特殊字符集\\W,\\W,\\b,\\B,\\s,\\S 依赖于当前环境\n",
    "#re.M 多行模式\n",
    "#re.S 即为.并且包括换行符在内的任意字符（.不包括换行符)\n",
    "#re.U 表示特殊字符集\\w,\\W,\\B,\\b,\\D,\\d,\\S,\\s依赖于Unicode字符属性数据库\n",
    "#re.X 为了增加可读性,忽略空格和#后面的注释\n"
   ]
  },
  {
   "cell_type": "code",
   "execution_count": null,
   "id": "9ffeb842",
   "metadata": {},
   "outputs": [],
   "source": [
    "#2.元字符的匹配\n",
    "\n",
    "#单字符匹配\n",
    "\n",
    "# . 匹配任意1个字符(除了\\n),\\. 匹配点的本身\n",
    "# [] 匹配[]中列举的字符\n",
    "# \\d 匹配数字，即0-9\n",
    "# \\D 匹配非数字\n",
    "# \\s 匹配空白,即空格、tab键\n",
    "# \\w 匹配单词字符 即a-z A-z 0-9\n",
    "# \\W 匹配非字符"
   ]
  },
  {
   "cell_type": "code",
   "execution_count": null,
   "id": "2a8885a5",
   "metadata": {},
   "outputs": [],
   "source": [
    "\"\"\"\n",
    "元字符匹配\n",
    "* 匹配前一个规则的字符出现0至无数次\n",
    "+ 匹配前一个规则的字符出现1至无数次\n",
    "? 匹配前一个规则的字符出现0或者1次\n",
    "{n} 精确匹配n次\n",
    "{n,} 匹配前一个规则的字符出现最少n次\n",
    "{n,m} 匹配前一个规则的字符出现n到m次\n",
    "\n",
    "边界匹配\n",
    "^ (脱字符) 匹配字符串的开头\n",
    "$ (美元符) 匹配字符串的结尾\n",
    "\\b 匹配一个单词的边界\n",
    "\\B 匹配非单词的边界\n",
    "\n",
    "分组匹配\n",
    "| 表示或的关系,匹配作呕任意一个表达式\n",
    "() 定义子表达式或捕获组。将括号中的字符作为一个分组\n",
    "\"\"\""
   ]
  },
  {
   "cell_type": "code",
   "execution_count": null,
   "id": "f961b3a0",
   "metadata": {},
   "outputs": [],
   "source": [
    "\"\"\"\n",
    "匹配任意一个网址\n",
    "# 匹配任意网址\n",
    "# https://www. baidu.com/\n",
    "# https://www.runoob.com/regexp/regexp-metachar.html\n",
    "\"\"\""
   ]
  },
  {
   "cell_type": "code",
   "execution_count": 11,
   "id": "9819edb5",
   "metadata": {},
   "outputs": [],
   "source": [
    "urls = \"https://www.baidu.com/s?ie=utf-8&f=8&rsv_bp=1&rsv_idx=1&tn=baidu&wd=python&fenlei=256&rsv_pq=0xdd94ce8901560f53&rsv_t=3ed2mf7prwevZYFi72JhsDmZ%2BapT%2BiY6FEAZcG9WCqDX0f%2FdusTyQb4DoKjZ&rqlang=en&rsv_dl=tb&rsv_enter=1&rsv_sug3=7&rsv_sug1=5&rsv_sug7=100&rsv_sug2=0&rsv_btype=i&inputT=1491&rsv_sug4=2277网址是：https://www.baidu.com/和https://www.runoob.com/regexp/regexp-metachar.html和网址\"\n"
   ]
  },
  {
   "cell_type": "code",
   "execution_count": null,
   "id": "a2f89a54",
   "metadata": {},
   "outputs": [],
   "source": [
    "\"\"\"\n",
    "1、http[s]?  http或者https\n",
    "http:普通的字符序列,直接匹配字符串http\n",
    "[s]? 匹配s字符出现0次或者出现1次\n",
    "2、://\n",
    "这是普通字符序列,直接匹配字符串://(它是url中协议与域名之间的分隔符)\n",
    "3、(?:)\n",
    "(?:)是一个非捕获分组,它将括号内的内容作为一个整体来处理,但不会保存匹配搭配的内容。\n",
    "这个分组包含了多种可能得字符组合,用于匹配url域名、路径、查询参数等部分\n",
    "url包含域名、路径、查询参数等部分\n",
    "4、[a-zA-Z]\n",
    "匹配任意的大小写英文字母,在url中,域名、路径等部分可能包含字母\n",
    "5、[0-9]\n",
    "同样是字符类,匹配任意数字,url中端口号、参数值等部分可能会出现数字\n",
    "6、[$-_@.&+]\n",
    "字符类，匹配这些特定的符号 $、-、_、@、.、&、+。这些符号在url中比较常见。\n",
    "如&常用分隔查询参数,用于分隔域名的各个部分等。\n",
    "7、[!*\\\\(\\\\),]\n",
    "字符类，匹配符号!、*、（、）、,在url中,这些符号也可能作为合法的字符出现,\n",
    "注意的是(和)是正则表达式中的特殊字符，需要用\\来进行转义\n",
    "8、(?:%[0-9a-fA-F][0-9a-fA-F])\n",
    "这是一个非捕获组,\n",
    "用于匹配url中的百分号百分号编码\n",
    "% 匹配的是 %，它就是百分号编码的其实符号\n",
    "[0-9a-fA-F]字符类,匹配十六进制数字(0-9、a-f、A-F)。\n",
    "百分号编码后会跟着两个十六进制的数字。\n",
    "9、+\n",
    "量词\n",
    "\n",
    "http[s]?://(?:[a-zA-Z]|[0-9]|[$-_@.&+]|[!*\\\\(\\\\),]|(?:%[0-9a-fA-F][0-9a-fA-F]))+\n",
    "\n",
    "\"\"\""
   ]
  },
  {
   "cell_type": "code",
   "execution_count": null,
   "id": "aabf30e7",
   "metadata": {},
   "outputs": [
    {
     "name": "stdout",
     "output_type": "stream",
     "text": [
      "['https://www.baidu.com/s?ie=utf-8&f=8&rsv_bp=1&rsv_idx=1&tn=baidu&wd=python&fenlei=256&rsv_pq=0xdd94ce8901560f53&rsv_t=3ed2mf7prwevZYFi72JhsDmZ%2BapT%2BiY6FEAZcG9WCqDX0f%2FdusTyQb4DoKjZ&rqlang=en&rsv_dl=tb&rsv_enter=1&rsv_sug3=7&rsv_sug1=5&rsv_sug7=100&rsv_sug2=0&rsv_btype=i&inputT=1491&rsv_sug4=2277', 'https://www.baidu.com/', 'https://www.runoob.com/regexp/regexp-metachar.html']\n"
     ]
    }
   ],
   "source": [
    "pattern = r'http[s]?://(?:[a-zA-Z]|[0-9]|[$-_@.&+]|[!*\\\\(\\\\),]|(?:%[0-9a-fA-F][0-9a-fA-F]))+'\n",
    "result = re.findall(pattern,urls)\n",
    "print(result)"
   ]
  }
 ],
 "metadata": {
  "kernelspec": {
   "display_name": "Python 3 (ipykernel)",
   "language": "python",
   "name": "python3"
  },
  "language_info": {
   "codemirror_mode": {
    "name": "ipython",
    "version": 3
   },
   "file_extension": ".py",
   "mimetype": "text/x-python",
   "name": "python",
   "nbconvert_exporter": "python",
   "pygments_lexer": "ipython3",
   "version": "3.10.11"
  }
 },
 "nbformat": 4,
 "nbformat_minor": 5
}

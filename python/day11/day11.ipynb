{
 "cells": [
  {
   "cell_type": "code",
   "execution_count": 10,
   "id": "5707939c",
   "metadata": {},
   "outputs": [],
   "source": [
    "import pandas as pd\n",
    "import numpy as np"
   ]
  },
  {
   "cell_type": "markdown",
   "id": "1359de40",
   "metadata": {},
   "source": [
    "# 数据写入"
   ]
  },
  {
   "cell_type": "code",
   "execution_count": 11,
   "id": "249f4d22",
   "metadata": {},
   "outputs": [],
   "source": [
    "# df = pd.read_csv('D:\\\\vscode_code\\\\数据集\\\\learn_pandas.csv')"
   ]
  },
  {
   "cell_type": "code",
   "execution_count": 12,
   "id": "b8a15420",
   "metadata": {},
   "outputs": [],
   "source": [
    "#df"
   ]
  },
  {
   "cell_type": "code",
   "execution_count": 13,
   "id": "f43bda4f",
   "metadata": {},
   "outputs": [],
   "source": [
    "#pd = pd.read_table('D:\\\\vscode_code\\\\数据集\\\\ch2\\\\my_table.txt')"
   ]
  },
  {
   "cell_type": "markdown",
   "id": "d5efb5cf",
   "metadata": {},
   "source": [
    "# 数据写出"
   ]
  },
  {
   "cell_type": "code",
   "execution_count": 14,
   "id": "82a8095c",
   "metadata": {},
   "outputs": [],
   "source": [
    "#df.to_csv('D:\\\\vscode_code\\\\数据集\\\\test.csv',index = False)"
   ]
  },
  {
   "cell_type": "code",
   "execution_count": 15,
   "id": "0d75e6ef",
   "metadata": {},
   "outputs": [],
   "source": [
    "#基础数据结构"
   ]
  },
  {
   "cell_type": "markdown",
   "id": "fa263fdc",
   "metadata": {},
   "source": [
    "# series"
   ]
  },
  {
   "cell_type": "code",
   "execution_count": 16,
   "id": "fc4ea21c",
   "metadata": {},
   "outputs": [],
   "source": [
    "s = pd.Series(data = ['1',2,{'dic':3}],\n",
    "              index = ['line0','line1','line2'],\n",
    "              name = 'line',\n",
    "              dtype = 'object')"
   ]
  },
  {
   "cell_type": "code",
   "execution_count": 17,
   "id": "5631e334",
   "metadata": {},
   "outputs": [
    {
     "data": {
      "text/plain": [
       "line0             1\n",
       "line1             2\n",
       "line2    {'dic': 3}\n",
       "Name: line, dtype: object"
      ]
     },
     "execution_count": 17,
     "metadata": {},
     "output_type": "execute_result"
    }
   ],
   "source": [
    "s"
   ]
  },
  {
   "cell_type": "code",
   "execution_count": 18,
   "id": "57aebf89",
   "metadata": {},
   "outputs": [
    {
     "data": {
      "text/plain": [
       "'line'"
      ]
     },
     "execution_count": 18,
     "metadata": {},
     "output_type": "execute_result"
    }
   ],
   "source": [
    "s.name"
   ]
  },
  {
   "cell_type": "code",
   "execution_count": 19,
   "id": "b8ea7fb8",
   "metadata": {},
   "outputs": [
    {
     "data": {
      "text/plain": [
       "dtype('O')"
      ]
     },
     "execution_count": 19,
     "metadata": {},
     "output_type": "execute_result"
    }
   ],
   "source": [
    "s.dtype"
   ]
  },
  {
   "cell_type": "code",
   "execution_count": 20,
   "id": "8b19ecbf",
   "metadata": {},
   "outputs": [
    {
     "data": {
      "text/plain": [
       "Index(['line0', 'line1', 'line2'], dtype='object')"
      ]
     },
     "execution_count": 20,
     "metadata": {},
     "output_type": "execute_result"
    }
   ],
   "source": [
    "s.index"
   ]
  },
  {
   "cell_type": "code",
   "execution_count": 21,
   "id": "c1b8da2b",
   "metadata": {},
   "outputs": [
    {
     "data": {
      "text/plain": [
       "array(['1', 2, {'dic': 3}], dtype=object)"
      ]
     },
     "execution_count": 21,
     "metadata": {},
     "output_type": "execute_result"
    }
   ],
   "source": [
    "s.values"
   ]
  },
  {
   "cell_type": "markdown",
   "id": "5b6f2a6a",
   "metadata": {},
   "source": [
    "# dataFrame"
   ]
  },
  {
   "cell_type": "code",
   "execution_count": 22,
   "id": "a02289f2",
   "metadata": {},
   "outputs": [],
   "source": [
    "df = pd.DataFrame(data = [[1,2,3],\n",
    "                          [4,5,6],\n",
    "                          [7,8,9]],\n",
    "                  index = pd.Index(['ln0','ln1','ln2']),\n",
    "                  columns = pd.Index(['col1','col2','col3']))"
   ]
  },
  {
   "cell_type": "code",
   "execution_count": 23,
   "id": "efd5fc97",
   "metadata": {},
   "outputs": [
    {
     "data": {
      "text/html": [
       "<div>\n",
       "<style scoped>\n",
       "    .dataframe tbody tr th:only-of-type {\n",
       "        vertical-align: middle;\n",
       "    }\n",
       "\n",
       "    .dataframe tbody tr th {\n",
       "        vertical-align: top;\n",
       "    }\n",
       "\n",
       "    .dataframe thead th {\n",
       "        text-align: right;\n",
       "    }\n",
       "</style>\n",
       "<table border=\"1\" class=\"dataframe\">\n",
       "  <thead>\n",
       "    <tr style=\"text-align: right;\">\n",
       "      <th></th>\n",
       "      <th>col1</th>\n",
       "      <th>col2</th>\n",
       "      <th>col3</th>\n",
       "    </tr>\n",
       "  </thead>\n",
       "  <tbody>\n",
       "    <tr>\n",
       "      <th>ln0</th>\n",
       "      <td>1</td>\n",
       "      <td>2</td>\n",
       "      <td>3</td>\n",
       "    </tr>\n",
       "    <tr>\n",
       "      <th>ln1</th>\n",
       "      <td>4</td>\n",
       "      <td>5</td>\n",
       "      <td>6</td>\n",
       "    </tr>\n",
       "    <tr>\n",
       "      <th>ln2</th>\n",
       "      <td>7</td>\n",
       "      <td>8</td>\n",
       "      <td>9</td>\n",
       "    </tr>\n",
       "  </tbody>\n",
       "</table>\n",
       "</div>"
      ],
      "text/plain": [
       "     col1  col2  col3\n",
       "ln0     1     2     3\n",
       "ln1     4     5     6\n",
       "ln2     7     8     9"
      ]
     },
     "execution_count": 23,
     "metadata": {},
     "output_type": "execute_result"
    }
   ],
   "source": [
    "df"
   ]
  },
  {
   "cell_type": "code",
   "execution_count": 24,
   "id": "f2387033",
   "metadata": {},
   "outputs": [],
   "source": [
    "df_str = pd.DataFrame(data ={'col1' :['a','b','c'],\n",
    "                           'col3' : ['ca','ac','cd'],\n",
    "                           'col2' : ['p','java','python']},\n",
    "                    index = ['%d'%i for i in range(3)]\n",
    "                    )"
   ]
  },
  {
   "cell_type": "code",
   "execution_count": 25,
   "id": "331f6a3b",
   "metadata": {},
   "outputs": [
    {
     "data": {
      "text/html": [
       "<div>\n",
       "<style scoped>\n",
       "    .dataframe tbody tr th:only-of-type {\n",
       "        vertical-align: middle;\n",
       "    }\n",
       "\n",
       "    .dataframe tbody tr th {\n",
       "        vertical-align: top;\n",
       "    }\n",
       "\n",
       "    .dataframe thead th {\n",
       "        text-align: right;\n",
       "    }\n",
       "</style>\n",
       "<table border=\"1\" class=\"dataframe\">\n",
       "  <thead>\n",
       "    <tr style=\"text-align: right;\">\n",
       "      <th></th>\n",
       "      <th>col1</th>\n",
       "      <th>col3</th>\n",
       "      <th>col2</th>\n",
       "    </tr>\n",
       "  </thead>\n",
       "  <tbody>\n",
       "    <tr>\n",
       "      <th>0</th>\n",
       "      <td>a</td>\n",
       "      <td>ca</td>\n",
       "      <td>p</td>\n",
       "    </tr>\n",
       "    <tr>\n",
       "      <th>1</th>\n",
       "      <td>b</td>\n",
       "      <td>ac</td>\n",
       "      <td>java</td>\n",
       "    </tr>\n",
       "    <tr>\n",
       "      <th>2</th>\n",
       "      <td>c</td>\n",
       "      <td>cd</td>\n",
       "      <td>python</td>\n",
       "    </tr>\n",
       "  </tbody>\n",
       "</table>\n",
       "</div>"
      ],
      "text/plain": [
       "  col1 col3    col2\n",
       "0    a   ca       p\n",
       "1    b   ac    java\n",
       "2    c   cd  python"
      ]
     },
     "execution_count": 25,
     "metadata": {},
     "output_type": "execute_result"
    }
   ],
   "source": [
    "df_str"
   ]
  },
  {
   "cell_type": "code",
   "execution_count": 26,
   "id": "65da85be",
   "metadata": {},
   "outputs": [],
   "source": [
    "df1 = pd.DataFrame(data = [[1,2,3],\n",
    "                           [4,5,6],\n",
    "                           [7,8,9]],\n",
    "                    index = ['(%d)'%i for i in range(3)],\n",
    "                    columns = ['col1','col2','col3'])"
   ]
  },
  {
   "cell_type": "code",
   "execution_count": 27,
   "id": "1962033a",
   "metadata": {},
   "outputs": [
    {
     "data": {
      "text/html": [
       "<div>\n",
       "<style scoped>\n",
       "    .dataframe tbody tr th:only-of-type {\n",
       "        vertical-align: middle;\n",
       "    }\n",
       "\n",
       "    .dataframe tbody tr th {\n",
       "        vertical-align: top;\n",
       "    }\n",
       "\n",
       "    .dataframe thead th {\n",
       "        text-align: right;\n",
       "    }\n",
       "</style>\n",
       "<table border=\"1\" class=\"dataframe\">\n",
       "  <thead>\n",
       "    <tr style=\"text-align: right;\">\n",
       "      <th></th>\n",
       "      <th>col1</th>\n",
       "      <th>col2</th>\n",
       "      <th>col3</th>\n",
       "    </tr>\n",
       "  </thead>\n",
       "  <tbody>\n",
       "    <tr>\n",
       "      <th>(0)</th>\n",
       "      <td>1</td>\n",
       "      <td>2</td>\n",
       "      <td>3</td>\n",
       "    </tr>\n",
       "    <tr>\n",
       "      <th>(1)</th>\n",
       "      <td>4</td>\n",
       "      <td>5</td>\n",
       "      <td>6</td>\n",
       "    </tr>\n",
       "    <tr>\n",
       "      <th>(2)</th>\n",
       "      <td>7</td>\n",
       "      <td>8</td>\n",
       "      <td>9</td>\n",
       "    </tr>\n",
       "  </tbody>\n",
       "</table>\n",
       "</div>"
      ],
      "text/plain": [
       "     col1  col2  col3\n",
       "(0)     1     2     3\n",
       "(1)     4     5     6\n",
       "(2)     7     8     9"
      ]
     },
     "execution_count": 27,
     "metadata": {},
     "output_type": "execute_result"
    }
   ],
   "source": [
    "df1"
   ]
  },
  {
   "cell_type": "code",
   "execution_count": 28,
   "id": "c3c14bc5",
   "metadata": {},
   "outputs": [
    {
     "data": {
      "text/plain": [
       "Index(['ln0', 'ln1', 'ln2'], dtype='object')"
      ]
     },
     "execution_count": 28,
     "metadata": {},
     "output_type": "execute_result"
    }
   ],
   "source": [
    "df.index"
   ]
  },
  {
   "cell_type": "code",
   "execution_count": 29,
   "id": "e10b4633",
   "metadata": {},
   "outputs": [
    {
     "data": {
      "text/plain": [
       "Index(['col1', 'col2', 'col3'], dtype='object')"
      ]
     },
     "execution_count": 29,
     "metadata": {},
     "output_type": "execute_result"
    }
   ],
   "source": [
    "df.columns "
   ]
  },
  {
   "cell_type": "code",
   "execution_count": 30,
   "id": "fcac29cc",
   "metadata": {},
   "outputs": [
    {
     "data": {
      "text/plain": [
       "array([[1, 2, 3],\n",
       "       [4, 5, 6],\n",
       "       [7, 8, 9]])"
      ]
     },
     "execution_count": 30,
     "metadata": {},
     "output_type": "execute_result"
    }
   ],
   "source": [
    "df.values #dataFrame 的值"
   ]
  },
  {
   "cell_type": "code",
   "execution_count": 31,
   "id": "472115ac",
   "metadata": {},
   "outputs": [
    {
     "data": {
      "text/plain": [
       "col1    int64\n",
       "col2    int64\n",
       "col3    int64\n",
       "dtype: object"
      ]
     },
     "execution_count": 31,
     "metadata": {},
     "output_type": "execute_result"
    }
   ],
   "source": [
    "df.dtypes #dataFrame 的类型"
   ]
  },
  {
   "cell_type": "code",
   "execution_count": 32,
   "id": "ffdf0d63",
   "metadata": {},
   "outputs": [
    {
     "data": {
      "text/plain": [
       "(3, 3)"
      ]
     },
     "execution_count": 32,
     "metadata": {},
     "output_type": "execute_result"
    }
   ],
   "source": [
    "df.shape #dataFrame 的长度"
   ]
  },
  {
   "cell_type": "code",
   "execution_count": 33,
   "id": "a7808692",
   "metadata": {},
   "outputs": [
    {
     "data": {
      "text/html": [
       "<div>\n",
       "<style scoped>\n",
       "    .dataframe tbody tr th:only-of-type {\n",
       "        vertical-align: middle;\n",
       "    }\n",
       "\n",
       "    .dataframe tbody tr th {\n",
       "        vertical-align: top;\n",
       "    }\n",
       "\n",
       "    .dataframe thead th {\n",
       "        text-align: right;\n",
       "    }\n",
       "</style>\n",
       "<table border=\"1\" class=\"dataframe\">\n",
       "  <thead>\n",
       "    <tr style=\"text-align: right;\">\n",
       "      <th></th>\n",
       "      <th>ln0</th>\n",
       "      <th>ln1</th>\n",
       "      <th>ln2</th>\n",
       "    </tr>\n",
       "  </thead>\n",
       "  <tbody>\n",
       "    <tr>\n",
       "      <th>col1</th>\n",
       "      <td>1</td>\n",
       "      <td>4</td>\n",
       "      <td>7</td>\n",
       "    </tr>\n",
       "    <tr>\n",
       "      <th>col2</th>\n",
       "      <td>2</td>\n",
       "      <td>5</td>\n",
       "      <td>8</td>\n",
       "    </tr>\n",
       "    <tr>\n",
       "      <th>col3</th>\n",
       "      <td>3</td>\n",
       "      <td>6</td>\n",
       "      <td>9</td>\n",
       "    </tr>\n",
       "  </tbody>\n",
       "</table>\n",
       "</div>"
      ],
      "text/plain": [
       "      ln0  ln1  ln2\n",
       "col1    1    4    7\n",
       "col2    2    5    8\n",
       "col3    3    6    9"
      ]
     },
     "execution_count": 33,
     "metadata": {},
     "output_type": "execute_result"
    }
   ],
   "source": [
    "df.T #dataFrame 的 转置"
   ]
  },
  {
   "cell_type": "code",
   "execution_count": 34,
   "id": "7cd4b27d",
   "metadata": {},
   "outputs": [],
   "source": [
    "df = df[df.columns[:2]]"
   ]
  },
  {
   "cell_type": "code",
   "execution_count": 35,
   "id": "5d2c1705",
   "metadata": {},
   "outputs": [
    {
     "data": {
      "text/html": [
       "<div>\n",
       "<style scoped>\n",
       "    .dataframe tbody tr th:only-of-type {\n",
       "        vertical-align: middle;\n",
       "    }\n",
       "\n",
       "    .dataframe tbody tr th {\n",
       "        vertical-align: top;\n",
       "    }\n",
       "\n",
       "    .dataframe thead th {\n",
       "        text-align: right;\n",
       "    }\n",
       "</style>\n",
       "<table border=\"1\" class=\"dataframe\">\n",
       "  <thead>\n",
       "    <tr style=\"text-align: right;\">\n",
       "      <th></th>\n",
       "      <th>col1</th>\n",
       "      <th>col2</th>\n",
       "    </tr>\n",
       "  </thead>\n",
       "  <tbody>\n",
       "    <tr>\n",
       "      <th>ln0</th>\n",
       "      <td>1</td>\n",
       "      <td>2</td>\n",
       "    </tr>\n",
       "    <tr>\n",
       "      <th>ln1</th>\n",
       "      <td>4</td>\n",
       "      <td>5</td>\n",
       "    </tr>\n",
       "    <tr>\n",
       "      <th>ln2</th>\n",
       "      <td>7</td>\n",
       "      <td>8</td>\n",
       "    </tr>\n",
       "  </tbody>\n",
       "</table>\n",
       "</div>"
      ],
      "text/plain": [
       "     col1  col2\n",
       "ln0     1     2\n",
       "ln1     4     5\n",
       "ln2     7     8"
      ]
     },
     "execution_count": 35,
     "metadata": {},
     "output_type": "execute_result"
    }
   ],
   "source": [
    "df"
   ]
  },
  {
   "cell_type": "markdown",
   "id": "3fd72137",
   "metadata": {},
   "source": [
    "## 汇总函数"
   ]
  },
  {
   "cell_type": "code",
   "execution_count": 36,
   "id": "a566f87e",
   "metadata": {},
   "outputs": [
    {
     "data": {
      "text/html": [
       "<div>\n",
       "<style scoped>\n",
       "    .dataframe tbody tr th:only-of-type {\n",
       "        vertical-align: middle;\n",
       "    }\n",
       "\n",
       "    .dataframe tbody tr th {\n",
       "        vertical-align: top;\n",
       "    }\n",
       "\n",
       "    .dataframe thead th {\n",
       "        text-align: right;\n",
       "    }\n",
       "</style>\n",
       "<table border=\"1\" class=\"dataframe\">\n",
       "  <thead>\n",
       "    <tr style=\"text-align: right;\">\n",
       "      <th></th>\n",
       "      <th>col1</th>\n",
       "      <th>col2</th>\n",
       "    </tr>\n",
       "  </thead>\n",
       "  <tbody>\n",
       "    <tr>\n",
       "      <th>ln0</th>\n",
       "      <td>1</td>\n",
       "      <td>2</td>\n",
       "    </tr>\n",
       "    <tr>\n",
       "      <th>ln1</th>\n",
       "      <td>4</td>\n",
       "      <td>5</td>\n",
       "    </tr>\n",
       "    <tr>\n",
       "      <th>ln2</th>\n",
       "      <td>7</td>\n",
       "      <td>8</td>\n",
       "    </tr>\n",
       "  </tbody>\n",
       "</table>\n",
       "</div>"
      ],
      "text/plain": [
       "     col1  col2\n",
       "ln0     1     2\n",
       "ln1     4     5\n",
       "ln2     7     8"
      ]
     },
     "execution_count": 36,
     "metadata": {},
     "output_type": "execute_result"
    }
   ],
   "source": [
    "df.head() #默认前5行"
   ]
  },
  {
   "cell_type": "code",
   "execution_count": 37,
   "id": "0a7f026b",
   "metadata": {},
   "outputs": [
    {
     "data": {
      "text/html": [
       "<div>\n",
       "<style scoped>\n",
       "    .dataframe tbody tr th:only-of-type {\n",
       "        vertical-align: middle;\n",
       "    }\n",
       "\n",
       "    .dataframe tbody tr th {\n",
       "        vertical-align: top;\n",
       "    }\n",
       "\n",
       "    .dataframe thead th {\n",
       "        text-align: right;\n",
       "    }\n",
       "</style>\n",
       "<table border=\"1\" class=\"dataframe\">\n",
       "  <thead>\n",
       "    <tr style=\"text-align: right;\">\n",
       "      <th></th>\n",
       "      <th>col1</th>\n",
       "      <th>col2</th>\n",
       "    </tr>\n",
       "  </thead>\n",
       "  <tbody>\n",
       "    <tr>\n",
       "      <th>ln0</th>\n",
       "      <td>1</td>\n",
       "      <td>2</td>\n",
       "    </tr>\n",
       "    <tr>\n",
       "      <th>ln1</th>\n",
       "      <td>4</td>\n",
       "      <td>5</td>\n",
       "    </tr>\n",
       "  </tbody>\n",
       "</table>\n",
       "</div>"
      ],
      "text/plain": [
       "     col1  col2\n",
       "ln0     1     2\n",
       "ln1     4     5"
      ]
     },
     "execution_count": 37,
     "metadata": {},
     "output_type": "execute_result"
    }
   ],
   "source": [
    "df.head(2) #前2行数据"
   ]
  },
  {
   "cell_type": "code",
   "execution_count": 38,
   "id": "9a0fba0e",
   "metadata": {},
   "outputs": [
    {
     "data": {
      "text/html": [
       "<div>\n",
       "<style scoped>\n",
       "    .dataframe tbody tr th:only-of-type {\n",
       "        vertical-align: middle;\n",
       "    }\n",
       "\n",
       "    .dataframe tbody tr th {\n",
       "        vertical-align: top;\n",
       "    }\n",
       "\n",
       "    .dataframe thead th {\n",
       "        text-align: right;\n",
       "    }\n",
       "</style>\n",
       "<table border=\"1\" class=\"dataframe\">\n",
       "  <thead>\n",
       "    <tr style=\"text-align: right;\">\n",
       "      <th></th>\n",
       "      <th>col1</th>\n",
       "      <th>col2</th>\n",
       "    </tr>\n",
       "  </thead>\n",
       "  <tbody>\n",
       "    <tr>\n",
       "      <th>ln1</th>\n",
       "      <td>4</td>\n",
       "      <td>5</td>\n",
       "    </tr>\n",
       "    <tr>\n",
       "      <th>ln2</th>\n",
       "      <td>7</td>\n",
       "      <td>8</td>\n",
       "    </tr>\n",
       "  </tbody>\n",
       "</table>\n",
       "</div>"
      ],
      "text/plain": [
       "     col1  col2\n",
       "ln1     4     5\n",
       "ln2     7     8"
      ]
     },
     "execution_count": 38,
     "metadata": {},
     "output_type": "execute_result"
    }
   ],
   "source": [
    "df.tail(2) #后2行数据"
   ]
  },
  {
   "cell_type": "code",
   "execution_count": 39,
   "id": "7b0db9b6",
   "metadata": {},
   "outputs": [
    {
     "name": "stdout",
     "output_type": "stream",
     "text": [
      "<class 'pandas.core.frame.DataFrame'>\n",
      "Index: 3 entries, ln0 to ln2\n",
      "Data columns (total 2 columns):\n",
      " #   Column  Non-Null Count  Dtype\n",
      "---  ------  --------------  -----\n",
      " 0   col1    3 non-null      int64\n",
      " 1   col2    3 non-null      int64\n",
      "dtypes: int64(2)\n",
      "memory usage: 180.0+ bytes\n"
     ]
    }
   ],
   "source": [
    "df.info() #查看dataFrame的整体结构\n",
    "        #<class>表示dataFrame的类\n",
    "        #index 表示索引的值和数量\n",
    "        #Data columns 表示总共有多少列\n",
    "        #DataFrame 表的内容\n",
    "        #Non-Null Count表示值为非空的数量\n",
    "        #dtypes 表示类型 \n",
    "        #memory usage 表示内存"
   ]
  },
  {
   "cell_type": "code",
   "execution_count": 40,
   "id": "a8029d8f",
   "metadata": {},
   "outputs": [
    {
     "data": {
      "text/html": [
       "<div>\n",
       "<style scoped>\n",
       "    .dataframe tbody tr th:only-of-type {\n",
       "        vertical-align: middle;\n",
       "    }\n",
       "\n",
       "    .dataframe tbody tr th {\n",
       "        vertical-align: top;\n",
       "    }\n",
       "\n",
       "    .dataframe thead th {\n",
       "        text-align: right;\n",
       "    }\n",
       "</style>\n",
       "<table border=\"1\" class=\"dataframe\">\n",
       "  <thead>\n",
       "    <tr style=\"text-align: right;\">\n",
       "      <th></th>\n",
       "      <th>col1</th>\n",
       "      <th>col2</th>\n",
       "    </tr>\n",
       "  </thead>\n",
       "  <tbody>\n",
       "    <tr>\n",
       "      <th>count</th>\n",
       "      <td>3.0</td>\n",
       "      <td>3.0</td>\n",
       "    </tr>\n",
       "    <tr>\n",
       "      <th>mean</th>\n",
       "      <td>4.0</td>\n",
       "      <td>5.0</td>\n",
       "    </tr>\n",
       "    <tr>\n",
       "      <th>std</th>\n",
       "      <td>3.0</td>\n",
       "      <td>3.0</td>\n",
       "    </tr>\n",
       "    <tr>\n",
       "      <th>min</th>\n",
       "      <td>1.0</td>\n",
       "      <td>2.0</td>\n",
       "    </tr>\n",
       "    <tr>\n",
       "      <th>25%</th>\n",
       "      <td>2.5</td>\n",
       "      <td>3.5</td>\n",
       "    </tr>\n",
       "    <tr>\n",
       "      <th>50%</th>\n",
       "      <td>4.0</td>\n",
       "      <td>5.0</td>\n",
       "    </tr>\n",
       "    <tr>\n",
       "      <th>75%</th>\n",
       "      <td>5.5</td>\n",
       "      <td>6.5</td>\n",
       "    </tr>\n",
       "    <tr>\n",
       "      <th>max</th>\n",
       "      <td>7.0</td>\n",
       "      <td>8.0</td>\n",
       "    </tr>\n",
       "  </tbody>\n",
       "</table>\n",
       "</div>"
      ],
      "text/plain": [
       "       col1  col2\n",
       "count   3.0   3.0\n",
       "mean    4.0   5.0\n",
       "std     3.0   3.0\n",
       "min     1.0   2.0\n",
       "25%     2.5   3.5\n",
       "50%     4.0   5.0\n",
       "75%     5.5   6.5\n",
       "max     7.0   8.0"
      ]
     },
     "execution_count": 40,
     "metadata": {},
     "output_type": "execute_result"
    }
   ],
   "source": [
    "df.describe()#对dataFrame进行常见的数据分析\n",
    "            #count表示列中非空值的数量\n",
    "            #mean 均值\n",
    "            #std 表示标准差，来数据的表示离散程度\n",
    "            #min 列中最小值\n",
    "            #max 列中最大值\n",
    "            #25% %25的数据，第一个四分位数(下四分位数)\n",
    "            #50% 50%的数据，第二个四分位数(中位数)\n",
    "            #75% 75%的数据, 第三个四分位数(上四分位数)"
   ]
  },
  {
   "cell_type": "markdown",
   "id": "2be8bd51",
   "metadata": {},
   "source": [
    "## 特征统计函数"
   ]
  },
  {
   "cell_type": "code",
   "execution_count": 41,
   "id": "94db74d5",
   "metadata": {},
   "outputs": [
    {
     "data": {
      "text/html": [
       "<div>\n",
       "<style scoped>\n",
       "    .dataframe tbody tr th:only-of-type {\n",
       "        vertical-align: middle;\n",
       "    }\n",
       "\n",
       "    .dataframe tbody tr th {\n",
       "        vertical-align: top;\n",
       "    }\n",
       "\n",
       "    .dataframe thead th {\n",
       "        text-align: right;\n",
       "    }\n",
       "</style>\n",
       "<table border=\"1\" class=\"dataframe\">\n",
       "  <thead>\n",
       "    <tr style=\"text-align: right;\">\n",
       "      <th></th>\n",
       "      <th>col1</th>\n",
       "      <th>col2</th>\n",
       "    </tr>\n",
       "  </thead>\n",
       "  <tbody>\n",
       "    <tr>\n",
       "      <th>ln0</th>\n",
       "      <td>1</td>\n",
       "      <td>2</td>\n",
       "    </tr>\n",
       "    <tr>\n",
       "      <th>ln1</th>\n",
       "      <td>4</td>\n",
       "      <td>5</td>\n",
       "    </tr>\n",
       "    <tr>\n",
       "      <th>ln2</th>\n",
       "      <td>7</td>\n",
       "      <td>8</td>\n",
       "    </tr>\n",
       "  </tbody>\n",
       "</table>\n",
       "</div>"
      ],
      "text/plain": [
       "     col1  col2\n",
       "ln0     1     2\n",
       "ln1     4     5\n",
       "ln2     7     8"
      ]
     },
     "execution_count": 41,
     "metadata": {},
     "output_type": "execute_result"
    }
   ],
   "source": [
    "df"
   ]
  },
  {
   "cell_type": "code",
   "execution_count": 42,
   "id": "a58a5212",
   "metadata": {},
   "outputs": [
    {
     "data": {
      "text/plain": [
       "col1    7\n",
       "col2    8\n",
       "dtype: int64"
      ]
     },
     "execution_count": 42,
     "metadata": {},
     "output_type": "execute_result"
    }
   ],
   "source": [
    "df.max() #计算每列最大值"
   ]
  },
  {
   "cell_type": "code",
   "execution_count": 43,
   "id": "e84837d4",
   "metadata": {},
   "outputs": [
    {
     "data": {
      "text/html": [
       "<div>\n",
       "<style scoped>\n",
       "    .dataframe tbody tr th:only-of-type {\n",
       "        vertical-align: middle;\n",
       "    }\n",
       "\n",
       "    .dataframe tbody tr th {\n",
       "        vertical-align: top;\n",
       "    }\n",
       "\n",
       "    .dataframe thead th {\n",
       "        text-align: right;\n",
       "    }\n",
       "</style>\n",
       "<table border=\"1\" class=\"dataframe\">\n",
       "  <thead>\n",
       "    <tr style=\"text-align: right;\">\n",
       "      <th></th>\n",
       "      <th>col1</th>\n",
       "      <th>col3</th>\n",
       "      <th>col2</th>\n",
       "    </tr>\n",
       "  </thead>\n",
       "  <tbody>\n",
       "    <tr>\n",
       "      <th>0</th>\n",
       "      <td>a</td>\n",
       "      <td>ca</td>\n",
       "      <td>p</td>\n",
       "    </tr>\n",
       "    <tr>\n",
       "      <th>1</th>\n",
       "      <td>b</td>\n",
       "      <td>ac</td>\n",
       "      <td>java</td>\n",
       "    </tr>\n",
       "    <tr>\n",
       "      <th>2</th>\n",
       "      <td>c</td>\n",
       "      <td>cd</td>\n",
       "      <td>python</td>\n",
       "    </tr>\n",
       "  </tbody>\n",
       "</table>\n",
       "</div>"
      ],
      "text/plain": [
       "  col1 col3    col2\n",
       "0    a   ca       p\n",
       "1    b   ac    java\n",
       "2    c   cd  python"
      ]
     },
     "execution_count": 43,
     "metadata": {},
     "output_type": "execute_result"
    }
   ],
   "source": [
    "df_str"
   ]
  },
  {
   "cell_type": "code",
   "execution_count": 44,
   "id": "24d90a47",
   "metadata": {},
   "outputs": [
    {
     "data": {
      "text/plain": [
       "col1         c\n",
       "col3        cd\n",
       "col2    python\n",
       "dtype: object"
      ]
     },
     "execution_count": 44,
     "metadata": {},
     "output_type": "execute_result"
    }
   ],
   "source": [
    "df_str.max()#同长度按ascll码,不同长度按字符串长度;长度相同时，依次匹配字母的ASCILL码值,直到匹配出为止"
   ]
  },
  {
   "cell_type": "code",
   "execution_count": 45,
   "id": "51f830c7",
   "metadata": {},
   "outputs": [
    {
     "data": {
      "text/plain": [
       "col1    1\n",
       "col2    2\n",
       "dtype: int64"
      ]
     },
     "execution_count": 45,
     "metadata": {},
     "output_type": "execute_result"
    }
   ],
   "source": [
    "df.min()"
   ]
  },
  {
   "cell_type": "code",
   "execution_count": 46,
   "id": "14bdce4d",
   "metadata": {},
   "outputs": [
    {
     "data": {
      "text/plain": [
       "col1       a\n",
       "col3      ac\n",
       "col2    java\n",
       "dtype: object"
      ]
     },
     "execution_count": 46,
     "metadata": {},
     "output_type": "execute_result"
    }
   ],
   "source": [
    "df_str.min()"
   ]
  },
  {
   "cell_type": "code",
   "execution_count": 47,
   "id": "6314d1c5",
   "metadata": {},
   "outputs": [
    {
     "data": {
      "text/plain": [
       "col1    4.0\n",
       "col2    5.0\n",
       "dtype: float64"
      ]
     },
     "execution_count": 47,
     "metadata": {},
     "output_type": "execute_result"
    }
   ],
   "source": [
    "df.mean()#均值"
   ]
  },
  {
   "cell_type": "code",
   "execution_count": 48,
   "id": "f3489413",
   "metadata": {},
   "outputs": [
    {
     "data": {
      "text/plain": [
       "col1    2.5\n",
       "col2    3.5\n",
       "Name: 0.25, dtype: float64"
      ]
     },
     "execution_count": 48,
     "metadata": {},
     "output_type": "execute_result"
    }
   ],
   "source": [
    "df.quantile(0.25)#默认为0.5，即中位数;0.25/0.75计算上下四分位数"
   ]
  },
  {
   "cell_type": "code",
   "execution_count": 49,
   "id": "a535ce99",
   "metadata": {},
   "outputs": [
    {
     "data": {
      "text/plain": [
       "col1    3\n",
       "col2    3\n",
       "dtype: int64"
      ]
     },
     "execution_count": 49,
     "metadata": {},
     "output_type": "execute_result"
    }
   ],
   "source": [
    "df.count()#计算非空值的数量"
   ]
  },
  {
   "cell_type": "code",
   "execution_count": 50,
   "id": "973c23a7",
   "metadata": {},
   "outputs": [
    {
     "data": {
      "text/plain": [
       "ln0    2\n",
       "ln1    2\n",
       "ln2    2\n",
       "dtype: int64"
      ]
     },
     "execution_count": 50,
     "metadata": {},
     "output_type": "execute_result"
    }
   ],
   "source": [
    "df.count(axis = 1)#计算行的非空值数量 默认axis = 0 即：列，axis = 1 即：行"
   ]
  },
  {
   "cell_type": "code",
   "execution_count": 51,
   "id": "1dfa8b5b",
   "metadata": {},
   "outputs": [
    {
     "data": {
      "text/plain": [
       "col1    ln2\n",
       "col2    ln2\n",
       "dtype: object"
      ]
     },
     "execution_count": 51,
     "metadata": {},
     "output_type": "execute_result"
    }
   ],
   "source": [
    "df.idxmax()#返回最大值的索引"
   ]
  },
  {
   "cell_type": "markdown",
   "id": "6f96fad1",
   "metadata": {},
   "source": [
    "**这些函数返回的都是标量,又称为聚合函数,其中他们都有一个参数为 axis，默认为0 即行。当为1时，为列**"
   ]
  },
  {
   "cell_type": "markdown",
   "id": "72374bc9",
   "metadata": {},
   "source": [
    "# 唯一值函数"
   ]
  },
  {
   "cell_type": "code",
   "execution_count": 52,
   "id": "4cd5719f",
   "metadata": {},
   "outputs": [
    {
     "data": {
      "text/html": [
       "<div>\n",
       "<style scoped>\n",
       "    .dataframe tbody tr th:only-of-type {\n",
       "        vertical-align: middle;\n",
       "    }\n",
       "\n",
       "    .dataframe tbody tr th {\n",
       "        vertical-align: top;\n",
       "    }\n",
       "\n",
       "    .dataframe thead th {\n",
       "        text-align: right;\n",
       "    }\n",
       "</style>\n",
       "<table border=\"1\" class=\"dataframe\">\n",
       "  <thead>\n",
       "    <tr style=\"text-align: right;\">\n",
       "      <th></th>\n",
       "      <th>col1</th>\n",
       "      <th>col2</th>\n",
       "    </tr>\n",
       "  </thead>\n",
       "  <tbody>\n",
       "    <tr>\n",
       "      <th>ln0</th>\n",
       "      <td>1</td>\n",
       "      <td>2</td>\n",
       "    </tr>\n",
       "    <tr>\n",
       "      <th>ln1</th>\n",
       "      <td>4</td>\n",
       "      <td>5</td>\n",
       "    </tr>\n",
       "    <tr>\n",
       "      <th>ln2</th>\n",
       "      <td>7</td>\n",
       "      <td>8</td>\n",
       "    </tr>\n",
       "  </tbody>\n",
       "</table>\n",
       "</div>"
      ],
      "text/plain": [
       "     col1  col2\n",
       "ln0     1     2\n",
       "ln1     4     5\n",
       "ln2     7     8"
      ]
     },
     "execution_count": 52,
     "metadata": {},
     "output_type": "execute_result"
    }
   ],
   "source": [
    "df"
   ]
  },
  {
   "cell_type": "code",
   "execution_count": 53,
   "id": "94a3b3d0",
   "metadata": {},
   "outputs": [
    {
     "data": {
      "text/plain": [
       "array([1, 4, 7])"
      ]
     },
     "execution_count": 53,
     "metadata": {},
     "output_type": "execute_result"
    }
   ],
   "source": [
    "df['col1'].unique()#返回不重复的值的第一次出现的值，按照dataFrame列中原本的数据"
   ]
  },
  {
   "cell_type": "code",
   "execution_count": 54,
   "id": "47e3c52b",
   "metadata": {},
   "outputs": [
    {
     "data": {
      "text/plain": [
       "3"
      ]
     },
     "execution_count": 54,
     "metadata": {},
     "output_type": "execute_result"
    }
   ],
   "source": [
    "df['col1'].nunique(dropna = True)#不重复值的数量\n",
    "                                #dropna默认为True 不会缺失值作为特殊的一个值计算\n",
    "                                #dropna为False时 会吧缺失值作为一个特殊值计算"
   ]
  },
  {
   "cell_type": "code",
   "execution_count": 55,
   "id": "d7ccad05",
   "metadata": {},
   "outputs": [
    {
     "data": {
      "text/plain": [
       "col1\n",
       "1    1\n",
       "4    1\n",
       "7    1\n",
       "Name: count, dtype: int64"
      ]
     },
     "execution_count": 55,
     "metadata": {},
     "output_type": "execute_result"
    }
   ],
   "source": [
    "df['col1'].value_counts()#返回重复出现的值和他的重复数量 默认按照频数从高到低排序"
   ]
  },
  {
   "cell_type": "code",
   "execution_count": 56,
   "id": "ec1f8c39",
   "metadata": {},
   "outputs": [],
   "source": [
    "df_csv = pd.read_csv('D:\\\\vscode_code\\\\数据集\\\\learn_pandas.csv')"
   ]
  },
  {
   "cell_type": "code",
   "execution_count": 57,
   "id": "9775d8d1",
   "metadata": {},
   "outputs": [
    {
     "data": {
      "text/html": [
       "<div>\n",
       "<style scoped>\n",
       "    .dataframe tbody tr th:only-of-type {\n",
       "        vertical-align: middle;\n",
       "    }\n",
       "\n",
       "    .dataframe tbody tr th {\n",
       "        vertical-align: top;\n",
       "    }\n",
       "\n",
       "    .dataframe thead th {\n",
       "        text-align: right;\n",
       "    }\n",
       "</style>\n",
       "<table border=\"1\" class=\"dataframe\">\n",
       "  <thead>\n",
       "    <tr style=\"text-align: right;\">\n",
       "      <th></th>\n",
       "      <th>School</th>\n",
       "      <th>Grade</th>\n",
       "      <th>Name</th>\n",
       "      <th>Gender</th>\n",
       "      <th>Height</th>\n",
       "      <th>Weight</th>\n",
       "      <th>Transfer</th>\n",
       "      <th>Test_Number</th>\n",
       "      <th>Test_Date</th>\n",
       "      <th>Time_Record</th>\n",
       "    </tr>\n",
       "  </thead>\n",
       "  <tbody>\n",
       "    <tr>\n",
       "      <th>0</th>\n",
       "      <td>A</td>\n",
       "      <td>Freshman</td>\n",
       "      <td>Gaopeng Yang</td>\n",
       "      <td>Female</td>\n",
       "      <td>158.9</td>\n",
       "      <td>46.0</td>\n",
       "      <td>N</td>\n",
       "      <td>1</td>\n",
       "      <td>2019/10/5</td>\n",
       "      <td>0:04:34</td>\n",
       "    </tr>\n",
       "    <tr>\n",
       "      <th>1</th>\n",
       "      <td>B</td>\n",
       "      <td>Freshman</td>\n",
       "      <td>Changqiang You</td>\n",
       "      <td>Male</td>\n",
       "      <td>166.5</td>\n",
       "      <td>70.0</td>\n",
       "      <td>N</td>\n",
       "      <td>1</td>\n",
       "      <td>2019/9/4</td>\n",
       "      <td>0:04:20</td>\n",
       "    </tr>\n",
       "    <tr>\n",
       "      <th>2</th>\n",
       "      <td>A</td>\n",
       "      <td>Senior</td>\n",
       "      <td>Mei Sun</td>\n",
       "      <td>Male</td>\n",
       "      <td>188.9</td>\n",
       "      <td>89.0</td>\n",
       "      <td>N</td>\n",
       "      <td>2</td>\n",
       "      <td>2019/9/12</td>\n",
       "      <td>0:05:22</td>\n",
       "    </tr>\n",
       "    <tr>\n",
       "      <th>3</th>\n",
       "      <td>C</td>\n",
       "      <td>Sophomore</td>\n",
       "      <td>Xiaojuan Sun</td>\n",
       "      <td>Female</td>\n",
       "      <td>NaN</td>\n",
       "      <td>41.0</td>\n",
       "      <td>N</td>\n",
       "      <td>2</td>\n",
       "      <td>2020/1/3</td>\n",
       "      <td>0:04:08</td>\n",
       "    </tr>\n",
       "    <tr>\n",
       "      <th>4</th>\n",
       "      <td>C</td>\n",
       "      <td>Sophomore</td>\n",
       "      <td>Gaojuan You</td>\n",
       "      <td>Male</td>\n",
       "      <td>174.0</td>\n",
       "      <td>74.0</td>\n",
       "      <td>N</td>\n",
       "      <td>2</td>\n",
       "      <td>2019/11/6</td>\n",
       "      <td>0:05:22</td>\n",
       "    </tr>\n",
       "    <tr>\n",
       "      <th>...</th>\n",
       "      <td>...</td>\n",
       "      <td>...</td>\n",
       "      <td>...</td>\n",
       "      <td>...</td>\n",
       "      <td>...</td>\n",
       "      <td>...</td>\n",
       "      <td>...</td>\n",
       "      <td>...</td>\n",
       "      <td>...</td>\n",
       "      <td>...</td>\n",
       "    </tr>\n",
       "    <tr>\n",
       "      <th>195</th>\n",
       "      <td>C</td>\n",
       "      <td>Junior</td>\n",
       "      <td>Xiaojuan Sun</td>\n",
       "      <td>Female</td>\n",
       "      <td>153.9</td>\n",
       "      <td>46.0</td>\n",
       "      <td>N</td>\n",
       "      <td>2</td>\n",
       "      <td>2019/10/17</td>\n",
       "      <td>0:04:31</td>\n",
       "    </tr>\n",
       "    <tr>\n",
       "      <th>196</th>\n",
       "      <td>D</td>\n",
       "      <td>Senior</td>\n",
       "      <td>Li Zhao</td>\n",
       "      <td>Female</td>\n",
       "      <td>160.9</td>\n",
       "      <td>50.0</td>\n",
       "      <td>N</td>\n",
       "      <td>3</td>\n",
       "      <td>2019/9/22</td>\n",
       "      <td>0:04:03</td>\n",
       "    </tr>\n",
       "    <tr>\n",
       "      <th>197</th>\n",
       "      <td>A</td>\n",
       "      <td>Senior</td>\n",
       "      <td>Chengqiang Chu</td>\n",
       "      <td>Female</td>\n",
       "      <td>153.9</td>\n",
       "      <td>45.0</td>\n",
       "      <td>N</td>\n",
       "      <td>1</td>\n",
       "      <td>2020/1/5</td>\n",
       "      <td>0:04:48</td>\n",
       "    </tr>\n",
       "    <tr>\n",
       "      <th>198</th>\n",
       "      <td>A</td>\n",
       "      <td>Senior</td>\n",
       "      <td>Chengmei Shen</td>\n",
       "      <td>Male</td>\n",
       "      <td>175.3</td>\n",
       "      <td>71.0</td>\n",
       "      <td>N</td>\n",
       "      <td>2</td>\n",
       "      <td>2020/1/7</td>\n",
       "      <td>0:04:58</td>\n",
       "    </tr>\n",
       "    <tr>\n",
       "      <th>199</th>\n",
       "      <td>D</td>\n",
       "      <td>Sophomore</td>\n",
       "      <td>Chunpeng Lv</td>\n",
       "      <td>Male</td>\n",
       "      <td>155.7</td>\n",
       "      <td>51.0</td>\n",
       "      <td>N</td>\n",
       "      <td>1</td>\n",
       "      <td>2019/11/6</td>\n",
       "      <td>0:05:05</td>\n",
       "    </tr>\n",
       "  </tbody>\n",
       "</table>\n",
       "<p>200 rows × 10 columns</p>\n",
       "</div>"
      ],
      "text/plain": [
       "    School      Grade            Name  Gender  Height  Weight Transfer  \\\n",
       "0        A   Freshman    Gaopeng Yang  Female   158.9    46.0        N   \n",
       "1        B   Freshman  Changqiang You    Male   166.5    70.0        N   \n",
       "2        A     Senior         Mei Sun    Male   188.9    89.0        N   \n",
       "3        C  Sophomore    Xiaojuan Sun  Female     NaN    41.0        N   \n",
       "4        C  Sophomore     Gaojuan You    Male   174.0    74.0        N   \n",
       "..     ...        ...             ...     ...     ...     ...      ...   \n",
       "195      C     Junior    Xiaojuan Sun  Female   153.9    46.0        N   \n",
       "196      D     Senior         Li Zhao  Female   160.9    50.0        N   \n",
       "197      A     Senior  Chengqiang Chu  Female   153.9    45.0        N   \n",
       "198      A     Senior   Chengmei Shen    Male   175.3    71.0        N   \n",
       "199      D  Sophomore     Chunpeng Lv    Male   155.7    51.0        N   \n",
       "\n",
       "     Test_Number   Test_Date Time_Record  \n",
       "0              1   2019/10/5     0:04:34  \n",
       "1              1    2019/9/4     0:04:20  \n",
       "2              2   2019/9/12     0:05:22  \n",
       "3              2    2020/1/3     0:04:08  \n",
       "4              2   2019/11/6     0:05:22  \n",
       "..           ...         ...         ...  \n",
       "195            2  2019/10/17     0:04:31  \n",
       "196            3   2019/9/22     0:04:03  \n",
       "197            1    2020/1/5     0:04:48  \n",
       "198            2    2020/1/7     0:04:58  \n",
       "199            1   2019/11/6     0:05:05  \n",
       "\n",
       "[200 rows x 10 columns]"
      ]
     },
     "execution_count": 57,
     "metadata": {},
     "output_type": "execute_result"
    }
   ],
   "source": [
    "df_csv"
   ]
  },
  {
   "cell_type": "code",
   "execution_count": 58,
   "id": "8be5139f",
   "metadata": {},
   "outputs": [],
   "source": [
    "df_demo = df_csv[['School','Transfer','Gender']]\n"
   ]
  },
  {
   "cell_type": "code",
   "execution_count": 59,
   "id": "efd1bef6",
   "metadata": {},
   "outputs": [
    {
     "data": {
      "text/html": [
       "<div>\n",
       "<style scoped>\n",
       "    .dataframe tbody tr th:only-of-type {\n",
       "        vertical-align: middle;\n",
       "    }\n",
       "\n",
       "    .dataframe tbody tr th {\n",
       "        vertical-align: top;\n",
       "    }\n",
       "\n",
       "    .dataframe thead th {\n",
       "        text-align: right;\n",
       "    }\n",
       "</style>\n",
       "<table border=\"1\" class=\"dataframe\">\n",
       "  <thead>\n",
       "    <tr style=\"text-align: right;\">\n",
       "      <th></th>\n",
       "      <th>School</th>\n",
       "      <th>Transfer</th>\n",
       "      <th>Gender</th>\n",
       "    </tr>\n",
       "  </thead>\n",
       "  <tbody>\n",
       "    <tr>\n",
       "      <th>0</th>\n",
       "      <td>A</td>\n",
       "      <td>N</td>\n",
       "      <td>Female</td>\n",
       "    </tr>\n",
       "    <tr>\n",
       "      <th>1</th>\n",
       "      <td>B</td>\n",
       "      <td>N</td>\n",
       "      <td>Male</td>\n",
       "    </tr>\n",
       "    <tr>\n",
       "      <th>2</th>\n",
       "      <td>A</td>\n",
       "      <td>N</td>\n",
       "      <td>Male</td>\n",
       "    </tr>\n",
       "    <tr>\n",
       "      <th>3</th>\n",
       "      <td>C</td>\n",
       "      <td>N</td>\n",
       "      <td>Female</td>\n",
       "    </tr>\n",
       "    <tr>\n",
       "      <th>4</th>\n",
       "      <td>C</td>\n",
       "      <td>N</td>\n",
       "      <td>Male</td>\n",
       "    </tr>\n",
       "    <tr>\n",
       "      <th>...</th>\n",
       "      <td>...</td>\n",
       "      <td>...</td>\n",
       "      <td>...</td>\n",
       "    </tr>\n",
       "    <tr>\n",
       "      <th>195</th>\n",
       "      <td>C</td>\n",
       "      <td>N</td>\n",
       "      <td>Female</td>\n",
       "    </tr>\n",
       "    <tr>\n",
       "      <th>196</th>\n",
       "      <td>D</td>\n",
       "      <td>N</td>\n",
       "      <td>Female</td>\n",
       "    </tr>\n",
       "    <tr>\n",
       "      <th>197</th>\n",
       "      <td>A</td>\n",
       "      <td>N</td>\n",
       "      <td>Female</td>\n",
       "    </tr>\n",
       "    <tr>\n",
       "      <th>198</th>\n",
       "      <td>A</td>\n",
       "      <td>N</td>\n",
       "      <td>Male</td>\n",
       "    </tr>\n",
       "    <tr>\n",
       "      <th>199</th>\n",
       "      <td>D</td>\n",
       "      <td>N</td>\n",
       "      <td>Male</td>\n",
       "    </tr>\n",
       "  </tbody>\n",
       "</table>\n",
       "<p>200 rows × 3 columns</p>\n",
       "</div>"
      ],
      "text/plain": [
       "    School Transfer  Gender\n",
       "0        A        N  Female\n",
       "1        B        N    Male\n",
       "2        A        N    Male\n",
       "3        C        N  Female\n",
       "4        C        N    Male\n",
       "..     ...      ...     ...\n",
       "195      C        N  Female\n",
       "196      D        N  Female\n",
       "197      A        N  Female\n",
       "198      A        N    Male\n",
       "199      D        N    Male\n",
       "\n",
       "[200 rows x 3 columns]"
      ]
     },
     "execution_count": 59,
     "metadata": {},
     "output_type": "execute_result"
    }
   ],
   "source": [
    "df_demo"
   ]
  },
  {
   "cell_type": "code",
   "execution_count": 60,
   "id": "ec71ffab",
   "metadata": {},
   "outputs": [
    {
     "data": {
      "text/html": [
       "<div>\n",
       "<style scoped>\n",
       "    .dataframe tbody tr th:only-of-type {\n",
       "        vertical-align: middle;\n",
       "    }\n",
       "\n",
       "    .dataframe tbody tr th {\n",
       "        vertical-align: top;\n",
       "    }\n",
       "\n",
       "    .dataframe thead th {\n",
       "        text-align: right;\n",
       "    }\n",
       "</style>\n",
       "<table border=\"1\" class=\"dataframe\">\n",
       "  <thead>\n",
       "    <tr style=\"text-align: right;\">\n",
       "      <th></th>\n",
       "      <th>School</th>\n",
       "      <th>Transfer</th>\n",
       "      <th>Gender</th>\n",
       "    </tr>\n",
       "  </thead>\n",
       "  <tbody>\n",
       "    <tr>\n",
       "      <th>0</th>\n",
       "      <td>A</td>\n",
       "      <td>N</td>\n",
       "      <td>Female</td>\n",
       "    </tr>\n",
       "    <tr>\n",
       "      <th>1</th>\n",
       "      <td>B</td>\n",
       "      <td>N</td>\n",
       "      <td>Male</td>\n",
       "    </tr>\n",
       "    <tr>\n",
       "      <th>2</th>\n",
       "      <td>A</td>\n",
       "      <td>N</td>\n",
       "      <td>Male</td>\n",
       "    </tr>\n",
       "    <tr>\n",
       "      <th>3</th>\n",
       "      <td>C</td>\n",
       "      <td>N</td>\n",
       "      <td>Female</td>\n",
       "    </tr>\n",
       "    <tr>\n",
       "      <th>4</th>\n",
       "      <td>C</td>\n",
       "      <td>N</td>\n",
       "      <td>Male</td>\n",
       "    </tr>\n",
       "    <tr>\n",
       "      <th>5</th>\n",
       "      <td>D</td>\n",
       "      <td>N</td>\n",
       "      <td>Female</td>\n",
       "    </tr>\n",
       "    <tr>\n",
       "      <th>9</th>\n",
       "      <td>B</td>\n",
       "      <td>N</td>\n",
       "      <td>Female</td>\n",
       "    </tr>\n",
       "    <tr>\n",
       "      <th>12</th>\n",
       "      <td>A</td>\n",
       "      <td>NaN</td>\n",
       "      <td>Female</td>\n",
       "    </tr>\n",
       "    <tr>\n",
       "      <th>16</th>\n",
       "      <td>D</td>\n",
       "      <td>N</td>\n",
       "      <td>Male</td>\n",
       "    </tr>\n",
       "    <tr>\n",
       "      <th>21</th>\n",
       "      <td>A</td>\n",
       "      <td>NaN</td>\n",
       "      <td>Male</td>\n",
       "    </tr>\n",
       "    <tr>\n",
       "      <th>36</th>\n",
       "      <td>B</td>\n",
       "      <td>Y</td>\n",
       "      <td>Male</td>\n",
       "    </tr>\n",
       "    <tr>\n",
       "      <th>43</th>\n",
       "      <td>D</td>\n",
       "      <td>Y</td>\n",
       "      <td>Female</td>\n",
       "    </tr>\n",
       "    <tr>\n",
       "      <th>69</th>\n",
       "      <td>D</td>\n",
       "      <td>NaN</td>\n",
       "      <td>Female</td>\n",
       "    </tr>\n",
       "    <tr>\n",
       "      <th>74</th>\n",
       "      <td>D</td>\n",
       "      <td>Y</td>\n",
       "      <td>Male</td>\n",
       "    </tr>\n",
       "    <tr>\n",
       "      <th>84</th>\n",
       "      <td>C</td>\n",
       "      <td>NaN</td>\n",
       "      <td>Female</td>\n",
       "    </tr>\n",
       "    <tr>\n",
       "      <th>102</th>\n",
       "      <td>B</td>\n",
       "      <td>NaN</td>\n",
       "      <td>Male</td>\n",
       "    </tr>\n",
       "    <tr>\n",
       "      <th>120</th>\n",
       "      <td>B</td>\n",
       "      <td>NaN</td>\n",
       "      <td>Female</td>\n",
       "    </tr>\n",
       "    <tr>\n",
       "      <th>131</th>\n",
       "      <td>C</td>\n",
       "      <td>Y</td>\n",
       "      <td>Male</td>\n",
       "    </tr>\n",
       "  </tbody>\n",
       "</table>\n",
       "</div>"
      ],
      "text/plain": [
       "    School Transfer  Gender\n",
       "0        A        N  Female\n",
       "1        B        N    Male\n",
       "2        A        N    Male\n",
       "3        C        N  Female\n",
       "4        C        N    Male\n",
       "5        D        N  Female\n",
       "9        B        N  Female\n",
       "12       A      NaN  Female\n",
       "16       D        N    Male\n",
       "21       A      NaN    Male\n",
       "36       B        Y    Male\n",
       "43       D        Y  Female\n",
       "69       D      NaN  Female\n",
       "74       D        Y    Male\n",
       "84       C      NaN  Female\n",
       "102      B      NaN    Male\n",
       "120      B      NaN  Female\n",
       "131      C        Y    Male"
      ]
     },
     "execution_count": 60,
     "metadata": {},
     "output_type": "execute_result"
    }
   ],
   "source": [
    "df_demo.drop_duplicates()#m默认比较所有行，将不重复的值输出出来"
   ]
  },
  {
   "cell_type": "code",
   "execution_count": 61,
   "id": "d0e5f823",
   "metadata": {},
   "outputs": [
    {
     "data": {
      "text/html": [
       "<div>\n",
       "<style scoped>\n",
       "    .dataframe tbody tr th:only-of-type {\n",
       "        vertical-align: middle;\n",
       "    }\n",
       "\n",
       "    .dataframe tbody tr th {\n",
       "        vertical-align: top;\n",
       "    }\n",
       "\n",
       "    .dataframe thead th {\n",
       "        text-align: right;\n",
       "    }\n",
       "</style>\n",
       "<table border=\"1\" class=\"dataframe\">\n",
       "  <thead>\n",
       "    <tr style=\"text-align: right;\">\n",
       "      <th></th>\n",
       "      <th>School</th>\n",
       "      <th>Transfer</th>\n",
       "      <th>Gender</th>\n",
       "    </tr>\n",
       "  </thead>\n",
       "  <tbody>\n",
       "    <tr>\n",
       "      <th>0</th>\n",
       "      <td>A</td>\n",
       "      <td>N</td>\n",
       "      <td>Female</td>\n",
       "    </tr>\n",
       "    <tr>\n",
       "      <th>1</th>\n",
       "      <td>B</td>\n",
       "      <td>N</td>\n",
       "      <td>Male</td>\n",
       "    </tr>\n",
       "    <tr>\n",
       "      <th>3</th>\n",
       "      <td>C</td>\n",
       "      <td>N</td>\n",
       "      <td>Female</td>\n",
       "    </tr>\n",
       "    <tr>\n",
       "      <th>5</th>\n",
       "      <td>D</td>\n",
       "      <td>N</td>\n",
       "      <td>Female</td>\n",
       "    </tr>\n",
       "    <tr>\n",
       "      <th>12</th>\n",
       "      <td>A</td>\n",
       "      <td>NaN</td>\n",
       "      <td>Female</td>\n",
       "    </tr>\n",
       "    <tr>\n",
       "      <th>36</th>\n",
       "      <td>B</td>\n",
       "      <td>Y</td>\n",
       "      <td>Male</td>\n",
       "    </tr>\n",
       "    <tr>\n",
       "      <th>43</th>\n",
       "      <td>D</td>\n",
       "      <td>Y</td>\n",
       "      <td>Female</td>\n",
       "    </tr>\n",
       "    <tr>\n",
       "      <th>69</th>\n",
       "      <td>D</td>\n",
       "      <td>NaN</td>\n",
       "      <td>Female</td>\n",
       "    </tr>\n",
       "    <tr>\n",
       "      <th>84</th>\n",
       "      <td>C</td>\n",
       "      <td>NaN</td>\n",
       "      <td>Female</td>\n",
       "    </tr>\n",
       "    <tr>\n",
       "      <th>102</th>\n",
       "      <td>B</td>\n",
       "      <td>NaN</td>\n",
       "      <td>Male</td>\n",
       "    </tr>\n",
       "    <tr>\n",
       "      <th>131</th>\n",
       "      <td>C</td>\n",
       "      <td>Y</td>\n",
       "      <td>Male</td>\n",
       "    </tr>\n",
       "  </tbody>\n",
       "</table>\n",
       "</div>"
      ],
      "text/plain": [
       "    School Transfer  Gender\n",
       "0        A        N  Female\n",
       "1        B        N    Male\n",
       "3        C        N  Female\n",
       "5        D        N  Female\n",
       "12       A      NaN  Female\n",
       "36       B        Y    Male\n",
       "43       D        Y  Female\n",
       "69       D      NaN  Female\n",
       "84       C      NaN  Female\n",
       "102      B      NaN    Male\n",
       "131      C        Y    Male"
      ]
     },
     "execution_count": 61,
     "metadata": {},
     "output_type": "execute_result"
    }
   ],
   "source": [
    "df_demo.drop_duplicates(['School','Transfer'])#指定行，根据指定的行比较值是否重复，将不重复的值输出出来"
   ]
  },
  {
   "cell_type": "code",
   "execution_count": 62,
   "id": "d967277a",
   "metadata": {},
   "outputs": [
    {
     "data": {
      "text/html": [
       "<div>\n",
       "<style scoped>\n",
       "    .dataframe tbody tr th:only-of-type {\n",
       "        vertical-align: middle;\n",
       "    }\n",
       "\n",
       "    .dataframe tbody tr th {\n",
       "        vertical-align: top;\n",
       "    }\n",
       "\n",
       "    .dataframe thead th {\n",
       "        text-align: right;\n",
       "    }\n",
       "</style>\n",
       "<table border=\"1\" class=\"dataframe\">\n",
       "  <thead>\n",
       "    <tr style=\"text-align: right;\">\n",
       "      <th></th>\n",
       "      <th>School</th>\n",
       "      <th>Transfer</th>\n",
       "      <th>Gender</th>\n",
       "    </tr>\n",
       "  </thead>\n",
       "  <tbody>\n",
       "    <tr>\n",
       "      <th>21</th>\n",
       "      <td>A</td>\n",
       "      <td>NaN</td>\n",
       "      <td>Male</td>\n",
       "    </tr>\n",
       "    <tr>\n",
       "      <th>54</th>\n",
       "      <td>B</td>\n",
       "      <td>Y</td>\n",
       "      <td>Male</td>\n",
       "    </tr>\n",
       "    <tr>\n",
       "      <th>84</th>\n",
       "      <td>C</td>\n",
       "      <td>NaN</td>\n",
       "      <td>Female</td>\n",
       "    </tr>\n",
       "    <tr>\n",
       "      <th>123</th>\n",
       "      <td>A</td>\n",
       "      <td>NaN</td>\n",
       "      <td>Female</td>\n",
       "    </tr>\n",
       "    <tr>\n",
       "      <th>127</th>\n",
       "      <td>B</td>\n",
       "      <td>N</td>\n",
       "      <td>Male</td>\n",
       "    </tr>\n",
       "    <tr>\n",
       "      <th>131</th>\n",
       "      <td>C</td>\n",
       "      <td>Y</td>\n",
       "      <td>Male</td>\n",
       "    </tr>\n",
       "    <tr>\n",
       "      <th>147</th>\n",
       "      <td>B</td>\n",
       "      <td>NaN</td>\n",
       "      <td>Male</td>\n",
       "    </tr>\n",
       "    <tr>\n",
       "      <th>150</th>\n",
       "      <td>D</td>\n",
       "      <td>Y</td>\n",
       "      <td>Male</td>\n",
       "    </tr>\n",
       "    <tr>\n",
       "      <th>152</th>\n",
       "      <td>C</td>\n",
       "      <td>N</td>\n",
       "      <td>Male</td>\n",
       "    </tr>\n",
       "    <tr>\n",
       "      <th>169</th>\n",
       "      <td>D</td>\n",
       "      <td>Y</td>\n",
       "      <td>Female</td>\n",
       "    </tr>\n",
       "    <tr>\n",
       "      <th>176</th>\n",
       "      <td>D</td>\n",
       "      <td>NaN</td>\n",
       "      <td>Female</td>\n",
       "    </tr>\n",
       "    <tr>\n",
       "      <th>185</th>\n",
       "      <td>B</td>\n",
       "      <td>N</td>\n",
       "      <td>Female</td>\n",
       "    </tr>\n",
       "    <tr>\n",
       "      <th>194</th>\n",
       "      <td>B</td>\n",
       "      <td>NaN</td>\n",
       "      <td>Female</td>\n",
       "    </tr>\n",
       "    <tr>\n",
       "      <th>195</th>\n",
       "      <td>C</td>\n",
       "      <td>N</td>\n",
       "      <td>Female</td>\n",
       "    </tr>\n",
       "    <tr>\n",
       "      <th>196</th>\n",
       "      <td>D</td>\n",
       "      <td>N</td>\n",
       "      <td>Female</td>\n",
       "    </tr>\n",
       "    <tr>\n",
       "      <th>197</th>\n",
       "      <td>A</td>\n",
       "      <td>N</td>\n",
       "      <td>Female</td>\n",
       "    </tr>\n",
       "    <tr>\n",
       "      <th>198</th>\n",
       "      <td>A</td>\n",
       "      <td>N</td>\n",
       "      <td>Male</td>\n",
       "    </tr>\n",
       "    <tr>\n",
       "      <th>199</th>\n",
       "      <td>D</td>\n",
       "      <td>N</td>\n",
       "      <td>Male</td>\n",
       "    </tr>\n",
       "  </tbody>\n",
       "</table>\n",
       "</div>"
      ],
      "text/plain": [
       "    School Transfer  Gender\n",
       "21       A      NaN    Male\n",
       "54       B        Y    Male\n",
       "84       C      NaN  Female\n",
       "123      A      NaN  Female\n",
       "127      B        N    Male\n",
       "131      C        Y    Male\n",
       "147      B      NaN    Male\n",
       "150      D        Y    Male\n",
       "152      C        N    Male\n",
       "169      D        Y  Female\n",
       "176      D      NaN  Female\n",
       "185      B        N  Female\n",
       "194      B      NaN  Female\n",
       "195      C        N  Female\n",
       "196      D        N  Female\n",
       "197      A        N  Female\n",
       "198      A        N    Male\n",
       "199      D        N    Male"
      ]
     },
     "execution_count": 62,
     "metadata": {},
     "output_type": "execute_result"
    }
   ],
   "source": [
    "df_demo.drop_duplicates(keep = 'last')#keep 默认为first 保留第一次出现的行\n",
    "                                    #last 保留最后一次出现的行\n",
    "                                    # False 不保留重复的行，若重复则删去"
   ]
  },
  {
   "cell_type": "code",
   "execution_count": 63,
   "id": "6cfd5d6b",
   "metadata": {},
   "outputs": [
    {
     "data": {
      "text/html": [
       "<div>\n",
       "<style scoped>\n",
       "    .dataframe tbody tr th:only-of-type {\n",
       "        vertical-align: middle;\n",
       "    }\n",
       "\n",
       "    .dataframe tbody tr th {\n",
       "        vertical-align: top;\n",
       "    }\n",
       "\n",
       "    .dataframe thead th {\n",
       "        text-align: right;\n",
       "    }\n",
       "</style>\n",
       "<table border=\"1\" class=\"dataframe\">\n",
       "  <thead>\n",
       "    <tr style=\"text-align: right;\">\n",
       "      <th></th>\n",
       "      <th>School</th>\n",
       "      <th>Transfer</th>\n",
       "      <th>Gender</th>\n",
       "    </tr>\n",
       "  </thead>\n",
       "  <tbody>\n",
       "    <tr>\n",
       "      <th>0</th>\n",
       "      <td>A</td>\n",
       "      <td>N</td>\n",
       "      <td>Female</td>\n",
       "    </tr>\n",
       "    <tr>\n",
       "      <th>1</th>\n",
       "      <td>B</td>\n",
       "      <td>N</td>\n",
       "      <td>Male</td>\n",
       "    </tr>\n",
       "    <tr>\n",
       "      <th>2</th>\n",
       "      <td>A</td>\n",
       "      <td>N</td>\n",
       "      <td>Male</td>\n",
       "    </tr>\n",
       "    <tr>\n",
       "      <th>3</th>\n",
       "      <td>C</td>\n",
       "      <td>N</td>\n",
       "      <td>Female</td>\n",
       "    </tr>\n",
       "    <tr>\n",
       "      <th>4</th>\n",
       "      <td>C</td>\n",
       "      <td>N</td>\n",
       "      <td>Male</td>\n",
       "    </tr>\n",
       "    <tr>\n",
       "      <th>5</th>\n",
       "      <td>D</td>\n",
       "      <td>N</td>\n",
       "      <td>Female</td>\n",
       "    </tr>\n",
       "    <tr>\n",
       "      <th>9</th>\n",
       "      <td>B</td>\n",
       "      <td>N</td>\n",
       "      <td>Female</td>\n",
       "    </tr>\n",
       "    <tr>\n",
       "      <th>12</th>\n",
       "      <td>A</td>\n",
       "      <td>NaN</td>\n",
       "      <td>Female</td>\n",
       "    </tr>\n",
       "    <tr>\n",
       "      <th>16</th>\n",
       "      <td>D</td>\n",
       "      <td>N</td>\n",
       "      <td>Male</td>\n",
       "    </tr>\n",
       "    <tr>\n",
       "      <th>21</th>\n",
       "      <td>A</td>\n",
       "      <td>NaN</td>\n",
       "      <td>Male</td>\n",
       "    </tr>\n",
       "    <tr>\n",
       "      <th>36</th>\n",
       "      <td>B</td>\n",
       "      <td>Y</td>\n",
       "      <td>Male</td>\n",
       "    </tr>\n",
       "    <tr>\n",
       "      <th>43</th>\n",
       "      <td>D</td>\n",
       "      <td>Y</td>\n",
       "      <td>Female</td>\n",
       "    </tr>\n",
       "    <tr>\n",
       "      <th>69</th>\n",
       "      <td>D</td>\n",
       "      <td>NaN</td>\n",
       "      <td>Female</td>\n",
       "    </tr>\n",
       "    <tr>\n",
       "      <th>74</th>\n",
       "      <td>D</td>\n",
       "      <td>Y</td>\n",
       "      <td>Male</td>\n",
       "    </tr>\n",
       "    <tr>\n",
       "      <th>84</th>\n",
       "      <td>C</td>\n",
       "      <td>NaN</td>\n",
       "      <td>Female</td>\n",
       "    </tr>\n",
       "    <tr>\n",
       "      <th>102</th>\n",
       "      <td>B</td>\n",
       "      <td>NaN</td>\n",
       "      <td>Male</td>\n",
       "    </tr>\n",
       "    <tr>\n",
       "      <th>120</th>\n",
       "      <td>B</td>\n",
       "      <td>NaN</td>\n",
       "      <td>Female</td>\n",
       "    </tr>\n",
       "    <tr>\n",
       "      <th>131</th>\n",
       "      <td>C</td>\n",
       "      <td>Y</td>\n",
       "      <td>Male</td>\n",
       "    </tr>\n",
       "  </tbody>\n",
       "</table>\n",
       "</div>"
      ],
      "text/plain": [
       "    School Transfer  Gender\n",
       "0        A        N  Female\n",
       "1        B        N    Male\n",
       "2        A        N    Male\n",
       "3        C        N  Female\n",
       "4        C        N    Male\n",
       "5        D        N  Female\n",
       "9        B        N  Female\n",
       "12       A      NaN  Female\n",
       "16       D        N    Male\n",
       "21       A      NaN    Male\n",
       "36       B        Y    Male\n",
       "43       D        Y  Female\n",
       "69       D      NaN  Female\n",
       "74       D        Y    Male\n",
       "84       C      NaN  Female\n",
       "102      B      NaN    Male\n",
       "120      B      NaN  Female\n",
       "131      C        Y    Male"
      ]
     },
     "execution_count": 63,
     "metadata": {},
     "output_type": "execute_result"
    }
   ],
   "source": [
    "df_demo.drop_duplicates(keep = 'first')"
   ]
  },
  {
   "cell_type": "code",
   "execution_count": 64,
   "id": "67818730",
   "metadata": {},
   "outputs": [
    {
     "data": {
      "text/html": [
       "<div>\n",
       "<style scoped>\n",
       "    .dataframe tbody tr th:only-of-type {\n",
       "        vertical-align: middle;\n",
       "    }\n",
       "\n",
       "    .dataframe tbody tr th {\n",
       "        vertical-align: top;\n",
       "    }\n",
       "\n",
       "    .dataframe thead th {\n",
       "        text-align: right;\n",
       "    }\n",
       "</style>\n",
       "<table border=\"1\" class=\"dataframe\">\n",
       "  <thead>\n",
       "    <tr style=\"text-align: right;\">\n",
       "      <th></th>\n",
       "      <th>School</th>\n",
       "      <th>Transfer</th>\n",
       "      <th>Gender</th>\n",
       "    </tr>\n",
       "  </thead>\n",
       "  <tbody>\n",
       "    <tr>\n",
       "      <th>21</th>\n",
       "      <td>A</td>\n",
       "      <td>NaN</td>\n",
       "      <td>Male</td>\n",
       "    </tr>\n",
       "    <tr>\n",
       "      <th>84</th>\n",
       "      <td>C</td>\n",
       "      <td>NaN</td>\n",
       "      <td>Female</td>\n",
       "    </tr>\n",
       "    <tr>\n",
       "      <th>131</th>\n",
       "      <td>C</td>\n",
       "      <td>Y</td>\n",
       "      <td>Male</td>\n",
       "    </tr>\n",
       "  </tbody>\n",
       "</table>\n",
       "</div>"
      ],
      "text/plain": [
       "    School Transfer  Gender\n",
       "21       A      NaN    Male\n",
       "84       C      NaN  Female\n",
       "131      C        Y    Male"
      ]
     },
     "execution_count": 64,
     "metadata": {},
     "output_type": "execute_result"
    }
   ],
   "source": [
    "df_demo.drop_duplicates(keep = False)"
   ]
  },
  {
   "cell_type": "code",
   "execution_count": 65,
   "id": "0b6440ec",
   "metadata": {},
   "outputs": [
    {
     "data": {
      "text/plain": [
       "0    False\n",
       "1    False\n",
       "2     True\n",
       "3    False\n",
       "4     True\n",
       "dtype: bool"
      ]
     },
     "execution_count": 65,
     "metadata": {},
     "output_type": "execute_result"
    }
   ],
   "source": [
    "\n",
    "df_demo.duplicated(['School','Transfer']).head() #比较列中元素是否与前面的列中元素相同，相同则标记为True，否则为False"
   ]
  },
  {
   "cell_type": "markdown",
   "id": "0c646fba",
   "metadata": {},
   "source": [
    "# 替换函数"
   ]
  },
  {
   "cell_type": "markdown",
   "id": "ee80135d",
   "metadata": {},
   "source": [
    "(1) 映射替换 使用replace函数 将指定的值替换为其他值\n",
    "\n",
    "(2) 逻辑替换  \n",
    "\n",
    "(3) 正则替换"
   ]
  },
  {
   "cell_type": "markdown",
   "id": "020c0513",
   "metadata": {},
   "source": [
    "### 映射替换"
   ]
  },
  {
   "cell_type": "code",
   "execution_count": 66,
   "id": "1794be8c",
   "metadata": {},
   "outputs": [
    {
     "name": "stderr",
     "output_type": "stream",
     "text": [
      "C:\\Users\\15784\\AppData\\Local\\Temp\\ipykernel_3272\\1266145858.py:1: FutureWarning: Downcasting behavior in `replace` is deprecated and will be removed in a future version. To retain the old behavior, explicitly call `result.infer_objects(copy=False)`. To opt-in to the future behavior, set `pd.set_option('future.no_silent_downcasting', True)`\n",
      "  df_demo['Gender'].replace({'Male':1,'Female':0}).head() #将Gender列中的male替换为1，Female替换为0\n"
     ]
    },
    {
     "data": {
      "text/plain": [
       "0    0\n",
       "1    1\n",
       "2    1\n",
       "3    0\n",
       "4    1\n",
       "Name: Gender, dtype: int64"
      ]
     },
     "execution_count": 66,
     "metadata": {},
     "output_type": "execute_result"
    }
   ],
   "source": [
    "df_demo['Gender'].replace({'Male':1,'Female':0}).head() #将Gender列中的male替换为1，Female替换为0"
   ]
  },
  {
   "cell_type": "code",
   "execution_count": 67,
   "id": "ef6a9741",
   "metadata": {},
   "outputs": [
    {
     "name": "stderr",
     "output_type": "stream",
     "text": [
      "C:\\Users\\15784\\AppData\\Local\\Temp\\ipykernel_3272\\3548204170.py:1: FutureWarning: Downcasting behavior in `replace` is deprecated and will be removed in a future version. To retain the old behavior, explicitly call `result.infer_objects(copy=False)`. To opt-in to the future behavior, set `pd.set_option('future.no_silent_downcasting', True)`\n",
      "  df_demo['Gender'].replace(['Male','Female'],[1,0]).head()#将Gender列中的male替换为1，Female替换为0b\n"
     ]
    },
    {
     "data": {
      "text/plain": [
       "0    0\n",
       "1    1\n",
       "2    1\n",
       "3    0\n",
       "4    1\n",
       "Name: Gender, dtype: int64"
      ]
     },
     "execution_count": 67,
     "metadata": {},
     "output_type": "execute_result"
    }
   ],
   "source": [
    "df_demo['Gender'].replace(['Male','Female'],[1,0]).head()#将Gender列中的male替换为1，Female替换为0b"
   ]
  },
  {
   "cell_type": "code",
   "execution_count": 68,
   "id": "d083dee9",
   "metadata": {},
   "outputs": [],
   "source": [
    "s = pd.Series(data = ['a',1,2,'b',1,1,'a'])"
   ]
  },
  {
   "cell_type": "code",
   "execution_count": 69,
   "id": "0467cb5b",
   "metadata": {},
   "outputs": [
    {
     "data": {
      "text/plain": [
       "0    a\n",
       "1    1\n",
       "2    2\n",
       "3    b\n",
       "4    1\n",
       "5    1\n",
       "6    a\n",
       "dtype: object"
      ]
     },
     "execution_count": 69,
     "metadata": {},
     "output_type": "execute_result"
    }
   ],
   "source": [
    "s"
   ]
  },
  {
   "cell_type": "code",
   "execution_count": 70,
   "id": "f061496d",
   "metadata": {},
   "outputs": [
    {
     "name": "stderr",
     "output_type": "stream",
     "text": [
      "C:\\Users\\15784\\AppData\\Local\\Temp\\ipykernel_3272\\3927072021.py:2: FutureWarning: The 'method' keyword in Series.replace is deprecated and will be removed in a future version.\n",
      "  s.replace([1,2],method = 'ffill')#被替换的数字向前寻找替换的字母，然后变成替换的字母。\n"
     ]
    },
    {
     "data": {
      "text/plain": [
       "0    a\n",
       "1    a\n",
       "2    a\n",
       "3    b\n",
       "4    b\n",
       "5    b\n",
       "6    a\n",
       "dtype: object"
      ]
     },
     "execution_count": 70,
     "metadata": {},
     "output_type": "execute_result"
    }
   ],
   "source": [
    "#replace中有关键字method,其中method有ffill(向前填充),bfill(向后填充)\n",
    "s.replace([1,2],method = 'ffill')#被替换的数字向前寻找替换的字母，然后变成替换的字母。"
   ]
  },
  {
   "cell_type": "code",
   "execution_count": null,
   "id": "95e4c47b",
   "metadata": {},
   "outputs": [
    {
     "name": "stderr",
     "output_type": "stream",
     "text": [
      "C:\\Users\\15784\\AppData\\Local\\Temp\\ipykernel_3272\\3332703430.py:1: FutureWarning: The 'method' keyword in Series.replace is deprecated and will be removed in a future version.\n",
      "  s.replace([1,2],method = 'bfill'),#[1,2]向后寻找替换的字母,然后被替换\n"
     ]
    },
    {
     "data": {
      "text/plain": [
       "(0    a\n",
       " 1    b\n",
       " 2    b\n",
       " 3    b\n",
       " 4    a\n",
       " 5    a\n",
       " 6    a\n",
       " dtype: object,)"
      ]
     },
     "execution_count": 71,
     "metadata": {},
     "output_type": "execute_result"
    }
   ],
   "source": [
    "s.replace([1,2],method = 'bfill'),#[1,2]向后寻找替换的字母,然后被替换"
   ]
  },
  {
   "cell_type": "code",
   "execution_count": null,
   "id": "94b4ce6a",
   "metadata": {},
   "outputs": [
    {
     "data": {
      "text/html": [
       "<div>\n",
       "<style scoped>\n",
       "    .dataframe tbody tr th:only-of-type {\n",
       "        vertical-align: middle;\n",
       "    }\n",
       "\n",
       "    .dataframe tbody tr th {\n",
       "        vertical-align: top;\n",
       "    }\n",
       "\n",
       "    .dataframe thead th {\n",
       "        text-align: right;\n",
       "    }\n",
       "</style>\n",
       "<table border=\"1\" class=\"dataframe\">\n",
       "  <thead>\n",
       "    <tr style=\"text-align: right;\">\n",
       "      <th></th>\n",
       "      <th>col1</th>\n",
       "      <th>col2</th>\n",
       "    </tr>\n",
       "  </thead>\n",
       "  <tbody>\n",
       "    <tr>\n",
       "      <th>ln0</th>\n",
       "      <td>1</td>\n",
       "      <td>2</td>\n",
       "    </tr>\n",
       "    <tr>\n",
       "      <th>ln1</th>\n",
       "      <td>4</td>\n",
       "      <td>5</td>\n",
       "    </tr>\n",
       "    <tr>\n",
       "      <th>ln2</th>\n",
       "      <td>7</td>\n",
       "      <td>8</td>\n",
       "    </tr>\n",
       "  </tbody>\n",
       "</table>\n",
       "</div>"
      ],
      "text/plain": [
       "     col1  col2\n",
       "ln0     1     2\n",
       "ln1     4     5\n",
       "ln2     7     8"
      ]
     },
     "execution_count": 72,
     "metadata": {},
     "output_type": "execute_result"
    }
   ],
   "source": [
    "df"
   ]
  },
  {
   "cell_type": "markdown",
   "id": "77f9cd56",
   "metadata": {},
   "source": [
    "### 逻辑替换"
   ]
  },
  {
   "cell_type": "code",
   "execution_count": 73,
   "id": "3ba534aa",
   "metadata": {},
   "outputs": [
    {
     "data": {
      "text/html": [
       "<div>\n",
       "<style scoped>\n",
       "    .dataframe tbody tr th:only-of-type {\n",
       "        vertical-align: middle;\n",
       "    }\n",
       "\n",
       "    .dataframe tbody tr th {\n",
       "        vertical-align: top;\n",
       "    }\n",
       "\n",
       "    .dataframe thead th {\n",
       "        text-align: right;\n",
       "    }\n",
       "</style>\n",
       "<table border=\"1\" class=\"dataframe\">\n",
       "  <thead>\n",
       "    <tr style=\"text-align: right;\">\n",
       "      <th></th>\n",
       "      <th>col1</th>\n",
       "      <th>col2</th>\n",
       "    </tr>\n",
       "  </thead>\n",
       "  <tbody>\n",
       "    <tr>\n",
       "      <th>ln0</th>\n",
       "      <td>1</td>\n",
       "      <td>2</td>\n",
       "    </tr>\n",
       "    <tr>\n",
       "      <th>ln1</th>\n",
       "      <td>4</td>\n",
       "      <td>0</td>\n",
       "    </tr>\n",
       "    <tr>\n",
       "      <th>ln2</th>\n",
       "      <td>0</td>\n",
       "      <td>0</td>\n",
       "    </tr>\n",
       "  </tbody>\n",
       "</table>\n",
       "</div>"
      ],
      "text/plain": [
       "     col1  col2\n",
       "ln0     1     2\n",
       "ln1     4     0\n",
       "ln2     0     0"
      ]
     },
     "execution_count": 73,
     "metadata": {},
     "output_type": "execute_result"
    }
   ],
   "source": [
    "df.where(df < 5, 0)#where (条件) 将条件为False的数据替换为被替换的数据，默认为NaN"
   ]
  },
  {
   "cell_type": "code",
   "execution_count": 74,
   "id": "049936d2",
   "metadata": {},
   "outputs": [
    {
     "data": {
      "text/html": [
       "<div>\n",
       "<style scoped>\n",
       "    .dataframe tbody tr th:only-of-type {\n",
       "        vertical-align: middle;\n",
       "    }\n",
       "\n",
       "    .dataframe tbody tr th {\n",
       "        vertical-align: top;\n",
       "    }\n",
       "\n",
       "    .dataframe thead th {\n",
       "        text-align: right;\n",
       "    }\n",
       "</style>\n",
       "<table border=\"1\" class=\"dataframe\">\n",
       "  <thead>\n",
       "    <tr style=\"text-align: right;\">\n",
       "      <th></th>\n",
       "      <th>col1</th>\n",
       "      <th>col2</th>\n",
       "    </tr>\n",
       "  </thead>\n",
       "  <tbody>\n",
       "    <tr>\n",
       "      <th>ln0</th>\n",
       "      <td>0</td>\n",
       "      <td>0</td>\n",
       "    </tr>\n",
       "    <tr>\n",
       "      <th>ln1</th>\n",
       "      <td>0</td>\n",
       "      <td>5</td>\n",
       "    </tr>\n",
       "    <tr>\n",
       "      <th>ln2</th>\n",
       "      <td>7</td>\n",
       "      <td>8</td>\n",
       "    </tr>\n",
       "  </tbody>\n",
       "</table>\n",
       "</div>"
      ],
      "text/plain": [
       "     col1  col2\n",
       "ln0     0     0\n",
       "ln1     0     5\n",
       "ln2     7     8"
      ]
     },
     "execution_count": 74,
     "metadata": {},
     "output_type": "execute_result"
    }
   ],
   "source": [
    "df.mask(df < 5, 0)#mask (条件) 将条件为true的数据替换为被替换的数据,默认为 NaN"
   ]
  },
  {
   "cell_type": "markdown",
   "id": "29857d7e",
   "metadata": {},
   "source": [
    "### 数值替换"
   ]
  },
  {
   "cell_type": "code",
   "execution_count": 75,
   "id": "086c3aa3",
   "metadata": {},
   "outputs": [
    {
     "data": {
      "text/html": [
       "<div>\n",
       "<style scoped>\n",
       "    .dataframe tbody tr th:only-of-type {\n",
       "        vertical-align: middle;\n",
       "    }\n",
       "\n",
       "    .dataframe tbody tr th {\n",
       "        vertical-align: top;\n",
       "    }\n",
       "\n",
       "    .dataframe thead th {\n",
       "        text-align: right;\n",
       "    }\n",
       "</style>\n",
       "<table border=\"1\" class=\"dataframe\">\n",
       "  <thead>\n",
       "    <tr style=\"text-align: right;\">\n",
       "      <th></th>\n",
       "      <th>col1</th>\n",
       "      <th>col2</th>\n",
       "    </tr>\n",
       "  </thead>\n",
       "  <tbody>\n",
       "    <tr>\n",
       "      <th>ln0</th>\n",
       "      <td>1</td>\n",
       "      <td>2</td>\n",
       "    </tr>\n",
       "    <tr>\n",
       "      <th>ln1</th>\n",
       "      <td>4</td>\n",
       "      <td>5</td>\n",
       "    </tr>\n",
       "    <tr>\n",
       "      <th>ln2</th>\n",
       "      <td>7</td>\n",
       "      <td>8</td>\n",
       "    </tr>\n",
       "  </tbody>\n",
       "</table>\n",
       "</div>"
      ],
      "text/plain": [
       "     col1  col2\n",
       "ln0     1     2\n",
       "ln1     4     5\n",
       "ln2     7     8"
      ]
     },
     "execution_count": 75,
     "metadata": {},
     "output_type": "execute_result"
    }
   ],
   "source": [
    "df.abs() #取绝对值"
   ]
  },
  {
   "cell_type": "code",
   "execution_count": 76,
   "id": "c8f255d7",
   "metadata": {},
   "outputs": [],
   "source": [
    "df_lit = pd.DataFrame(data = [[1.2345,2.3456,3.4567],\n",
    "                           [-6.789,-4.1589,-9.4565]],\n",
    "                    index = ['in1','ln2'],\n",
    "                    columns = ['col1','col2','col3'])"
   ]
  },
  {
   "cell_type": "code",
   "execution_count": null,
   "id": "fd9def40",
   "metadata": {},
   "outputs": [
    {
     "data": {
      "text/html": [
       "<div>\n",
       "<style scoped>\n",
       "    .dataframe tbody tr th:only-of-type {\n",
       "        vertical-align: middle;\n",
       "    }\n",
       "\n",
       "    .dataframe tbody tr th {\n",
       "        vertical-align: top;\n",
       "    }\n",
       "\n",
       "    .dataframe thead th {\n",
       "        text-align: right;\n",
       "    }\n",
       "</style>\n",
       "<table border=\"1\" class=\"dataframe\">\n",
       "  <thead>\n",
       "    <tr style=\"text-align: right;\">\n",
       "      <th></th>\n",
       "      <th>col1</th>\n",
       "      <th>col2</th>\n",
       "      <th>col3</th>\n",
       "    </tr>\n",
       "  </thead>\n",
       "  <tbody>\n",
       "    <tr>\n",
       "      <th>in1</th>\n",
       "      <td>1.2345</td>\n",
       "      <td>2.3456</td>\n",
       "      <td>3.4567</td>\n",
       "    </tr>\n",
       "    <tr>\n",
       "      <th>ln2</th>\n",
       "      <td>-6.7890</td>\n",
       "      <td>-4.1589</td>\n",
       "      <td>-9.4565</td>\n",
       "    </tr>\n",
       "  </tbody>\n",
       "</table>\n",
       "</div>"
      ],
      "text/plain": [
       "       col1    col2    col3\n",
       "in1  1.2345  2.3456  3.4567\n",
       "ln2 -6.7890 -4.1589 -9.4565"
      ]
     },
     "execution_count": 77,
     "metadata": {},
     "output_type": "execute_result"
    }
   ],
   "source": [
    "df_lit"
   ]
  },
  {
   "cell_type": "code",
   "execution_count": null,
   "id": "b4831cf3",
   "metadata": {},
   "outputs": [
    {
     "data": {
      "text/html": [
       "<div>\n",
       "<style scoped>\n",
       "    .dataframe tbody tr th:only-of-type {\n",
       "        vertical-align: middle;\n",
       "    }\n",
       "\n",
       "    .dataframe tbody tr th {\n",
       "        vertical-align: top;\n",
       "    }\n",
       "\n",
       "    .dataframe thead th {\n",
       "        text-align: right;\n",
       "    }\n",
       "</style>\n",
       "<table border=\"1\" class=\"dataframe\">\n",
       "  <thead>\n",
       "    <tr style=\"text-align: right;\">\n",
       "      <th></th>\n",
       "      <th>col1</th>\n",
       "      <th>col2</th>\n",
       "      <th>col3</th>\n",
       "    </tr>\n",
       "  </thead>\n",
       "  <tbody>\n",
       "    <tr>\n",
       "      <th>in1</th>\n",
       "      <td>1.23</td>\n",
       "      <td>2.35</td>\n",
       "      <td>3.46</td>\n",
       "    </tr>\n",
       "    <tr>\n",
       "      <th>ln2</th>\n",
       "      <td>-6.79</td>\n",
       "      <td>-4.16</td>\n",
       "      <td>-9.46</td>\n",
       "    </tr>\n",
       "  </tbody>\n",
       "</table>\n",
       "</div>"
      ],
      "text/plain": [
       "     col1  col2  col3\n",
       "in1  1.23  2.35  3.46\n",
       "ln2 -6.79 -4.16 -9.46"
      ]
     },
     "execution_count": 78,
     "metadata": {},
     "output_type": "execute_result"
    }
   ],
   "source": [
    "df_lit.round(2)#保留几位小数(n)"
   ]
  },
  {
   "cell_type": "code",
   "execution_count": null,
   "id": "deb225f1",
   "metadata": {},
   "outputs": [
    {
     "data": {
      "text/html": [
       "<div>\n",
       "<style scoped>\n",
       "    .dataframe tbody tr th:only-of-type {\n",
       "        vertical-align: middle;\n",
       "    }\n",
       "\n",
       "    .dataframe tbody tr th {\n",
       "        vertical-align: top;\n",
       "    }\n",
       "\n",
       "    .dataframe thead th {\n",
       "        text-align: right;\n",
       "    }\n",
       "</style>\n",
       "<table border=\"1\" class=\"dataframe\">\n",
       "  <thead>\n",
       "    <tr style=\"text-align: right;\">\n",
       "      <th></th>\n",
       "      <th>col1</th>\n",
       "      <th>col2</th>\n",
       "      <th>col3</th>\n",
       "    </tr>\n",
       "  </thead>\n",
       "  <tbody>\n",
       "    <tr>\n",
       "      <th>in1</th>\n",
       "      <td>1.0</td>\n",
       "      <td>2.0</td>\n",
       "      <td>3.0</td>\n",
       "    </tr>\n",
       "    <tr>\n",
       "      <th>ln2</th>\n",
       "      <td>-7.0</td>\n",
       "      <td>-4.0</td>\n",
       "      <td>-9.0</td>\n",
       "    </tr>\n",
       "  </tbody>\n",
       "</table>\n",
       "</div>"
      ],
      "text/plain": [
       "     col1  col2  col3\n",
       "in1   1.0   2.0   3.0\n",
       "ln2  -7.0  -4.0  -9.0"
      ]
     },
     "execution_count": 79,
     "metadata": {},
     "output_type": "execute_result"
    }
   ],
   "source": [
    "df_lit.round()#默认为1"
   ]
  },
  {
   "cell_type": "code",
   "execution_count": 80,
   "id": "229eb6b3",
   "metadata": {},
   "outputs": [
    {
     "data": {
      "text/html": [
       "<div>\n",
       "<style scoped>\n",
       "    .dataframe tbody tr th:only-of-type {\n",
       "        vertical-align: middle;\n",
       "    }\n",
       "\n",
       "    .dataframe tbody tr th {\n",
       "        vertical-align: top;\n",
       "    }\n",
       "\n",
       "    .dataframe thead th {\n",
       "        text-align: right;\n",
       "    }\n",
       "</style>\n",
       "<table border=\"1\" class=\"dataframe\">\n",
       "  <thead>\n",
       "    <tr style=\"text-align: right;\">\n",
       "      <th></th>\n",
       "      <th>col1</th>\n",
       "      <th>col2</th>\n",
       "      <th>col3</th>\n",
       "    </tr>\n",
       "  </thead>\n",
       "  <tbody>\n",
       "    <tr>\n",
       "      <th>in1</th>\n",
       "      <td>1.2345</td>\n",
       "      <td>2.0</td>\n",
       "      <td>2.0</td>\n",
       "    </tr>\n",
       "    <tr>\n",
       "      <th>ln2</th>\n",
       "      <td>-4.0000</td>\n",
       "      <td>-4.0</td>\n",
       "      <td>-4.0</td>\n",
       "    </tr>\n",
       "  </tbody>\n",
       "</table>\n",
       "</div>"
      ],
      "text/plain": [
       "       col1  col2  col3\n",
       "in1  1.2345   2.0   2.0\n",
       "ln2 -4.0000  -4.0  -4.0"
      ]
     },
     "execution_count": 80,
     "metadata": {},
     "output_type": "execute_result"
    }
   ],
   "source": [
    "df_lit.clip(-4,2)#clip(下限阈值，上限阈值) 将超过的上限阈值/下限阈值的数 替换为上限阈值/下限阈值"
   ]
  },
  {
   "cell_type": "markdown",
   "id": "eda78cea",
   "metadata": {},
   "source": [
    "# 排序函数"
   ]
  },
  {
   "cell_type": "markdown",
   "id": "472d19bd",
   "metadata": {},
   "source": [
    "1. sort_values():值排序\n",
    "2. sort_index():列排序"
   ]
  },
  {
   "cell_type": "code",
   "execution_count": 81,
   "id": "29ca8f74",
   "metadata": {},
   "outputs": [
    {
     "data": {
      "text/html": [
       "<div>\n",
       "<style scoped>\n",
       "    .dataframe tbody tr th:only-of-type {\n",
       "        vertical-align: middle;\n",
       "    }\n",
       "\n",
       "    .dataframe tbody tr th {\n",
       "        vertical-align: top;\n",
       "    }\n",
       "\n",
       "    .dataframe thead th {\n",
       "        text-align: right;\n",
       "    }\n",
       "</style>\n",
       "<table border=\"1\" class=\"dataframe\">\n",
       "  <thead>\n",
       "    <tr style=\"text-align: right;\">\n",
       "      <th></th>\n",
       "      <th>School</th>\n",
       "      <th>Grade</th>\n",
       "      <th>Name</th>\n",
       "      <th>Gender</th>\n",
       "      <th>Height</th>\n",
       "      <th>Weight</th>\n",
       "      <th>Transfer</th>\n",
       "      <th>Test_Number</th>\n",
       "      <th>Test_Date</th>\n",
       "      <th>Time_Record</th>\n",
       "    </tr>\n",
       "  </thead>\n",
       "  <tbody>\n",
       "    <tr>\n",
       "      <th>0</th>\n",
       "      <td>A</td>\n",
       "      <td>Freshman</td>\n",
       "      <td>Gaopeng Yang</td>\n",
       "      <td>Female</td>\n",
       "      <td>158.9</td>\n",
       "      <td>46.0</td>\n",
       "      <td>N</td>\n",
       "      <td>1</td>\n",
       "      <td>2019/10/5</td>\n",
       "      <td>0:04:34</td>\n",
       "    </tr>\n",
       "    <tr>\n",
       "      <th>1</th>\n",
       "      <td>B</td>\n",
       "      <td>Freshman</td>\n",
       "      <td>Changqiang You</td>\n",
       "      <td>Male</td>\n",
       "      <td>166.5</td>\n",
       "      <td>70.0</td>\n",
       "      <td>N</td>\n",
       "      <td>1</td>\n",
       "      <td>2019/9/4</td>\n",
       "      <td>0:04:20</td>\n",
       "    </tr>\n",
       "    <tr>\n",
       "      <th>2</th>\n",
       "      <td>A</td>\n",
       "      <td>Senior</td>\n",
       "      <td>Mei Sun</td>\n",
       "      <td>Male</td>\n",
       "      <td>188.9</td>\n",
       "      <td>89.0</td>\n",
       "      <td>N</td>\n",
       "      <td>2</td>\n",
       "      <td>2019/9/12</td>\n",
       "      <td>0:05:22</td>\n",
       "    </tr>\n",
       "    <tr>\n",
       "      <th>3</th>\n",
       "      <td>C</td>\n",
       "      <td>Sophomore</td>\n",
       "      <td>Xiaojuan Sun</td>\n",
       "      <td>Female</td>\n",
       "      <td>NaN</td>\n",
       "      <td>41.0</td>\n",
       "      <td>N</td>\n",
       "      <td>2</td>\n",
       "      <td>2020/1/3</td>\n",
       "      <td>0:04:08</td>\n",
       "    </tr>\n",
       "    <tr>\n",
       "      <th>4</th>\n",
       "      <td>C</td>\n",
       "      <td>Sophomore</td>\n",
       "      <td>Gaojuan You</td>\n",
       "      <td>Male</td>\n",
       "      <td>174.0</td>\n",
       "      <td>74.0</td>\n",
       "      <td>N</td>\n",
       "      <td>2</td>\n",
       "      <td>2019/11/6</td>\n",
       "      <td>0:05:22</td>\n",
       "    </tr>\n",
       "    <tr>\n",
       "      <th>...</th>\n",
       "      <td>...</td>\n",
       "      <td>...</td>\n",
       "      <td>...</td>\n",
       "      <td>...</td>\n",
       "      <td>...</td>\n",
       "      <td>...</td>\n",
       "      <td>...</td>\n",
       "      <td>...</td>\n",
       "      <td>...</td>\n",
       "      <td>...</td>\n",
       "    </tr>\n",
       "    <tr>\n",
       "      <th>195</th>\n",
       "      <td>C</td>\n",
       "      <td>Junior</td>\n",
       "      <td>Xiaojuan Sun</td>\n",
       "      <td>Female</td>\n",
       "      <td>153.9</td>\n",
       "      <td>46.0</td>\n",
       "      <td>N</td>\n",
       "      <td>2</td>\n",
       "      <td>2019/10/17</td>\n",
       "      <td>0:04:31</td>\n",
       "    </tr>\n",
       "    <tr>\n",
       "      <th>196</th>\n",
       "      <td>D</td>\n",
       "      <td>Senior</td>\n",
       "      <td>Li Zhao</td>\n",
       "      <td>Female</td>\n",
       "      <td>160.9</td>\n",
       "      <td>50.0</td>\n",
       "      <td>N</td>\n",
       "      <td>3</td>\n",
       "      <td>2019/9/22</td>\n",
       "      <td>0:04:03</td>\n",
       "    </tr>\n",
       "    <tr>\n",
       "      <th>197</th>\n",
       "      <td>A</td>\n",
       "      <td>Senior</td>\n",
       "      <td>Chengqiang Chu</td>\n",
       "      <td>Female</td>\n",
       "      <td>153.9</td>\n",
       "      <td>45.0</td>\n",
       "      <td>N</td>\n",
       "      <td>1</td>\n",
       "      <td>2020/1/5</td>\n",
       "      <td>0:04:48</td>\n",
       "    </tr>\n",
       "    <tr>\n",
       "      <th>198</th>\n",
       "      <td>A</td>\n",
       "      <td>Senior</td>\n",
       "      <td>Chengmei Shen</td>\n",
       "      <td>Male</td>\n",
       "      <td>175.3</td>\n",
       "      <td>71.0</td>\n",
       "      <td>N</td>\n",
       "      <td>2</td>\n",
       "      <td>2020/1/7</td>\n",
       "      <td>0:04:58</td>\n",
       "    </tr>\n",
       "    <tr>\n",
       "      <th>199</th>\n",
       "      <td>D</td>\n",
       "      <td>Sophomore</td>\n",
       "      <td>Chunpeng Lv</td>\n",
       "      <td>Male</td>\n",
       "      <td>155.7</td>\n",
       "      <td>51.0</td>\n",
       "      <td>N</td>\n",
       "      <td>1</td>\n",
       "      <td>2019/11/6</td>\n",
       "      <td>0:05:05</td>\n",
       "    </tr>\n",
       "  </tbody>\n",
       "</table>\n",
       "<p>200 rows × 10 columns</p>\n",
       "</div>"
      ],
      "text/plain": [
       "    School      Grade            Name  Gender  Height  Weight Transfer  \\\n",
       "0        A   Freshman    Gaopeng Yang  Female   158.9    46.0        N   \n",
       "1        B   Freshman  Changqiang You    Male   166.5    70.0        N   \n",
       "2        A     Senior         Mei Sun    Male   188.9    89.0        N   \n",
       "3        C  Sophomore    Xiaojuan Sun  Female     NaN    41.0        N   \n",
       "4        C  Sophomore     Gaojuan You    Male   174.0    74.0        N   \n",
       "..     ...        ...             ...     ...     ...     ...      ...   \n",
       "195      C     Junior    Xiaojuan Sun  Female   153.9    46.0        N   \n",
       "196      D     Senior         Li Zhao  Female   160.9    50.0        N   \n",
       "197      A     Senior  Chengqiang Chu  Female   153.9    45.0        N   \n",
       "198      A     Senior   Chengmei Shen    Male   175.3    71.0        N   \n",
       "199      D  Sophomore     Chunpeng Lv    Male   155.7    51.0        N   \n",
       "\n",
       "     Test_Number   Test_Date Time_Record  \n",
       "0              1   2019/10/5     0:04:34  \n",
       "1              1    2019/9/4     0:04:20  \n",
       "2              2   2019/9/12     0:05:22  \n",
       "3              2    2020/1/3     0:04:08  \n",
       "4              2   2019/11/6     0:05:22  \n",
       "..           ...         ...         ...  \n",
       "195            2  2019/10/17     0:04:31  \n",
       "196            3   2019/9/22     0:04:03  \n",
       "197            1    2020/1/5     0:04:48  \n",
       "198            2    2020/1/7     0:04:58  \n",
       "199            1   2019/11/6     0:05:05  \n",
       "\n",
       "[200 rows x 10 columns]"
      ]
     },
     "execution_count": 81,
     "metadata": {},
     "output_type": "execute_result"
    }
   ],
   "source": [
    "df_csv"
   ]
  },
  {
   "cell_type": "code",
   "execution_count": 82,
   "id": "30d637c0",
   "metadata": {},
   "outputs": [
    {
     "data": {
      "text/html": [
       "<div>\n",
       "<style scoped>\n",
       "    .dataframe tbody tr th:only-of-type {\n",
       "        vertical-align: middle;\n",
       "    }\n",
       "\n",
       "    .dataframe tbody tr th {\n",
       "        vertical-align: top;\n",
       "    }\n",
       "\n",
       "    .dataframe thead th {\n",
       "        text-align: right;\n",
       "    }\n",
       "</style>\n",
       "<table border=\"1\" class=\"dataframe\">\n",
       "  <thead>\n",
       "    <tr style=\"text-align: right;\">\n",
       "      <th></th>\n",
       "      <th>School</th>\n",
       "      <th>Grade</th>\n",
       "      <th>Name</th>\n",
       "      <th>Gender</th>\n",
       "      <th>Height</th>\n",
       "      <th>Weight</th>\n",
       "      <th>Transfer</th>\n",
       "      <th>Test_Number</th>\n",
       "      <th>Test_Date</th>\n",
       "      <th>Time_Record</th>\n",
       "    </tr>\n",
       "  </thead>\n",
       "  <tbody>\n",
       "    <tr>\n",
       "      <th>143</th>\n",
       "      <td>A</td>\n",
       "      <td>Junior</td>\n",
       "      <td>Xiaoli Chu</td>\n",
       "      <td>Female</td>\n",
       "      <td>145.4</td>\n",
       "      <td>34.0</td>\n",
       "      <td>N</td>\n",
       "      <td>1</td>\n",
       "      <td>2019/11/13</td>\n",
       "      <td>0:03:56</td>\n",
       "    </tr>\n",
       "    <tr>\n",
       "      <th>49</th>\n",
       "      <td>C</td>\n",
       "      <td>Senior</td>\n",
       "      <td>Gaomei Lv</td>\n",
       "      <td>Female</td>\n",
       "      <td>147.3</td>\n",
       "      <td>34.0</td>\n",
       "      <td>N</td>\n",
       "      <td>2</td>\n",
       "      <td>2019/10/16</td>\n",
       "      <td>0:03:44</td>\n",
       "    </tr>\n",
       "    <tr>\n",
       "      <th>120</th>\n",
       "      <td>B</td>\n",
       "      <td>Sophomore</td>\n",
       "      <td>Peng Han</td>\n",
       "      <td>Female</td>\n",
       "      <td>147.8</td>\n",
       "      <td>34.0</td>\n",
       "      <td>NaN</td>\n",
       "      <td>2</td>\n",
       "      <td>2019/9/19</td>\n",
       "      <td>0:03:32</td>\n",
       "    </tr>\n",
       "    <tr>\n",
       "      <th>30</th>\n",
       "      <td>B</td>\n",
       "      <td>Senior</td>\n",
       "      <td>Changli Lv</td>\n",
       "      <td>Female</td>\n",
       "      <td>148.7</td>\n",
       "      <td>41.0</td>\n",
       "      <td>N</td>\n",
       "      <td>2</td>\n",
       "      <td>2019/11/13</td>\n",
       "      <td>0:04:54</td>\n",
       "    </tr>\n",
       "    <tr>\n",
       "      <th>139</th>\n",
       "      <td>D</td>\n",
       "      <td>Sophomore</td>\n",
       "      <td>Qiang Zhou</td>\n",
       "      <td>Female</td>\n",
       "      <td>150.5</td>\n",
       "      <td>36.0</td>\n",
       "      <td>N</td>\n",
       "      <td>1</td>\n",
       "      <td>2019/11/4</td>\n",
       "      <td>0:04:27</td>\n",
       "    </tr>\n",
       "  </tbody>\n",
       "</table>\n",
       "</div>"
      ],
      "text/plain": [
       "    School      Grade        Name  Gender  Height  Weight Transfer  \\\n",
       "143      A     Junior  Xiaoli Chu  Female   145.4    34.0        N   \n",
       "49       C     Senior   Gaomei Lv  Female   147.3    34.0        N   \n",
       "120      B  Sophomore    Peng Han  Female   147.8    34.0      NaN   \n",
       "30       B     Senior  Changli Lv  Female   148.7    41.0        N   \n",
       "139      D  Sophomore  Qiang Zhou  Female   150.5    36.0        N   \n",
       "\n",
       "     Test_Number   Test_Date Time_Record  \n",
       "143            1  2019/11/13     0:03:56  \n",
       "49             2  2019/10/16     0:03:44  \n",
       "120            2   2019/9/19     0:03:32  \n",
       "30             2  2019/11/13     0:04:54  \n",
       "139            1   2019/11/4     0:04:27  "
      ]
     },
     "execution_count": 82,
     "metadata": {},
     "output_type": "execute_result"
    }
   ],
   "source": [
    "df_csv.sort_values('Height').head() #根据身高列中的值大小进行排序，默认升序"
   ]
  },
  {
   "cell_type": "code",
   "execution_count": 83,
   "id": "27d7b36b",
   "metadata": {},
   "outputs": [
    {
     "data": {
      "text/html": [
       "<div>\n",
       "<style scoped>\n",
       "    .dataframe tbody tr th:only-of-type {\n",
       "        vertical-align: middle;\n",
       "    }\n",
       "\n",
       "    .dataframe tbody tr th {\n",
       "        vertical-align: top;\n",
       "    }\n",
       "\n",
       "    .dataframe thead th {\n",
       "        text-align: right;\n",
       "    }\n",
       "</style>\n",
       "<table border=\"1\" class=\"dataframe\">\n",
       "  <thead>\n",
       "    <tr style=\"text-align: right;\">\n",
       "      <th></th>\n",
       "      <th>School</th>\n",
       "      <th>Grade</th>\n",
       "      <th>Name</th>\n",
       "      <th>Gender</th>\n",
       "      <th>Height</th>\n",
       "      <th>Weight</th>\n",
       "      <th>Transfer</th>\n",
       "      <th>Test_Number</th>\n",
       "      <th>Test_Date</th>\n",
       "      <th>Time_Record</th>\n",
       "    </tr>\n",
       "  </thead>\n",
       "  <tbody>\n",
       "    <tr>\n",
       "      <th>143</th>\n",
       "      <td>A</td>\n",
       "      <td>Junior</td>\n",
       "      <td>Xiaoli Chu</td>\n",
       "      <td>Female</td>\n",
       "      <td>145.4</td>\n",
       "      <td>34.0</td>\n",
       "      <td>N</td>\n",
       "      <td>1</td>\n",
       "      <td>2019/11/13</td>\n",
       "      <td>0:03:56</td>\n",
       "    </tr>\n",
       "    <tr>\n",
       "      <th>49</th>\n",
       "      <td>C</td>\n",
       "      <td>Senior</td>\n",
       "      <td>Gaomei Lv</td>\n",
       "      <td>Female</td>\n",
       "      <td>147.3</td>\n",
       "      <td>34.0</td>\n",
       "      <td>N</td>\n",
       "      <td>2</td>\n",
       "      <td>2019/10/16</td>\n",
       "      <td>0:03:44</td>\n",
       "    </tr>\n",
       "    <tr>\n",
       "      <th>120</th>\n",
       "      <td>B</td>\n",
       "      <td>Sophomore</td>\n",
       "      <td>Peng Han</td>\n",
       "      <td>Female</td>\n",
       "      <td>147.8</td>\n",
       "      <td>34.0</td>\n",
       "      <td>NaN</td>\n",
       "      <td>2</td>\n",
       "      <td>2019/9/19</td>\n",
       "      <td>0:03:32</td>\n",
       "    </tr>\n",
       "    <tr>\n",
       "      <th>30</th>\n",
       "      <td>B</td>\n",
       "      <td>Senior</td>\n",
       "      <td>Changli Lv</td>\n",
       "      <td>Female</td>\n",
       "      <td>148.7</td>\n",
       "      <td>41.0</td>\n",
       "      <td>N</td>\n",
       "      <td>2</td>\n",
       "      <td>2019/11/13</td>\n",
       "      <td>0:04:54</td>\n",
       "    </tr>\n",
       "    <tr>\n",
       "      <th>139</th>\n",
       "      <td>D</td>\n",
       "      <td>Sophomore</td>\n",
       "      <td>Qiang Zhou</td>\n",
       "      <td>Female</td>\n",
       "      <td>150.5</td>\n",
       "      <td>36.0</td>\n",
       "      <td>N</td>\n",
       "      <td>1</td>\n",
       "      <td>2019/11/4</td>\n",
       "      <td>0:04:27</td>\n",
       "    </tr>\n",
       "  </tbody>\n",
       "</table>\n",
       "</div>"
      ],
      "text/plain": [
       "    School      Grade        Name  Gender  Height  Weight Transfer  \\\n",
       "143      A     Junior  Xiaoli Chu  Female   145.4    34.0        N   \n",
       "49       C     Senior   Gaomei Lv  Female   147.3    34.0        N   \n",
       "120      B  Sophomore    Peng Han  Female   147.8    34.0      NaN   \n",
       "30       B     Senior  Changli Lv  Female   148.7    41.0        N   \n",
       "139      D  Sophomore  Qiang Zhou  Female   150.5    36.0        N   \n",
       "\n",
       "     Test_Number   Test_Date Time_Record  \n",
       "143            1  2019/11/13     0:03:56  \n",
       "49             2  2019/10/16     0:03:44  \n",
       "120            2   2019/9/19     0:03:32  \n",
       "30             2  2019/11/13     0:04:54  \n",
       "139            1   2019/11/4     0:04:27  "
      ]
     },
     "execution_count": 83,
     "metadata": {},
     "output_type": "execute_result"
    }
   ],
   "source": [
    "df_csv.sort_values(['Height','Weight']).head()#先根据身高进行排序，再根据体重进行排序，靠前的权重高"
   ]
  },
  {
   "cell_type": "code",
   "execution_count": 84,
   "id": "d6e5497a",
   "metadata": {},
   "outputs": [
    {
     "data": {
      "text/html": [
       "<div>\n",
       "<style scoped>\n",
       "    .dataframe tbody tr th:only-of-type {\n",
       "        vertical-align: middle;\n",
       "    }\n",
       "\n",
       "    .dataframe tbody tr th {\n",
       "        vertical-align: top;\n",
       "    }\n",
       "\n",
       "    .dataframe thead th {\n",
       "        text-align: right;\n",
       "    }\n",
       "</style>\n",
       "<table border=\"1\" class=\"dataframe\">\n",
       "  <thead>\n",
       "    <tr style=\"text-align: right;\">\n",
       "      <th></th>\n",
       "      <th>School</th>\n",
       "      <th>Grade</th>\n",
       "      <th>Name</th>\n",
       "      <th>Gender</th>\n",
       "      <th>Height</th>\n",
       "      <th>Weight</th>\n",
       "      <th>Transfer</th>\n",
       "      <th>Test_Number</th>\n",
       "      <th>Test_Date</th>\n",
       "      <th>Time_Record</th>\n",
       "    </tr>\n",
       "  </thead>\n",
       "  <tbody>\n",
       "    <tr>\n",
       "      <th>193</th>\n",
       "      <td>D</td>\n",
       "      <td>Senior</td>\n",
       "      <td>Xiaoqiang Qin</td>\n",
       "      <td>Male</td>\n",
       "      <td>193.9</td>\n",
       "      <td>79.0</td>\n",
       "      <td>N</td>\n",
       "      <td>2</td>\n",
       "      <td>2019/11/6</td>\n",
       "      <td>0:05:09</td>\n",
       "    </tr>\n",
       "    <tr>\n",
       "      <th>2</th>\n",
       "      <td>A</td>\n",
       "      <td>Senior</td>\n",
       "      <td>Mei Sun</td>\n",
       "      <td>Male</td>\n",
       "      <td>188.9</td>\n",
       "      <td>89.0</td>\n",
       "      <td>N</td>\n",
       "      <td>2</td>\n",
       "      <td>2019/9/12</td>\n",
       "      <td>0:05:22</td>\n",
       "    </tr>\n",
       "    <tr>\n",
       "      <th>134</th>\n",
       "      <td>A</td>\n",
       "      <td>Senior</td>\n",
       "      <td>Gaoli Zhao</td>\n",
       "      <td>Male</td>\n",
       "      <td>186.5</td>\n",
       "      <td>83.0</td>\n",
       "      <td>N</td>\n",
       "      <td>1</td>\n",
       "      <td>2019/9/7</td>\n",
       "      <td>0:04:14</td>\n",
       "    </tr>\n",
       "    <tr>\n",
       "      <th>38</th>\n",
       "      <td>B</td>\n",
       "      <td>Freshman</td>\n",
       "      <td>Qiang Han</td>\n",
       "      <td>Male</td>\n",
       "      <td>185.3</td>\n",
       "      <td>87.0</td>\n",
       "      <td>N</td>\n",
       "      <td>3</td>\n",
       "      <td>2020/1/7</td>\n",
       "      <td>0:03:58</td>\n",
       "    </tr>\n",
       "    <tr>\n",
       "      <th>23</th>\n",
       "      <td>A</td>\n",
       "      <td>Senior</td>\n",
       "      <td>Qiang Zheng</td>\n",
       "      <td>Male</td>\n",
       "      <td>183.9</td>\n",
       "      <td>87.0</td>\n",
       "      <td>N</td>\n",
       "      <td>1</td>\n",
       "      <td>2019/12/5</td>\n",
       "      <td>0:04:59</td>\n",
       "    </tr>\n",
       "  </tbody>\n",
       "</table>\n",
       "</div>"
      ],
      "text/plain": [
       "    School     Grade           Name Gender  Height  Weight Transfer  \\\n",
       "193      D    Senior  Xiaoqiang Qin   Male   193.9    79.0        N   \n",
       "2        A    Senior        Mei Sun   Male   188.9    89.0        N   \n",
       "134      A    Senior     Gaoli Zhao   Male   186.5    83.0        N   \n",
       "38       B  Freshman      Qiang Han   Male   185.3    87.0        N   \n",
       "23       A    Senior    Qiang Zheng   Male   183.9    87.0        N   \n",
       "\n",
       "     Test_Number  Test_Date Time_Record  \n",
       "193            2  2019/11/6     0:05:09  \n",
       "2              2  2019/9/12     0:05:22  \n",
       "134            1   2019/9/7     0:04:14  \n",
       "38             3   2020/1/7     0:03:58  \n",
       "23             1  2019/12/5     0:04:59  "
      ]
     },
     "execution_count": 84,
     "metadata": {},
     "output_type": "execute_result"
    }
   ],
   "source": [
    "df_csv.sort_values(['Height','Weight'],ascending = [False,True]).head()"
   ]
  },
  {
   "cell_type": "code",
   "execution_count": 85,
   "id": "6dbc7516",
   "metadata": {},
   "outputs": [],
   "source": [
    "df_demo = df_csv[['Gender','School','Height','Weight']].set_index(['Gender','School'])"
   ]
  },
  {
   "cell_type": "code",
   "execution_count": 86,
   "id": "09f1c8f9",
   "metadata": {},
   "outputs": [
    {
     "data": {
      "text/html": [
       "<div>\n",
       "<style scoped>\n",
       "    .dataframe tbody tr th:only-of-type {\n",
       "        vertical-align: middle;\n",
       "    }\n",
       "\n",
       "    .dataframe tbody tr th {\n",
       "        vertical-align: top;\n",
       "    }\n",
       "\n",
       "    .dataframe thead th {\n",
       "        text-align: right;\n",
       "    }\n",
       "</style>\n",
       "<table border=\"1\" class=\"dataframe\">\n",
       "  <thead>\n",
       "    <tr style=\"text-align: right;\">\n",
       "      <th></th>\n",
       "      <th></th>\n",
       "      <th>Height</th>\n",
       "      <th>Weight</th>\n",
       "    </tr>\n",
       "    <tr>\n",
       "      <th>Gender</th>\n",
       "      <th>School</th>\n",
       "      <th></th>\n",
       "      <th></th>\n",
       "    </tr>\n",
       "  </thead>\n",
       "  <tbody>\n",
       "    <tr>\n",
       "      <th>Female</th>\n",
       "      <th>A</th>\n",
       "      <td>158.9</td>\n",
       "      <td>46.0</td>\n",
       "    </tr>\n",
       "    <tr>\n",
       "      <th rowspan=\"2\" valign=\"top\">Male</th>\n",
       "      <th>B</th>\n",
       "      <td>166.5</td>\n",
       "      <td>70.0</td>\n",
       "    </tr>\n",
       "    <tr>\n",
       "      <th>A</th>\n",
       "      <td>188.9</td>\n",
       "      <td>89.0</td>\n",
       "    </tr>\n",
       "    <tr>\n",
       "      <th>Female</th>\n",
       "      <th>C</th>\n",
       "      <td>NaN</td>\n",
       "      <td>41.0</td>\n",
       "    </tr>\n",
       "    <tr>\n",
       "      <th>Male</th>\n",
       "      <th>C</th>\n",
       "      <td>174.0</td>\n",
       "      <td>74.0</td>\n",
       "    </tr>\n",
       "  </tbody>\n",
       "</table>\n",
       "</div>"
      ],
      "text/plain": [
       "               Height  Weight\n",
       "Gender School                \n",
       "Female A        158.9    46.0\n",
       "Male   B        166.5    70.0\n",
       "       A        188.9    89.0\n",
       "Female C          NaN    41.0\n",
       "Male   C        174.0    74.0"
      ]
     },
     "execution_count": 86,
     "metadata": {},
     "output_type": "execute_result"
    }
   ],
   "source": [
    "df_demo.head()"
   ]
  },
  {
   "cell_type": "code",
   "execution_count": 87,
   "id": "5ac959fb",
   "metadata": {},
   "outputs": [
    {
     "data": {
      "text/html": [
       "<div>\n",
       "<style scoped>\n",
       "    .dataframe tbody tr th:only-of-type {\n",
       "        vertical-align: middle;\n",
       "    }\n",
       "\n",
       "    .dataframe tbody tr th {\n",
       "        vertical-align: top;\n",
       "    }\n",
       "\n",
       "    .dataframe thead th {\n",
       "        text-align: right;\n",
       "    }\n",
       "</style>\n",
       "<table border=\"1\" class=\"dataframe\">\n",
       "  <thead>\n",
       "    <tr style=\"text-align: right;\">\n",
       "      <th></th>\n",
       "      <th></th>\n",
       "      <th>Height</th>\n",
       "      <th>Weight</th>\n",
       "    </tr>\n",
       "    <tr>\n",
       "      <th>Gender</th>\n",
       "      <th>School</th>\n",
       "      <th></th>\n",
       "      <th></th>\n",
       "    </tr>\n",
       "  </thead>\n",
       "  <tbody>\n",
       "    <tr>\n",
       "      <th rowspan=\"5\" valign=\"top\">Female</th>\n",
       "      <th>A</th>\n",
       "      <td>158.9</td>\n",
       "      <td>46.0</td>\n",
       "    </tr>\n",
       "    <tr>\n",
       "      <th>A</th>\n",
       "      <td>162.5</td>\n",
       "      <td>52.0</td>\n",
       "    </tr>\n",
       "    <tr>\n",
       "      <th>A</th>\n",
       "      <td>NaN</td>\n",
       "      <td>48.0</td>\n",
       "    </tr>\n",
       "    <tr>\n",
       "      <th>A</th>\n",
       "      <td>160.1</td>\n",
       "      <td>48.0</td>\n",
       "    </tr>\n",
       "    <tr>\n",
       "      <th>A</th>\n",
       "      <td>162.4</td>\n",
       "      <td>50.0</td>\n",
       "    </tr>\n",
       "  </tbody>\n",
       "</table>\n",
       "</div>"
      ],
      "text/plain": [
       "               Height  Weight\n",
       "Gender School                \n",
       "Female A        158.9    46.0\n",
       "       A        162.5    52.0\n",
       "       A          NaN    48.0\n",
       "       A        160.1    48.0\n",
       "       A        162.4    50.0"
      ]
     },
     "execution_count": 87,
     "metadata": {},
     "output_type": "execute_result"
    }
   ],
   "source": [
    "df_demo.sort_index(level = ['Gender','School']).head() #根据索引进行排序,在函数中为sort_index(level = 要根据排序的列名)"
   ]
  },
  {
   "cell_type": "markdown",
   "id": "259743ce",
   "metadata": {},
   "source": [
    "# apply方法"
   ]
  },
  {
   "cell_type": "markdown",
   "id": "f70664af",
   "metadata": {},
   "source": [
    "apply方法对dataframe进行迭代,apply(函数)"
   ]
  },
  {
   "cell_type": "code",
   "execution_count": 88,
   "id": "0094d25c",
   "metadata": {},
   "outputs": [
    {
     "data": {
      "text/plain": [
       "Height    163.218033\n",
       "Weight     55.015873\n",
       "dtype: float64"
      ]
     },
     "execution_count": 88,
     "metadata": {},
     "output_type": "execute_result"
    }
   ],
   "source": [
    "df_demo.apply(lambda x:x.mean())#将括号里面的函数对每一列进行计算，并返回一个series,默认axis = 0"
   ]
  },
  {
   "cell_type": "code",
   "execution_count": 89,
   "id": "f2fc2da7",
   "metadata": {},
   "outputs": [
    {
     "data": {
      "text/plain": [
       "Gender  School\n",
       "Female  A         102.45\n",
       "Male    B         118.25\n",
       "        A         138.95\n",
       "Female  C          41.00\n",
       "Male    C         124.00\n",
       "                   ...  \n",
       "Female  C          99.95\n",
       "        D         105.45\n",
       "        A          99.45\n",
       "Male    A         123.15\n",
       "        D         103.35\n",
       "Length: 200, dtype: float64"
      ]
     },
     "execution_count": 89,
     "metadata": {},
     "output_type": "execute_result"
    }
   ],
   "source": [
    "df_demo.apply((lambda x:x.mean()),axis = 1)#当axis = 1时，对表中的每一行进行函数的计算"
   ]
  },
  {
   "cell_type": "markdown",
   "id": "b9933a1b",
   "metadata": {},
   "source": [
    "appl()虽然方便，但是会消耗大量的性能，速度很慢"
   ]
  },
  {
   "cell_type": "markdown",
   "id": "eae09e48",
   "metadata": {},
   "source": [
    "# 窗口"
   ]
  },
  {
   "cell_type": "markdown",
   "id": "2fa62fd6",
   "metadata": {},
   "source": [
    "pandas中有3种窗口,滑动窗口(rolling)、扩张窗口(expanding)、指数加权(ewm)"
   ]
  },
  {
   "cell_type": "markdown",
   "id": "aeee2023",
   "metadata": {},
   "source": [
    "### 滑动窗口(rolling)"
   ]
  },
  {
   "cell_type": "code",
   "execution_count": 90,
   "id": "c84a4406",
   "metadata": {},
   "outputs": [
    {
     "data": {
      "text/plain": [
       "Rolling [window=3,center=False,axis=0,method=single]"
      ]
     },
     "execution_count": 90,
     "metadata": {},
     "output_type": "execute_result"
    }
   ],
   "source": [
    "s = pd.Series([1,2,3,4,5])\n",
    "roller = s.rolling(3)#创造一个窗口数为3的窗口，window参数一定要传入\n",
    "roller"
   ]
  },
  {
   "cell_type": "code",
   "execution_count": 91,
   "id": "dd2481ea",
   "metadata": {},
   "outputs": [
    {
     "data": {
      "text/plain": [
       "0    NaN\n",
       "1    NaN\n",
       "2    2.0\n",
       "3    3.0\n",
       "4    4.0\n",
       "dtype: float64"
      ]
     },
     "execution_count": 91,
     "metadata": {},
     "output_type": "execute_result"
    }
   ],
   "source": [
    "roller.mean() #返回每一个窗口的平均值，其中第一个为NaN,NaN,1;然后依次向下滑动窗口，滑动距离为默认的1"
   ]
  },
  {
   "cell_type": "code",
   "execution_count": null,
   "id": "6146c603",
   "metadata": {},
   "outputs": [
    {
     "data": {
      "text/plain": [
       "0     NaN\n",
       "1     NaN\n",
       "2     2.5\n",
       "3     7.0\n",
       "4    12.0\n",
       "dtype: float64"
      ]
     },
     "execution_count": 94,
     "metadata": {},
     "output_type": "execute_result"
    }
   ],
   "source": [
    "#cov(协方差计算）\n",
    "s2 = pd.Series([1,2,6,16,30])\n",
    "roller.cov(s2)#计算s和s2的协方差"
   ]
  },
  {
   "cell_type": "code",
   "execution_count": 95,
   "id": "54626be7",
   "metadata": {},
   "outputs": [
    {
     "data": {
      "text/plain": [
       "0         NaN\n",
       "1         NaN\n",
       "2    0.944911\n",
       "3    0.970725\n",
       "4    0.995402\n",
       "dtype: float64"
      ]
     },
     "execution_count": 95,
     "metadata": {},
     "output_type": "execute_result"
    }
   ],
   "source": [
    "# corr()计算线性相关(皮尔逊系数)\n",
    "roller.corr(s2)"
   ]
  },
  {
   "cell_type": "code",
   "execution_count": 96,
   "id": "87cbee48",
   "metadata": {},
   "outputs": [
    {
     "data": {
      "text/plain": [
       "0    NaN\n",
       "1    NaN\n",
       "2    2.0\n",
       "3    3.0\n",
       "4    4.0\n",
       "dtype: float64"
      ]
     },
     "execution_count": 96,
     "metadata": {},
     "output_type": "execute_result"
    }
   ],
   "source": [
    "#还支apply持自定义参数\n",
    "roller.apply(lambda x:x.mean())"
   ]
  },
  {
   "cell_type": "markdown",
   "id": "ba7a3fec",
   "metadata": {},
   "source": [
    "滑窗函数:diff()、shift()、pct_change() 默认为1 当负数时为反向"
   ]
  },
  {
   "cell_type": "code",
   "execution_count": 102,
   "id": "c72d6ff2",
   "metadata": {},
   "outputs": [
    {
     "data": {
      "text/plain": [
       "0     1\n",
       "1     2\n",
       "2     6\n",
       "3    16\n",
       "4    30\n",
       "dtype: int64"
      ]
     },
     "execution_count": 102,
     "metadata": {},
     "output_type": "execute_result"
    }
   ],
   "source": [
    "s2"
   ]
  },
  {
   "cell_type": "code",
   "execution_count": null,
   "id": "429bf61b",
   "metadata": {},
   "outputs": [
    {
     "data": {
      "text/plain": [
       "0     NaN\n",
       "1     NaN\n",
       "2     5.0\n",
       "3    14.0\n",
       "4    24.0\n",
       "dtype: float64"
      ]
     },
     "execution_count": 103,
     "metadata": {},
     "output_type": "execute_result"
    }
   ],
   "source": [
    "# diff() 前n个值做差\n",
    "s2.diff(2)#这个值减去第n-1个值，并返回差值，最后返回一个series\n"
   ]
  },
  {
   "cell_type": "code",
   "execution_count": null,
   "id": "f8ea3a51",
   "metadata": {},
   "outputs": [
    {
     "data": {
      "text/plain": [
       "0    NaN\n",
       "1    NaN\n",
       "2    1.0\n",
       "3    2.0\n",
       "4    6.0\n",
       "dtype: float64"
      ]
     },
     "execution_count": 104,
     "metadata": {},
     "output_type": "execute_result"
    }
   ],
   "source": [
    "s2.shift(2)#整体数据向下滑动n个数，2代表整体数据向下滑动2个数，且出范围的被踢出"
   ]
  },
  {
   "cell_type": "code",
   "execution_count": null,
   "id": "f195f868",
   "metadata": {},
   "outputs": [
    {
     "data": {
      "text/plain": [
       "0    NaN\n",
       "1    NaN\n",
       "2    5.0\n",
       "3    7.0\n",
       "4    4.0\n",
       "dtype: float64"
      ]
     },
     "execution_count": 106,
     "metadata": {},
     "output_type": "execute_result"
    }
   ],
   "source": [
    "s2.pct_change(2)#计算变换率,(该数-第前n个数)/(第前n个数)"
   ]
  },
  {
   "cell_type": "markdown",
   "id": "bc94ef9d",
   "metadata": {},
   "source": [
    "### 扩张函数"
   ]
  },
  {
   "cell_type": "markdown",
   "id": "8cd99390",
   "metadata": {},
   "source": [
    "* 扩张窗口又称累计窗口，可以理解为一个动态长度的窗口，其窗口的大小就是从序列开始处到具体操作的对\n",
    "应位置，其使用的聚合函数会作用于这些逐步扩张的窗口上。具体地说，设序列为 a1, a2, a3, a4，则其每个\n",
    "位置对应的窗口即 [a1]、[a1, a2]、[a1, a2, a3]、[a1, a2, a3, a4]。"
   ]
  },
  {
   "cell_type": "code",
   "execution_count": 109,
   "id": "e0bfd188",
   "metadata": {},
   "outputs": [
    {
     "data": {
      "text/plain": [
       "0     1\n",
       "1     2\n",
       "2     6\n",
       "3    16\n",
       "4    30\n",
       "dtype: int64"
      ]
     },
     "execution_count": 109,
     "metadata": {},
     "output_type": "execute_result"
    }
   ],
   "source": [
    "s2"
   ]
  },
  {
   "cell_type": "code",
   "execution_count": null,
   "id": "b146ab17",
   "metadata": {},
   "outputs": [
    {
     "data": {
      "text/plain": [
       "0      NaN\n",
       "1     1.50\n",
       "2     3.00\n",
       "3     6.25\n",
       "4    11.00\n",
       "dtype: float64"
      ]
     },
     "execution_count": 112,
     "metadata": {},
     "output_type": "execute_result"
    }
   ],
   "source": [
    "s2.expanding().mean()"
   ]
  },
  {
   "cell_type": "markdown",
   "id": "099efa9b",
   "metadata": {},
   "source": [
    "# 索引"
   ]
  },
  {
   "cell_type": "markdown",
   "id": "d51db90b",
   "metadata": {},
   "source": [
    "### 表（df）的列索引"
   ]
  },
  {
   "cell_type": "code",
   "execution_count": 116,
   "id": "c7339bc6",
   "metadata": {},
   "outputs": [
    {
     "data": {
      "text/html": [
       "<div>\n",
       "<style scoped>\n",
       "    .dataframe tbody tr th:only-of-type {\n",
       "        vertical-align: middle;\n",
       "    }\n",
       "\n",
       "    .dataframe tbody tr th {\n",
       "        vertical-align: top;\n",
       "    }\n",
       "\n",
       "    .dataframe thead th {\n",
       "        text-align: right;\n",
       "    }\n",
       "</style>\n",
       "<table border=\"1\" class=\"dataframe\">\n",
       "  <thead>\n",
       "    <tr style=\"text-align: right;\">\n",
       "      <th></th>\n",
       "      <th>School</th>\n",
       "      <th>Grade</th>\n",
       "      <th>Name</th>\n",
       "      <th>Gender</th>\n",
       "      <th>Height</th>\n",
       "      <th>Weight</th>\n",
       "      <th>Transfer</th>\n",
       "      <th>Test_Number</th>\n",
       "      <th>Test_Date</th>\n",
       "      <th>Time_Record</th>\n",
       "    </tr>\n",
       "  </thead>\n",
       "  <tbody>\n",
       "    <tr>\n",
       "      <th>0</th>\n",
       "      <td>A</td>\n",
       "      <td>Freshman</td>\n",
       "      <td>Gaopeng Yang</td>\n",
       "      <td>Female</td>\n",
       "      <td>158.9</td>\n",
       "      <td>46.0</td>\n",
       "      <td>N</td>\n",
       "      <td>1</td>\n",
       "      <td>2019/10/5</td>\n",
       "      <td>0:04:34</td>\n",
       "    </tr>\n",
       "    <tr>\n",
       "      <th>1</th>\n",
       "      <td>B</td>\n",
       "      <td>Freshman</td>\n",
       "      <td>Changqiang You</td>\n",
       "      <td>Male</td>\n",
       "      <td>166.5</td>\n",
       "      <td>70.0</td>\n",
       "      <td>N</td>\n",
       "      <td>1</td>\n",
       "      <td>2019/9/4</td>\n",
       "      <td>0:04:20</td>\n",
       "    </tr>\n",
       "    <tr>\n",
       "      <th>2</th>\n",
       "      <td>A</td>\n",
       "      <td>Senior</td>\n",
       "      <td>Mei Sun</td>\n",
       "      <td>Male</td>\n",
       "      <td>188.9</td>\n",
       "      <td>89.0</td>\n",
       "      <td>N</td>\n",
       "      <td>2</td>\n",
       "      <td>2019/9/12</td>\n",
       "      <td>0:05:22</td>\n",
       "    </tr>\n",
       "    <tr>\n",
       "      <th>3</th>\n",
       "      <td>C</td>\n",
       "      <td>Sophomore</td>\n",
       "      <td>Xiaojuan Sun</td>\n",
       "      <td>Female</td>\n",
       "      <td>NaN</td>\n",
       "      <td>41.0</td>\n",
       "      <td>N</td>\n",
       "      <td>2</td>\n",
       "      <td>2020/1/3</td>\n",
       "      <td>0:04:08</td>\n",
       "    </tr>\n",
       "    <tr>\n",
       "      <th>4</th>\n",
       "      <td>C</td>\n",
       "      <td>Sophomore</td>\n",
       "      <td>Gaojuan You</td>\n",
       "      <td>Male</td>\n",
       "      <td>174.0</td>\n",
       "      <td>74.0</td>\n",
       "      <td>N</td>\n",
       "      <td>2</td>\n",
       "      <td>2019/11/6</td>\n",
       "      <td>0:05:22</td>\n",
       "    </tr>\n",
       "  </tbody>\n",
       "</table>\n",
       "</div>"
      ],
      "text/plain": [
       "  School      Grade            Name  Gender  Height  Weight Transfer  \\\n",
       "0      A   Freshman    Gaopeng Yang  Female   158.9    46.0        N   \n",
       "1      B   Freshman  Changqiang You    Male   166.5    70.0        N   \n",
       "2      A     Senior         Mei Sun    Male   188.9    89.0        N   \n",
       "3      C  Sophomore    Xiaojuan Sun  Female     NaN    41.0        N   \n",
       "4      C  Sophomore     Gaojuan You    Male   174.0    74.0        N   \n",
       "\n",
       "   Test_Number  Test_Date Time_Record  \n",
       "0            1  2019/10/5     0:04:34  \n",
       "1            1   2019/9/4     0:04:20  \n",
       "2            2  2019/9/12     0:05:22  \n",
       "3            2   2020/1/3     0:04:08  \n",
       "4            2  2019/11/6     0:05:22  "
      ]
     },
     "execution_count": 116,
     "metadata": {},
     "output_type": "execute_result"
    }
   ],
   "source": [
    "df_csv.head()"
   ]
  },
  {
   "cell_type": "code",
   "execution_count": null,
   "id": "c6ffb768",
   "metadata": {},
   "outputs": [
    {
     "data": {
      "text/plain": [
       "0      Gaopeng Yang\n",
       "1    Changqiang You\n",
       "2           Mei Sun\n",
       "3      Xiaojuan Sun\n",
       "4       Gaojuan You\n",
       "Name: Name, dtype: object"
      ]
     },
     "execution_count": 119,
     "metadata": {},
     "output_type": "execute_result"
    }
   ],
   "source": [
    "#语法：df[列名],返回一个series\n",
    "df_csv['Name'].head()"
   ]
  },
  {
   "cell_type": "code",
   "execution_count": null,
   "id": "0e566dd7",
   "metadata": {},
   "outputs": [
    {
     "data": {
      "text/html": [
       "<div>\n",
       "<style scoped>\n",
       "    .dataframe tbody tr th:only-of-type {\n",
       "        vertical-align: middle;\n",
       "    }\n",
       "\n",
       "    .dataframe tbody tr th {\n",
       "        vertical-align: top;\n",
       "    }\n",
       "\n",
       "    .dataframe thead th {\n",
       "        text-align: right;\n",
       "    }\n",
       "</style>\n",
       "<table border=\"1\" class=\"dataframe\">\n",
       "  <thead>\n",
       "    <tr style=\"text-align: right;\">\n",
       "      <th></th>\n",
       "      <th>Name</th>\n",
       "      <th>Gender</th>\n",
       "    </tr>\n",
       "  </thead>\n",
       "  <tbody>\n",
       "    <tr>\n",
       "      <th>0</th>\n",
       "      <td>Gaopeng Yang</td>\n",
       "      <td>Female</td>\n",
       "    </tr>\n",
       "    <tr>\n",
       "      <th>1</th>\n",
       "      <td>Changqiang You</td>\n",
       "      <td>Male</td>\n",
       "    </tr>\n",
       "    <tr>\n",
       "      <th>2</th>\n",
       "      <td>Mei Sun</td>\n",
       "      <td>Male</td>\n",
       "    </tr>\n",
       "    <tr>\n",
       "      <th>3</th>\n",
       "      <td>Xiaojuan Sun</td>\n",
       "      <td>Female</td>\n",
       "    </tr>\n",
       "    <tr>\n",
       "      <th>4</th>\n",
       "      <td>Gaojuan You</td>\n",
       "      <td>Male</td>\n",
       "    </tr>\n",
       "  </tbody>\n",
       "</table>\n",
       "</div>"
      ],
      "text/plain": [
       "             Name  Gender\n",
       "0    Gaopeng Yang  Female\n",
       "1  Changqiang You    Male\n",
       "2         Mei Sun    Male\n",
       "3    Xiaojuan Sun  Female\n",
       "4     Gaojuan You    Male"
      ]
     },
     "execution_count": 122,
     "metadata": {},
     "output_type": "execute_result"
    }
   ],
   "source": [
    "#多种可以用列表将其扩进去\n",
    "df_csv[['Name','Gender']].head()"
   ]
  },
  {
   "cell_type": "code",
   "execution_count": null,
   "id": "8e6afba7",
   "metadata": {},
   "outputs": [
    {
     "data": {
      "text/plain": [
       "0      Gaopeng Yang\n",
       "1    Changqiang You\n",
       "2           Mei Sun\n",
       "3      Xiaojuan Sun\n",
       "4       Gaojuan You\n",
       "Name: Name, dtype: object"
      ]
     },
     "execution_count": 123,
     "metadata": {},
     "output_type": "execute_result"
    }
   ],
   "source": [
    "#语法:df.列名 只能点一个，不能点列表\n",
    "df_csv.Name.head()"
   ]
  },
  {
   "cell_type": "markdown",
   "id": "09a61d7e",
   "metadata": {},
   "source": [
    "### 序列的行索引"
   ]
  },
  {
   "cell_type": "code",
   "execution_count": 126,
   "id": "1cc78a89",
   "metadata": {},
   "outputs": [
    {
     "data": {
      "text/plain": [
       "a    1\n",
       "b    2\n",
       "c    3\n",
       "a    4\n",
       "a    5\n",
       "b    6\n",
       "dtype: int64"
      ]
     },
     "execution_count": 126,
     "metadata": {},
     "output_type": "execute_result"
    }
   ],
   "source": [
    "s = pd.Series(data = [1,2,3,4,5,6],\n",
    "              index = ['a','b','c','a','a','b'])\n",
    "s"
   ]
  },
  {
   "cell_type": "code",
   "execution_count": null,
   "id": "90b01cfb",
   "metadata": {},
   "outputs": [
    {
     "data": {
      "text/plain": [
       "a    1\n",
       "a    4\n",
       "a    5\n",
       "dtype: int64"
      ]
     },
     "execution_count": 127,
     "metadata": {},
     "output_type": "execute_result"
    }
   ],
   "source": [
    "#以字符串为行索引\n",
    "#语法，df[索引名]\n",
    "s['a']"
   ]
  },
  {
   "cell_type": "code",
   "execution_count": null,
   "id": "24137127",
   "metadata": {},
   "outputs": [
    {
     "data": {
      "text/plain": [
       "a    1\n",
       "a    4\n",
       "a    5\n",
       "b    2\n",
       "b    6\n",
       "dtype: int64"
      ]
     },
     "execution_count": 130,
     "metadata": {},
     "output_type": "execute_result"
    }
   ],
   "source": [
    "s[['a','b']] #将列表中匹配的全部返回为一个series"
   ]
  },
  {
   "cell_type": "code",
   "execution_count": null,
   "id": "628b5b6a",
   "metadata": {},
   "outputs": [
    {
     "data": {
      "text/plain": [
       "a    1\n",
       "a    4\n",
       "a    5\n",
       "dtype: int64"
      ]
     },
     "execution_count": 128,
     "metadata": {},
     "output_type": "execute_result"
    }
   ],
   "source": [
    "#df.索引名\n",
    "s.a"
   ]
  },
  {
   "cell_type": "code",
   "execution_count": 133,
   "id": "c365cd4c",
   "metadata": {},
   "outputs": [
    {
     "data": {
      "text/plain": [
       "a    1\n",
       "b    2\n",
       "c    3\n",
       "a    4\n",
       "a    5\n",
       "b    6\n",
       "dtype: int64"
      ]
     },
     "execution_count": 133,
     "metadata": {},
     "output_type": "execute_result"
    }
   ],
   "source": [
    "s"
   ]
  },
  {
   "cell_type": "code",
   "execution_count": 138,
   "id": "a1c4215e",
   "metadata": {},
   "outputs": [
    {
     "data": {
      "text/plain": [
       "a    1\n",
       "b    2\n",
       "c    3\n",
       "d    4\n",
       "e    5\n",
       "f    6\n",
       "g    7\n",
       "dtype: int64"
      ]
     },
     "execution_count": 138,
     "metadata": {},
     "output_type": "execute_result"
    }
   ],
   "source": [
    "#切片\n",
    "#[start:stop:step] #包含start和stop 必须指定唯一值\n",
    "s_unique = pd.Series(data = [1,2,3,4,5,6,7],\n",
    "                     index = ['a','b','c','d','e','f','g'])\n",
    "s_unique\n"
   ]
  },
  {
   "cell_type": "code",
   "execution_count": 139,
   "id": "bdfa747e",
   "metadata": {},
   "outputs": [
    {
     "data": {
      "text/plain": [
       "a    1\n",
       "c    3\n",
       "e    5\n",
       "dtype: int64"
      ]
     },
     "execution_count": 139,
     "metadata": {},
     "output_type": "execute_result"
    }
   ],
   "source": [
    "s_unique['a':'e':2]"
   ]
  },
  {
   "cell_type": "code",
   "execution_count": 147,
   "id": "3002bc32",
   "metadata": {},
   "outputs": [
    {
     "data": {
      "text/plain": [
       "1    a\n",
       "2    b\n",
       "3    c\n",
       "4    d\n",
       "dtype: object"
      ]
     },
     "execution_count": 147,
     "metadata": {},
     "output_type": "execute_result"
    }
   ],
   "source": [
    "s = pd.Series(data = ['a','b','c','d'],\n",
    "              index = [1,2,3,4])\n",
    "s"
   ]
  },
  {
   "cell_type": "code",
   "execution_count": null,
   "id": "23ea6cc7",
   "metadata": {},
   "outputs": [
    {
     "data": {
      "text/plain": [
       "'a'"
      ]
     },
     "execution_count": 148,
     "metadata": {},
     "output_type": "execute_result"
    }
   ],
   "source": [
    "# 语法：s[列名]\n",
    "s[1]"
   ]
  },
  {
   "cell_type": "code",
   "execution_count": 150,
   "id": "591b096e",
   "metadata": {},
   "outputs": [
    {
     "data": {
      "text/plain": [
       "1    a\n",
       "2    b\n",
       "dtype: object"
      ]
     },
     "execution_count": 150,
     "metadata": {},
     "output_type": "execute_result"
    }
   ],
   "source": [
    "s[[1,2]]"
   ]
  },
  {
   "cell_type": "code",
   "execution_count": null,
   "id": "b8a01f07",
   "metadata": {},
   "outputs": [
    {
     "data": {
      "text/plain": [
       "2    b\n",
       "3    c\n",
       "dtype: object"
      ]
     },
     "execution_count": 156,
     "metadata": {},
     "output_type": "execute_result"
    }
   ],
   "source": [
    "#整数切片，[start:stop:step] 不会取到stop·\n",
    "s[1:3:1] "
   ]
  },
  {
   "cell_type": "code",
   "execution_count": null,
   "id": "1862da67",
   "metadata": {},
   "outputs": [],
   "source": [
    "#索引的设置不建议使用纯浮点数和混合类型，不然很有可能会报错"
   ]
  },
  {
   "cell_type": "markdown",
   "id": "3d291e48",
   "metadata": {},
   "source": [
    "## 索引器"
   ]
  },
  {
   "cell_type": "code",
   "execution_count": null,
   "id": "143c5830",
   "metadata": {},
   "outputs": [],
   "source": [
    "# 1.loc \n",
    "# 2.iloc\n",
    "# 3.[] "
   ]
  },
  {
   "cell_type": "markdown",
   "id": "88302e58",
   "metadata": {},
   "source": [
    "### loc"
   ]
  },
  {
   "cell_type": "code",
   "execution_count": null,
   "id": "d38d29eb",
   "metadata": {},
   "outputs": [],
   "source": [
    "# loc[*,*] 前面为行，后面为列\n",
    "# loc[*],包含五种合法数据：单个元素,元素列表,numpy数组,切片,bool类型"
   ]
  },
  {
   "cell_type": "code",
   "execution_count": 158,
   "id": "db4b0486",
   "metadata": {},
   "outputs": [
    {
     "data": {
      "text/html": [
       "<div>\n",
       "<style scoped>\n",
       "    .dataframe tbody tr th:only-of-type {\n",
       "        vertical-align: middle;\n",
       "    }\n",
       "\n",
       "    .dataframe tbody tr th {\n",
       "        vertical-align: top;\n",
       "    }\n",
       "\n",
       "    .dataframe thead th {\n",
       "        text-align: right;\n",
       "    }\n",
       "</style>\n",
       "<table border=\"1\" class=\"dataframe\">\n",
       "  <thead>\n",
       "    <tr style=\"text-align: right;\">\n",
       "      <th></th>\n",
       "      <th>School</th>\n",
       "      <th>Grade</th>\n",
       "      <th>Name</th>\n",
       "      <th>Gender</th>\n",
       "      <th>Height</th>\n",
       "      <th>Weight</th>\n",
       "      <th>Transfer</th>\n",
       "      <th>Test_Number</th>\n",
       "      <th>Test_Date</th>\n",
       "      <th>Time_Record</th>\n",
       "    </tr>\n",
       "  </thead>\n",
       "  <tbody>\n",
       "    <tr>\n",
       "      <th>0</th>\n",
       "      <td>A</td>\n",
       "      <td>Freshman</td>\n",
       "      <td>Gaopeng Yang</td>\n",
       "      <td>Female</td>\n",
       "      <td>158.9</td>\n",
       "      <td>46.0</td>\n",
       "      <td>N</td>\n",
       "      <td>1</td>\n",
       "      <td>2019/10/5</td>\n",
       "      <td>0:04:34</td>\n",
       "    </tr>\n",
       "    <tr>\n",
       "      <th>1</th>\n",
       "      <td>B</td>\n",
       "      <td>Freshman</td>\n",
       "      <td>Changqiang You</td>\n",
       "      <td>Male</td>\n",
       "      <td>166.5</td>\n",
       "      <td>70.0</td>\n",
       "      <td>N</td>\n",
       "      <td>1</td>\n",
       "      <td>2019/9/4</td>\n",
       "      <td>0:04:20</td>\n",
       "    </tr>\n",
       "    <tr>\n",
       "      <th>2</th>\n",
       "      <td>A</td>\n",
       "      <td>Senior</td>\n",
       "      <td>Mei Sun</td>\n",
       "      <td>Male</td>\n",
       "      <td>188.9</td>\n",
       "      <td>89.0</td>\n",
       "      <td>N</td>\n",
       "      <td>2</td>\n",
       "      <td>2019/9/12</td>\n",
       "      <td>0:05:22</td>\n",
       "    </tr>\n",
       "    <tr>\n",
       "      <th>3</th>\n",
       "      <td>C</td>\n",
       "      <td>Sophomore</td>\n",
       "      <td>Xiaojuan Sun</td>\n",
       "      <td>Female</td>\n",
       "      <td>NaN</td>\n",
       "      <td>41.0</td>\n",
       "      <td>N</td>\n",
       "      <td>2</td>\n",
       "      <td>2020/1/3</td>\n",
       "      <td>0:04:08</td>\n",
       "    </tr>\n",
       "    <tr>\n",
       "      <th>4</th>\n",
       "      <td>C</td>\n",
       "      <td>Sophomore</td>\n",
       "      <td>Gaojuan You</td>\n",
       "      <td>Male</td>\n",
       "      <td>174.0</td>\n",
       "      <td>74.0</td>\n",
       "      <td>N</td>\n",
       "      <td>2</td>\n",
       "      <td>2019/11/6</td>\n",
       "      <td>0:05:22</td>\n",
       "    </tr>\n",
       "  </tbody>\n",
       "</table>\n",
       "</div>"
      ],
      "text/plain": [
       "  School      Grade            Name  Gender  Height  Weight Transfer  \\\n",
       "0      A   Freshman    Gaopeng Yang  Female   158.9    46.0        N   \n",
       "1      B   Freshman  Changqiang You    Male   166.5    70.0        N   \n",
       "2      A     Senior         Mei Sun    Male   188.9    89.0        N   \n",
       "3      C  Sophomore    Xiaojuan Sun  Female     NaN    41.0        N   \n",
       "4      C  Sophomore     Gaojuan You    Male   174.0    74.0        N   \n",
       "\n",
       "   Test_Number  Test_Date Time_Record  \n",
       "0            1  2019/10/5     0:04:34  \n",
       "1            1   2019/9/4     0:04:20  \n",
       "2            2  2019/9/12     0:05:22  \n",
       "3            2   2020/1/3     0:04:08  \n",
       "4            2  2019/11/6     0:05:22  "
      ]
     },
     "execution_count": 158,
     "metadata": {},
     "output_type": "execute_result"
    }
   ],
   "source": [
    "df_csv.head()"
   ]
  },
  {
   "cell_type": "code",
   "execution_count": 168,
   "id": "cd0ff89d",
   "metadata": {},
   "outputs": [],
   "source": [
    "df_csv = df_csv.set_index('Name')"
   ]
  },
  {
   "cell_type": "code",
   "execution_count": 169,
   "id": "7a99c665",
   "metadata": {},
   "outputs": [
    {
     "data": {
      "text/html": [
       "<div>\n",
       "<style scoped>\n",
       "    .dataframe tbody tr th:only-of-type {\n",
       "        vertical-align: middle;\n",
       "    }\n",
       "\n",
       "    .dataframe tbody tr th {\n",
       "        vertical-align: top;\n",
       "    }\n",
       "\n",
       "    .dataframe thead th {\n",
       "        text-align: right;\n",
       "    }\n",
       "</style>\n",
       "<table border=\"1\" class=\"dataframe\">\n",
       "  <thead>\n",
       "    <tr style=\"text-align: right;\">\n",
       "      <th></th>\n",
       "      <th>School</th>\n",
       "      <th>Grade</th>\n",
       "      <th>Gender</th>\n",
       "      <th>Height</th>\n",
       "      <th>Weight</th>\n",
       "      <th>Transfer</th>\n",
       "      <th>Test_Number</th>\n",
       "      <th>Test_Date</th>\n",
       "      <th>Time_Record</th>\n",
       "    </tr>\n",
       "    <tr>\n",
       "      <th>Name</th>\n",
       "      <th></th>\n",
       "      <th></th>\n",
       "      <th></th>\n",
       "      <th></th>\n",
       "      <th></th>\n",
       "      <th></th>\n",
       "      <th></th>\n",
       "      <th></th>\n",
       "      <th></th>\n",
       "    </tr>\n",
       "  </thead>\n",
       "  <tbody>\n",
       "    <tr>\n",
       "      <th>Gaopeng Yang</th>\n",
       "      <td>A</td>\n",
       "      <td>Freshman</td>\n",
       "      <td>Female</td>\n",
       "      <td>158.9</td>\n",
       "      <td>46.0</td>\n",
       "      <td>N</td>\n",
       "      <td>1</td>\n",
       "      <td>2019/10/5</td>\n",
       "      <td>0:04:34</td>\n",
       "    </tr>\n",
       "    <tr>\n",
       "      <th>Changqiang You</th>\n",
       "      <td>B</td>\n",
       "      <td>Freshman</td>\n",
       "      <td>Male</td>\n",
       "      <td>166.5</td>\n",
       "      <td>70.0</td>\n",
       "      <td>N</td>\n",
       "      <td>1</td>\n",
       "      <td>2019/9/4</td>\n",
       "      <td>0:04:20</td>\n",
       "    </tr>\n",
       "    <tr>\n",
       "      <th>Mei Sun</th>\n",
       "      <td>A</td>\n",
       "      <td>Senior</td>\n",
       "      <td>Male</td>\n",
       "      <td>188.9</td>\n",
       "      <td>89.0</td>\n",
       "      <td>N</td>\n",
       "      <td>2</td>\n",
       "      <td>2019/9/12</td>\n",
       "      <td>0:05:22</td>\n",
       "    </tr>\n",
       "    <tr>\n",
       "      <th>Xiaojuan Sun</th>\n",
       "      <td>C</td>\n",
       "      <td>Sophomore</td>\n",
       "      <td>Female</td>\n",
       "      <td>NaN</td>\n",
       "      <td>41.0</td>\n",
       "      <td>N</td>\n",
       "      <td>2</td>\n",
       "      <td>2020/1/3</td>\n",
       "      <td>0:04:08</td>\n",
       "    </tr>\n",
       "    <tr>\n",
       "      <th>Gaojuan You</th>\n",
       "      <td>C</td>\n",
       "      <td>Sophomore</td>\n",
       "      <td>Male</td>\n",
       "      <td>174.0</td>\n",
       "      <td>74.0</td>\n",
       "      <td>N</td>\n",
       "      <td>2</td>\n",
       "      <td>2019/11/6</td>\n",
       "      <td>0:05:22</td>\n",
       "    </tr>\n",
       "  </tbody>\n",
       "</table>\n",
       "</div>"
      ],
      "text/plain": [
       "               School      Grade  Gender  Height  Weight Transfer  \\\n",
       "Name                                                                \n",
       "Gaopeng Yang        A   Freshman  Female   158.9    46.0        N   \n",
       "Changqiang You      B   Freshman    Male   166.5    70.0        N   \n",
       "Mei Sun             A     Senior    Male   188.9    89.0        N   \n",
       "Xiaojuan Sun        C  Sophomore  Female     NaN    41.0        N   \n",
       "Gaojuan You         C  Sophomore    Male   174.0    74.0        N   \n",
       "\n",
       "                Test_Number  Test_Date Time_Record  \n",
       "Name                                                \n",
       "Gaopeng Yang              1  2019/10/5     0:04:34  \n",
       "Changqiang You            1   2019/9/4     0:04:20  \n",
       "Mei Sun                   2  2019/9/12     0:05:22  \n",
       "Xiaojuan Sun              2   2020/1/3     0:04:08  \n",
       "Gaojuan You               2  2019/11/6     0:05:22  "
      ]
     },
     "execution_count": 169,
     "metadata": {},
     "output_type": "execute_result"
    }
   ],
   "source": [
    "df_csv.head()"
   ]
  },
  {
   "cell_type": "code",
   "execution_count": null,
   "id": "a85e211b",
   "metadata": {},
   "outputs": [
    {
     "data": {
      "text/html": [
       "<div>\n",
       "<style scoped>\n",
       "    .dataframe tbody tr th:only-of-type {\n",
       "        vertical-align: middle;\n",
       "    }\n",
       "\n",
       "    .dataframe tbody tr th {\n",
       "        vertical-align: top;\n",
       "    }\n",
       "\n",
       "    .dataframe thead th {\n",
       "        text-align: right;\n",
       "    }\n",
       "</style>\n",
       "<table border=\"1\" class=\"dataframe\">\n",
       "  <thead>\n",
       "    <tr style=\"text-align: right;\">\n",
       "      <th></th>\n",
       "      <th>School</th>\n",
       "      <th>Grade</th>\n",
       "      <th>Gender</th>\n",
       "      <th>Height</th>\n",
       "      <th>Weight</th>\n",
       "      <th>Transfer</th>\n",
       "      <th>Test_Number</th>\n",
       "      <th>Test_Date</th>\n",
       "      <th>Time_Record</th>\n",
       "    </tr>\n",
       "    <tr>\n",
       "      <th>Name</th>\n",
       "      <th></th>\n",
       "      <th></th>\n",
       "      <th></th>\n",
       "      <th></th>\n",
       "      <th></th>\n",
       "      <th></th>\n",
       "      <th></th>\n",
       "      <th></th>\n",
       "      <th></th>\n",
       "    </tr>\n",
       "  </thead>\n",
       "  <tbody>\n",
       "    <tr>\n",
       "      <th>Qiang Chu</th>\n",
       "      <td>A</td>\n",
       "      <td>Freshman</td>\n",
       "      <td>Female</td>\n",
       "      <td>162.5</td>\n",
       "      <td>52.0</td>\n",
       "      <td>N</td>\n",
       "      <td>1</td>\n",
       "      <td>2019/12/12</td>\n",
       "      <td>0:03:53</td>\n",
       "    </tr>\n",
       "    <tr>\n",
       "      <th>Qiang Chu</th>\n",
       "      <td>A</td>\n",
       "      <td>Senior</td>\n",
       "      <td>Female</td>\n",
       "      <td>162.4</td>\n",
       "      <td>50.0</td>\n",
       "      <td>N</td>\n",
       "      <td>3</td>\n",
       "      <td>2019/9/30</td>\n",
       "      <td>0:03:36</td>\n",
       "    </tr>\n",
       "  </tbody>\n",
       "</table>\n",
       "</div>"
      ],
      "text/plain": [
       "          School     Grade  Gender  Height  Weight Transfer  Test_Number  \\\n",
       "Name                                                                       \n",
       "Qiang Chu      A  Freshman  Female   162.5    52.0        N            1   \n",
       "Qiang Chu      A    Senior  Female   162.4    50.0        N            3   \n",
       "\n",
       "            Test_Date Time_Record  \n",
       "Name                               \n",
       "Qiang Chu  2019/12/12     0:03:53  \n",
       "Qiang Chu   2019/9/30     0:03:36  "
      ]
     },
     "execution_count": 170,
     "metadata": {},
     "output_type": "execute_result"
    }
   ],
   "source": [
    "# 1.单个元素 ,表示行\n",
    "df_csv.loc['Qiang Chu']\n"
   ]
  },
  {
   "cell_type": "code",
   "execution_count": 172,
   "id": "3fcb4e1d",
   "metadata": {},
   "outputs": [
    {
     "data": {
      "text/html": [
       "<div>\n",
       "<style scoped>\n",
       "    .dataframe tbody tr th:only-of-type {\n",
       "        vertical-align: middle;\n",
       "    }\n",
       "\n",
       "    .dataframe tbody tr th {\n",
       "        vertical-align: top;\n",
       "    }\n",
       "\n",
       "    .dataframe thead th {\n",
       "        text-align: right;\n",
       "    }\n",
       "</style>\n",
       "<table border=\"1\" class=\"dataframe\">\n",
       "  <thead>\n",
       "    <tr style=\"text-align: right;\">\n",
       "      <th></th>\n",
       "      <th>Gender</th>\n",
       "    </tr>\n",
       "    <tr>\n",
       "      <th>Name</th>\n",
       "      <th></th>\n",
       "    </tr>\n",
       "  </thead>\n",
       "  <tbody>\n",
       "    <tr>\n",
       "      <th>Qiang Chu</th>\n",
       "      <td>Female</td>\n",
       "    </tr>\n",
       "    <tr>\n",
       "      <th>Qiang Chu</th>\n",
       "      <td>Female</td>\n",
       "    </tr>\n",
       "  </tbody>\n",
       "</table>\n",
       "</div>"
      ],
      "text/plain": [
       "           Gender\n",
       "Name             \n",
       "Qiang Chu  Female\n",
       "Qiang Chu  Female"
      ]
     },
     "execution_count": 172,
     "metadata": {},
     "output_type": "execute_result"
    }
   ],
   "source": [
    "# 2.使用行列\n",
    "df_csv.loc[['Qiang Chu'],['Gender']]"
   ]
  },
  {
   "cell_type": "code",
   "execution_count": 173,
   "id": "c5977a56",
   "metadata": {},
   "outputs": [
    {
     "data": {
      "text/html": [
       "<div>\n",
       "<style scoped>\n",
       "    .dataframe tbody tr th:only-of-type {\n",
       "        vertical-align: middle;\n",
       "    }\n",
       "\n",
       "    .dataframe tbody tr th {\n",
       "        vertical-align: top;\n",
       "    }\n",
       "\n",
       "    .dataframe thead th {\n",
       "        text-align: right;\n",
       "    }\n",
       "</style>\n",
       "<table border=\"1\" class=\"dataframe\">\n",
       "  <thead>\n",
       "    <tr style=\"text-align: right;\">\n",
       "      <th></th>\n",
       "      <th>Gender</th>\n",
       "      <th>Height</th>\n",
       "    </tr>\n",
       "    <tr>\n",
       "      <th>Name</th>\n",
       "      <th></th>\n",
       "      <th></th>\n",
       "    </tr>\n",
       "  </thead>\n",
       "  <tbody>\n",
       "    <tr>\n",
       "      <th>Qiang Chu</th>\n",
       "      <td>Female</td>\n",
       "      <td>162.5</td>\n",
       "    </tr>\n",
       "    <tr>\n",
       "      <th>Qiang Chu</th>\n",
       "      <td>Female</td>\n",
       "      <td>162.4</td>\n",
       "    </tr>\n",
       "  </tbody>\n",
       "</table>\n",
       "</div>"
      ],
      "text/plain": [
       "           Gender  Height\n",
       "Name                     \n",
       "Qiang Chu  Female   162.5\n",
       "Qiang Chu  Female   162.4"
      ]
     },
     "execution_count": 173,
     "metadata": {},
     "output_type": "execute_result"
    }
   ],
   "source": [
    "# 3.使用列表\n",
    "df_csv.loc[['Qiang Chu'],['Gender','Height']]"
   ]
  },
  {
   "cell_type": "code",
   "execution_count": null,
   "id": "70108fc5",
   "metadata": {},
   "outputs": [
    {
     "data": {
      "text/html": [
       "<div>\n",
       "<style scoped>\n",
       "    .dataframe tbody tr th:only-of-type {\n",
       "        vertical-align: middle;\n",
       "    }\n",
       "\n",
       "    .dataframe tbody tr th {\n",
       "        vertical-align: top;\n",
       "    }\n",
       "\n",
       "    .dataframe thead th {\n",
       "        text-align: right;\n",
       "    }\n",
       "</style>\n",
       "<table border=\"1\" class=\"dataframe\">\n",
       "  <thead>\n",
       "    <tr style=\"text-align: right;\">\n",
       "      <th></th>\n",
       "      <th>Gender</th>\n",
       "      <th>Height</th>\n",
       "    </tr>\n",
       "    <tr>\n",
       "      <th>Name</th>\n",
       "      <th></th>\n",
       "      <th></th>\n",
       "    </tr>\n",
       "  </thead>\n",
       "  <tbody>\n",
       "    <tr>\n",
       "      <th>Qiang Chu</th>\n",
       "      <td>Female</td>\n",
       "      <td>162.5</td>\n",
       "    </tr>\n",
       "    <tr>\n",
       "      <th>Qiang Chu</th>\n",
       "      <td>Female</td>\n",
       "      <td>162.4</td>\n",
       "    </tr>\n",
       "  </tbody>\n",
       "</table>\n",
       "</div>"
      ],
      "text/plain": [
       "           Gender  Height\n",
       "Name                     \n",
       "Qiang Chu  Female   162.5\n",
       "Qiang Chu  Female   162.4"
      ]
     },
     "execution_count": 175,
     "metadata": {},
     "output_type": "execute_result"
    }
   ],
   "source": [
    "#使用numpy数组\n",
    "df_csv.loc[['Qiang Chu'],np.array(['Gender','Height'])]"
   ]
  },
  {
   "cell_type": "code",
   "execution_count": null,
   "id": "a0f678f1",
   "metadata": {},
   "outputs": [
    {
     "data": {
      "text/html": [
       "<div>\n",
       "<style scoped>\n",
       "    .dataframe tbody tr th:only-of-type {\n",
       "        vertical-align: middle;\n",
       "    }\n",
       "\n",
       "    .dataframe tbody tr th {\n",
       "        vertical-align: top;\n",
       "    }\n",
       "\n",
       "    .dataframe thead th {\n",
       "        text-align: right;\n",
       "    }\n",
       "</style>\n",
       "<table border=\"1\" class=\"dataframe\">\n",
       "  <thead>\n",
       "    <tr style=\"text-align: right;\">\n",
       "      <th></th>\n",
       "      <th>School</th>\n",
       "      <th>Grade</th>\n",
       "      <th>Gender</th>\n",
       "      <th>Height</th>\n",
       "      <th>Weight</th>\n",
       "      <th>Transfer</th>\n",
       "      <th>Test_Number</th>\n",
       "      <th>Test_Date</th>\n",
       "      <th>Time_Record</th>\n",
       "    </tr>\n",
       "    <tr>\n",
       "      <th>Name</th>\n",
       "      <th></th>\n",
       "      <th></th>\n",
       "      <th></th>\n",
       "      <th></th>\n",
       "      <th></th>\n",
       "      <th></th>\n",
       "      <th></th>\n",
       "      <th></th>\n",
       "      <th></th>\n",
       "    </tr>\n",
       "  </thead>\n",
       "  <tbody>\n",
       "    <tr>\n",
       "      <th>Gaopeng Yang</th>\n",
       "      <td>A</td>\n",
       "      <td>Freshman</td>\n",
       "      <td>Female</td>\n",
       "      <td>158.9</td>\n",
       "      <td>46.0</td>\n",
       "      <td>N</td>\n",
       "      <td>1</td>\n",
       "      <td>2019/10/5</td>\n",
       "      <td>0:04:34</td>\n",
       "    </tr>\n",
       "    <tr>\n",
       "      <th>Changqiang You</th>\n",
       "      <td>B</td>\n",
       "      <td>Freshman</td>\n",
       "      <td>Male</td>\n",
       "      <td>166.5</td>\n",
       "      <td>70.0</td>\n",
       "      <td>N</td>\n",
       "      <td>1</td>\n",
       "      <td>2019/9/4</td>\n",
       "      <td>0:04:20</td>\n",
       "    </tr>\n",
       "    <tr>\n",
       "      <th>Mei Sun</th>\n",
       "      <td>A</td>\n",
       "      <td>Senior</td>\n",
       "      <td>Male</td>\n",
       "      <td>188.9</td>\n",
       "      <td>89.0</td>\n",
       "      <td>N</td>\n",
       "      <td>2</td>\n",
       "      <td>2019/9/12</td>\n",
       "      <td>0:05:22</td>\n",
       "    </tr>\n",
       "    <tr>\n",
       "      <th>Xiaojuan Sun</th>\n",
       "      <td>C</td>\n",
       "      <td>Sophomore</td>\n",
       "      <td>Female</td>\n",
       "      <td>NaN</td>\n",
       "      <td>41.0</td>\n",
       "      <td>N</td>\n",
       "      <td>2</td>\n",
       "      <td>2020/1/3</td>\n",
       "      <td>0:04:08</td>\n",
       "    </tr>\n",
       "    <tr>\n",
       "      <th>Gaojuan You</th>\n",
       "      <td>C</td>\n",
       "      <td>Sophomore</td>\n",
       "      <td>Male</td>\n",
       "      <td>174.0</td>\n",
       "      <td>74.0</td>\n",
       "      <td>N</td>\n",
       "      <td>2</td>\n",
       "      <td>2019/11/6</td>\n",
       "      <td>0:05:22</td>\n",
       "    </tr>\n",
       "  </tbody>\n",
       "</table>\n",
       "</div>"
      ],
      "text/plain": [
       "               School      Grade  Gender  Height  Weight Transfer  \\\n",
       "Name                                                                \n",
       "Gaopeng Yang        A   Freshman  Female   158.9    46.0        N   \n",
       "Changqiang You      B   Freshman    Male   166.5    70.0        N   \n",
       "Mei Sun             A     Senior    Male   188.9    89.0        N   \n",
       "Xiaojuan Sun        C  Sophomore  Female     NaN    41.0        N   \n",
       "Gaojuan You         C  Sophomore    Male   174.0    74.0        N   \n",
       "\n",
       "                Test_Number  Test_Date Time_Record  \n",
       "Name                                                \n",
       "Gaopeng Yang              1  2019/10/5     0:04:34  \n",
       "Changqiang You            1   2019/9/4     0:04:20  \n",
       "Mei Sun                   2  2019/9/12     0:05:22  \n",
       "Xiaojuan Sun              2   2020/1/3     0:04:08  \n",
       "Gaojuan You               2  2019/11/6     0:05:22  "
      ]
     },
     "execution_count": 177,
     "metadata": {},
     "output_type": "execute_result"
    }
   ],
   "source": [
    "# 使用切片\n",
    "df_csv.loc['Gaopeng Yang':'Gaojuan You'].head()b"
   ]
  },
  {
   "cell_type": "code",
   "execution_count": 179,
   "id": "f13e499f",
   "metadata": {},
   "outputs": [
    {
     "data": {
      "text/html": [
       "<div>\n",
       "<style scoped>\n",
       "    .dataframe tbody tr th:only-of-type {\n",
       "        vertical-align: middle;\n",
       "    }\n",
       "\n",
       "    .dataframe tbody tr th {\n",
       "        vertical-align: top;\n",
       "    }\n",
       "\n",
       "    .dataframe thead th {\n",
       "        text-align: right;\n",
       "    }\n",
       "</style>\n",
       "<table border=\"1\" class=\"dataframe\">\n",
       "  <thead>\n",
       "    <tr style=\"text-align: right;\">\n",
       "      <th></th>\n",
       "      <th>School</th>\n",
       "      <th>Grade</th>\n",
       "      <th>Gender</th>\n",
       "      <th>Height</th>\n",
       "      <th>Weight</th>\n",
       "      <th>Transfer</th>\n",
       "      <th>Test_Number</th>\n",
       "      <th>Test_Date</th>\n",
       "      <th>Time_Record</th>\n",
       "    </tr>\n",
       "    <tr>\n",
       "      <th>Name</th>\n",
       "      <th></th>\n",
       "      <th></th>\n",
       "      <th></th>\n",
       "      <th></th>\n",
       "      <th></th>\n",
       "      <th></th>\n",
       "      <th></th>\n",
       "      <th></th>\n",
       "      <th></th>\n",
       "    </tr>\n",
       "  </thead>\n",
       "  <tbody>\n",
       "    <tr>\n",
       "      <th>Mei Sun</th>\n",
       "      <td>A</td>\n",
       "      <td>Senior</td>\n",
       "      <td>Male</td>\n",
       "      <td>188.9</td>\n",
       "      <td>89.0</td>\n",
       "      <td>N</td>\n",
       "      <td>2</td>\n",
       "      <td>2019/9/12</td>\n",
       "      <td>0:05:22</td>\n",
       "    </tr>\n",
       "    <tr>\n",
       "      <th>Gaojuan You</th>\n",
       "      <td>C</td>\n",
       "      <td>Sophomore</td>\n",
       "      <td>Male</td>\n",
       "      <td>174.0</td>\n",
       "      <td>74.0</td>\n",
       "      <td>N</td>\n",
       "      <td>2</td>\n",
       "      <td>2019/11/6</td>\n",
       "      <td>0:05:22</td>\n",
       "    </tr>\n",
       "    <tr>\n",
       "      <th>Xiaopeng Zhou</th>\n",
       "      <td>A</td>\n",
       "      <td>Freshman</td>\n",
       "      <td>Male</td>\n",
       "      <td>174.1</td>\n",
       "      <td>74.0</td>\n",
       "      <td>N</td>\n",
       "      <td>1</td>\n",
       "      <td>2019/9/29</td>\n",
       "      <td>0:05:16</td>\n",
       "    </tr>\n",
       "    <tr>\n",
       "      <th>Xiaoqiang Qin</th>\n",
       "      <td>D</td>\n",
       "      <td>Junior</td>\n",
       "      <td>Male</td>\n",
       "      <td>170.1</td>\n",
       "      <td>68.0</td>\n",
       "      <td>N</td>\n",
       "      <td>1</td>\n",
       "      <td>2019/9/11</td>\n",
       "      <td>0:04:51</td>\n",
       "    </tr>\n",
       "    <tr>\n",
       "      <th>Xiaofeng Sun</th>\n",
       "      <td>D</td>\n",
       "      <td>Senior</td>\n",
       "      <td>Male</td>\n",
       "      <td>170.3</td>\n",
       "      <td>71.0</td>\n",
       "      <td>N</td>\n",
       "      <td>2</td>\n",
       "      <td>2019/11/4</td>\n",
       "      <td>0:03:32</td>\n",
       "    </tr>\n",
       "  </tbody>\n",
       "</table>\n",
       "</div>"
      ],
      "text/plain": [
       "              School      Grade Gender  Height  Weight Transfer  Test_Number  \\\n",
       "Name                                                                           \n",
       "Mei Sun            A     Senior   Male   188.9    89.0        N            2   \n",
       "Gaojuan You        C  Sophomore   Male   174.0    74.0        N            2   \n",
       "Xiaopeng Zhou      A   Freshman   Male   174.1    74.0        N            1   \n",
       "Xiaoqiang Qin      D     Junior   Male   170.1    68.0        N            1   \n",
       "Xiaofeng Sun       D     Senior   Male   170.3    71.0        N            2   \n",
       "\n",
       "               Test_Date Time_Record  \n",
       "Name                                  \n",
       "Mei Sun        2019/9/12     0:05:22  \n",
       "Gaojuan You    2019/11/6     0:05:22  \n",
       "Xiaopeng Zhou  2019/9/29     0:05:16  \n",
       "Xiaoqiang Qin  2019/9/11     0:04:51  \n",
       "Xiaofeng Sun   2019/11/4     0:03:32  "
      ]
     },
     "execution_count": 179,
     "metadata": {},
     "output_type": "execute_result"
    }
   ],
   "source": [
    "# 4.使用bool类型\n",
    "df_csv.loc[df_csv.Height > 170].head() #将传进的参数为True的行列输出出来"
   ]
  },
  {
   "cell_type": "code",
   "execution_count": null,
   "id": "6a308981",
   "metadata": {},
   "outputs": [
    {
     "data": {
      "text/html": [
       "<div>\n",
       "<style scoped>\n",
       "    .dataframe tbody tr th:only-of-type {\n",
       "        vertical-align: middle;\n",
       "    }\n",
       "\n",
       "    .dataframe tbody tr th {\n",
       "        vertical-align: top;\n",
       "    }\n",
       "\n",
       "    .dataframe thead th {\n",
       "        text-align: right;\n",
       "    }\n",
       "</style>\n",
       "<table border=\"1\" class=\"dataframe\">\n",
       "  <thead>\n",
       "    <tr style=\"text-align: right;\">\n",
       "      <th></th>\n",
       "      <th>School</th>\n",
       "      <th>Grade</th>\n",
       "      <th>Gender</th>\n",
       "      <th>Height</th>\n",
       "      <th>Weight</th>\n",
       "      <th>Transfer</th>\n",
       "      <th>Test_Number</th>\n",
       "      <th>Test_Date</th>\n",
       "      <th>Time_Record</th>\n",
       "    </tr>\n",
       "    <tr>\n",
       "      <th>Name</th>\n",
       "      <th></th>\n",
       "      <th></th>\n",
       "      <th></th>\n",
       "      <th></th>\n",
       "      <th></th>\n",
       "      <th></th>\n",
       "      <th></th>\n",
       "      <th></th>\n",
       "      <th></th>\n",
       "    </tr>\n",
       "  </thead>\n",
       "  <tbody>\n",
       "    <tr>\n",
       "      <th>Mei Sun</th>\n",
       "      <td>A</td>\n",
       "      <td>Senior</td>\n",
       "      <td>Male</td>\n",
       "      <td>188.9</td>\n",
       "      <td>89.0</td>\n",
       "      <td>N</td>\n",
       "      <td>2</td>\n",
       "      <td>2019/9/12</td>\n",
       "      <td>0:05:22</td>\n",
       "    </tr>\n",
       "    <tr>\n",
       "      <th>Gaojuan You</th>\n",
       "      <td>C</td>\n",
       "      <td>Sophomore</td>\n",
       "      <td>Male</td>\n",
       "      <td>174.0</td>\n",
       "      <td>74.0</td>\n",
       "      <td>N</td>\n",
       "      <td>2</td>\n",
       "      <td>2019/11/6</td>\n",
       "      <td>0:05:22</td>\n",
       "    </tr>\n",
       "    <tr>\n",
       "      <th>Xiaopeng Zhou</th>\n",
       "      <td>A</td>\n",
       "      <td>Freshman</td>\n",
       "      <td>Male</td>\n",
       "      <td>174.1</td>\n",
       "      <td>74.0</td>\n",
       "      <td>N</td>\n",
       "      <td>1</td>\n",
       "      <td>2019/9/29</td>\n",
       "      <td>0:05:16</td>\n",
       "    </tr>\n",
       "    <tr>\n",
       "      <th>Xiaoqiang Qin</th>\n",
       "      <td>D</td>\n",
       "      <td>Junior</td>\n",
       "      <td>Male</td>\n",
       "      <td>170.1</td>\n",
       "      <td>68.0</td>\n",
       "      <td>N</td>\n",
       "      <td>1</td>\n",
       "      <td>2019/9/11</td>\n",
       "      <td>0:04:51</td>\n",
       "    </tr>\n",
       "    <tr>\n",
       "      <th>Xiaofeng Sun</th>\n",
       "      <td>D</td>\n",
       "      <td>Senior</td>\n",
       "      <td>Male</td>\n",
       "      <td>170.3</td>\n",
       "      <td>71.0</td>\n",
       "      <td>N</td>\n",
       "      <td>2</td>\n",
       "      <td>2019/11/4</td>\n",
       "      <td>0:03:32</td>\n",
       "    </tr>\n",
       "  </tbody>\n",
       "</table>\n",
       "</div>"
      ],
      "text/plain": [
       "              School      Grade Gender  Height  Weight Transfer  Test_Number  \\\n",
       "Name                                                                           \n",
       "Mei Sun            A     Senior   Male   188.9    89.0        N            2   \n",
       "Gaojuan You        C  Sophomore   Male   174.0    74.0        N            2   \n",
       "Xiaopeng Zhou      A   Freshman   Male   174.1    74.0        N            1   \n",
       "Xiaoqiang Qin      D     Junior   Male   170.1    68.0        N            1   \n",
       "Xiaofeng Sun       D     Senior   Male   170.3    71.0        N            2   \n",
       "\n",
       "               Test_Date Time_Record  \n",
       "Name                                  \n",
       "Mei Sun        2019/9/12     0:05:22  \n",
       "Gaojuan You    2019/11/6     0:05:22  \n",
       "Xiaopeng Zhou  2019/9/29     0:05:16  \n",
       "Xiaoqiang Qin  2019/9/11     0:04:51  \n",
       "Xiaofeng Sun   2019/11/4     0:03:32  "
      ]
     },
     "execution_count": 181,
     "metadata": {},
     "output_type": "execute_result"
    }
   ],
   "source": [
    "#5. 可使用函数\n",
    "df_csv.loc[lambda df_csv:df_csv.Height>170].head() #将符合传入的函数的结果输出出来"
   ]
  },
  {
   "cell_type": "markdown",
   "id": "f5a41efa",
   "metadata": {},
   "source": [
    "### iloc"
   ]
  },
  {
   "cell_type": "code",
   "execution_count": null,
   "id": "7608b50c",
   "metadata": {},
   "outputs": [],
   "source": [
    "#iloc[]语法和loc[]基本一致,只不过是针对位置进行筛选\n",
    "# iloc[*,*]\n",
    "# iloc [*]"
   ]
  },
  {
   "cell_type": "code",
   "execution_count": 184,
   "id": "81ebdaa1",
   "metadata": {},
   "outputs": [
    {
     "data": {
      "text/html": [
       "<div>\n",
       "<style scoped>\n",
       "    .dataframe tbody tr th:only-of-type {\n",
       "        vertical-align: middle;\n",
       "    }\n",
       "\n",
       "    .dataframe tbody tr th {\n",
       "        vertical-align: top;\n",
       "    }\n",
       "\n",
       "    .dataframe thead th {\n",
       "        text-align: right;\n",
       "    }\n",
       "</style>\n",
       "<table border=\"1\" class=\"dataframe\">\n",
       "  <thead>\n",
       "    <tr style=\"text-align: right;\">\n",
       "      <th></th>\n",
       "      <th>School</th>\n",
       "      <th>Grade</th>\n",
       "      <th>Gender</th>\n",
       "      <th>Height</th>\n",
       "      <th>Weight</th>\n",
       "      <th>Transfer</th>\n",
       "      <th>Test_Number</th>\n",
       "      <th>Test_Date</th>\n",
       "      <th>Time_Record</th>\n",
       "    </tr>\n",
       "    <tr>\n",
       "      <th>Name</th>\n",
       "      <th></th>\n",
       "      <th></th>\n",
       "      <th></th>\n",
       "      <th></th>\n",
       "      <th></th>\n",
       "      <th></th>\n",
       "      <th></th>\n",
       "      <th></th>\n",
       "      <th></th>\n",
       "    </tr>\n",
       "  </thead>\n",
       "  <tbody>\n",
       "    <tr>\n",
       "      <th>Gaopeng Yang</th>\n",
       "      <td>A</td>\n",
       "      <td>Freshman</td>\n",
       "      <td>Female</td>\n",
       "      <td>158.9</td>\n",
       "      <td>46.0</td>\n",
       "      <td>N</td>\n",
       "      <td>1</td>\n",
       "      <td>2019/10/5</td>\n",
       "      <td>0:04:34</td>\n",
       "    </tr>\n",
       "    <tr>\n",
       "      <th>Changqiang You</th>\n",
       "      <td>B</td>\n",
       "      <td>Freshman</td>\n",
       "      <td>Male</td>\n",
       "      <td>166.5</td>\n",
       "      <td>70.0</td>\n",
       "      <td>N</td>\n",
       "      <td>1</td>\n",
       "      <td>2019/9/4</td>\n",
       "      <td>0:04:20</td>\n",
       "    </tr>\n",
       "    <tr>\n",
       "      <th>Mei Sun</th>\n",
       "      <td>A</td>\n",
       "      <td>Senior</td>\n",
       "      <td>Male</td>\n",
       "      <td>188.9</td>\n",
       "      <td>89.0</td>\n",
       "      <td>N</td>\n",
       "      <td>2</td>\n",
       "      <td>2019/9/12</td>\n",
       "      <td>0:05:22</td>\n",
       "    </tr>\n",
       "    <tr>\n",
       "      <th>Xiaojuan Sun</th>\n",
       "      <td>C</td>\n",
       "      <td>Sophomore</td>\n",
       "      <td>Female</td>\n",
       "      <td>NaN</td>\n",
       "      <td>41.0</td>\n",
       "      <td>N</td>\n",
       "      <td>2</td>\n",
       "      <td>2020/1/3</td>\n",
       "      <td>0:04:08</td>\n",
       "    </tr>\n",
       "    <tr>\n",
       "      <th>Gaojuan You</th>\n",
       "      <td>C</td>\n",
       "      <td>Sophomore</td>\n",
       "      <td>Male</td>\n",
       "      <td>174.0</td>\n",
       "      <td>74.0</td>\n",
       "      <td>N</td>\n",
       "      <td>2</td>\n",
       "      <td>2019/11/6</td>\n",
       "      <td>0:05:22</td>\n",
       "    </tr>\n",
       "  </tbody>\n",
       "</table>\n",
       "</div>"
      ],
      "text/plain": [
       "               School      Grade  Gender  Height  Weight Transfer  \\\n",
       "Name                                                                \n",
       "Gaopeng Yang        A   Freshman  Female   158.9    46.0        N   \n",
       "Changqiang You      B   Freshman    Male   166.5    70.0        N   \n",
       "Mei Sun             A     Senior    Male   188.9    89.0        N   \n",
       "Xiaojuan Sun        C  Sophomore  Female     NaN    41.0        N   \n",
       "Gaojuan You         C  Sophomore    Male   174.0    74.0        N   \n",
       "\n",
       "                Test_Number  Test_Date Time_Record  \n",
       "Name                                                \n",
       "Gaopeng Yang              1  2019/10/5     0:04:34  \n",
       "Changqiang You            1   2019/9/4     0:04:20  \n",
       "Mei Sun                   2  2019/9/12     0:05:22  \n",
       "Xiaojuan Sun              2   2020/1/3     0:04:08  \n",
       "Gaojuan You               2  2019/11/6     0:05:22  "
      ]
     },
     "execution_count": 184,
     "metadata": {},
     "output_type": "execute_result"
    }
   ],
   "source": [
    "df_csv.head()"
   ]
  },
  {
   "cell_type": "code",
   "execution_count": null,
   "id": "1f14b4e4",
   "metadata": {},
   "outputs": [
    {
     "data": {
      "text/plain": [
       "School                 A\n",
       "Grade           Freshman\n",
       "Gender            Female\n",
       "Height             158.9\n",
       "Weight              46.0\n",
       "Transfer               N\n",
       "Test_Number            1\n",
       "Test_Date      2019/10/5\n",
       "Time_Record      0:04:34\n",
       "Name: Gaopeng Yang, dtype: object"
      ]
     },
     "execution_count": 185,
     "metadata": {},
     "output_type": "execute_result"
    }
   ],
   "source": [
    "# 1.单个元素\n",
    "df_csv.iloc[0] #第0行的数据"
   ]
  },
  {
   "cell_type": "code",
   "execution_count": null,
   "id": "ac9359bb",
   "metadata": {},
   "outputs": [
    {
     "data": {
      "text/plain": [
       "'Freshman'"
      ]
     },
     "execution_count": 186,
     "metadata": {},
     "output_type": "execute_result"
    }
   ],
   "source": [
    "# 2.行列\n",
    "df_csv.iloc[1,1]#第二行第二列的数据"
   ]
  },
  {
   "cell_type": "code",
   "execution_count": null,
   "id": "e5ba74c4",
   "metadata": {},
   "outputs": [
    {
     "data": {
      "text/html": [
       "<div>\n",
       "<style scoped>\n",
       "    .dataframe tbody tr th:only-of-type {\n",
       "        vertical-align: middle;\n",
       "    }\n",
       "\n",
       "    .dataframe tbody tr th {\n",
       "        vertical-align: top;\n",
       "    }\n",
       "\n",
       "    .dataframe thead th {\n",
       "        text-align: right;\n",
       "    }\n",
       "</style>\n",
       "<table border=\"1\" class=\"dataframe\">\n",
       "  <thead>\n",
       "    <tr style=\"text-align: right;\">\n",
       "      <th></th>\n",
       "      <th>Grade</th>\n",
       "      <th>Gender</th>\n",
       "      <th>Height</th>\n",
       "    </tr>\n",
       "    <tr>\n",
       "      <th>Name</th>\n",
       "      <th></th>\n",
       "      <th></th>\n",
       "      <th></th>\n",
       "    </tr>\n",
       "  </thead>\n",
       "  <tbody>\n",
       "    <tr>\n",
       "      <th>Changqiang You</th>\n",
       "      <td>Freshman</td>\n",
       "      <td>Male</td>\n",
       "      <td>166.5</td>\n",
       "    </tr>\n",
       "    <tr>\n",
       "      <th>Mei Sun</th>\n",
       "      <td>Senior</td>\n",
       "      <td>Male</td>\n",
       "      <td>188.9</td>\n",
       "    </tr>\n",
       "    <tr>\n",
       "      <th>Xiaojuan Sun</th>\n",
       "      <td>Sophomore</td>\n",
       "      <td>Female</td>\n",
       "      <td>NaN</td>\n",
       "    </tr>\n",
       "  </tbody>\n",
       "</table>\n",
       "</div>"
      ],
      "text/plain": [
       "                    Grade  Gender  Height\n",
       "Name                                     \n",
       "Changqiang You   Freshman    Male   166.5\n",
       "Mei Sun            Senior    Male   188.9\n",
       "Xiaojuan Sun    Sophomore  Female     NaN"
      ]
     },
     "execution_count": 187,
     "metadata": {},
     "output_type": "execute_result"
    }
   ],
   "source": [
    "#1.列表/数组\n",
    "df_csv.iloc[[1,2,3],[1,2,3]] #输出第2、3、4行的第2、3、4列"
   ]
  },
  {
   "cell_type": "code",
   "execution_count": null,
   "id": "af387e6a",
   "metadata": {},
   "outputs": [
    {
     "data": {
      "text/html": [
       "<div>\n",
       "<style scoped>\n",
       "    .dataframe tbody tr th:only-of-type {\n",
       "        vertical-align: middle;\n",
       "    }\n",
       "\n",
       "    .dataframe tbody tr th {\n",
       "        vertical-align: top;\n",
       "    }\n",
       "\n",
       "    .dataframe thead th {\n",
       "        text-align: right;\n",
       "    }\n",
       "</style>\n",
       "<table border=\"1\" class=\"dataframe\">\n",
       "  <thead>\n",
       "    <tr style=\"text-align: right;\">\n",
       "      <th></th>\n",
       "      <th>Grade</th>\n",
       "      <th>Gender</th>\n",
       "      <th>Height</th>\n",
       "    </tr>\n",
       "    <tr>\n",
       "      <th>Name</th>\n",
       "      <th></th>\n",
       "      <th></th>\n",
       "      <th></th>\n",
       "    </tr>\n",
       "  </thead>\n",
       "  <tbody>\n",
       "    <tr>\n",
       "      <th>Changqiang You</th>\n",
       "      <td>Freshman</td>\n",
       "      <td>Male</td>\n",
       "      <td>166.5</td>\n",
       "    </tr>\n",
       "    <tr>\n",
       "      <th>Mei Sun</th>\n",
       "      <td>Senior</td>\n",
       "      <td>Male</td>\n",
       "      <td>188.9</td>\n",
       "    </tr>\n",
       "    <tr>\n",
       "      <th>Xiaojuan Sun</th>\n",
       "      <td>Sophomore</td>\n",
       "      <td>Female</td>\n",
       "      <td>NaN</td>\n",
       "    </tr>\n",
       "  </tbody>\n",
       "</table>\n",
       "</div>"
      ],
      "text/plain": [
       "                    Grade  Gender  Height\n",
       "Name                                     \n",
       "Changqiang You   Freshman    Male   166.5\n",
       "Mei Sun            Senior    Male   188.9\n",
       "Xiaojuan Sun    Sophomore  Female     NaN"
      ]
     },
     "execution_count": 190,
     "metadata": {},
     "output_type": "execute_result"
    }
   ],
   "source": [
    "# 切片\n",
    "#iloc[切片1，切片2]，\n",
    "# iloc[*] 里面可以为list和array，但不能为series\n",
    "df_csv.iloc[1:4,1:4]"
   ]
  },
  {
   "cell_type": "code",
   "execution_count": null,
   "id": "e684d765",
   "metadata": {},
   "outputs": [
    {
     "data": {
      "text/html": [
       "<div>\n",
       "<style scoped>\n",
       "    .dataframe tbody tr th:only-of-type {\n",
       "        vertical-align: middle;\n",
       "    }\n",
       "\n",
       "    .dataframe tbody tr th {\n",
       "        vertical-align: top;\n",
       "    }\n",
       "\n",
       "    .dataframe thead th {\n",
       "        text-align: right;\n",
       "    }\n",
       "</style>\n",
       "<table border=\"1\" class=\"dataframe\">\n",
       "  <thead>\n",
       "    <tr style=\"text-align: right;\">\n",
       "      <th></th>\n",
       "      <th>School</th>\n",
       "      <th>Grade</th>\n",
       "      <th>Gender</th>\n",
       "      <th>Height</th>\n",
       "      <th>Weight</th>\n",
       "      <th>Transfer</th>\n",
       "      <th>Test_Number</th>\n",
       "      <th>Test_Date</th>\n",
       "      <th>Time_Record</th>\n",
       "    </tr>\n",
       "    <tr>\n",
       "      <th>Name</th>\n",
       "      <th></th>\n",
       "      <th></th>\n",
       "      <th></th>\n",
       "      <th></th>\n",
       "      <th></th>\n",
       "      <th></th>\n",
       "      <th></th>\n",
       "      <th></th>\n",
       "      <th></th>\n",
       "    </tr>\n",
       "  </thead>\n",
       "  <tbody>\n",
       "    <tr>\n",
       "      <th>Gaopeng Yang</th>\n",
       "      <td>A</td>\n",
       "      <td>Freshman</td>\n",
       "      <td>Female</td>\n",
       "      <td>158.9</td>\n",
       "      <td>46.0</td>\n",
       "      <td>N</td>\n",
       "      <td>1</td>\n",
       "      <td>2019/10/5</td>\n",
       "      <td>0:04:34</td>\n",
       "    </tr>\n",
       "    <tr>\n",
       "      <th>Mei Sun</th>\n",
       "      <td>A</td>\n",
       "      <td>Senior</td>\n",
       "      <td>Male</td>\n",
       "      <td>188.9</td>\n",
       "      <td>89.0</td>\n",
       "      <td>N</td>\n",
       "      <td>2</td>\n",
       "      <td>2019/9/12</td>\n",
       "      <td>0:05:22</td>\n",
       "    </tr>\n",
       "  </tbody>\n",
       "</table>\n",
       "</div>"
      ],
      "text/plain": [
       "             School     Grade  Gender  Height  Weight Transfer  Test_Number  \\\n",
       "Name                                                                          \n",
       "Gaopeng Yang      A  Freshman  Female   158.9    46.0        N            1   \n",
       "Mei Sun           A    Senior    Male   188.9    89.0        N            2   \n",
       "\n",
       "              Test_Date Time_Record  \n",
       "Name                                 \n",
       "Gaopeng Yang  2019/10/5     0:04:34  \n",
       "Mei Sun       2019/9/12     0:05:22  "
      ]
     },
     "execution_count": 193,
     "metadata": {},
     "output_type": "execute_result"
    }
   ],
   "source": [
    "#4. 可执行函数类型\n",
    "df_csv.iloc[lambda df_csv:[0,2]].head()"
   ]
  },
  {
   "cell_type": "code",
   "execution_count": null,
   "id": "c2498add",
   "metadata": {},
   "outputs": [
    {
     "data": {
      "text/html": [
       "<div>\n",
       "<style scoped>\n",
       "    .dataframe tbody tr th:only-of-type {\n",
       "        vertical-align: middle;\n",
       "    }\n",
       "\n",
       "    .dataframe tbody tr th {\n",
       "        vertical-align: top;\n",
       "    }\n",
       "\n",
       "    .dataframe thead th {\n",
       "        text-align: right;\n",
       "    }\n",
       "</style>\n",
       "<table border=\"1\" class=\"dataframe\">\n",
       "  <thead>\n",
       "    <tr style=\"text-align: right;\">\n",
       "      <th></th>\n",
       "      <th>School</th>\n",
       "      <th>Grade</th>\n",
       "      <th>Gender</th>\n",
       "      <th>Height</th>\n",
       "      <th>Weight</th>\n",
       "      <th>Transfer</th>\n",
       "      <th>Test_Number</th>\n",
       "      <th>Test_Date</th>\n",
       "      <th>Time_Record</th>\n",
       "    </tr>\n",
       "    <tr>\n",
       "      <th>Name</th>\n",
       "      <th></th>\n",
       "      <th></th>\n",
       "      <th></th>\n",
       "      <th></th>\n",
       "      <th></th>\n",
       "      <th></th>\n",
       "      <th></th>\n",
       "      <th></th>\n",
       "      <th></th>\n",
       "    </tr>\n",
       "  </thead>\n",
       "  <tbody>\n",
       "    <tr>\n",
       "      <th>Changqiang You</th>\n",
       "      <td>B</td>\n",
       "      <td>Freshman</td>\n",
       "      <td>Male</td>\n",
       "      <td>166.5</td>\n",
       "      <td>70.0</td>\n",
       "      <td>N</td>\n",
       "      <td>1</td>\n",
       "      <td>2019/9/4</td>\n",
       "      <td>0:04:20</td>\n",
       "    </tr>\n",
       "    <tr>\n",
       "      <th>Mei Sun</th>\n",
       "      <td>A</td>\n",
       "      <td>Senior</td>\n",
       "      <td>Male</td>\n",
       "      <td>188.9</td>\n",
       "      <td>89.0</td>\n",
       "      <td>N</td>\n",
       "      <td>2</td>\n",
       "      <td>2019/9/12</td>\n",
       "      <td>0:05:22</td>\n",
       "    </tr>\n",
       "    <tr>\n",
       "      <th>Xiaojuan Sun</th>\n",
       "      <td>C</td>\n",
       "      <td>Sophomore</td>\n",
       "      <td>Female</td>\n",
       "      <td>NaN</td>\n",
       "      <td>41.0</td>\n",
       "      <td>N</td>\n",
       "      <td>2</td>\n",
       "      <td>2020/1/3</td>\n",
       "      <td>0:04:08</td>\n",
       "    </tr>\n",
       "  </tbody>\n",
       "</table>\n",
       "</div>"
      ],
      "text/plain": [
       "               School      Grade  Gender  Height  Weight Transfer  \\\n",
       "Name                                                                \n",
       "Changqiang You      B   Freshman    Male   166.5    70.0        N   \n",
       "Mei Sun             A     Senior    Male   188.9    89.0        N   \n",
       "Xiaojuan Sun        C  Sophomore  Female     NaN    41.0        N   \n",
       "\n",
       "                Test_Number  Test_Date Time_Record  \n",
       "Name                                                \n",
       "Changqiang You            1   2019/9/4     0:04:20  \n",
       "Mei Sun                   2  2019/9/12     0:05:22  \n",
       "Xiaojuan Sun              2   2020/1/3     0:04:08  "
      ]
     },
     "execution_count": 219,
     "metadata": {},
     "output_type": "execute_result"
    }
   ],
   "source": [
    "a = [1,2,3]\n",
    "def lt(lst):\n",
    "    return lst\n",
    "df_csv.iloc[lambda df_csv:lt(a)].head() #函数返回为列表"
   ]
  },
  {
   "cell_type": "code",
   "execution_count": null,
   "id": "60a27da6",
   "metadata": {},
   "outputs": [
    {
     "data": {
      "text/html": [
       "<div>\n",
       "<style scoped>\n",
       "    .dataframe tbody tr th:only-of-type {\n",
       "        vertical-align: middle;\n",
       "    }\n",
       "\n",
       "    .dataframe tbody tr th {\n",
       "        vertical-align: top;\n",
       "    }\n",
       "\n",
       "    .dataframe thead th {\n",
       "        text-align: right;\n",
       "    }\n",
       "</style>\n",
       "<table border=\"1\" class=\"dataframe\">\n",
       "  <thead>\n",
       "    <tr style=\"text-align: right;\">\n",
       "      <th></th>\n",
       "      <th>School</th>\n",
       "      <th>Grade</th>\n",
       "      <th>Gender</th>\n",
       "      <th>Height</th>\n",
       "      <th>Weight</th>\n",
       "      <th>Transfer</th>\n",
       "      <th>Test_Number</th>\n",
       "      <th>Test_Date</th>\n",
       "      <th>Time_Record</th>\n",
       "    </tr>\n",
       "    <tr>\n",
       "      <th>Name</th>\n",
       "      <th></th>\n",
       "      <th></th>\n",
       "      <th></th>\n",
       "      <th></th>\n",
       "      <th></th>\n",
       "      <th></th>\n",
       "      <th></th>\n",
       "      <th></th>\n",
       "      <th></th>\n",
       "    </tr>\n",
       "  </thead>\n",
       "  <tbody>\n",
       "    <tr>\n",
       "      <th>Gaopeng Yang</th>\n",
       "      <td>A</td>\n",
       "      <td>Freshman</td>\n",
       "      <td>Female</td>\n",
       "      <td>158.9</td>\n",
       "      <td>46.0</td>\n",
       "      <td>N</td>\n",
       "      <td>1</td>\n",
       "      <td>2019/10/5</td>\n",
       "      <td>0:04:34</td>\n",
       "    </tr>\n",
       "    <tr>\n",
       "      <th>Changqiang You</th>\n",
       "      <td>B</td>\n",
       "      <td>Freshman</td>\n",
       "      <td>Male</td>\n",
       "      <td>166.5</td>\n",
       "      <td>70.0</td>\n",
       "      <td>N</td>\n",
       "      <td>1</td>\n",
       "      <td>2019/9/4</td>\n",
       "      <td>0:04:20</td>\n",
       "    </tr>\n",
       "    <tr>\n",
       "      <th>Mei Sun</th>\n",
       "      <td>A</td>\n",
       "      <td>Senior</td>\n",
       "      <td>Male</td>\n",
       "      <td>188.9</td>\n",
       "      <td>89.0</td>\n",
       "      <td>N</td>\n",
       "      <td>2</td>\n",
       "      <td>2019/9/12</td>\n",
       "      <td>0:05:22</td>\n",
       "    </tr>\n",
       "    <tr>\n",
       "      <th>Xiaojuan Sun</th>\n",
       "      <td>C</td>\n",
       "      <td>Sophomore</td>\n",
       "      <td>Female</td>\n",
       "      <td>NaN</td>\n",
       "      <td>41.0</td>\n",
       "      <td>N</td>\n",
       "      <td>2</td>\n",
       "      <td>2020/1/3</td>\n",
       "      <td>0:04:08</td>\n",
       "    </tr>\n",
       "  </tbody>\n",
       "</table>\n",
       "</div>"
      ],
      "text/plain": [
       "               School      Grade  Gender  Height  Weight Transfer  \\\n",
       "Name                                                                \n",
       "Gaopeng Yang        A   Freshman  Female   158.9    46.0        N   \n",
       "Changqiang You      B   Freshman    Male   166.5    70.0        N   \n",
       "Mei Sun             A     Senior    Male   188.9    89.0        N   \n",
       "Xiaojuan Sun        C  Sophomore  Female     NaN    41.0        N   \n",
       "\n",
       "                Test_Number  Test_Date Time_Record  \n",
       "Name                                                \n",
       "Gaopeng Yang              1  2019/10/5     0:04:34  \n",
       "Changqiang You            1   2019/9/4     0:04:20  \n",
       "Mei Sun                   2  2019/9/12     0:05:22  \n",
       "Xiaojuan Sun              2   2020/1/3     0:04:08  "
      ]
     },
     "execution_count": 194,
     "metadata": {},
     "output_type": "execute_result"
    }
   ],
   "source": [
    "df_csv.iloc[lambda df_csv:slice(0,4)].head() #slice 为切片"
   ]
  },
  {
   "cell_type": "code",
   "execution_count": 197,
   "id": "de8675d9",
   "metadata": {},
   "outputs": [
    {
     "data": {
      "text/html": [
       "<div>\n",
       "<style scoped>\n",
       "    .dataframe tbody tr th:only-of-type {\n",
       "        vertical-align: middle;\n",
       "    }\n",
       "\n",
       "    .dataframe tbody tr th {\n",
       "        vertical-align: top;\n",
       "    }\n",
       "\n",
       "    .dataframe thead th {\n",
       "        text-align: right;\n",
       "    }\n",
       "</style>\n",
       "<table border=\"1\" class=\"dataframe\">\n",
       "  <thead>\n",
       "    <tr style=\"text-align: right;\">\n",
       "      <th></th>\n",
       "      <th>School</th>\n",
       "      <th>Grade</th>\n",
       "      <th>Gender</th>\n",
       "      <th>Height</th>\n",
       "      <th>Weight</th>\n",
       "      <th>Transfer</th>\n",
       "      <th>Test_Number</th>\n",
       "      <th>Test_Date</th>\n",
       "      <th>Time_Record</th>\n",
       "    </tr>\n",
       "    <tr>\n",
       "      <th>Name</th>\n",
       "      <th></th>\n",
       "      <th></th>\n",
       "      <th></th>\n",
       "      <th></th>\n",
       "      <th></th>\n",
       "      <th></th>\n",
       "      <th></th>\n",
       "      <th></th>\n",
       "      <th></th>\n",
       "    </tr>\n",
       "  </thead>\n",
       "  <tbody>\n",
       "    <tr>\n",
       "      <th>Mei Sun</th>\n",
       "      <td>A</td>\n",
       "      <td>Senior</td>\n",
       "      <td>Male</td>\n",
       "      <td>188.9</td>\n",
       "      <td>89.0</td>\n",
       "      <td>N</td>\n",
       "      <td>2</td>\n",
       "      <td>2019/9/12</td>\n",
       "      <td>0:05:22</td>\n",
       "    </tr>\n",
       "    <tr>\n",
       "      <th>Gaojuan You</th>\n",
       "      <td>C</td>\n",
       "      <td>Sophomore</td>\n",
       "      <td>Male</td>\n",
       "      <td>174.0</td>\n",
       "      <td>74.0</td>\n",
       "      <td>N</td>\n",
       "      <td>2</td>\n",
       "      <td>2019/11/6</td>\n",
       "      <td>0:05:22</td>\n",
       "    </tr>\n",
       "    <tr>\n",
       "      <th>Xiaopeng Zhou</th>\n",
       "      <td>A</td>\n",
       "      <td>Freshman</td>\n",
       "      <td>Male</td>\n",
       "      <td>174.1</td>\n",
       "      <td>74.0</td>\n",
       "      <td>N</td>\n",
       "      <td>1</td>\n",
       "      <td>2019/9/29</td>\n",
       "      <td>0:05:16</td>\n",
       "    </tr>\n",
       "    <tr>\n",
       "      <th>Xiaoqiang Qin</th>\n",
       "      <td>D</td>\n",
       "      <td>Junior</td>\n",
       "      <td>Male</td>\n",
       "      <td>170.1</td>\n",
       "      <td>68.0</td>\n",
       "      <td>N</td>\n",
       "      <td>1</td>\n",
       "      <td>2019/9/11</td>\n",
       "      <td>0:04:51</td>\n",
       "    </tr>\n",
       "    <tr>\n",
       "      <th>Xiaofeng Sun</th>\n",
       "      <td>D</td>\n",
       "      <td>Senior</td>\n",
       "      <td>Male</td>\n",
       "      <td>170.3</td>\n",
       "      <td>71.0</td>\n",
       "      <td>N</td>\n",
       "      <td>2</td>\n",
       "      <td>2019/11/4</td>\n",
       "      <td>0:03:32</td>\n",
       "    </tr>\n",
       "  </tbody>\n",
       "</table>\n",
       "</div>"
      ],
      "text/plain": [
       "              School      Grade Gender  Height  Weight Transfer  Test_Number  \\\n",
       "Name                                                                           \n",
       "Mei Sun            A     Senior   Male   188.9    89.0        N            2   \n",
       "Gaojuan You        C  Sophomore   Male   174.0    74.0        N            2   \n",
       "Xiaopeng Zhou      A   Freshman   Male   174.1    74.0        N            1   \n",
       "Xiaoqiang Qin      D     Junior   Male   170.1    68.0        N            1   \n",
       "Xiaofeng Sun       D     Senior   Male   170.3    71.0        N            2   \n",
       "\n",
       "               Test_Date Time_Record  \n",
       "Name                                  \n",
       "Mei Sun        2019/9/12     0:05:22  \n",
       "Gaojuan You    2019/11/6     0:05:22  \n",
       "Xiaopeng Zhou  2019/9/29     0:05:16  \n",
       "Xiaoqiang Qin  2019/9/11     0:04:51  \n",
       "Xiaofeng Sun   2019/11/4     0:03:32  "
      ]
     },
     "execution_count": 197,
     "metadata": {},
     "output_type": "execute_result"
    }
   ],
   "source": [
    "# 5.bool数组\n",
    "df_csv.iloc[list(df_csv.Height > 170)].head()"
   ]
  },
  {
   "cell_type": "code",
   "execution_count": 198,
   "id": "ceeec4c9",
   "metadata": {},
   "outputs": [
    {
     "data": {
      "text/html": [
       "<div>\n",
       "<style scoped>\n",
       "    .dataframe tbody tr th:only-of-type {\n",
       "        vertical-align: middle;\n",
       "    }\n",
       "\n",
       "    .dataframe tbody tr th {\n",
       "        vertical-align: top;\n",
       "    }\n",
       "\n",
       "    .dataframe thead th {\n",
       "        text-align: right;\n",
       "    }\n",
       "</style>\n",
       "<table border=\"1\" class=\"dataframe\">\n",
       "  <thead>\n",
       "    <tr style=\"text-align: right;\">\n",
       "      <th></th>\n",
       "      <th>School</th>\n",
       "      <th>Grade</th>\n",
       "      <th>Gender</th>\n",
       "      <th>Height</th>\n",
       "      <th>Weight</th>\n",
       "      <th>Transfer</th>\n",
       "      <th>Test_Number</th>\n",
       "      <th>Test_Date</th>\n",
       "      <th>Time_Record</th>\n",
       "    </tr>\n",
       "    <tr>\n",
       "      <th>Name</th>\n",
       "      <th></th>\n",
       "      <th></th>\n",
       "      <th></th>\n",
       "      <th></th>\n",
       "      <th></th>\n",
       "      <th></th>\n",
       "      <th></th>\n",
       "      <th></th>\n",
       "      <th></th>\n",
       "    </tr>\n",
       "  </thead>\n",
       "  <tbody>\n",
       "    <tr>\n",
       "      <th>Changqiang You</th>\n",
       "      <td>B</td>\n",
       "      <td>Freshman</td>\n",
       "      <td>Male</td>\n",
       "      <td>166.5</td>\n",
       "      <td>70.0</td>\n",
       "      <td>N</td>\n",
       "      <td>1</td>\n",
       "      <td>2019/9/4</td>\n",
       "      <td>0:04:20</td>\n",
       "    </tr>\n",
       "    <tr>\n",
       "      <th>Mei Sun</th>\n",
       "      <td>A</td>\n",
       "      <td>Senior</td>\n",
       "      <td>Male</td>\n",
       "      <td>188.9</td>\n",
       "      <td>89.0</td>\n",
       "      <td>N</td>\n",
       "      <td>2</td>\n",
       "      <td>2019/9/12</td>\n",
       "      <td>0:05:22</td>\n",
       "    </tr>\n",
       "    <tr>\n",
       "      <th>Xiaojuan Sun</th>\n",
       "      <td>C</td>\n",
       "      <td>Sophomore</td>\n",
       "      <td>Female</td>\n",
       "      <td>NaN</td>\n",
       "      <td>41.0</td>\n",
       "      <td>N</td>\n",
       "      <td>2</td>\n",
       "      <td>2020/1/3</td>\n",
       "      <td>0:04:08</td>\n",
       "    </tr>\n",
       "    <tr>\n",
       "      <th>Gaojuan You</th>\n",
       "      <td>C</td>\n",
       "      <td>Sophomore</td>\n",
       "      <td>Male</td>\n",
       "      <td>174.0</td>\n",
       "      <td>74.0</td>\n",
       "      <td>N</td>\n",
       "      <td>2</td>\n",
       "      <td>2019/11/6</td>\n",
       "      <td>0:05:22</td>\n",
       "    </tr>\n",
       "  </tbody>\n",
       "</table>\n",
       "</div>"
      ],
      "text/plain": [
       "               School      Grade  Gender  Height  Weight Transfer  \\\n",
       "Name                                                                \n",
       "Changqiang You      B   Freshman    Male   166.5    70.0        N   \n",
       "Mei Sun             A     Senior    Male   188.9    89.0        N   \n",
       "Xiaojuan Sun        C  Sophomore  Female     NaN    41.0        N   \n",
       "Gaojuan You         C  Sophomore    Male   174.0    74.0        N   \n",
       "\n",
       "                Test_Number  Test_Date Time_Record  \n",
       "Name                                                \n",
       "Changqiang You            1   2019/9/4     0:04:20  \n",
       "Mei Sun                   2  2019/9/12     0:05:22  \n",
       "Xiaojuan Sun              2   2020/1/3     0:04:08  \n",
       "Gaojuan You               2  2019/11/6     0:05:22  "
      ]
     },
     "execution_count": 198,
     "metadata": {},
     "output_type": "execute_result"
    }
   ],
   "source": [
    "# 通常切片\n",
    "df_csv[1:5]"
   ]
  },
  {
   "cell_type": "markdown",
   "id": "5bb991c2",
   "metadata": {},
   "source": [
    "### query"
   ]
  },
  {
   "cell_type": "code",
   "execution_count": 200,
   "id": "1a8065b0",
   "metadata": {},
   "outputs": [
    {
     "data": {
      "text/html": [
       "<div>\n",
       "<style scoped>\n",
       "    .dataframe tbody tr th:only-of-type {\n",
       "        vertical-align: middle;\n",
       "    }\n",
       "\n",
       "    .dataframe tbody tr th {\n",
       "        vertical-align: top;\n",
       "    }\n",
       "\n",
       "    .dataframe thead th {\n",
       "        text-align: right;\n",
       "    }\n",
       "</style>\n",
       "<table border=\"1\" class=\"dataframe\">\n",
       "  <thead>\n",
       "    <tr style=\"text-align: right;\">\n",
       "      <th></th>\n",
       "      <th>School</th>\n",
       "      <th>Grade</th>\n",
       "      <th>Gender</th>\n",
       "      <th>Height</th>\n",
       "      <th>Weight</th>\n",
       "      <th>Transfer</th>\n",
       "      <th>Test_Number</th>\n",
       "      <th>Test_Date</th>\n",
       "      <th>Time_Record</th>\n",
       "    </tr>\n",
       "    <tr>\n",
       "      <th>Name</th>\n",
       "      <th></th>\n",
       "      <th></th>\n",
       "      <th></th>\n",
       "      <th></th>\n",
       "      <th></th>\n",
       "      <th></th>\n",
       "      <th></th>\n",
       "      <th></th>\n",
       "      <th></th>\n",
       "    </tr>\n",
       "  </thead>\n",
       "  <tbody>\n",
       "    <tr>\n",
       "      <th>Gaopeng Yang</th>\n",
       "      <td>A</td>\n",
       "      <td>Freshman</td>\n",
       "      <td>Female</td>\n",
       "      <td>158.9</td>\n",
       "      <td>46.0</td>\n",
       "      <td>N</td>\n",
       "      <td>1</td>\n",
       "      <td>2019/10/5</td>\n",
       "      <td>0:04:34</td>\n",
       "    </tr>\n",
       "    <tr>\n",
       "      <th>Changqiang You</th>\n",
       "      <td>B</td>\n",
       "      <td>Freshman</td>\n",
       "      <td>Male</td>\n",
       "      <td>166.5</td>\n",
       "      <td>70.0</td>\n",
       "      <td>N</td>\n",
       "      <td>1</td>\n",
       "      <td>2019/9/4</td>\n",
       "      <td>0:04:20</td>\n",
       "    </tr>\n",
       "    <tr>\n",
       "      <th>Mei Sun</th>\n",
       "      <td>A</td>\n",
       "      <td>Senior</td>\n",
       "      <td>Male</td>\n",
       "      <td>188.9</td>\n",
       "      <td>89.0</td>\n",
       "      <td>N</td>\n",
       "      <td>2</td>\n",
       "      <td>2019/9/12</td>\n",
       "      <td>0:05:22</td>\n",
       "    </tr>\n",
       "    <tr>\n",
       "      <th>Xiaojuan Sun</th>\n",
       "      <td>C</td>\n",
       "      <td>Sophomore</td>\n",
       "      <td>Female</td>\n",
       "      <td>NaN</td>\n",
       "      <td>41.0</td>\n",
       "      <td>N</td>\n",
       "      <td>2</td>\n",
       "      <td>2020/1/3</td>\n",
       "      <td>0:04:08</td>\n",
       "    </tr>\n",
       "    <tr>\n",
       "      <th>Gaojuan You</th>\n",
       "      <td>C</td>\n",
       "      <td>Sophomore</td>\n",
       "      <td>Male</td>\n",
       "      <td>174.0</td>\n",
       "      <td>74.0</td>\n",
       "      <td>N</td>\n",
       "      <td>2</td>\n",
       "      <td>2019/11/6</td>\n",
       "      <td>0:05:22</td>\n",
       "    </tr>\n",
       "  </tbody>\n",
       "</table>\n",
       "</div>"
      ],
      "text/plain": [
       "               School      Grade  Gender  Height  Weight Transfer  \\\n",
       "Name                                                                \n",
       "Gaopeng Yang        A   Freshman  Female   158.9    46.0        N   \n",
       "Changqiang You      B   Freshman    Male   166.5    70.0        N   \n",
       "Mei Sun             A     Senior    Male   188.9    89.0        N   \n",
       "Xiaojuan Sun        C  Sophomore  Female     NaN    41.0        N   \n",
       "Gaojuan You         C  Sophomore    Male   174.0    74.0        N   \n",
       "\n",
       "                Test_Number  Test_Date Time_Record  \n",
       "Name                                                \n",
       "Gaopeng Yang              1  2019/10/5     0:04:34  \n",
       "Changqiang You            1   2019/9/4     0:04:20  \n",
       "Mei Sun                   2  2019/9/12     0:05:22  \n",
       "Xiaojuan Sun              2   2020/1/3     0:04:08  \n",
       "Gaojuan You               2  2019/11/6     0:05:22  "
      ]
     },
     "execution_count": 200,
     "metadata": {},
     "output_type": "execute_result"
    }
   ],
   "source": [
    "df_csv.head()"
   ]
  },
  {
   "cell_type": "code",
   "execution_count": null,
   "id": "7e00d845",
   "metadata": {},
   "outputs": [
    {
     "data": {
      "text/html": [
       "<div>\n",
       "<style scoped>\n",
       "    .dataframe tbody tr th:only-of-type {\n",
       "        vertical-align: middle;\n",
       "    }\n",
       "\n",
       "    .dataframe tbody tr th {\n",
       "        vertical-align: top;\n",
       "    }\n",
       "\n",
       "    .dataframe thead th {\n",
       "        text-align: right;\n",
       "    }\n",
       "</style>\n",
       "<table border=\"1\" class=\"dataframe\">\n",
       "  <thead>\n",
       "    <tr style=\"text-align: right;\">\n",
       "      <th></th>\n",
       "      <th>School</th>\n",
       "      <th>Grade</th>\n",
       "      <th>Gender</th>\n",
       "      <th>Height</th>\n",
       "      <th>Weight</th>\n",
       "      <th>Transfer</th>\n",
       "      <th>Test_Number</th>\n",
       "      <th>Test_Date</th>\n",
       "      <th>Time_Record</th>\n",
       "    </tr>\n",
       "    <tr>\n",
       "      <th>Name</th>\n",
       "      <th></th>\n",
       "      <th></th>\n",
       "      <th></th>\n",
       "      <th></th>\n",
       "      <th></th>\n",
       "      <th></th>\n",
       "      <th></th>\n",
       "      <th></th>\n",
       "      <th></th>\n",
       "    </tr>\n",
       "  </thead>\n",
       "  <tbody>\n",
       "    <tr>\n",
       "      <th>Mei Sun</th>\n",
       "      <td>A</td>\n",
       "      <td>Senior</td>\n",
       "      <td>Male</td>\n",
       "      <td>188.9</td>\n",
       "      <td>89.0</td>\n",
       "      <td>N</td>\n",
       "      <td>2</td>\n",
       "      <td>2019/9/12</td>\n",
       "      <td>0:05:22</td>\n",
       "    </tr>\n",
       "    <tr>\n",
       "      <th>Gaojuan You</th>\n",
       "      <td>C</td>\n",
       "      <td>Sophomore</td>\n",
       "      <td>Male</td>\n",
       "      <td>174.0</td>\n",
       "      <td>74.0</td>\n",
       "      <td>N</td>\n",
       "      <td>2</td>\n",
       "      <td>2019/11/6</td>\n",
       "      <td>0:05:22</td>\n",
       "    </tr>\n",
       "    <tr>\n",
       "      <th>Xiaopeng Zhou</th>\n",
       "      <td>A</td>\n",
       "      <td>Freshman</td>\n",
       "      <td>Male</td>\n",
       "      <td>174.1</td>\n",
       "      <td>74.0</td>\n",
       "      <td>N</td>\n",
       "      <td>1</td>\n",
       "      <td>2019/9/29</td>\n",
       "      <td>0:05:16</td>\n",
       "    </tr>\n",
       "    <tr>\n",
       "      <th>Xiaoqiang Qin</th>\n",
       "      <td>D</td>\n",
       "      <td>Junior</td>\n",
       "      <td>Male</td>\n",
       "      <td>170.1</td>\n",
       "      <td>68.0</td>\n",
       "      <td>N</td>\n",
       "      <td>1</td>\n",
       "      <td>2019/9/11</td>\n",
       "      <td>0:04:51</td>\n",
       "    </tr>\n",
       "    <tr>\n",
       "      <th>Xiaofeng Sun</th>\n",
       "      <td>D</td>\n",
       "      <td>Senior</td>\n",
       "      <td>Male</td>\n",
       "      <td>170.3</td>\n",
       "      <td>71.0</td>\n",
       "      <td>N</td>\n",
       "      <td>2</td>\n",
       "      <td>2019/11/4</td>\n",
       "      <td>0:03:32</td>\n",
       "    </tr>\n",
       "  </tbody>\n",
       "</table>\n",
       "</div>"
      ],
      "text/plain": [
       "              School      Grade Gender  Height  Weight Transfer  Test_Number  \\\n",
       "Name                                                                           \n",
       "Mei Sun            A     Senior   Male   188.9    89.0        N            2   \n",
       "Gaojuan You        C  Sophomore   Male   174.0    74.0        N            2   \n",
       "Xiaopeng Zhou      A   Freshman   Male   174.1    74.0        N            1   \n",
       "Xiaoqiang Qin      D     Junior   Male   170.1    68.0        N            1   \n",
       "Xiaofeng Sun       D     Senior   Male   170.3    71.0        N            2   \n",
       "\n",
       "               Test_Date Time_Record  \n",
       "Name                                  \n",
       "Mei Sun        2019/9/12     0:05:22  \n",
       "Gaojuan You    2019/11/6     0:05:22  \n",
       "Xiaopeng Zhou  2019/9/29     0:05:16  \n",
       "Xiaoqiang Qin  2019/9/11     0:04:51  \n",
       "Xiaofeng Sun   2019/11/4     0:03:32  "
      ]
     },
     "execution_count": 202,
     "metadata": {},
     "output_type": "execute_result"
    }
   ],
   "source": [
    "#将字符串中的类型返回为bool数组来进行查询\n",
    "df_csv.query('Height > 170').head() #将height > 50的值返回"
   ]
  },
  {
   "cell_type": "code",
   "execution_count": null,
   "id": "c09cea9b",
   "metadata": {},
   "outputs": [],
   "source": [
    "## query方法中引用带空格的列明\n",
    "    # 对于带空格的列明，需要使用 (反引号) `col name`的方式进行引用 \n"
   ]
  },
  {
   "cell_type": "code",
   "execution_count": null,
   "id": "e52e64d6",
   "metadata": {},
   "outputs": [
    {
     "data": {
      "text/html": [
       "<div>\n",
       "<style scoped>\n",
       "    .dataframe tbody tr th:only-of-type {\n",
       "        vertical-align: middle;\n",
       "    }\n",
       "\n",
       "    .dataframe tbody tr th {\n",
       "        vertical-align: top;\n",
       "    }\n",
       "\n",
       "    .dataframe thead th {\n",
       "        text-align: right;\n",
       "    }\n",
       "</style>\n",
       "<table border=\"1\" class=\"dataframe\">\n",
       "  <thead>\n",
       "    <tr style=\"text-align: right;\">\n",
       "      <th></th>\n",
       "      <th>School</th>\n",
       "      <th>Grade</th>\n",
       "      <th>Gender</th>\n",
       "      <th>Height</th>\n",
       "      <th>Weight</th>\n",
       "      <th>Transfer</th>\n",
       "      <th>Test_Number</th>\n",
       "      <th>Test_Date</th>\n",
       "      <th>Time_Record</th>\n",
       "    </tr>\n",
       "    <tr>\n",
       "      <th>Name</th>\n",
       "      <th></th>\n",
       "      <th></th>\n",
       "      <th></th>\n",
       "      <th></th>\n",
       "      <th></th>\n",
       "      <th></th>\n",
       "      <th></th>\n",
       "      <th></th>\n",
       "      <th></th>\n",
       "    </tr>\n",
       "  </thead>\n",
       "  <tbody>\n",
       "    <tr>\n",
       "      <th>Gaopeng Yang</th>\n",
       "      <td>A</td>\n",
       "      <td>Freshman</td>\n",
       "      <td>Female</td>\n",
       "      <td>158.9</td>\n",
       "      <td>46.0</td>\n",
       "      <td>N</td>\n",
       "      <td>1</td>\n",
       "      <td>2019/10/5</td>\n",
       "      <td>0:04:34</td>\n",
       "    </tr>\n",
       "    <tr>\n",
       "      <th>Changqiang You</th>\n",
       "      <td>B</td>\n",
       "      <td>Freshman</td>\n",
       "      <td>Male</td>\n",
       "      <td>166.5</td>\n",
       "      <td>70.0</td>\n",
       "      <td>N</td>\n",
       "      <td>1</td>\n",
       "      <td>2019/9/4</td>\n",
       "      <td>0:04:20</td>\n",
       "    </tr>\n",
       "    <tr>\n",
       "      <th>Mei Sun</th>\n",
       "      <td>A</td>\n",
       "      <td>Senior</td>\n",
       "      <td>Male</td>\n",
       "      <td>188.9</td>\n",
       "      <td>89.0</td>\n",
       "      <td>N</td>\n",
       "      <td>2</td>\n",
       "      <td>2019/9/12</td>\n",
       "      <td>0:05:22</td>\n",
       "    </tr>\n",
       "    <tr>\n",
       "      <th>Xiaoli Qian</th>\n",
       "      <td>D</td>\n",
       "      <td>Freshman</td>\n",
       "      <td>Female</td>\n",
       "      <td>158.0</td>\n",
       "      <td>51.0</td>\n",
       "      <td>N</td>\n",
       "      <td>1</td>\n",
       "      <td>2019/10/31</td>\n",
       "      <td>0:03:47</td>\n",
       "    </tr>\n",
       "    <tr>\n",
       "      <th>Qiang Chu</th>\n",
       "      <td>A</td>\n",
       "      <td>Freshman</td>\n",
       "      <td>Female</td>\n",
       "      <td>162.5</td>\n",
       "      <td>52.0</td>\n",
       "      <td>N</td>\n",
       "      <td>1</td>\n",
       "      <td>2019/12/12</td>\n",
       "      <td>0:03:53</td>\n",
       "    </tr>\n",
       "  </tbody>\n",
       "</table>\n",
       "</div>"
      ],
      "text/plain": [
       "               School     Grade  Gender  Height  Weight Transfer  Test_Number  \\\n",
       "Name                                                                            \n",
       "Gaopeng Yang        A  Freshman  Female   158.9    46.0        N            1   \n",
       "Changqiang You      B  Freshman    Male   166.5    70.0        N            1   \n",
       "Mei Sun             A    Senior    Male   188.9    89.0        N            2   \n",
       "Xiaoli Qian         D  Freshman  Female   158.0    51.0        N            1   \n",
       "Qiang Chu           A  Freshman  Female   162.5    52.0        N            1   \n",
       "\n",
       "                 Test_Date Time_Record  \n",
       "Name                                    \n",
       "Gaopeng Yang     2019/10/5     0:04:34  \n",
       "Changqiang You    2019/9/4     0:04:20  \n",
       "Mei Sun          2019/9/12     0:05:22  \n",
       "Xiaoli Qian     2019/10/31     0:03:47  \n",
       "Qiang Chu       2019/12/12     0:03:53  "
      ]
     },
     "execution_count": 211,
     "metadata": {},
     "output_type": "execute_result"
    }
   ],
   "source": [
    "# or 或者\n",
    "# and 且\n",
    "# in ==\n",
    "# not in !=\n",
    "df_csv.query(\"Grade in ['Senior','Freshman']\").head()"
   ]
  },
  {
   "cell_type": "code",
   "execution_count": null,
   "id": "f56ab6b8",
   "metadata": {},
   "outputs": [
    {
     "data": {
      "text/html": [
       "<div>\n",
       "<style scoped>\n",
       "    .dataframe tbody tr th:only-of-type {\n",
       "        vertical-align: middle;\n",
       "    }\n",
       "\n",
       "    .dataframe tbody tr th {\n",
       "        vertical-align: top;\n",
       "    }\n",
       "\n",
       "    .dataframe thead th {\n",
       "        text-align: right;\n",
       "    }\n",
       "</style>\n",
       "<table border=\"1\" class=\"dataframe\">\n",
       "  <thead>\n",
       "    <tr style=\"text-align: right;\">\n",
       "      <th></th>\n",
       "      <th>School</th>\n",
       "      <th>Grade</th>\n",
       "      <th>Gender</th>\n",
       "      <th>Height</th>\n",
       "      <th>Weight</th>\n",
       "      <th>Transfer</th>\n",
       "      <th>Test_Number</th>\n",
       "      <th>Test_Date</th>\n",
       "      <th>Time_Record</th>\n",
       "    </tr>\n",
       "    <tr>\n",
       "      <th>Name</th>\n",
       "      <th></th>\n",
       "      <th></th>\n",
       "      <th></th>\n",
       "      <th></th>\n",
       "      <th></th>\n",
       "      <th></th>\n",
       "      <th></th>\n",
       "      <th></th>\n",
       "      <th></th>\n",
       "    </tr>\n",
       "  </thead>\n",
       "  <tbody>\n",
       "    <tr>\n",
       "      <th>Changqiang You</th>\n",
       "      <td>B</td>\n",
       "      <td>Freshman</td>\n",
       "      <td>Male</td>\n",
       "      <td>166.5</td>\n",
       "      <td>70.0</td>\n",
       "      <td>N</td>\n",
       "      <td>1</td>\n",
       "      <td>2019/9/4</td>\n",
       "      <td>0:04:20</td>\n",
       "    </tr>\n",
       "    <tr>\n",
       "      <th>Gaojuan You</th>\n",
       "      <td>C</td>\n",
       "      <td>Sophomore</td>\n",
       "      <td>Male</td>\n",
       "      <td>174.0</td>\n",
       "      <td>74.0</td>\n",
       "      <td>N</td>\n",
       "      <td>2</td>\n",
       "      <td>2019/11/6</td>\n",
       "      <td>0:05:22</td>\n",
       "    </tr>\n",
       "    <tr>\n",
       "      <th>Xiaopeng Zhou</th>\n",
       "      <td>A</td>\n",
       "      <td>Freshman</td>\n",
       "      <td>Male</td>\n",
       "      <td>174.1</td>\n",
       "      <td>74.0</td>\n",
       "      <td>N</td>\n",
       "      <td>1</td>\n",
       "      <td>2019/9/29</td>\n",
       "      <td>0:05:16</td>\n",
       "    </tr>\n",
       "    <tr>\n",
       "      <th>Xiaofeng Sun</th>\n",
       "      <td>D</td>\n",
       "      <td>Senior</td>\n",
       "      <td>Male</td>\n",
       "      <td>170.3</td>\n",
       "      <td>71.0</td>\n",
       "      <td>N</td>\n",
       "      <td>2</td>\n",
       "      <td>2019/11/4</td>\n",
       "      <td>0:03:32</td>\n",
       "    </tr>\n",
       "    <tr>\n",
       "      <th>Gaoli Zhao</th>\n",
       "      <td>B</td>\n",
       "      <td>Freshman</td>\n",
       "      <td>Male</td>\n",
       "      <td>175.4</td>\n",
       "      <td>78.0</td>\n",
       "      <td>N</td>\n",
       "      <td>2</td>\n",
       "      <td>2019/10/8</td>\n",
       "      <td>0:03:32</td>\n",
       "    </tr>\n",
       "  </tbody>\n",
       "</table>\n",
       "</div>"
      ],
      "text/plain": [
       "               School      Grade Gender  Height  Weight Transfer  Test_Number  \\\n",
       "Name                                                                            \n",
       "Changqiang You      B   Freshman   Male   166.5    70.0        N            1   \n",
       "Gaojuan You         C  Sophomore   Male   174.0    74.0        N            2   \n",
       "Xiaopeng Zhou       A   Freshman   Male   174.1    74.0        N            1   \n",
       "Xiaofeng Sun        D     Senior   Male   170.3    71.0        N            2   \n",
       "Gaoli Zhao          B   Freshman   Male   175.4    78.0        N            2   \n",
       "\n",
       "                Test_Date Time_Record  \n",
       "Name                                   \n",
       "Changqiang You   2019/9/4     0:04:20  \n",
       "Gaojuan You     2019/11/6     0:05:22  \n",
       "Xiaopeng Zhou   2019/9/29     0:05:16  \n",
       "Xiaofeng Sun    2019/11/4     0:03:32  \n",
       "Gaoli Zhao      2019/10/8     0:03:32  "
      ]
     },
     "execution_count": 212,
     "metadata": {},
     "output_type": "execute_result"
    }
   ],
   "source": [
    "a = 70\n",
    "b = 80\n",
    "df_csv.query('Weight.between(@a,@b)').head()#between(@参数,@另一个参数) 在参数和另一个参数之间 a>x>b"
   ]
  },
  {
   "cell_type": "markdown",
   "id": "9225ca4b",
   "metadata": {},
   "source": [
    "# 随机抽样"
   ]
  },
  {
   "cell_type": "code",
   "execution_count": null,
   "id": "45fbca7a",
   "metadata": {},
   "outputs": [
    {
     "data": {
      "text/html": [
       "<div>\n",
       "<style scoped>\n",
       "    .dataframe tbody tr th:only-of-type {\n",
       "        vertical-align: middle;\n",
       "    }\n",
       "\n",
       "    .dataframe tbody tr th {\n",
       "        vertical-align: top;\n",
       "    }\n",
       "\n",
       "    .dataframe thead th {\n",
       "        text-align: right;\n",
       "    }\n",
       "</style>\n",
       "<table border=\"1\" class=\"dataframe\">\n",
       "  <thead>\n",
       "    <tr style=\"text-align: right;\">\n",
       "      <th></th>\n",
       "      <th>id</th>\n",
       "      <th>value</th>\n",
       "    </tr>\n",
       "  </thead>\n",
       "  <tbody>\n",
       "    <tr>\n",
       "      <th>0</th>\n",
       "      <td>a</td>\n",
       "      <td>1</td>\n",
       "    </tr>\n",
       "    <tr>\n",
       "      <th>1</th>\n",
       "      <td>b</td>\n",
       "      <td>2</td>\n",
       "    </tr>\n",
       "    <tr>\n",
       "      <th>2</th>\n",
       "      <td>c</td>\n",
       "      <td>3</td>\n",
       "    </tr>\n",
       "    <tr>\n",
       "      <th>3</th>\n",
       "      <td>d</td>\n",
       "      <td>4</td>\n",
       "    </tr>\n",
       "    <tr>\n",
       "      <th>4</th>\n",
       "      <td>e</td>\n",
       "      <td>80</td>\n",
       "    </tr>\n",
       "  </tbody>\n",
       "</table>\n",
       "</div>"
      ],
      "text/plain": [
       "  id  value\n",
       "0  a      1\n",
       "1  b      2\n",
       "2  c      3\n",
       "3  d      4\n",
       "4  e     80"
      ]
     },
     "execution_count": 215,
     "metadata": {},
     "output_type": "execute_result"
    }
   ],
   "source": [
    "#sample()\n",
    "df_sample = pd.DataFrame({'id':list('abcde'),'value':[1,2,3,4,80]})\n",
    "df_sample\n"
   ]
  },
  {
   "cell_type": "code",
   "execution_count": null,
   "id": "8d00ac79",
   "metadata": {},
   "outputs": [
    {
     "data": {
      "text/html": [
       "<div>\n",
       "<style scoped>\n",
       "    .dataframe tbody tr th:only-of-type {\n",
       "        vertical-align: middle;\n",
       "    }\n",
       "\n",
       "    .dataframe tbody tr th {\n",
       "        vertical-align: top;\n",
       "    }\n",
       "\n",
       "    .dataframe thead th {\n",
       "        text-align: right;\n",
       "    }\n",
       "</style>\n",
       "<table border=\"1\" class=\"dataframe\">\n",
       "  <thead>\n",
       "    <tr style=\"text-align: right;\">\n",
       "      <th></th>\n",
       "      <th>id</th>\n",
       "      <th>value</th>\n",
       "    </tr>\n",
       "  </thead>\n",
       "  <tbody>\n",
       "    <tr>\n",
       "      <th>2</th>\n",
       "      <td>c</td>\n",
       "      <td>3</td>\n",
       "    </tr>\n",
       "    <tr>\n",
       "      <th>0</th>\n",
       "      <td>a</td>\n",
       "      <td>1</td>\n",
       "    </tr>\n",
       "    <tr>\n",
       "      <th>4</th>\n",
       "      <td>e</td>\n",
       "      <td>80</td>\n",
       "    </tr>\n",
       "  </tbody>\n",
       "</table>\n",
       "</div>"
      ],
      "text/plain": [
       "  id  value\n",
       "2  c      3\n",
       "0  a      1\n",
       "4  e     80"
      ]
     },
     "execution_count": 218,
     "metadata": {},
     "output_type": "execute_result"
    }
   ],
   "source": [
    "df_sample.sample(3,replace = True) #抽3次,replace = True时为有放回抽样。replace = False时为无放回抽样"
   ]
  }
 ],
 "metadata": {
  "kernelspec": {
   "display_name": "Python 3 (ipykernel)",
   "language": "python",
   "name": "python3"
  },
  "language_info": {
   "codemirror_mode": {
    "name": "ipython",
    "version": 3
   },
   "file_extension": ".py",
   "mimetype": "text/x-python",
   "name": "python",
   "nbconvert_exporter": "python",
   "pygments_lexer": "ipython3",
   "version": "3.10.11"
  }
 },
 "nbformat": 4,
 "nbformat_minor": 5
}

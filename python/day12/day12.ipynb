{
 "cells": [
  {
   "cell_type": "code",
   "execution_count": 74,
   "id": "b37d5f35",
   "metadata": {},
   "outputs": [],
   "source": [
    "import pandas as pd\n",
    "import numpy as np"
   ]
  },
  {
   "cell_type": "markdown",
   "id": "24b1cfd1",
   "metadata": {},
   "source": [
    "# 多行索引"
   ]
  },
  {
   "cell_type": "code",
   "execution_count": 75,
   "id": "9be1e3ec",
   "metadata": {},
   "outputs": [],
   "source": [
    "df = pd.read_csv('D:\\\\vscode_code\\\\数据集\\\\learn_pandas.csv')"
   ]
  },
  {
   "cell_type": "code",
   "execution_count": 76,
   "id": "875347e2",
   "metadata": {},
   "outputs": [
    {
     "data": {
      "text/plain": [
       "MultiIndex([('A', 'Female'),\n",
       "            ('A',   'Male'),\n",
       "            ('B', 'Female'),\n",
       "            ('B',   'Male'),\n",
       "            ('C', 'Female'),\n",
       "            ('C',   'Male'),\n",
       "            ('D', 'Female'),\n",
       "            ('D',   'Male')],\n",
       "           names=['School', 'Gender'])"
      ]
     },
     "execution_count": 76,
     "metadata": {},
     "output_type": "execute_result"
    }
   ],
   "source": [
    "np.random.seed(0)\n",
    "# MultiIndex 类\n",
    "#创建一个行索引\n",
    "multi_index = pd.MultiIndex.from_product(\n",
    "    [list('ABCD'),df.Gender.unique()],\n",
    "    names = ('School','Gender')\n",
    ")\n",
    "multi_index\n"
   ]
  },
  {
   "cell_type": "code",
   "execution_count": 77,
   "id": "e3aab027",
   "metadata": {},
   "outputs": [
    {
     "data": {
      "text/plain": [
       "MultiIndex([('Height',  'Freshman'),\n",
       "            ('Height',    'Senior'),\n",
       "            ('Height', 'Sophomore'),\n",
       "            ('Height',    'Junior'),\n",
       "            ('Weight',  'Freshman'),\n",
       "            ('Weight',    'Senior'),\n",
       "            ('Weight', 'Sophomore'),\n",
       "            ('Weight',    'Junior')],\n",
       "           names=['test', 'Grade'])"
      ]
     },
     "execution_count": 77,
     "metadata": {},
     "output_type": "execute_result"
    }
   ],
   "source": [
    "# 创建一个列索引\n",
    "multi_column = pd.MultiIndex.from_product(\n",
    "    [['Height','Weight'],df.Grade.unique()],\n",
    "    names = ('test','Grade')\n",
    ")\n",
    "multi_column "
   ]
  },
  {
   "cell_type": "code",
   "execution_count": 78,
   "id": "e25594b2",
   "metadata": {},
   "outputs": [
    {
     "data": {
      "text/html": [
       "<div>\n",
       "<style scoped>\n",
       "    .dataframe tbody tr th:only-of-type {\n",
       "        vertical-align: middle;\n",
       "    }\n",
       "\n",
       "    .dataframe tbody tr th {\n",
       "        vertical-align: top;\n",
       "    }\n",
       "\n",
       "    .dataframe thead tr th {\n",
       "        text-align: left;\n",
       "    }\n",
       "\n",
       "    .dataframe thead tr:last-of-type th {\n",
       "        text-align: right;\n",
       "    }\n",
       "</style>\n",
       "<table border=\"1\" class=\"dataframe\">\n",
       "  <thead>\n",
       "    <tr>\n",
       "      <th></th>\n",
       "      <th>test</th>\n",
       "      <th colspan=\"4\" halign=\"left\">Height</th>\n",
       "      <th colspan=\"4\" halign=\"left\">Weight</th>\n",
       "    </tr>\n",
       "    <tr>\n",
       "      <th></th>\n",
       "      <th>Grade</th>\n",
       "      <th>Freshman</th>\n",
       "      <th>Senior</th>\n",
       "      <th>Sophomore</th>\n",
       "      <th>Junior</th>\n",
       "      <th>Freshman</th>\n",
       "      <th>Senior</th>\n",
       "      <th>Sophomore</th>\n",
       "      <th>Junior</th>\n",
       "    </tr>\n",
       "    <tr>\n",
       "      <th>School</th>\n",
       "      <th>Gender</th>\n",
       "      <th></th>\n",
       "      <th></th>\n",
       "      <th></th>\n",
       "      <th></th>\n",
       "      <th></th>\n",
       "      <th></th>\n",
       "      <th></th>\n",
       "      <th></th>\n",
       "    </tr>\n",
       "  </thead>\n",
       "  <tbody>\n",
       "    <tr>\n",
       "      <th rowspan=\"2\" valign=\"top\">A</th>\n",
       "      <th>Female</th>\n",
       "      <td>171.8</td>\n",
       "      <td>165.0</td>\n",
       "      <td>167.9</td>\n",
       "      <td>174.2</td>\n",
       "      <td>60.6</td>\n",
       "      <td>55.1</td>\n",
       "      <td>63.3</td>\n",
       "      <td>65.8</td>\n",
       "    </tr>\n",
       "    <tr>\n",
       "      <th>Male</th>\n",
       "      <td>172.3</td>\n",
       "      <td>158.1</td>\n",
       "      <td>167.8</td>\n",
       "      <td>162.2</td>\n",
       "      <td>71.2</td>\n",
       "      <td>71.0</td>\n",
       "      <td>63.1</td>\n",
       "      <td>63.5</td>\n",
       "    </tr>\n",
       "    <tr>\n",
       "      <th rowspan=\"2\" valign=\"top\">B</th>\n",
       "      <th>Female</th>\n",
       "      <td>162.5</td>\n",
       "      <td>165.1</td>\n",
       "      <td>163.7</td>\n",
       "      <td>170.3</td>\n",
       "      <td>59.8</td>\n",
       "      <td>57.9</td>\n",
       "      <td>56.5</td>\n",
       "      <td>74.8</td>\n",
       "    </tr>\n",
       "    <tr>\n",
       "      <th>Male</th>\n",
       "      <td>166.8</td>\n",
       "      <td>163.6</td>\n",
       "      <td>165.2</td>\n",
       "      <td>164.7</td>\n",
       "      <td>62.5</td>\n",
       "      <td>62.8</td>\n",
       "      <td>58.7</td>\n",
       "      <td>68.9</td>\n",
       "    </tr>\n",
       "    <tr>\n",
       "      <th rowspan=\"2\" valign=\"top\">C</th>\n",
       "      <th>Female</th>\n",
       "      <td>170.5</td>\n",
       "      <td>162.0</td>\n",
       "      <td>164.6</td>\n",
       "      <td>158.7</td>\n",
       "      <td>56.9</td>\n",
       "      <td>63.9</td>\n",
       "      <td>60.5</td>\n",
       "      <td>66.9</td>\n",
       "    </tr>\n",
       "    <tr>\n",
       "      <th>Male</th>\n",
       "      <td>150.2</td>\n",
       "      <td>166.3</td>\n",
       "      <td>167.3</td>\n",
       "      <td>159.3</td>\n",
       "      <td>62.4</td>\n",
       "      <td>59.1</td>\n",
       "      <td>64.9</td>\n",
       "      <td>67.1</td>\n",
       "    </tr>\n",
       "    <tr>\n",
       "      <th rowspan=\"2\" valign=\"top\">D</th>\n",
       "      <th>Female</th>\n",
       "      <td>174.3</td>\n",
       "      <td>155.7</td>\n",
       "      <td>163.2</td>\n",
       "      <td>162.1</td>\n",
       "      <td>65.3</td>\n",
       "      <td>66.5</td>\n",
       "      <td>61.8</td>\n",
       "      <td>63.2</td>\n",
       "    </tr>\n",
       "    <tr>\n",
       "      <th>Male</th>\n",
       "      <td>170.7</td>\n",
       "      <td>170.3</td>\n",
       "      <td>163.8</td>\n",
       "      <td>164.9</td>\n",
       "      <td>61.6</td>\n",
       "      <td>63.2</td>\n",
       "      <td>60.9</td>\n",
       "      <td>56.4</td>\n",
       "    </tr>\n",
       "  </tbody>\n",
       "</table>\n",
       "</div>"
      ],
      "text/plain": [
       "test            Height                           Weight                   \\\n",
       "Grade         Freshman Senior Sophomore Junior Freshman Senior Sophomore   \n",
       "School Gender                                                              \n",
       "A      Female    171.8  165.0     167.9  174.2     60.6   55.1      63.3   \n",
       "       Male      172.3  158.1     167.8  162.2     71.2   71.0      63.1   \n",
       "B      Female    162.5  165.1     163.7  170.3     59.8   57.9      56.5   \n",
       "       Male      166.8  163.6     165.2  164.7     62.5   62.8      58.7   \n",
       "C      Female    170.5  162.0     164.6  158.7     56.9   63.9      60.5   \n",
       "       Male      150.2  166.3     167.3  159.3     62.4   59.1      64.9   \n",
       "D      Female    174.3  155.7     163.2  162.1     65.3   66.5      61.8   \n",
       "       Male      170.7  170.3     163.8  164.9     61.6   63.2      60.9   \n",
       "\n",
       "test                  \n",
       "Grade         Junior  \n",
       "School Gender         \n",
       "A      Female   65.8  \n",
       "       Male     63.5  \n",
       "B      Female   74.8  \n",
       "       Male     68.9  \n",
       "C      Female   66.9  \n",
       "       Male     67.1  \n",
       "D      Female   63.2  \n",
       "       Male     56.4  "
      ]
     },
     "execution_count": 78,
     "metadata": {},
     "output_type": "execute_result"
    }
   ],
   "source": [
    "# 创建一个DF，将multi_index、multi_column组装进去\n",
    "df_multi = pd.DataFrame(np.c_[(np.random.randn(8,4)*5 + 163).tolist(),(np.random.randn(8,4)*5 +65).tolist()],\n",
    "                        index = multi_index,\n",
    "                        columns  = multi_column).round(1)\n",
    "df_multi\n"
   ]
  },
  {
   "cell_type": "code",
   "execution_count": 79,
   "id": "94b11b33",
   "metadata": {},
   "outputs": [
    {
     "data": {
      "text/plain": [
       "FrozenList(['School', 'Gender'])"
      ]
     },
     "execution_count": 79,
     "metadata": {},
     "output_type": "execute_result"
    }
   ],
   "source": [
    "# 查看行索引的名称\n",
    "# index属性:查看行索引\n",
    "# names: 索引的名称\n",
    "df_multi.index.names"
   ]
  },
  {
   "cell_type": "code",
   "execution_count": 80,
   "id": "fa4b2661",
   "metadata": {},
   "outputs": [
    {
     "data": {
      "text/plain": [
       "FrozenList(['test', 'Grade'])"
      ]
     },
     "execution_count": 80,
     "metadata": {},
     "output_type": "execute_result"
    }
   ],
   "source": [
    "# 查看列索引的名称\n",
    "df_multi.columns.names"
   ]
  },
  {
   "cell_type": "code",
   "execution_count": 81,
   "id": "859d8ac9",
   "metadata": {},
   "outputs": [
    {
     "data": {
      "text/plain": [
       "array([('A', 'Female'), ('A', 'Male'), ('B', 'Female'), ('B', 'Male'),\n",
       "       ('C', 'Female'), ('C', 'Male'), ('D', 'Female'), ('D', 'Male')],\n",
       "      dtype=object)"
      ]
     },
     "execution_count": 81,
     "metadata": {},
     "output_type": "execute_result"
    }
   ],
   "source": [
    "# 查看行索引的值\n",
    "df_multi.index.values"
   ]
  },
  {
   "cell_type": "code",
   "execution_count": 82,
   "id": "d751c7da",
   "metadata": {},
   "outputs": [
    {
     "data": {
      "text/plain": [
       "array([('Height', 'Freshman'), ('Height', 'Senior'),\n",
       "       ('Height', 'Sophomore'), ('Height', 'Junior'),\n",
       "       ('Weight', 'Freshman'), ('Weight', 'Senior'),\n",
       "       ('Weight', 'Sophomore'), ('Weight', 'Junior')], dtype=object)"
      ]
     },
     "execution_count": 82,
     "metadata": {},
     "output_type": "execute_result"
    }
   ],
   "source": [
    "# 查看列索引的值\n",
    "df_multi.columns.values"
   ]
  },
  {
   "cell_type": "code",
   "execution_count": 83,
   "id": "6181ccd5",
   "metadata": {},
   "outputs": [
    {
     "data": {
      "text/plain": [
       "Index(['A', 'A', 'B', 'B', 'C', 'C', 'D', 'D'], dtype='object', name='School')"
      ]
     },
     "execution_count": 83,
     "metadata": {},
     "output_type": "execute_result"
    }
   ],
   "source": [
    "#获取行索引的第一层的索引\n",
    "# get_level_values\n",
    "df_multi.index.get_level_values(0)"
   ]
  },
  {
   "cell_type": "markdown",
   "id": "54471bdc",
   "metadata": {},
   "source": [
    "# 多层索引的loc索引"
   ]
  },
  {
   "cell_type": "code",
   "execution_count": 84,
   "id": "a781dc03",
   "metadata": {},
   "outputs": [
    {
     "data": {
      "text/html": [
       "<div>\n",
       "<style scoped>\n",
       "    .dataframe tbody tr th:only-of-type {\n",
       "        vertical-align: middle;\n",
       "    }\n",
       "\n",
       "    .dataframe tbody tr th {\n",
       "        vertical-align: top;\n",
       "    }\n",
       "\n",
       "    .dataframe thead th {\n",
       "        text-align: right;\n",
       "    }\n",
       "</style>\n",
       "<table border=\"1\" class=\"dataframe\">\n",
       "  <thead>\n",
       "    <tr style=\"text-align: right;\">\n",
       "      <th></th>\n",
       "      <th>School</th>\n",
       "      <th>Grade</th>\n",
       "    </tr>\n",
       "  </thead>\n",
       "  <tbody>\n",
       "    <tr>\n",
       "      <th>0</th>\n",
       "      <td>A</td>\n",
       "      <td>Freshman</td>\n",
       "    </tr>\n",
       "    <tr>\n",
       "      <th>1</th>\n",
       "      <td>B</td>\n",
       "      <td>Freshman</td>\n",
       "    </tr>\n",
       "    <tr>\n",
       "      <th>2</th>\n",
       "      <td>A</td>\n",
       "      <td>Senior</td>\n",
       "    </tr>\n",
       "    <tr>\n",
       "      <th>3</th>\n",
       "      <td>C</td>\n",
       "      <td>Sophomore</td>\n",
       "    </tr>\n",
       "    <tr>\n",
       "      <th>4</th>\n",
       "      <td>C</td>\n",
       "      <td>Sophomore</td>\n",
       "    </tr>\n",
       "  </tbody>\n",
       "</table>\n",
       "</div>"
      ],
      "text/plain": [
       "  School      Grade\n",
       "0      A   Freshman\n",
       "1      B   Freshman\n",
       "2      A     Senior\n",
       "3      C  Sophomore\n",
       "4      C  Sophomore"
      ]
     },
     "execution_count": 84,
     "metadata": {},
     "output_type": "execute_result"
    }
   ],
   "source": [
    "df_demo = df[['School','Grade']]\n",
    "df_demo.head()"
   ]
  },
  {
   "cell_type": "code",
   "execution_count": 85,
   "id": "95e8b0f6",
   "metadata": {},
   "outputs": [
    {
     "data": {
      "text/html": [
       "<div>\n",
       "<style scoped>\n",
       "    .dataframe tbody tr th:only-of-type {\n",
       "        vertical-align: middle;\n",
       "    }\n",
       "\n",
       "    .dataframe tbody tr th {\n",
       "        vertical-align: top;\n",
       "    }\n",
       "\n",
       "    .dataframe thead th {\n",
       "        text-align: right;\n",
       "    }\n",
       "</style>\n",
       "<table border=\"1\" class=\"dataframe\">\n",
       "  <thead>\n",
       "    <tr style=\"text-align: right;\">\n",
       "      <th></th>\n",
       "      <th></th>\n",
       "      <th>Name</th>\n",
       "      <th>Gender</th>\n",
       "      <th>Height</th>\n",
       "      <th>Weight</th>\n",
       "      <th>Transfer</th>\n",
       "      <th>Test_Number</th>\n",
       "      <th>Test_Date</th>\n",
       "      <th>Time_Record</th>\n",
       "    </tr>\n",
       "    <tr>\n",
       "      <th>School</th>\n",
       "      <th>Grade</th>\n",
       "      <th></th>\n",
       "      <th></th>\n",
       "      <th></th>\n",
       "      <th></th>\n",
       "      <th></th>\n",
       "      <th></th>\n",
       "      <th></th>\n",
       "      <th></th>\n",
       "    </tr>\n",
       "  </thead>\n",
       "  <tbody>\n",
       "    <tr>\n",
       "      <th>A</th>\n",
       "      <th>Freshman</th>\n",
       "      <td>Gaopeng Yang</td>\n",
       "      <td>Female</td>\n",
       "      <td>158.9</td>\n",
       "      <td>46.0</td>\n",
       "      <td>N</td>\n",
       "      <td>1</td>\n",
       "      <td>2019/10/5</td>\n",
       "      <td>0:04:34</td>\n",
       "    </tr>\n",
       "    <tr>\n",
       "      <th>B</th>\n",
       "      <th>Freshman</th>\n",
       "      <td>Changqiang You</td>\n",
       "      <td>Male</td>\n",
       "      <td>166.5</td>\n",
       "      <td>70.0</td>\n",
       "      <td>N</td>\n",
       "      <td>1</td>\n",
       "      <td>2019/9/4</td>\n",
       "      <td>0:04:20</td>\n",
       "    </tr>\n",
       "    <tr>\n",
       "      <th>A</th>\n",
       "      <th>Senior</th>\n",
       "      <td>Mei Sun</td>\n",
       "      <td>Male</td>\n",
       "      <td>188.9</td>\n",
       "      <td>89.0</td>\n",
       "      <td>N</td>\n",
       "      <td>2</td>\n",
       "      <td>2019/9/12</td>\n",
       "      <td>0:05:22</td>\n",
       "    </tr>\n",
       "    <tr>\n",
       "      <th rowspan=\"2\" valign=\"top\">C</th>\n",
       "      <th>Sophomore</th>\n",
       "      <td>Xiaojuan Sun</td>\n",
       "      <td>Female</td>\n",
       "      <td>NaN</td>\n",
       "      <td>41.0</td>\n",
       "      <td>N</td>\n",
       "      <td>2</td>\n",
       "      <td>2020/1/3</td>\n",
       "      <td>0:04:08</td>\n",
       "    </tr>\n",
       "    <tr>\n",
       "      <th>Sophomore</th>\n",
       "      <td>Gaojuan You</td>\n",
       "      <td>Male</td>\n",
       "      <td>174.0</td>\n",
       "      <td>74.0</td>\n",
       "      <td>N</td>\n",
       "      <td>2</td>\n",
       "      <td>2019/11/6</td>\n",
       "      <td>0:05:22</td>\n",
       "    </tr>\n",
       "  </tbody>\n",
       "</table>\n",
       "</div>"
      ],
      "text/plain": [
       "                            Name  Gender  Height  Weight Transfer  \\\n",
       "School Grade                                                        \n",
       "A      Freshman     Gaopeng Yang  Female   158.9    46.0        N   \n",
       "B      Freshman   Changqiang You    Male   166.5    70.0        N   \n",
       "A      Senior            Mei Sun    Male   188.9    89.0        N   \n",
       "C      Sophomore    Xiaojuan Sun  Female     NaN    41.0        N   \n",
       "       Sophomore     Gaojuan You    Male   174.0    74.0        N   \n",
       "\n",
       "                  Test_Number  Test_Date Time_Record  \n",
       "School Grade                                          \n",
       "A      Freshman             1  2019/10/5     0:04:34  \n",
       "B      Freshman             1   2019/9/4     0:04:20  \n",
       "A      Senior               2  2019/9/12     0:05:22  \n",
       "C      Sophomore            2   2020/1/3     0:04:08  \n",
       "       Sophomore            2  2019/11/6     0:05:22  "
      ]
     },
     "execution_count": 85,
     "metadata": {},
     "output_type": "execute_result"
    }
   ],
   "source": [
    "df_multi = df.set_index(['School','Grade'])\n",
    "df_multi.head()"
   ]
  },
  {
   "cell_type": "code",
   "execution_count": 86,
   "id": "a7800aad",
   "metadata": {},
   "outputs": [
    {
     "data": {
      "text/html": [
       "<div>\n",
       "<style scoped>\n",
       "    .dataframe tbody tr th:only-of-type {\n",
       "        vertical-align: middle;\n",
       "    }\n",
       "\n",
       "    .dataframe tbody tr th {\n",
       "        vertical-align: top;\n",
       "    }\n",
       "\n",
       "    .dataframe thead th {\n",
       "        text-align: right;\n",
       "    }\n",
       "</style>\n",
       "<table border=\"1\" class=\"dataframe\">\n",
       "  <thead>\n",
       "    <tr style=\"text-align: right;\">\n",
       "      <th></th>\n",
       "      <th></th>\n",
       "      <th>Name</th>\n",
       "      <th>Gender</th>\n",
       "      <th>Height</th>\n",
       "      <th>Weight</th>\n",
       "      <th>Transfer</th>\n",
       "      <th>Test_Number</th>\n",
       "      <th>Test_Date</th>\n",
       "      <th>Time_Record</th>\n",
       "    </tr>\n",
       "    <tr>\n",
       "      <th>School</th>\n",
       "      <th>Grade</th>\n",
       "      <th></th>\n",
       "      <th></th>\n",
       "      <th></th>\n",
       "      <th></th>\n",
       "      <th></th>\n",
       "      <th></th>\n",
       "      <th></th>\n",
       "      <th></th>\n",
       "    </tr>\n",
       "  </thead>\n",
       "  <tbody>\n",
       "    <tr>\n",
       "      <th rowspan=\"5\" valign=\"top\">A</th>\n",
       "      <th>Freshman</th>\n",
       "      <td>Gaopeng Yang</td>\n",
       "      <td>Female</td>\n",
       "      <td>158.9</td>\n",
       "      <td>46.0</td>\n",
       "      <td>N</td>\n",
       "      <td>1</td>\n",
       "      <td>2019/10/5</td>\n",
       "      <td>0:04:34</td>\n",
       "    </tr>\n",
       "    <tr>\n",
       "      <th>Freshman</th>\n",
       "      <td>Qiang Chu</td>\n",
       "      <td>Female</td>\n",
       "      <td>162.5</td>\n",
       "      <td>52.0</td>\n",
       "      <td>N</td>\n",
       "      <td>1</td>\n",
       "      <td>2019/12/12</td>\n",
       "      <td>0:03:53</td>\n",
       "    </tr>\n",
       "    <tr>\n",
       "      <th>Freshman</th>\n",
       "      <td>Xiaopeng Zhou</td>\n",
       "      <td>Male</td>\n",
       "      <td>174.1</td>\n",
       "      <td>74.0</td>\n",
       "      <td>N</td>\n",
       "      <td>1</td>\n",
       "      <td>2019/9/29</td>\n",
       "      <td>0:05:16</td>\n",
       "    </tr>\n",
       "    <tr>\n",
       "      <th>Freshman</th>\n",
       "      <td>Yanpeng Lv</td>\n",
       "      <td>Male</td>\n",
       "      <td>NaN</td>\n",
       "      <td>65.0</td>\n",
       "      <td>N</td>\n",
       "      <td>1</td>\n",
       "      <td>2019/11/17</td>\n",
       "      <td>0:04:13</td>\n",
       "    </tr>\n",
       "    <tr>\n",
       "      <th>Freshman</th>\n",
       "      <td>Xiaopeng Zhao</td>\n",
       "      <td>Female</td>\n",
       "      <td>161.0</td>\n",
       "      <td>53.0</td>\n",
       "      <td>N</td>\n",
       "      <td>3</td>\n",
       "      <td>2019/9/25</td>\n",
       "      <td>0:05:13</td>\n",
       "    </tr>\n",
       "    <tr>\n",
       "      <th>...</th>\n",
       "      <th>...</th>\n",
       "      <td>...</td>\n",
       "      <td>...</td>\n",
       "      <td>...</td>\n",
       "      <td>...</td>\n",
       "      <td>...</td>\n",
       "      <td>...</td>\n",
       "      <td>...</td>\n",
       "      <td>...</td>\n",
       "    </tr>\n",
       "    <tr>\n",
       "      <th rowspan=\"5\" valign=\"top\">D</th>\n",
       "      <th>Sophomore</th>\n",
       "      <td>Feng Qian</td>\n",
       "      <td>Female</td>\n",
       "      <td>156.4</td>\n",
       "      <td>43.0</td>\n",
       "      <td>N</td>\n",
       "      <td>2</td>\n",
       "      <td>2019/11/5</td>\n",
       "      <td>0:05:07</td>\n",
       "    </tr>\n",
       "    <tr>\n",
       "      <th>Sophomore</th>\n",
       "      <td>Li Qin</td>\n",
       "      <td>Male</td>\n",
       "      <td>NaN</td>\n",
       "      <td>76.0</td>\n",
       "      <td>N</td>\n",
       "      <td>3</td>\n",
       "      <td>2020/1/7</td>\n",
       "      <td>0:05:19</td>\n",
       "    </tr>\n",
       "    <tr>\n",
       "      <th>Sophomore</th>\n",
       "      <td>Yanjuan You</td>\n",
       "      <td>Male</td>\n",
       "      <td>NaN</td>\n",
       "      <td>55.0</td>\n",
       "      <td>N</td>\n",
       "      <td>1</td>\n",
       "      <td>2019/11/23</td>\n",
       "      <td>0:03:50</td>\n",
       "    </tr>\n",
       "    <tr>\n",
       "      <th>Sophomore</th>\n",
       "      <td>Xiaoqiang Qian</td>\n",
       "      <td>Male</td>\n",
       "      <td>170.5</td>\n",
       "      <td>73.0</td>\n",
       "      <td>N</td>\n",
       "      <td>3</td>\n",
       "      <td>2019/10/3</td>\n",
       "      <td>0:04:11</td>\n",
       "    </tr>\n",
       "    <tr>\n",
       "      <th>Sophomore</th>\n",
       "      <td>Chunpeng Lv</td>\n",
       "      <td>Male</td>\n",
       "      <td>155.7</td>\n",
       "      <td>51.0</td>\n",
       "      <td>N</td>\n",
       "      <td>1</td>\n",
       "      <td>2019/11/6</td>\n",
       "      <td>0:05:05</td>\n",
       "    </tr>\n",
       "  </tbody>\n",
       "</table>\n",
       "<p>200 rows × 8 columns</p>\n",
       "</div>"
      ],
      "text/plain": [
       "                            Name  Gender  Height  Weight Transfer  \\\n",
       "School Grade                                                        \n",
       "A      Freshman     Gaopeng Yang  Female   158.9    46.0        N   \n",
       "       Freshman        Qiang Chu  Female   162.5    52.0        N   \n",
       "       Freshman    Xiaopeng Zhou    Male   174.1    74.0        N   \n",
       "       Freshman       Yanpeng Lv    Male     NaN    65.0        N   \n",
       "       Freshman    Xiaopeng Zhao  Female   161.0    53.0        N   \n",
       "...                          ...     ...     ...     ...      ...   \n",
       "D      Sophomore       Feng Qian  Female   156.4    43.0        N   \n",
       "       Sophomore          Li Qin    Male     NaN    76.0        N   \n",
       "       Sophomore     Yanjuan You    Male     NaN    55.0        N   \n",
       "       Sophomore  Xiaoqiang Qian    Male   170.5    73.0        N   \n",
       "       Sophomore     Chunpeng Lv    Male   155.7    51.0        N   \n",
       "\n",
       "                  Test_Number   Test_Date Time_Record  \n",
       "School Grade                                           \n",
       "A      Freshman             1   2019/10/5     0:04:34  \n",
       "       Freshman             1  2019/12/12     0:03:53  \n",
       "       Freshman             1   2019/9/29     0:05:16  \n",
       "       Freshman             1  2019/11/17     0:04:13  \n",
       "       Freshman             3   2019/9/25     0:05:13  \n",
       "...                       ...         ...         ...  \n",
       "D      Sophomore            2   2019/11/5     0:05:07  \n",
       "       Sophomore            3    2020/1/7     0:05:19  \n",
       "       Sophomore            1  2019/11/23     0:03:50  \n",
       "       Sophomore            3   2019/10/3     0:04:11  \n",
       "       Sophomore            1   2019/11/6     0:05:05  \n",
       "\n",
       "[200 rows x 8 columns]"
      ]
     },
     "execution_count": 86,
     "metadata": {},
     "output_type": "execute_result"
    }
   ],
   "source": [
    "df_multi = df_multi.sort_index()\n",
    "df_multi"
   ]
  },
  {
   "cell_type": "code",
   "execution_count": 87,
   "id": "5376b69d",
   "metadata": {},
   "outputs": [
    {
     "data": {
      "text/html": [
       "<div>\n",
       "<style scoped>\n",
       "    .dataframe tbody tr th:only-of-type {\n",
       "        vertical-align: middle;\n",
       "    }\n",
       "\n",
       "    .dataframe tbody tr th {\n",
       "        vertical-align: top;\n",
       "    }\n",
       "\n",
       "    .dataframe thead th {\n",
       "        text-align: right;\n",
       "    }\n",
       "</style>\n",
       "<table border=\"1\" class=\"dataframe\">\n",
       "  <thead>\n",
       "    <tr style=\"text-align: right;\">\n",
       "      <th></th>\n",
       "      <th></th>\n",
       "      <th>Name</th>\n",
       "      <th>Gender</th>\n",
       "      <th>Height</th>\n",
       "      <th>Weight</th>\n",
       "      <th>Transfer</th>\n",
       "      <th>Test_Number</th>\n",
       "      <th>Test_Date</th>\n",
       "      <th>Time_Record</th>\n",
       "    </tr>\n",
       "    <tr>\n",
       "      <th>School</th>\n",
       "      <th>Grade</th>\n",
       "      <th></th>\n",
       "      <th></th>\n",
       "      <th></th>\n",
       "      <th></th>\n",
       "      <th></th>\n",
       "      <th></th>\n",
       "      <th></th>\n",
       "      <th></th>\n",
       "    </tr>\n",
       "  </thead>\n",
       "  <tbody>\n",
       "    <tr>\n",
       "      <th rowspan=\"5\" valign=\"top\">A</th>\n",
       "      <th>Freshman</th>\n",
       "      <td>Gaopeng Yang</td>\n",
       "      <td>Female</td>\n",
       "      <td>158.9</td>\n",
       "      <td>46.0</td>\n",
       "      <td>N</td>\n",
       "      <td>1</td>\n",
       "      <td>2019/10/5</td>\n",
       "      <td>0:04:34</td>\n",
       "    </tr>\n",
       "    <tr>\n",
       "      <th>Freshman</th>\n",
       "      <td>Qiang Chu</td>\n",
       "      <td>Female</td>\n",
       "      <td>162.5</td>\n",
       "      <td>52.0</td>\n",
       "      <td>N</td>\n",
       "      <td>1</td>\n",
       "      <td>2019/12/12</td>\n",
       "      <td>0:03:53</td>\n",
       "    </tr>\n",
       "    <tr>\n",
       "      <th>Freshman</th>\n",
       "      <td>Xiaopeng Zhou</td>\n",
       "      <td>Male</td>\n",
       "      <td>174.1</td>\n",
       "      <td>74.0</td>\n",
       "      <td>N</td>\n",
       "      <td>1</td>\n",
       "      <td>2019/9/29</td>\n",
       "      <td>0:05:16</td>\n",
       "    </tr>\n",
       "    <tr>\n",
       "      <th>Freshman</th>\n",
       "      <td>Yanpeng Lv</td>\n",
       "      <td>Male</td>\n",
       "      <td>NaN</td>\n",
       "      <td>65.0</td>\n",
       "      <td>N</td>\n",
       "      <td>1</td>\n",
       "      <td>2019/11/17</td>\n",
       "      <td>0:04:13</td>\n",
       "    </tr>\n",
       "    <tr>\n",
       "      <th>Freshman</th>\n",
       "      <td>Xiaopeng Zhao</td>\n",
       "      <td>Female</td>\n",
       "      <td>161.0</td>\n",
       "      <td>53.0</td>\n",
       "      <td>N</td>\n",
       "      <td>3</td>\n",
       "      <td>2019/9/25</td>\n",
       "      <td>0:05:13</td>\n",
       "    </tr>\n",
       "  </tbody>\n",
       "</table>\n",
       "</div>"
      ],
      "text/plain": [
       "                          Name  Gender  Height  Weight Transfer  Test_Number  \\\n",
       "School Grade                                                                   \n",
       "A      Freshman   Gaopeng Yang  Female   158.9    46.0        N            1   \n",
       "       Freshman      Qiang Chu  Female   162.5    52.0        N            1   \n",
       "       Freshman  Xiaopeng Zhou    Male   174.1    74.0        N            1   \n",
       "       Freshman     Yanpeng Lv    Male     NaN    65.0        N            1   \n",
       "       Freshman  Xiaopeng Zhao  Female   161.0    53.0        N            3   \n",
       "\n",
       "                  Test_Date Time_Record  \n",
       "School Grade                             \n",
       "A      Freshman   2019/10/5     0:04:34  \n",
       "       Freshman  2019/12/12     0:03:53  \n",
       "       Freshman   2019/9/29     0:05:16  \n",
       "       Freshman  2019/11/17     0:04:13  \n",
       "       Freshman   2019/9/25     0:05:13  "
      ]
     },
     "execution_count": 87,
     "metadata": {},
     "output_type": "execute_result"
    }
   ],
   "source": [
    "# 查看特定行的值\n",
    "df_multi.loc[('A','Freshman')].head()"
   ]
  },
  {
   "cell_type": "code",
   "execution_count": 88,
   "id": "132d0f5d",
   "metadata": {},
   "outputs": [
    {
     "data": {
      "text/html": [
       "<div>\n",
       "<style scoped>\n",
       "    .dataframe tbody tr th:only-of-type {\n",
       "        vertical-align: middle;\n",
       "    }\n",
       "\n",
       "    .dataframe tbody tr th {\n",
       "        vertical-align: top;\n",
       "    }\n",
       "\n",
       "    .dataframe thead th {\n",
       "        text-align: right;\n",
       "    }\n",
       "</style>\n",
       "<table border=\"1\" class=\"dataframe\">\n",
       "  <thead>\n",
       "    <tr style=\"text-align: right;\">\n",
       "      <th></th>\n",
       "      <th></th>\n",
       "      <th>Name</th>\n",
       "      <th>Gender</th>\n",
       "      <th>Height</th>\n",
       "      <th>Weight</th>\n",
       "      <th>Transfer</th>\n",
       "      <th>Test_Number</th>\n",
       "      <th>Test_Date</th>\n",
       "      <th>Time_Record</th>\n",
       "    </tr>\n",
       "    <tr>\n",
       "      <th>School</th>\n",
       "      <th>Grade</th>\n",
       "      <th></th>\n",
       "      <th></th>\n",
       "      <th></th>\n",
       "      <th></th>\n",
       "      <th></th>\n",
       "      <th></th>\n",
       "      <th></th>\n",
       "      <th></th>\n",
       "    </tr>\n",
       "  </thead>\n",
       "  <tbody>\n",
       "    <tr>\n",
       "      <th rowspan=\"13\" valign=\"top\">A</th>\n",
       "      <th>Freshman</th>\n",
       "      <td>Gaopeng Yang</td>\n",
       "      <td>Female</td>\n",
       "      <td>158.9</td>\n",
       "      <td>46.0</td>\n",
       "      <td>N</td>\n",
       "      <td>1</td>\n",
       "      <td>2019/10/5</td>\n",
       "      <td>0:04:34</td>\n",
       "    </tr>\n",
       "    <tr>\n",
       "      <th>Freshman</th>\n",
       "      <td>Qiang Chu</td>\n",
       "      <td>Female</td>\n",
       "      <td>162.5</td>\n",
       "      <td>52.0</td>\n",
       "      <td>N</td>\n",
       "      <td>1</td>\n",
       "      <td>2019/12/12</td>\n",
       "      <td>0:03:53</td>\n",
       "    </tr>\n",
       "    <tr>\n",
       "      <th>Freshman</th>\n",
       "      <td>Xiaopeng Zhou</td>\n",
       "      <td>Male</td>\n",
       "      <td>174.1</td>\n",
       "      <td>74.0</td>\n",
       "      <td>N</td>\n",
       "      <td>1</td>\n",
       "      <td>2019/9/29</td>\n",
       "      <td>0:05:16</td>\n",
       "    </tr>\n",
       "    <tr>\n",
       "      <th>Freshman</th>\n",
       "      <td>Yanpeng Lv</td>\n",
       "      <td>Male</td>\n",
       "      <td>NaN</td>\n",
       "      <td>65.0</td>\n",
       "      <td>N</td>\n",
       "      <td>1</td>\n",
       "      <td>2019/11/17</td>\n",
       "      <td>0:04:13</td>\n",
       "    </tr>\n",
       "    <tr>\n",
       "      <th>Freshman</th>\n",
       "      <td>Xiaopeng Zhao</td>\n",
       "      <td>Female</td>\n",
       "      <td>161.0</td>\n",
       "      <td>53.0</td>\n",
       "      <td>N</td>\n",
       "      <td>3</td>\n",
       "      <td>2019/9/25</td>\n",
       "      <td>0:05:13</td>\n",
       "    </tr>\n",
       "    <tr>\n",
       "      <th>Freshman</th>\n",
       "      <td>Chunli Zhao</td>\n",
       "      <td>Male</td>\n",
       "      <td>180.2</td>\n",
       "      <td>83.0</td>\n",
       "      <td>N</td>\n",
       "      <td>1</td>\n",
       "      <td>2020/1/7</td>\n",
       "      <td>0:04:33</td>\n",
       "    </tr>\n",
       "    <tr>\n",
       "      <th>Freshman</th>\n",
       "      <td>Peng Zhang</td>\n",
       "      <td>Female</td>\n",
       "      <td>163.1</td>\n",
       "      <td>NaN</td>\n",
       "      <td>N</td>\n",
       "      <td>3</td>\n",
       "      <td>2019/9/23</td>\n",
       "      <td>0:04:31</td>\n",
       "    </tr>\n",
       "    <tr>\n",
       "      <th>Freshman</th>\n",
       "      <td>Xiaoquan Sun</td>\n",
       "      <td>Female</td>\n",
       "      <td>154.6</td>\n",
       "      <td>40.0</td>\n",
       "      <td>N</td>\n",
       "      <td>3</td>\n",
       "      <td>2019/11/12</td>\n",
       "      <td>0:04:05</td>\n",
       "    </tr>\n",
       "    <tr>\n",
       "      <th>Freshman</th>\n",
       "      <td>Chunmei Shi</td>\n",
       "      <td>Female</td>\n",
       "      <td>164.9</td>\n",
       "      <td>52.0</td>\n",
       "      <td>N</td>\n",
       "      <td>1</td>\n",
       "      <td>2019/9/8</td>\n",
       "      <td>0:03:33</td>\n",
       "    </tr>\n",
       "    <tr>\n",
       "      <th>Freshman</th>\n",
       "      <td>Xiaomei Yang</td>\n",
       "      <td>Female</td>\n",
       "      <td>159.3</td>\n",
       "      <td>49.0</td>\n",
       "      <td>N</td>\n",
       "      <td>1</td>\n",
       "      <td>2019/9/17</td>\n",
       "      <td>0:04:22</td>\n",
       "    </tr>\n",
       "    <tr>\n",
       "      <th>Freshman</th>\n",
       "      <td>Xiaofeng Qian</td>\n",
       "      <td>Female</td>\n",
       "      <td>158.5</td>\n",
       "      <td>49.0</td>\n",
       "      <td>N</td>\n",
       "      <td>1</td>\n",
       "      <td>2019/10/19</td>\n",
       "      <td>0:05:26</td>\n",
       "    </tr>\n",
       "    <tr>\n",
       "      <th>Freshman</th>\n",
       "      <td>Changmei Lv</td>\n",
       "      <td>Male</td>\n",
       "      <td>172.2</td>\n",
       "      <td>75.0</td>\n",
       "      <td>N</td>\n",
       "      <td>1</td>\n",
       "      <td>2019/10/6</td>\n",
       "      <td>0:04:15</td>\n",
       "    </tr>\n",
       "    <tr>\n",
       "      <th>Freshman</th>\n",
       "      <td>Qiang Feng</td>\n",
       "      <td>Male</td>\n",
       "      <td>178.9</td>\n",
       "      <td>80.0</td>\n",
       "      <td>N</td>\n",
       "      <td>2</td>\n",
       "      <td>2019/12/6</td>\n",
       "      <td>0:04:23</td>\n",
       "    </tr>\n",
       "    <tr>\n",
       "      <th rowspan=\"5\" valign=\"top\">B</th>\n",
       "      <th>Sophomore</th>\n",
       "      <td>Changmei Xu</td>\n",
       "      <td>Female</td>\n",
       "      <td>151.6</td>\n",
       "      <td>43.0</td>\n",
       "      <td>N</td>\n",
       "      <td>2</td>\n",
       "      <td>2020/1/3</td>\n",
       "      <td>0:04:28</td>\n",
       "    </tr>\n",
       "    <tr>\n",
       "      <th>Sophomore</th>\n",
       "      <td>Xiaopeng Qin</td>\n",
       "      <td>Male</td>\n",
       "      <td>172.8</td>\n",
       "      <td>NaN</td>\n",
       "      <td>N</td>\n",
       "      <td>1</td>\n",
       "      <td>2019/12/23</td>\n",
       "      <td>0:05:29</td>\n",
       "    </tr>\n",
       "    <tr>\n",
       "      <th>Sophomore</th>\n",
       "      <td>Mei Xu</td>\n",
       "      <td>Female</td>\n",
       "      <td>154.2</td>\n",
       "      <td>39.0</td>\n",
       "      <td>N</td>\n",
       "      <td>2</td>\n",
       "      <td>2019/11/5</td>\n",
       "      <td>0:04:29</td>\n",
       "    </tr>\n",
       "    <tr>\n",
       "      <th>Sophomore</th>\n",
       "      <td>Xiaoli Zhou</td>\n",
       "      <td>Female</td>\n",
       "      <td>166.8</td>\n",
       "      <td>55.0</td>\n",
       "      <td>N</td>\n",
       "      <td>1</td>\n",
       "      <td>2019/10/28</td>\n",
       "      <td>0:05:24</td>\n",
       "    </tr>\n",
       "    <tr>\n",
       "      <th>Sophomore</th>\n",
       "      <td>Peng Han</td>\n",
       "      <td>Female</td>\n",
       "      <td>147.8</td>\n",
       "      <td>34.0</td>\n",
       "      <td>NaN</td>\n",
       "      <td>2</td>\n",
       "      <td>2019/9/19</td>\n",
       "      <td>0:03:32</td>\n",
       "    </tr>\n",
       "  </tbody>\n",
       "</table>\n",
       "</div>"
      ],
      "text/plain": [
       "                           Name  Gender  Height  Weight Transfer  Test_Number  \\\n",
       "School Grade                                                                    \n",
       "A      Freshman    Gaopeng Yang  Female   158.9    46.0        N            1   \n",
       "       Freshman       Qiang Chu  Female   162.5    52.0        N            1   \n",
       "       Freshman   Xiaopeng Zhou    Male   174.1    74.0        N            1   \n",
       "       Freshman      Yanpeng Lv    Male     NaN    65.0        N            1   \n",
       "       Freshman   Xiaopeng Zhao  Female   161.0    53.0        N            3   \n",
       "       Freshman     Chunli Zhao    Male   180.2    83.0        N            1   \n",
       "       Freshman      Peng Zhang  Female   163.1     NaN        N            3   \n",
       "       Freshman    Xiaoquan Sun  Female   154.6    40.0        N            3   \n",
       "       Freshman     Chunmei Shi  Female   164.9    52.0        N            1   \n",
       "       Freshman    Xiaomei Yang  Female   159.3    49.0        N            1   \n",
       "       Freshman   Xiaofeng Qian  Female   158.5    49.0        N            1   \n",
       "       Freshman     Changmei Lv    Male   172.2    75.0        N            1   \n",
       "       Freshman      Qiang Feng    Male   178.9    80.0        N            2   \n",
       "B      Sophomore    Changmei Xu  Female   151.6    43.0        N            2   \n",
       "       Sophomore   Xiaopeng Qin    Male   172.8     NaN        N            1   \n",
       "       Sophomore         Mei Xu  Female   154.2    39.0        N            2   \n",
       "       Sophomore    Xiaoli Zhou  Female   166.8    55.0        N            1   \n",
       "       Sophomore       Peng Han  Female   147.8    34.0      NaN            2   \n",
       "\n",
       "                   Test_Date Time_Record  \n",
       "School Grade                              \n",
       "A      Freshman    2019/10/5     0:04:34  \n",
       "       Freshman   2019/12/12     0:03:53  \n",
       "       Freshman    2019/9/29     0:05:16  \n",
       "       Freshman   2019/11/17     0:04:13  \n",
       "       Freshman    2019/9/25     0:05:13  \n",
       "       Freshman     2020/1/7     0:04:33  \n",
       "       Freshman    2019/9/23     0:04:31  \n",
       "       Freshman   2019/11/12     0:04:05  \n",
       "       Freshman     2019/9/8     0:03:33  \n",
       "       Freshman    2019/9/17     0:04:22  \n",
       "       Freshman   2019/10/19     0:05:26  \n",
       "       Freshman    2019/10/6     0:04:15  \n",
       "       Freshman    2019/12/6     0:04:23  \n",
       "B      Sophomore    2020/1/3     0:04:28  \n",
       "       Sophomore  2019/12/23     0:05:29  \n",
       "       Sophomore   2019/11/5     0:04:29  \n",
       "       Sophomore  2019/10/28     0:05:24  \n",
       "       Sophomore   2019/9/19     0:03:32  "
      ]
     },
     "execution_count": 88,
     "metadata": {},
     "output_type": "execute_result"
    }
   ],
   "source": [
    "# 选择A和B中的Freshman\n",
    "df_multi.loc[[('A','Freshman'),('B','Sophomore')]].head(20)"
   ]
  },
  {
   "cell_type": "code",
   "execution_count": 89,
   "id": "724cd8e6",
   "metadata": {},
   "outputs": [
    {
     "data": {
      "text/html": [
       "<div>\n",
       "<style scoped>\n",
       "    .dataframe tbody tr th:only-of-type {\n",
       "        vertical-align: middle;\n",
       "    }\n",
       "\n",
       "    .dataframe tbody tr th {\n",
       "        vertical-align: top;\n",
       "    }\n",
       "\n",
       "    .dataframe thead th {\n",
       "        text-align: right;\n",
       "    }\n",
       "</style>\n",
       "<table border=\"1\" class=\"dataframe\">\n",
       "  <thead>\n",
       "    <tr style=\"text-align: right;\">\n",
       "      <th></th>\n",
       "      <th></th>\n",
       "      <th>Name</th>\n",
       "      <th>Gender</th>\n",
       "      <th>Height</th>\n",
       "      <th>Weight</th>\n",
       "      <th>Transfer</th>\n",
       "      <th>Test_Number</th>\n",
       "      <th>Test_Date</th>\n",
       "      <th>Time_Record</th>\n",
       "    </tr>\n",
       "    <tr>\n",
       "      <th>School</th>\n",
       "      <th>Grade</th>\n",
       "      <th></th>\n",
       "      <th></th>\n",
       "      <th></th>\n",
       "      <th></th>\n",
       "      <th></th>\n",
       "      <th></th>\n",
       "      <th></th>\n",
       "      <th></th>\n",
       "    </tr>\n",
       "  </thead>\n",
       "  <tbody>\n",
       "    <tr>\n",
       "      <th rowspan=\"5\" valign=\"top\">A</th>\n",
       "      <th>Freshman</th>\n",
       "      <td>Qiang Chu</td>\n",
       "      <td>Female</td>\n",
       "      <td>162.5</td>\n",
       "      <td>52.0</td>\n",
       "      <td>N</td>\n",
       "      <td>1</td>\n",
       "      <td>2019/12/12</td>\n",
       "      <td>0:03:53</td>\n",
       "    </tr>\n",
       "    <tr>\n",
       "      <th>Freshman</th>\n",
       "      <td>Xiaopeng Zhou</td>\n",
       "      <td>Male</td>\n",
       "      <td>174.1</td>\n",
       "      <td>74.0</td>\n",
       "      <td>N</td>\n",
       "      <td>1</td>\n",
       "      <td>2019/9/29</td>\n",
       "      <td>0:05:16</td>\n",
       "    </tr>\n",
       "    <tr>\n",
       "      <th>Freshman</th>\n",
       "      <td>Yanpeng Lv</td>\n",
       "      <td>Male</td>\n",
       "      <td>NaN</td>\n",
       "      <td>65.0</td>\n",
       "      <td>N</td>\n",
       "      <td>1</td>\n",
       "      <td>2019/11/17</td>\n",
       "      <td>0:04:13</td>\n",
       "    </tr>\n",
       "    <tr>\n",
       "      <th>Freshman</th>\n",
       "      <td>Xiaopeng Zhao</td>\n",
       "      <td>Female</td>\n",
       "      <td>161.0</td>\n",
       "      <td>53.0</td>\n",
       "      <td>N</td>\n",
       "      <td>3</td>\n",
       "      <td>2019/9/25</td>\n",
       "      <td>0:05:13</td>\n",
       "    </tr>\n",
       "    <tr>\n",
       "      <th>Freshman</th>\n",
       "      <td>Chunli Zhao</td>\n",
       "      <td>Male</td>\n",
       "      <td>180.2</td>\n",
       "      <td>83.0</td>\n",
       "      <td>N</td>\n",
       "      <td>1</td>\n",
       "      <td>2020/1/7</td>\n",
       "      <td>0:04:33</td>\n",
       "    </tr>\n",
       "  </tbody>\n",
       "</table>\n",
       "</div>"
      ],
      "text/plain": [
       "                          Name  Gender  Height  Weight Transfer  Test_Number  \\\n",
       "School Grade                                                                   \n",
       "A      Freshman      Qiang Chu  Female   162.5    52.0        N            1   \n",
       "       Freshman  Xiaopeng Zhou    Male   174.1    74.0        N            1   \n",
       "       Freshman     Yanpeng Lv    Male     NaN    65.0        N            1   \n",
       "       Freshman  Xiaopeng Zhao  Female   161.0    53.0        N            3   \n",
       "       Freshman    Chunli Zhao    Male   180.2    83.0        N            1   \n",
       "\n",
       "                  Test_Date Time_Record  \n",
       "School Grade                             \n",
       "A      Freshman  2019/12/12     0:03:53  \n",
       "       Freshman   2019/9/29     0:05:16  \n",
       "       Freshman  2019/11/17     0:04:13  \n",
       "       Freshman   2019/9/25     0:05:13  \n",
       "       Freshman    2020/1/7     0:04:33  "
      ]
     },
     "execution_count": 89,
     "metadata": {},
     "output_type": "execute_result"
    }
   ],
   "source": [
    "#筛选出体重大于50\n",
    "df_multi.loc[df_multi.Weight > 50].head()"
   ]
  },
  {
   "cell_type": "code",
   "execution_count": 90,
   "id": "014c1953",
   "metadata": {},
   "outputs": [
    {
     "data": {
      "text/html": [
       "<div>\n",
       "<style scoped>\n",
       "    .dataframe tbody tr th:only-of-type {\n",
       "        vertical-align: middle;\n",
       "    }\n",
       "\n",
       "    .dataframe tbody tr th {\n",
       "        vertical-align: top;\n",
       "    }\n",
       "\n",
       "    .dataframe thead th {\n",
       "        text-align: right;\n",
       "    }\n",
       "</style>\n",
       "<table border=\"1\" class=\"dataframe\">\n",
       "  <thead>\n",
       "    <tr style=\"text-align: right;\">\n",
       "      <th></th>\n",
       "      <th></th>\n",
       "      <th>Name</th>\n",
       "      <th>Gender</th>\n",
       "      <th>Height</th>\n",
       "      <th>Weight</th>\n",
       "      <th>Transfer</th>\n",
       "      <th>Test_Number</th>\n",
       "      <th>Test_Date</th>\n",
       "      <th>Time_Record</th>\n",
       "    </tr>\n",
       "    <tr>\n",
       "      <th>School</th>\n",
       "      <th>Grade</th>\n",
       "      <th></th>\n",
       "      <th></th>\n",
       "      <th></th>\n",
       "      <th></th>\n",
       "      <th></th>\n",
       "      <th></th>\n",
       "      <th></th>\n",
       "      <th></th>\n",
       "    </tr>\n",
       "  </thead>\n",
       "  <tbody>\n",
       "    <tr>\n",
       "      <th rowspan=\"13\" valign=\"top\">A</th>\n",
       "      <th>Freshman</th>\n",
       "      <td>Gaopeng Yang</td>\n",
       "      <td>Female</td>\n",
       "      <td>158.9</td>\n",
       "      <td>46.0</td>\n",
       "      <td>N</td>\n",
       "      <td>1</td>\n",
       "      <td>2019/10/5</td>\n",
       "      <td>0:04:34</td>\n",
       "    </tr>\n",
       "    <tr>\n",
       "      <th>Freshman</th>\n",
       "      <td>Qiang Chu</td>\n",
       "      <td>Female</td>\n",
       "      <td>162.5</td>\n",
       "      <td>52.0</td>\n",
       "      <td>N</td>\n",
       "      <td>1</td>\n",
       "      <td>2019/12/12</td>\n",
       "      <td>0:03:53</td>\n",
       "    </tr>\n",
       "    <tr>\n",
       "      <th>Freshman</th>\n",
       "      <td>Xiaopeng Zhou</td>\n",
       "      <td>Male</td>\n",
       "      <td>174.1</td>\n",
       "      <td>74.0</td>\n",
       "      <td>N</td>\n",
       "      <td>1</td>\n",
       "      <td>2019/9/29</td>\n",
       "      <td>0:05:16</td>\n",
       "    </tr>\n",
       "    <tr>\n",
       "      <th>Freshman</th>\n",
       "      <td>Yanpeng Lv</td>\n",
       "      <td>Male</td>\n",
       "      <td>NaN</td>\n",
       "      <td>65.0</td>\n",
       "      <td>N</td>\n",
       "      <td>1</td>\n",
       "      <td>2019/11/17</td>\n",
       "      <td>0:04:13</td>\n",
       "    </tr>\n",
       "    <tr>\n",
       "      <th>Freshman</th>\n",
       "      <td>Xiaopeng Zhao</td>\n",
       "      <td>Female</td>\n",
       "      <td>161.0</td>\n",
       "      <td>53.0</td>\n",
       "      <td>N</td>\n",
       "      <td>3</td>\n",
       "      <td>2019/9/25</td>\n",
       "      <td>0:05:13</td>\n",
       "    </tr>\n",
       "    <tr>\n",
       "      <th>Freshman</th>\n",
       "      <td>Chunli Zhao</td>\n",
       "      <td>Male</td>\n",
       "      <td>180.2</td>\n",
       "      <td>83.0</td>\n",
       "      <td>N</td>\n",
       "      <td>1</td>\n",
       "      <td>2020/1/7</td>\n",
       "      <td>0:04:33</td>\n",
       "    </tr>\n",
       "    <tr>\n",
       "      <th>Freshman</th>\n",
       "      <td>Peng Zhang</td>\n",
       "      <td>Female</td>\n",
       "      <td>163.1</td>\n",
       "      <td>NaN</td>\n",
       "      <td>N</td>\n",
       "      <td>3</td>\n",
       "      <td>2019/9/23</td>\n",
       "      <td>0:04:31</td>\n",
       "    </tr>\n",
       "    <tr>\n",
       "      <th>Freshman</th>\n",
       "      <td>Xiaoquan Sun</td>\n",
       "      <td>Female</td>\n",
       "      <td>154.6</td>\n",
       "      <td>40.0</td>\n",
       "      <td>N</td>\n",
       "      <td>3</td>\n",
       "      <td>2019/11/12</td>\n",
       "      <td>0:04:05</td>\n",
       "    </tr>\n",
       "    <tr>\n",
       "      <th>Freshman</th>\n",
       "      <td>Chunmei Shi</td>\n",
       "      <td>Female</td>\n",
       "      <td>164.9</td>\n",
       "      <td>52.0</td>\n",
       "      <td>N</td>\n",
       "      <td>1</td>\n",
       "      <td>2019/9/8</td>\n",
       "      <td>0:03:33</td>\n",
       "    </tr>\n",
       "    <tr>\n",
       "      <th>Freshman</th>\n",
       "      <td>Xiaomei Yang</td>\n",
       "      <td>Female</td>\n",
       "      <td>159.3</td>\n",
       "      <td>49.0</td>\n",
       "      <td>N</td>\n",
       "      <td>1</td>\n",
       "      <td>2019/9/17</td>\n",
       "      <td>0:04:22</td>\n",
       "    </tr>\n",
       "    <tr>\n",
       "      <th>Freshman</th>\n",
       "      <td>Xiaofeng Qian</td>\n",
       "      <td>Female</td>\n",
       "      <td>158.5</td>\n",
       "      <td>49.0</td>\n",
       "      <td>N</td>\n",
       "      <td>1</td>\n",
       "      <td>2019/10/19</td>\n",
       "      <td>0:05:26</td>\n",
       "    </tr>\n",
       "    <tr>\n",
       "      <th>Freshman</th>\n",
       "      <td>Changmei Lv</td>\n",
       "      <td>Male</td>\n",
       "      <td>172.2</td>\n",
       "      <td>75.0</td>\n",
       "      <td>N</td>\n",
       "      <td>1</td>\n",
       "      <td>2019/10/6</td>\n",
       "      <td>0:04:15</td>\n",
       "    </tr>\n",
       "    <tr>\n",
       "      <th>Freshman</th>\n",
       "      <td>Qiang Feng</td>\n",
       "      <td>Male</td>\n",
       "      <td>178.9</td>\n",
       "      <td>80.0</td>\n",
       "      <td>N</td>\n",
       "      <td>2</td>\n",
       "      <td>2019/12/6</td>\n",
       "      <td>0:04:23</td>\n",
       "    </tr>\n",
       "  </tbody>\n",
       "</table>\n",
       "</div>"
      ],
      "text/plain": [
       "                          Name  Gender  Height  Weight Transfer  Test_Number  \\\n",
       "School Grade                                                                   \n",
       "A      Freshman   Gaopeng Yang  Female   158.9    46.0        N            1   \n",
       "       Freshman      Qiang Chu  Female   162.5    52.0        N            1   \n",
       "       Freshman  Xiaopeng Zhou    Male   174.1    74.0        N            1   \n",
       "       Freshman     Yanpeng Lv    Male     NaN    65.0        N            1   \n",
       "       Freshman  Xiaopeng Zhao  Female   161.0    53.0        N            3   \n",
       "       Freshman    Chunli Zhao    Male   180.2    83.0        N            1   \n",
       "       Freshman     Peng Zhang  Female   163.1     NaN        N            3   \n",
       "       Freshman   Xiaoquan Sun  Female   154.6    40.0        N            3   \n",
       "       Freshman    Chunmei Shi  Female   164.9    52.0        N            1   \n",
       "       Freshman   Xiaomei Yang  Female   159.3    49.0        N            1   \n",
       "       Freshman  Xiaofeng Qian  Female   158.5    49.0        N            1   \n",
       "       Freshman    Changmei Lv    Male   172.2    75.0        N            1   \n",
       "       Freshman     Qiang Feng    Male   178.9    80.0        N            2   \n",
       "\n",
       "                  Test_Date Time_Record  \n",
       "School Grade                             \n",
       "A      Freshman   2019/10/5     0:04:34  \n",
       "       Freshman  2019/12/12     0:03:53  \n",
       "       Freshman   2019/9/29     0:05:16  \n",
       "       Freshman  2019/11/17     0:04:13  \n",
       "       Freshman   2019/9/25     0:05:13  \n",
       "       Freshman    2020/1/7     0:04:33  \n",
       "       Freshman   2019/9/23     0:04:31  \n",
       "       Freshman  2019/11/12     0:04:05  \n",
       "       Freshman    2019/9/8     0:03:33  \n",
       "       Freshman   2019/9/17     0:04:22  \n",
       "       Freshman  2019/10/19     0:05:26  \n",
       "       Freshman   2019/10/6     0:04:15  \n",
       "       Freshman   2019/12/6     0:04:23  "
      ]
     },
     "execution_count": 90,
     "metadata": {},
     "output_type": "execute_result"
    }
   ],
   "source": [
    "#查询行索引第一层为A，第二层为Freshman\n",
    "df_multi.loc[lambda x:('A','Freshman')]"
   ]
  },
  {
   "cell_type": "markdown",
   "id": "052fb34c",
   "metadata": {},
   "source": [
    "# 多级索引的构造"
   ]
  },
  {
   "cell_type": "code",
   "execution_count": 91,
   "id": "465376dc",
   "metadata": {},
   "outputs": [
    {
     "data": {
      "text/plain": [
       "[('a', 'cat'), ('a', 'dog'), ('b', 'cat'), ('b', 'dog')]"
      ]
     },
     "execution_count": 91,
     "metadata": {},
     "output_type": "execute_result"
    }
   ],
   "source": [
    "my_tuple = [('a','cat'),('a','dog'),('b','cat'),('b','dog')]\n",
    "my_tuple"
   ]
  },
  {
   "cell_type": "code",
   "execution_count": 92,
   "id": "aa55ffc9",
   "metadata": {},
   "outputs": [
    {
     "data": {
      "text/plain": [
       "MultiIndex([('a', 'cat'),\n",
       "            ('a', 'dog'),\n",
       "            ('b', 'cat'),\n",
       "            ('b', 'dog')],\n",
       "           names=['first', 'second'])"
      ]
     },
     "execution_count": 92,
     "metadata": {},
     "output_type": "execute_result"
    }
   ],
   "source": [
    "# from_tuples:传入的是列表，其元素使元组\n",
    "pd.MultiIndex.from_tuples(my_tuple,names = ['first','second'])"
   ]
  },
  {
   "cell_type": "code",
   "execution_count": 93,
   "id": "f519cbb6",
   "metadata": {},
   "outputs": [
    {
     "data": {
      "text/plain": [
       "[['a', 'a', 'b', 'b'], ['cat', 'dog', 'cat', 'dog']]"
      ]
     },
     "execution_count": 93,
     "metadata": {},
     "output_type": "execute_result"
    }
   ],
   "source": [
    "# from_arrays()传入的是列表\n",
    "my_array = [list('aabb'),['cat','dog']*2]\n",
    "my_array"
   ]
  },
  {
   "cell_type": "code",
   "execution_count": 94,
   "id": "df7a617a",
   "metadata": {},
   "outputs": [
    {
     "data": {
      "text/plain": [
       "MultiIndex([('a', 'cat'),\n",
       "            ('a', 'dog'),\n",
       "            ('b', 'cat'),\n",
       "            ('b', 'dog')],\n",
       "           names=['first', 'second'])"
      ]
     },
     "execution_count": 94,
     "metadata": {},
     "output_type": "execute_result"
    }
   ],
   "source": [
    "pd.MultiIndex.from_arrays(my_array,names = ['first','second'])"
   ]
  },
  {
   "cell_type": "code",
   "execution_count": 95,
   "id": "bad06a38",
   "metadata": {},
   "outputs": [],
   "source": [
    "# from_product() 指定的多个列表的笛卡尔积进行构造\n",
    "my_list1 = ['a','b']\n",
    "my_list2 = ['cat','dog']"
   ]
  },
  {
   "cell_type": "code",
   "execution_count": 96,
   "id": "5146dc71",
   "metadata": {},
   "outputs": [
    {
     "data": {
      "text/plain": [
       "MultiIndex([('a', 'cat'),\n",
       "            ('a', 'dog'),\n",
       "            ('b', 'cat'),\n",
       "            ('b', 'dog')],\n",
       "           names=['first', 'second'])"
      ]
     },
     "execution_count": 96,
     "metadata": {},
     "output_type": "execute_result"
    }
   ],
   "source": [
    "pd.MultiIndex.from_product(\n",
    "    [my_list1,\n",
    "     my_list2],\n",
    "     names = ['first','second']\n",
    ")"
   ]
  },
  {
   "cell_type": "markdown",
   "id": "7137c15c",
   "metadata": {},
   "source": [
    "# 索引的常用方法"
   ]
  },
  {
   "cell_type": "markdown",
   "id": "fb6c6149",
   "metadata": {},
   "source": [
    "### 索引的交换和删除"
   ]
  },
  {
   "cell_type": "code",
   "execution_count": 97,
   "id": "a6c04942",
   "metadata": {},
   "outputs": [
    {
     "ename": "NameError",
     "evalue": "name 'df_ex' is not defined",
     "output_type": "error",
     "traceback": [
      "\u001b[1;31m---------------------------------------------------------------------------\u001b[0m",
      "\u001b[1;31mNameError\u001b[0m                                 Traceback (most recent call last)",
      "Cell \u001b[1;32mIn[97], line 4\u001b[0m\n\u001b[0;32m      1\u001b[0m \u001b[38;5;66;03m# s索引层的交换\u001b[39;00m\n\u001b[0;32m      2\u001b[0m \u001b[38;5;66;03m# 交换的轴是哪一个，要么是行索引，要么是列索引\u001b[39;00m\n\u001b[0;32m      3\u001b[0m \u001b[38;5;66;03m# swaplevel()\u001b[39;00m\n\u001b[1;32m----> 4\u001b[0m \u001b[43mdf_ex\u001b[49m\u001b[38;5;241m.\u001b[39mswaplevel(\u001b[38;5;241m0\u001b[39m,\u001b[38;5;241m2\u001b[39m,axis \u001b[38;5;241m=\u001b[39m \u001b[38;5;241m1\u001b[39m)\u001b[38;5;241m.\u001b[39mhead() \u001b[38;5;66;03m#交换表中列索引的第一列和第三列\u001b[39;00m\n",
      "\u001b[1;31mNameError\u001b[0m: name 'df_ex' is not defined"
     ]
    }
   ],
   "source": [
    "# s索引层的交换\n",
    "# 交换的轴是哪一个，要么是行索引，要么是列索引\n",
    "# swaplevel()\n",
    "df_ex.swaplevel(0,2,axis = 1).head() #交换表中列索引的第一列和第三列"
   ]
  },
  {
   "cell_type": "code",
   "execution_count": null,
   "id": "eb7eec5c",
   "metadata": {},
   "outputs": [],
   "source": [
    "# reorder_levels()\n",
    "# 传入索引的位置，并进行交换\n",
    "df_ex.reorder_levels([2,0,1],axis = 0).head() #将索引的0,1,2换位2,0,1"
   ]
  },
  {
   "cell_type": "code",
   "execution_count": null,
   "id": "e5e14091",
   "metadata": {},
   "outputs": [],
   "source": [
    "#删除某一层的索引\n",
    "# droplevel()\n",
    "df_ex.droplevel(1,axis = 1) #删除列的第二行"
   ]
  },
  {
   "cell_type": "code",
   "execution_count": null,
   "id": "d5fe4798",
   "metadata": {},
   "outputs": [],
   "source": [
    "# 索引属性的修改\n",
    "# rename_axis() 对索引层的名字进行修改,传入字典\n",
    "df_ex.rename_axis(index = {'test1':'Y'},\n",
    "                  columns = {'test4':'X'}).head()#将行的test1名字改为Y，列的test4名字改为X"
   ]
  },
  {
   "cell_type": "code",
   "execution_count": null,
   "id": "fc98739e",
   "metadata": {},
   "outputs": [
    {
     "data": {
      "text/html": [
       "<div>\n",
       "<style scoped>\n",
       "    .dataframe tbody tr th:only-of-type {\n",
       "        vertical-align: middle;\n",
       "    }\n",
       "\n",
       "    .dataframe tbody tr th {\n",
       "        vertical-align: top;\n",
       "    }\n",
       "\n",
       "    .dataframe thead th {\n",
       "        text-align: right;\n",
       "    }\n",
       "</style>\n",
       "<table border=\"1\" class=\"dataframe\">\n",
       "  <thead>\n",
       "    <tr style=\"text-align: right;\">\n",
       "      <th></th>\n",
       "      <th>A</th>\n",
       "      <th>B</th>\n",
       "      <th>C</th>\n",
       "    </tr>\n",
       "  </thead>\n",
       "  <tbody>\n",
       "    <tr>\n",
       "      <th>0</th>\n",
       "      <td>a</td>\n",
       "      <td>Q</td>\n",
       "      <td>1</td>\n",
       "    </tr>\n",
       "    <tr>\n",
       "      <th>1</th>\n",
       "      <td>a</td>\n",
       "      <td>W</td>\n",
       "      <td>2</td>\n",
       "    </tr>\n",
       "    <tr>\n",
       "      <th>2</th>\n",
       "      <td>c</td>\n",
       "      <td>E</td>\n",
       "      <td>3</td>\n",
       "    </tr>\n",
       "    <tr>\n",
       "      <th>3</th>\n",
       "      <td>d</td>\n",
       "      <td>R</td>\n",
       "      <td>4</td>\n",
       "    </tr>\n",
       "  </tbody>\n",
       "</table>\n",
       "</div>"
      ],
      "text/plain": [
       "   A  B  C\n",
       "0  a  Q  1\n",
       "1  a  W  2\n",
       "2  c  E  3\n",
       "3  d  R  4"
      ]
     },
     "execution_count": 31,
     "metadata": {},
     "output_type": "execute_result"
    }
   ],
   "source": [
    "# 索引的重置\n",
    "df_new = pd.DataFrame(\n",
    "    {'A':list('aacd'),\n",
    "     'B':list('QWER'),\n",
    "     'C':[1,2,3,4]}\n",
    ")\n",
    "df_new"
   ]
  },
  {
   "cell_type": "code",
   "execution_count": null,
   "id": "78b44c03",
   "metadata": {},
   "outputs": [
    {
     "data": {
      "text/html": [
       "<div>\n",
       "<style scoped>\n",
       "    .dataframe tbody tr th:only-of-type {\n",
       "        vertical-align: middle;\n",
       "    }\n",
       "\n",
       "    .dataframe tbody tr th {\n",
       "        vertical-align: top;\n",
       "    }\n",
       "\n",
       "    .dataframe thead th {\n",
       "        text-align: right;\n",
       "    }\n",
       "</style>\n",
       "<table border=\"1\" class=\"dataframe\">\n",
       "  <thead>\n",
       "    <tr style=\"text-align: right;\">\n",
       "      <th></th>\n",
       "      <th>B</th>\n",
       "      <th>C</th>\n",
       "    </tr>\n",
       "    <tr>\n",
       "      <th>A</th>\n",
       "      <th></th>\n",
       "      <th></th>\n",
       "    </tr>\n",
       "  </thead>\n",
       "  <tbody>\n",
       "    <tr>\n",
       "      <th>a</th>\n",
       "      <td>Q</td>\n",
       "      <td>1</td>\n",
       "    </tr>\n",
       "    <tr>\n",
       "      <th>a</th>\n",
       "      <td>W</td>\n",
       "      <td>2</td>\n",
       "    </tr>\n",
       "    <tr>\n",
       "      <th>c</th>\n",
       "      <td>E</td>\n",
       "      <td>3</td>\n",
       "    </tr>\n",
       "    <tr>\n",
       "      <th>d</th>\n",
       "      <td>R</td>\n",
       "      <td>4</td>\n",
       "    </tr>\n",
       "  </tbody>\n",
       "</table>\n",
       "</div>"
      ],
      "text/plain": [
       "   B  C\n",
       "A      \n",
       "a  Q  1\n",
       "a  W  2\n",
       "c  E  3\n",
       "d  R  4"
      ]
     },
     "execution_count": 32,
     "metadata": {},
     "output_type": "execute_result"
    }
   ],
   "source": [
    "df_new.set_index('A')"
   ]
  },
  {
   "cell_type": "code",
   "execution_count": null,
   "id": "3b77beec",
   "metadata": {},
   "outputs": [
    {
     "data": {
      "text/html": [
       "<div>\n",
       "<style scoped>\n",
       "    .dataframe tbody tr th:only-of-type {\n",
       "        vertical-align: middle;\n",
       "    }\n",
       "\n",
       "    .dataframe tbody tr th {\n",
       "        vertical-align: top;\n",
       "    }\n",
       "\n",
       "    .dataframe thead th {\n",
       "        text-align: right;\n",
       "    }\n",
       "</style>\n",
       "<table border=\"1\" class=\"dataframe\">\n",
       "  <thead>\n",
       "    <tr style=\"text-align: right;\">\n",
       "      <th></th>\n",
       "      <th></th>\n",
       "      <th>B</th>\n",
       "      <th>C</th>\n",
       "    </tr>\n",
       "    <tr>\n",
       "      <th></th>\n",
       "      <th>A</th>\n",
       "      <th></th>\n",
       "      <th></th>\n",
       "    </tr>\n",
       "  </thead>\n",
       "  <tbody>\n",
       "    <tr>\n",
       "      <th>0</th>\n",
       "      <th>a</th>\n",
       "      <td>Q</td>\n",
       "      <td>1</td>\n",
       "    </tr>\n",
       "    <tr>\n",
       "      <th>1</th>\n",
       "      <th>a</th>\n",
       "      <td>W</td>\n",
       "      <td>2</td>\n",
       "    </tr>\n",
       "    <tr>\n",
       "      <th>2</th>\n",
       "      <th>c</th>\n",
       "      <td>E</td>\n",
       "      <td>3</td>\n",
       "    </tr>\n",
       "    <tr>\n",
       "      <th>3</th>\n",
       "      <th>d</th>\n",
       "      <td>R</td>\n",
       "      <td>4</td>\n",
       "    </tr>\n",
       "  </tbody>\n",
       "</table>\n",
       "</div>"
      ],
      "text/plain": [
       "     B  C\n",
       "  A      \n",
       "0 a  Q  1\n",
       "1 a  W  2\n",
       "2 c  E  3\n",
       "3 d  R  4"
      ]
     },
     "execution_count": 34,
     "metadata": {},
     "output_type": "execute_result"
    }
   ],
   "source": [
    "# append 表示是否保持原本的索引，True 保留，False 不保留\n",
    "df_new.set_index('A',append = True)"
   ]
  },
  {
   "cell_type": "code",
   "execution_count": null,
   "id": "8edbd7d9",
   "metadata": {},
   "outputs": [
    {
     "data": {
      "text/html": [
       "<div>\n",
       "<style scoped>\n",
       "    .dataframe tbody tr th:only-of-type {\n",
       "        vertical-align: middle;\n",
       "    }\n",
       "\n",
       "    .dataframe tbody tr th {\n",
       "        vertical-align: top;\n",
       "    }\n",
       "\n",
       "    .dataframe thead th {\n",
       "        text-align: right;\n",
       "    }\n",
       "</style>\n",
       "<table border=\"1\" class=\"dataframe\">\n",
       "  <thead>\n",
       "    <tr style=\"text-align: right;\">\n",
       "      <th></th>\n",
       "      <th></th>\n",
       "      <th>C</th>\n",
       "    </tr>\n",
       "    <tr>\n",
       "      <th>A</th>\n",
       "      <th>B</th>\n",
       "      <th></th>\n",
       "    </tr>\n",
       "  </thead>\n",
       "  <tbody>\n",
       "    <tr>\n",
       "      <th rowspan=\"2\" valign=\"top\">a</th>\n",
       "      <th>Q</th>\n",
       "      <td>1</td>\n",
       "    </tr>\n",
       "    <tr>\n",
       "      <th>W</th>\n",
       "      <td>2</td>\n",
       "    </tr>\n",
       "    <tr>\n",
       "      <th>c</th>\n",
       "      <th>E</th>\n",
       "      <td>3</td>\n",
       "    </tr>\n",
       "    <tr>\n",
       "      <th>d</th>\n",
       "      <th>R</th>\n",
       "      <td>4</td>\n",
       "    </tr>\n",
       "  </tbody>\n",
       "</table>\n",
       "</div>"
      ],
      "text/plain": [
       "     C\n",
       "A B   \n",
       "a Q  1\n",
       "  W  2\n",
       "c E  3\n",
       "d R  4"
      ]
     },
     "execution_count": 35,
     "metadata": {},
     "output_type": "execute_result"
    }
   ],
   "source": [
    "df_new.set_index(['A','B'])"
   ]
  },
  {
   "cell_type": "code",
   "execution_count": null,
   "id": "051e54ff",
   "metadata": {},
   "outputs": [
    {
     "data": {
      "text/html": [
       "<div>\n",
       "<style scoped>\n",
       "    .dataframe tbody tr th:only-of-type {\n",
       "        vertical-align: middle;\n",
       "    }\n",
       "\n",
       "    .dataframe tbody tr th {\n",
       "        vertical-align: top;\n",
       "    }\n",
       "\n",
       "    .dataframe thead th {\n",
       "        text-align: right;\n",
       "    }\n",
       "</style>\n",
       "<table border=\"1\" class=\"dataframe\">\n",
       "  <thead>\n",
       "    <tr style=\"text-align: right;\">\n",
       "      <th></th>\n",
       "      <th>Weight</th>\n",
       "      <th>Height</th>\n",
       "    </tr>\n",
       "  </thead>\n",
       "  <tbody>\n",
       "    <tr>\n",
       "      <th>1001</th>\n",
       "      <td>60</td>\n",
       "      <td>170</td>\n",
       "    </tr>\n",
       "    <tr>\n",
       "      <th>1002</th>\n",
       "      <td>70</td>\n",
       "      <td>176</td>\n",
       "    </tr>\n",
       "    <tr>\n",
       "      <th>1003</th>\n",
       "      <td>80</td>\n",
       "      <td>180</td>\n",
       "    </tr>\n",
       "  </tbody>\n",
       "</table>\n",
       "</div>"
      ],
      "text/plain": [
       "      Weight  Height\n",
       "1001      60     170\n",
       "1002      70     176\n",
       "1003      80     180"
      ]
     },
     "execution_count": 37,
     "metadata": {},
     "output_type": "execute_result"
    }
   ],
   "source": [
    "# 索引的变形\n",
    "df_reindex = pd.DataFrame({\n",
    "    'Weight':[60,70,80],\n",
    "    'Height':[170,176,180]},\n",
    "    index = ['1001','1002','1003']\n",
    ")\n",
    "df_reindex"
   ]
  },
  {
   "cell_type": "code",
   "execution_count": null,
   "id": "158a43f3",
   "metadata": {},
   "outputs": [
    {
     "data": {
      "text/html": [
       "<div>\n",
       "<style scoped>\n",
       "    .dataframe tbody tr th:only-of-type {\n",
       "        vertical-align: middle;\n",
       "    }\n",
       "\n",
       "    .dataframe tbody tr th {\n",
       "        vertical-align: top;\n",
       "    }\n",
       "\n",
       "    .dataframe thead th {\n",
       "        text-align: right;\n",
       "    }\n",
       "</style>\n",
       "<table border=\"1\" class=\"dataframe\">\n",
       "  <thead>\n",
       "    <tr style=\"text-align: right;\">\n",
       "      <th></th>\n",
       "      <th>Weight</th>\n",
       "      <th>X</th>\n",
       "    </tr>\n",
       "  </thead>\n",
       "  <tbody>\n",
       "    <tr>\n",
       "      <th>1001</th>\n",
       "      <td>60.0</td>\n",
       "      <td>NaN</td>\n",
       "    </tr>\n",
       "    <tr>\n",
       "      <th>1002</th>\n",
       "      <td>70.0</td>\n",
       "      <td>NaN</td>\n",
       "    </tr>\n",
       "    <tr>\n",
       "      <th>1003</th>\n",
       "      <td>80.0</td>\n",
       "      <td>NaN</td>\n",
       "    </tr>\n",
       "    <tr>\n",
       "      <th>1004</th>\n",
       "      <td>NaN</td>\n",
       "      <td>NaN</td>\n",
       "    </tr>\n",
       "  </tbody>\n",
       "</table>\n",
       "</div>"
      ],
      "text/plain": [
       "      Weight   X\n",
       "1001    60.0 NaN\n",
       "1002    70.0 NaN\n",
       "1003    80.0 NaN\n",
       "1004     NaN NaN"
      ]
     },
     "execution_count": 38,
     "metadata": {},
     "output_type": "execute_result"
    }
   ],
   "source": [
    "df_reindex.reindex(index = ['1001','1002','1003','1004'],\n",
    "                   columns = ['Weight','X'])"
   ]
  },
  {
   "cell_type": "markdown",
   "id": "0052c00b",
   "metadata": {},
   "source": [
    "# 分组"
   ]
  },
  {
   "cell_type": "code",
   "execution_count": null,
   "id": "c6008d1d",
   "metadata": {},
   "outputs": [],
   "source": [
    "# 语法格式：df.groupby(分组的依据)[数据来源].使用操作"
   ]
  },
  {
   "cell_type": "code",
   "execution_count": null,
   "id": "3be56570",
   "metadata": {},
   "outputs": [
    {
     "data": {
      "text/html": [
       "<div>\n",
       "<style scoped>\n",
       "    .dataframe tbody tr th:only-of-type {\n",
       "        vertical-align: middle;\n",
       "    }\n",
       "\n",
       "    .dataframe tbody tr th {\n",
       "        vertical-align: top;\n",
       "    }\n",
       "\n",
       "    .dataframe thead th {\n",
       "        text-align: right;\n",
       "    }\n",
       "</style>\n",
       "<table border=\"1\" class=\"dataframe\">\n",
       "  <thead>\n",
       "    <tr style=\"text-align: right;\">\n",
       "      <th></th>\n",
       "      <th>School</th>\n",
       "      <th>Grade</th>\n",
       "      <th>Name</th>\n",
       "      <th>Gender</th>\n",
       "      <th>Height</th>\n",
       "      <th>Weight</th>\n",
       "      <th>Transfer</th>\n",
       "      <th>Test_Number</th>\n",
       "      <th>Test_Date</th>\n",
       "      <th>Time_Record</th>\n",
       "    </tr>\n",
       "  </thead>\n",
       "  <tbody>\n",
       "    <tr>\n",
       "      <th>0</th>\n",
       "      <td>A</td>\n",
       "      <td>Freshman</td>\n",
       "      <td>Gaopeng Yang</td>\n",
       "      <td>Female</td>\n",
       "      <td>158.9</td>\n",
       "      <td>46.0</td>\n",
       "      <td>N</td>\n",
       "      <td>1</td>\n",
       "      <td>2019/10/5</td>\n",
       "      <td>0:04:34</td>\n",
       "    </tr>\n",
       "    <tr>\n",
       "      <th>1</th>\n",
       "      <td>B</td>\n",
       "      <td>Freshman</td>\n",
       "      <td>Changqiang You</td>\n",
       "      <td>Male</td>\n",
       "      <td>166.5</td>\n",
       "      <td>70.0</td>\n",
       "      <td>N</td>\n",
       "      <td>1</td>\n",
       "      <td>2019/9/4</td>\n",
       "      <td>0:04:20</td>\n",
       "    </tr>\n",
       "    <tr>\n",
       "      <th>2</th>\n",
       "      <td>A</td>\n",
       "      <td>Senior</td>\n",
       "      <td>Mei Sun</td>\n",
       "      <td>Male</td>\n",
       "      <td>188.9</td>\n",
       "      <td>89.0</td>\n",
       "      <td>N</td>\n",
       "      <td>2</td>\n",
       "      <td>2019/9/12</td>\n",
       "      <td>0:05:22</td>\n",
       "    </tr>\n",
       "    <tr>\n",
       "      <th>3</th>\n",
       "      <td>C</td>\n",
       "      <td>Sophomore</td>\n",
       "      <td>Xiaojuan Sun</td>\n",
       "      <td>Female</td>\n",
       "      <td>NaN</td>\n",
       "      <td>41.0</td>\n",
       "      <td>N</td>\n",
       "      <td>2</td>\n",
       "      <td>2020/1/3</td>\n",
       "      <td>0:04:08</td>\n",
       "    </tr>\n",
       "    <tr>\n",
       "      <th>4</th>\n",
       "      <td>C</td>\n",
       "      <td>Sophomore</td>\n",
       "      <td>Gaojuan You</td>\n",
       "      <td>Male</td>\n",
       "      <td>174.0</td>\n",
       "      <td>74.0</td>\n",
       "      <td>N</td>\n",
       "      <td>2</td>\n",
       "      <td>2019/11/6</td>\n",
       "      <td>0:05:22</td>\n",
       "    </tr>\n",
       "  </tbody>\n",
       "</table>\n",
       "</div>"
      ],
      "text/plain": [
       "  School      Grade            Name  Gender  Height  Weight Transfer  \\\n",
       "0      A   Freshman    Gaopeng Yang  Female   158.9    46.0        N   \n",
       "1      B   Freshman  Changqiang You    Male   166.5    70.0        N   \n",
       "2      A     Senior         Mei Sun    Male   188.9    89.0        N   \n",
       "3      C  Sophomore    Xiaojuan Sun  Female     NaN    41.0        N   \n",
       "4      C  Sophomore     Gaojuan You    Male   174.0    74.0        N   \n",
       "\n",
       "   Test_Number  Test_Date Time_Record  \n",
       "0            1  2019/10/5     0:04:34  \n",
       "1            1   2019/9/4     0:04:20  \n",
       "2            2  2019/9/12     0:05:22  \n",
       "3            2   2020/1/3     0:04:08  \n",
       "4            2  2019/11/6     0:05:22  "
      ]
     },
     "execution_count": 27,
     "metadata": {},
     "output_type": "execute_result"
    }
   ],
   "source": [
    "df = pd.read_csv('D:\\\\vscode_code\\\\数据集\\\\learn_pandas.csv')\n",
    "df.head()"
   ]
  },
  {
   "cell_type": "code",
   "execution_count": null,
   "id": "c69313f7",
   "metadata": {},
   "outputs": [
    {
     "data": {
      "text/plain": [
       "Gender\n",
       "Female    159.6\n",
       "Male      173.4\n",
       "Name: Height, dtype: float64"
      ]
     },
     "execution_count": 28,
     "metadata": {},
     "output_type": "execute_result"
    }
   ],
   "source": [
    "#按照性别统计身高中位数\n",
    "# median():返回行或列的所有元素的中位数\n",
    "df.groupby('Gender')['Height'].median()"
   ]
  },
  {
   "cell_type": "code",
   "execution_count": null,
   "id": "68fa5575",
   "metadata": {},
   "outputs": [
    {
     "data": {
      "text/plain": [
       "School  Gender\n",
       "A       Female    159.122500\n",
       "        Male      176.760000\n",
       "B       Female    158.666667\n",
       "        Male      172.030000\n",
       "C       Female    158.776923\n",
       "        Male      174.212500\n",
       "D       Female    159.753333\n",
       "        Male      171.638889\n",
       "Name: Height, dtype: float64"
      ]
     },
     "execution_count": 29,
     "metadata": {},
     "output_type": "execute_result"
    }
   ],
   "source": [
    "#分组的本质:只需要在groupby函数中传入相应的列名,或者列名构成的列表即可。\n",
    "# groupby分组依据从列中按名字进行获取即可\n",
    "df.groupby(['School','Gender'])['Height'].mean()"
   ]
  },
  {
   "cell_type": "code",
   "execution_count": null,
   "id": "8dde6756",
   "metadata": {},
   "outputs": [
    {
     "data": {
      "text/plain": [
       "0      False\n",
       "1       True\n",
       "2       True\n",
       "3      False\n",
       "4       True\n",
       "       ...  \n",
       "195    False\n",
       "196    False\n",
       "197    False\n",
       "198     True\n",
       "199    False\n",
       "Name: Weight, Length: 200, dtype: bool"
      ]
     },
     "execution_count": 30,
     "metadata": {},
     "output_type": "execute_result"
    }
   ],
   "source": [
    "condition = df.Weight > df.Weight.mean()\n",
    "condition"
   ]
  },
  {
   "cell_type": "code",
   "execution_count": null,
   "id": "a3c8b76a",
   "metadata": {},
   "outputs": [
    {
     "data": {
      "text/plain": [
       "Weight\n",
       "False    159.034646\n",
       "True     172.705357\n",
       "Name: Height, dtype: float64"
      ]
     },
     "execution_count": 31,
     "metadata": {},
     "output_type": "execute_result"
    }
   ],
   "source": [
    "df.groupby(condition)['Height'].mean()"
   ]
  },
  {
   "cell_type": "code",
   "execution_count": null,
   "id": "2f0f97c0",
   "metadata": {},
   "outputs": [
    {
     "data": {
      "text/plain": [
       "a    163.782609\n",
       "b    162.432759\n",
       "c    163.335714\n",
       "Name: Height, dtype: float64"
      ]
     },
     "execution_count": 36,
     "metadata": {},
     "output_type": "execute_result"
    }
   ],
   "source": [
    "# eg: 使用随机传入字母序来验证以上结果\n",
    "# choice():用于从给定的一维数组或列表中suiji选择元素\n",
    "# 第一个参数可供选择的元素集合(列表)\n",
    "# 第二个参数size表示要选择元素的次数\n",
    "item = np.random.choice(list('abc'),df.shape[0])\n",
    "df.groupby(item)['Height'].mean()\n"
   ]
  },
  {
   "cell_type": "code",
   "execution_count": null,
   "id": "62bd0291",
   "metadata": {},
   "outputs": [
    {
     "data": {
      "text/plain": [
       "Weight   \n",
       "False   a    159.068889\n",
       "        b    158.575610\n",
       "        c    159.456098\n",
       "True    a    172.620833\n",
       "        b    171.735294\n",
       "        c    173.940000\n",
       "Name: Height, dtype: float64"
      ]
     },
     "execution_count": 37,
     "metadata": {},
     "output_type": "execute_result"
    }
   ],
   "source": [
    "# 将condition、item都传入groupby\n",
    "df.groupby([condition,item])['Height'].mean()"
   ]
  },
  {
   "cell_type": "code",
   "execution_count": null,
   "id": "490190d5",
   "metadata": {},
   "outputs": [
    {
     "data": {
      "text/html": [
       "<div>\n",
       "<style scoped>\n",
       "    .dataframe tbody tr th:only-of-type {\n",
       "        vertical-align: middle;\n",
       "    }\n",
       "\n",
       "    .dataframe tbody tr th {\n",
       "        vertical-align: top;\n",
       "    }\n",
       "\n",
       "    .dataframe thead th {\n",
       "        text-align: right;\n",
       "    }\n",
       "</style>\n",
       "<table border=\"1\" class=\"dataframe\">\n",
       "  <thead>\n",
       "    <tr style=\"text-align: right;\">\n",
       "      <th></th>\n",
       "      <th>School</th>\n",
       "      <th>Gender</th>\n",
       "    </tr>\n",
       "  </thead>\n",
       "  <tbody>\n",
       "    <tr>\n",
       "      <th>0</th>\n",
       "      <td>A</td>\n",
       "      <td>Female</td>\n",
       "    </tr>\n",
       "    <tr>\n",
       "      <th>1</th>\n",
       "      <td>B</td>\n",
       "      <td>Male</td>\n",
       "    </tr>\n",
       "    <tr>\n",
       "      <th>2</th>\n",
       "      <td>A</td>\n",
       "      <td>Male</td>\n",
       "    </tr>\n",
       "    <tr>\n",
       "      <th>3</th>\n",
       "      <td>C</td>\n",
       "      <td>Female</td>\n",
       "    </tr>\n",
       "    <tr>\n",
       "      <th>4</th>\n",
       "      <td>C</td>\n",
       "      <td>Male</td>\n",
       "    </tr>\n",
       "    <tr>\n",
       "      <th>5</th>\n",
       "      <td>D</td>\n",
       "      <td>Female</td>\n",
       "    </tr>\n",
       "    <tr>\n",
       "      <th>9</th>\n",
       "      <td>B</td>\n",
       "      <td>Female</td>\n",
       "    </tr>\n",
       "    <tr>\n",
       "      <th>16</th>\n",
       "      <td>D</td>\n",
       "      <td>Male</td>\n",
       "    </tr>\n",
       "  </tbody>\n",
       "</table>\n",
       "</div>"
      ],
      "text/plain": [
       "   School  Gender\n",
       "0       A  Female\n",
       "1       B    Male\n",
       "2       A    Male\n",
       "3       C  Female\n",
       "4       C    Male\n",
       "5       D  Female\n",
       "9       B  Female\n",
       "16      D    Male"
      ]
     },
     "execution_count": 38,
     "metadata": {},
     "output_type": "execute_result"
    }
   ],
   "source": [
    "# drop_duplicates()\n",
    "df[['School','Gender']].drop_duplicates()"
   ]
  },
  {
   "cell_type": "code",
   "execution_count": null,
   "id": "fc578f49",
   "metadata": {},
   "outputs": [
    {
     "data": {
      "text/plain": [
       "School  Gender\n",
       "A       Female    159.122500\n",
       "        Male      176.760000\n",
       "B       Female    158.666667\n",
       "        Male      172.030000\n",
       "C       Female    158.776923\n",
       "        Male      174.212500\n",
       "D       Female    159.753333\n",
       "        Male      171.638889\n",
       "Name: Height, dtype: float64"
      ]
     },
     "execution_count": 40,
     "metadata": {},
     "output_type": "execute_result"
    }
   ],
   "source": [
    "df.groupby([df['School'],df['Gender']])['Height'].mean()"
   ]
  },
  {
   "cell_type": "markdown",
   "id": "6a308175",
   "metadata": {},
   "source": [
    "# groupby对象"
   ]
  },
  {
   "cell_type": "code",
   "execution_count": null,
   "id": "c48440ce",
   "metadata": {},
   "outputs": [
    {
     "data": {
      "text/plain": [
       "<pandas.core.groupby.generic.DataFrameGroupBy object at 0x000001EE36717F70>"
      ]
     },
     "execution_count": 66,
     "metadata": {},
     "output_type": "execute_result"
    }
   ],
   "source": [
    "gb = df.groupby(['School','Grade'])\n",
    "gb"
   ]
  },
  {
   "cell_type": "code",
   "execution_count": null,
   "id": "9eec0528",
   "metadata": {},
   "outputs": [
    {
     "data": {
      "text/plain": [
       "{('A', 'Freshman'): [0, 6, 10, 60, 114, 117, 119, 121, 141, 148, 149, 153, 184], ('A', 'Junior'): [31, 42, 50, 56, 58, 64, 85, 93, 115, 122, 143, 155, 164, 172, 174, 188, 190], ('A', 'Senior'): [2, 12, 19, 21, 22, 23, 79, 87, 89, 103, 104, 109, 123, 134, 156, 161, 165, 166, 171, 192, 197, 198], ('A', 'Sophomore'): [13, 65, 71, 124, 167], ('B', 'Freshman'): [1, 32, 35, 36, 38, 45, 54, 57, 88, 96, 99, 140, 185], ('B', 'Junior'): [9, 20, 59, 72, 75, 102, 159, 183], ('B', 'Senior'): [30, 86, 116, 127, 130, 132, 147, 194], ('B', 'Sophomore'): [29, 61, 83, 101, 120], ('C', 'Freshman'): [15, 28, 63, 70, 73, 105, 108, 157, 186], ('C', 'Junior'): [26, 41, 82, 84, 90, 107, 145, 152, 173, 187, 189, 195], ('C', 'Senior'): [39, 46, 49, 52, 66, 77, 112, 129, 131, 138, 144], ('C', 'Sophomore'): [3, 4, 37, 48, 68, 98, 135, 170], ('D', 'Freshman'): [5, 8, 33, 34, 43, 44, 47, 51, 62, 67, 81, 111, 125, 133, 136, 142, 146], ('D', 'Junior'): [7, 11, 16, 17, 27, 69, 94, 95, 113, 118, 128, 137, 150, 154, 158, 160, 162, 163, 169, 176, 177, 191], ('D', 'Senior'): [14, 18, 24, 25, 78, 92, 100, 126, 168, 175, 179, 180, 193, 196], ('D', 'Sophomore'): [40, 53, 55, 74, 76, 80, 91, 97, 106, 110, 139, 151, 178, 181, 182, 199]}"
      ]
     },
     "execution_count": 68,
     "metadata": {},
     "output_type": "execute_result"
    }
   ],
   "source": [
    "# 常用属性\n",
    "# groups: 返回一个字典，该字典的键是分组的标签，值是每个组中元素的索引列表\n",
    "res = gb.groups\n",
    "res"
   ]
  },
  {
   "cell_type": "code",
   "execution_count": null,
   "id": "992ee399",
   "metadata": {},
   "outputs": [
    {
     "data": {
      "text/plain": [
       "16"
      ]
     },
     "execution_count": 69,
     "metadata": {},
     "output_type": "execute_result"
    }
   ],
   "source": [
    "# ngroups:返回的分组数量,也就是分组后不同的组的个数\n",
    "gb.ngroups"
   ]
  },
  {
   "cell_type": "code",
   "execution_count": null,
   "id": "865d749c",
   "metadata": {},
   "outputs": [
    {
     "data": {
      "text/plain": [
       "School  Grade    \n",
       "A       Freshman     13\n",
       "        Junior       17\n",
       "        Senior       22\n",
       "        Sophomore     5\n",
       "B       Freshman     13\n",
       "        Junior        8\n",
       "        Senior        8\n",
       "        Sophomore     5\n",
       "C       Freshman      9\n",
       "        Junior       12\n",
       "        Senior       11\n",
       "        Sophomore     8\n",
       "D       Freshman     17\n",
       "        Junior       22\n",
       "        Senior       14\n",
       "        Sophomore    16\n",
       "dtype: int64"
      ]
     },
     "execution_count": 70,
     "metadata": {},
     "output_type": "execute_result"
    }
   ],
   "source": [
    "# size()方法，返回每个组的大小，即每个组中元素的数量。它会返回一个series,索引是分组的标签,值是每个组的元素数量。\n",
    "gb.size()"
   ]
  },
  {
   "cell_type": "code",
   "execution_count": null,
   "id": "77e99cf1",
   "metadata": {},
   "outputs": [
    {
     "data": {
      "text/html": [
       "<div>\n",
       "<style scoped>\n",
       "    .dataframe tbody tr th:only-of-type {\n",
       "        vertical-align: middle;\n",
       "    }\n",
       "\n",
       "    .dataframe tbody tr th {\n",
       "        vertical-align: top;\n",
       "    }\n",
       "\n",
       "    .dataframe thead th {\n",
       "        text-align: right;\n",
       "    }\n",
       "</style>\n",
       "<table border=\"1\" class=\"dataframe\">\n",
       "  <thead>\n",
       "    <tr style=\"text-align: right;\">\n",
       "      <th></th>\n",
       "      <th>School</th>\n",
       "      <th>Grade</th>\n",
       "      <th>Name</th>\n",
       "    </tr>\n",
       "  </thead>\n",
       "  <tbody>\n",
       "    <tr>\n",
       "      <th>0</th>\n",
       "      <td>A</td>\n",
       "      <td>Freshman</td>\n",
       "      <td>Gaopeng Yang</td>\n",
       "    </tr>\n",
       "    <tr>\n",
       "      <th>6</th>\n",
       "      <td>A</td>\n",
       "      <td>Freshman</td>\n",
       "      <td>Qiang Chu</td>\n",
       "    </tr>\n",
       "    <tr>\n",
       "      <th>10</th>\n",
       "      <td>A</td>\n",
       "      <td>Freshman</td>\n",
       "      <td>Xiaopeng Zhou</td>\n",
       "    </tr>\n",
       "  </tbody>\n",
       "</table>\n",
       "</div>"
      ],
      "text/plain": [
       "   School     Grade           Name\n",
       "0       A  Freshman   Gaopeng Yang\n",
       "6       A  Freshman      Qiang Chu\n",
       "10      A  Freshman  Xiaopeng Zhou"
      ]
     },
     "execution_count": 71,
     "metadata": {},
     "output_type": "execute_result"
    }
   ],
   "source": [
    "# get_group():用户获取指定的分组标签对应的组数据，返回的是DataFrame或者Series\n",
    "gb.get_group(('A','Freshman')).iloc[:3,:3]"
   ]
  },
  {
   "cell_type": "code",
   "execution_count": null,
   "id": "deb678f3",
   "metadata": {},
   "outputs": [],
   "source": [
    "# 分组的三大操作：\n",
    "# 1、聚合\n",
    "# 2、变换\n",
    "# 3、过滤"
   ]
  },
  {
   "cell_type": "markdown",
   "id": "3a364584",
   "metadata": {},
   "source": [
    "# 聚合"
   ]
  },
  {
   "cell_type": "markdown",
   "id": "f7353426",
   "metadata": {},
   "source": [
    "## 聚合的内置函数"
   ]
  },
  {
   "cell_type": "code",
   "execution_count": null,
   "id": "246f0561",
   "metadata": {},
   "outputs": [],
   "source": [
    "#max/min/mean/median/count/all/any/idxmax/idxmin/mad(Mean Absolute Deviation)/nunique/skew/quantile/sum/std/var/sem(Standard Error of the Mean)/size/prod"
   ]
  },
  {
   "cell_type": "code",
   "execution_count": 100,
   "id": "2f221438",
   "metadata": {},
   "outputs": [
    {
     "data": {
      "text/plain": [
       "Gender\n",
       "Female    170.2\n",
       "Male      193.9\n",
       "Name: Height, dtype: float64"
      ]
     },
     "execution_count": 100,
     "metadata": {},
     "output_type": "execute_result"
    }
   ],
   "source": [
    "# max():计算每个组中的最大值\n",
    "gb = df.groupby('Gender')['Height']\n",
    "gb.max()"
   ]
  },
  {
   "cell_type": "code",
   "execution_count": 101,
   "id": "f5fd9a2e",
   "metadata": {},
   "outputs": [
    {
     "data": {
      "text/plain": [
       "Gender\n",
       "Female    145.4\n",
       "Male      155.7\n",
       "Name: Height, dtype: float64"
      ]
     },
     "execution_count": 101,
     "metadata": {},
     "output_type": "execute_result"
    }
   ],
   "source": [
    "#min()：计算每个组中的最小值\n",
    "gb.min()"
   ]
  },
  {
   "cell_type": "code",
   "execution_count": 103,
   "id": "e48b1e21",
   "metadata": {},
   "outputs": [
    {
     "data": {
      "text/plain": [
       "Gender\n",
       "Female    159.19697\n",
       "Male      173.62549\n",
       "Name: Height, dtype: float64"
      ]
     },
     "execution_count": 103,
     "metadata": {},
     "output_type": "execute_result"
    }
   ],
   "source": [
    "#mean() 计算每个组中的平均数\n",
    "gb.mean()"
   ]
  },
  {
   "cell_type": "code",
   "execution_count": 104,
   "id": "c4edbd94",
   "metadata": {},
   "outputs": [
    {
     "data": {
      "text/plain": [
       "Gender\n",
       "Female    132\n",
       "Male       51\n",
       "Name: Height, dtype: int64"
      ]
     },
     "execution_count": 104,
     "metadata": {},
     "output_type": "execute_result"
    }
   ],
   "source": [
    "#count() 计算每个组中的非空值的数量\n",
    "gb.count()"
   ]
  },
  {
   "cell_type": "code",
   "execution_count": null,
   "id": "1d0944c5",
   "metadata": {},
   "outputs": [
    {
     "data": {
      "text/plain": [
       "Gender\n",
       "Female    True\n",
       "Male      True\n",
       "Name: Height, dtype: bool"
      ]
     },
     "execution_count": 105,
     "metadata": {},
     "output_type": "execute_result"
    }
   ],
   "source": [
    "# all() 计算每个组中是否所有值为true\n",
    "gb.all()"
   ]
  },
  {
   "cell_type": "code",
   "execution_count": null,
   "id": "77d74e36",
   "metadata": {},
   "outputs": [
    {
     "data": {
      "text/plain": [
       "Gender\n",
       "Female    True\n",
       "Male      True\n",
       "Name: Height, dtype: bool"
      ]
     },
     "execution_count": 106,
     "metadata": {},
     "output_type": "execute_result"
    }
   ],
   "source": [
    "#any() 计算组中是否至少有一个值为True\n",
    "gb.any()"
   ]
  },
  {
   "cell_type": "code",
   "execution_count": 107,
   "id": "8954f481",
   "metadata": {},
   "outputs": [
    {
     "data": {
      "text/plain": [
       "Gender\n",
       "Female     28\n",
       "Male      193\n",
       "Name: Height, dtype: int64"
      ]
     },
     "execution_count": 107,
     "metadata": {},
     "output_type": "execute_result"
    }
   ],
   "source": [
    "#idxmax()组中最大值索引\n",
    "gb.idxmax()"
   ]
  },
  {
   "cell_type": "code",
   "execution_count": 108,
   "id": "6046b2a6",
   "metadata": {},
   "outputs": [
    {
     "data": {
      "text/plain": [
       "Gender\n",
       "Female     28\n",
       "Male      193\n",
       "Name: Height, dtype: int64"
      ]
     },
     "execution_count": 108,
     "metadata": {},
     "output_type": "execute_result"
    }
   ],
   "source": [
    "#idxmin()组中最小值索引\n",
    "gb.idxmax()"
   ]
  },
  {
   "cell_type": "code",
   "execution_count": null,
   "id": "f85d15d9",
   "metadata": {},
   "outputs": [
    {
     "ename": "AttributeError",
     "evalue": "'SeriesGroupBy' object has no attribute 'mad'",
     "output_type": "error",
     "traceback": [
      "\u001b[1;31m---------------------------------------------------------------------------\u001b[0m",
      "\u001b[1;31mAttributeError\u001b[0m                            Traceback (most recent call last)",
      "Cell \u001b[1;32mIn[109], line 3\u001b[0m\n\u001b[0;32m      1\u001b[0m \u001b[38;5;66;03m#mad()mean absolute deviation 平均绝对偏差\u001b[39;00m\n\u001b[0;32m      2\u001b[0m \u001b[38;5;66;03m#每一组的平均绝对偏差\u001b[39;00m\n\u001b[1;32m----> 3\u001b[0m \u001b[43mgb\u001b[49m\u001b[38;5;241;43m.\u001b[39;49m\u001b[43mmad\u001b[49m()\n",
      "File \u001b[1;32mD:\\trian\\train\\.venv\\lib\\site-packages\\pandas\\core\\groupby\\groupby.py:1363\u001b[0m, in \u001b[0;36mGroupBy.__getattr__\u001b[1;34m(self, attr)\u001b[0m\n\u001b[0;32m   1360\u001b[0m \u001b[38;5;28;01mif\u001b[39;00m attr \u001b[38;5;129;01min\u001b[39;00m \u001b[38;5;28mself\u001b[39m\u001b[38;5;241m.\u001b[39mobj:\n\u001b[0;32m   1361\u001b[0m     \u001b[38;5;28;01mreturn\u001b[39;00m \u001b[38;5;28mself\u001b[39m[attr]\n\u001b[1;32m-> 1363\u001b[0m \u001b[38;5;28;01mraise\u001b[39;00m \u001b[38;5;167;01mAttributeError\u001b[39;00m(\n\u001b[0;32m   1364\u001b[0m     \u001b[38;5;124mf\u001b[39m\u001b[38;5;124m\"\u001b[39m\u001b[38;5;124m'\u001b[39m\u001b[38;5;132;01m{\u001b[39;00m\u001b[38;5;28mtype\u001b[39m(\u001b[38;5;28mself\u001b[39m)\u001b[38;5;241m.\u001b[39m\u001b[38;5;18m__name__\u001b[39m\u001b[38;5;132;01m}\u001b[39;00m\u001b[38;5;124m'\u001b[39m\u001b[38;5;124m object has no attribute \u001b[39m\u001b[38;5;124m'\u001b[39m\u001b[38;5;132;01m{\u001b[39;00mattr\u001b[38;5;132;01m}\u001b[39;00m\u001b[38;5;124m'\u001b[39m\u001b[38;5;124m\"\u001b[39m\n\u001b[0;32m   1365\u001b[0m )\n",
      "\u001b[1;31mAttributeError\u001b[0m: 'SeriesGroupBy' object has no attribute 'mad'"
     ]
    }
   ],
   "source": [
    "#mad()mean absolute deviation 平均绝对偏差\n",
    "#每一组的平均绝对偏差\n",
    "# gb.mad() 新版本pandas中没有"
   ]
  },
  {
   "cell_type": "code",
   "execution_count": 110,
   "id": "4628748d",
   "metadata": {},
   "outputs": [
    {
     "data": {
      "text/plain": [
       "Gender\n",
       "Female    99\n",
       "Male      47\n",
       "Name: Height, dtype: int64"
      ]
     },
     "execution_count": 110,
     "metadata": {},
     "output_type": "execute_result"
    }
   ],
   "source": [
    "#nunique 每个组唯一值的数量\n",
    "gb.nunique()"
   ]
  },
  {
   "cell_type": "code",
   "execution_count": 111,
   "id": "4e810c15",
   "metadata": {},
   "outputs": [
    {
     "data": {
      "text/plain": [
       "Gender\n",
       "Female   -0.219253\n",
       "Male      0.437535\n",
       "Name: Height, dtype: float64"
      ]
     },
     "execution_count": 111,
     "metadata": {},
     "output_type": "execute_result"
    }
   ],
   "source": [
    "# skew 每个组的偏度\n",
    "gb.skew()"
   ]
  },
  {
   "cell_type": "code",
   "execution_count": null,
   "id": "b42df98c",
   "metadata": {},
   "outputs": [
    {
     "data": {
      "text/plain": [
       "Gender\n",
       "Female    162.825\n",
       "Male      177.150\n",
       "Name: Height, dtype: float64"
      ]
     },
     "execution_count": 112,
     "metadata": {},
     "output_type": "execute_result"
    }
   ],
   "source": [
    "# quantile() 每个组的分位数\n",
    "gb.quantile(0.75)#每个组中的上四分位数"
   ]
  },
  {
   "cell_type": "code",
   "execution_count": 113,
   "id": "632b337f",
   "metadata": {},
   "outputs": [
    {
     "data": {
      "text/plain": [
       "Gender\n",
       "Female    21014.0\n",
       "Male       8854.9\n",
       "Name: Height, dtype: float64"
      ]
     },
     "execution_count": 113,
     "metadata": {},
     "output_type": "execute_result"
    }
   ],
   "source": [
    "#sum 每个组中所有值的总和\n",
    "gb.sum()"
   ]
  },
  {
   "cell_type": "code",
   "execution_count": 114,
   "id": "189d515d",
   "metadata": {},
   "outputs": [
    {
     "data": {
      "text/plain": [
       "Gender\n",
       "Female    5.053982\n",
       "Male      7.048485\n",
       "Name: Height, dtype: float64"
      ]
     },
     "execution_count": 114,
     "metadata": {},
     "output_type": "execute_result"
    }
   ],
   "source": [
    "#std 每个组中的标准差\n",
    "gb.std()\n"
   ]
  },
  {
   "cell_type": "code",
   "execution_count": 115,
   "id": "9505026d",
   "metadata": {},
   "outputs": [
    {
     "data": {
      "text/plain": [
       "Gender\n",
       "Female    25.542739\n",
       "Male      49.681137\n",
       "Name: Height, dtype: float64"
      ]
     },
     "execution_count": 115,
     "metadata": {},
     "output_type": "execute_result"
    }
   ],
   "source": [
    "# var() 每个组中的方差\n",
    "gb.var()"
   ]
  },
  {
   "cell_type": "code",
   "execution_count": 116,
   "id": "19dc4b7d",
   "metadata": {},
   "outputs": [
    {
     "data": {
      "text/plain": [
       "Gender\n",
       "Female    0.439893\n",
       "Male      0.986985\n",
       "Name: Height, dtype: float64"
      ]
     },
     "execution_count": 116,
     "metadata": {},
     "output_type": "execute_result"
    }
   ],
   "source": [
    "#sem() standard error of mean 平均标准误差\n",
    "#每个组中的平均标准误差\n",
    "gb.sem()"
   ]
  },
  {
   "cell_type": "code",
   "execution_count": 117,
   "id": "e99cdee6",
   "metadata": {},
   "outputs": [
    {
     "data": {
      "text/plain": [
       "Gender\n",
       "Female    141\n",
       "Male       59\n",
       "Name: Height, dtype: int64"
      ]
     },
     "execution_count": 117,
     "metadata": {},
     "output_type": "execute_result"
    }
   ],
   "source": [
    "#size() 每个组的大小\n",
    "gb.size()"
   ]
  },
  {
   "cell_type": "code",
   "execution_count": 118,
   "id": "6793f725",
   "metadata": {},
   "outputs": [
    {
     "data": {
      "text/plain": [
       "Gender\n",
       "Female    4.232080e+290\n",
       "Male      1.594210e+114\n",
       "Name: Height, dtype: float64"
      ]
     },
     "execution_count": 118,
     "metadata": {},
     "output_type": "execute_result"
    }
   ],
   "source": [
    "#prod() 每组的乘积\n",
    "gb.prod()"
   ]
  },
  {
   "cell_type": "code",
   "execution_count": null,
   "id": "b2d67e86",
   "metadata": {},
   "outputs": [],
   "source": [
    "#agg 方法\n",
    "# 它能对分组后的数据应用一个或者多个聚合函数，实现多样化的统计数据分析``"
   ]
  },
  {
   "cell_type": "code",
   "execution_count": 119,
   "id": "1a916b09",
   "metadata": {},
   "outputs": [
    {
     "data": {
      "text/html": [
       "<div>\n",
       "<style scoped>\n",
       "    .dataframe tbody tr th:only-of-type {\n",
       "        vertical-align: middle;\n",
       "    }\n",
       "\n",
       "    .dataframe tbody tr th {\n",
       "        vertical-align: top;\n",
       "    }\n",
       "\n",
       "    .dataframe thead th {\n",
       "        text-align: right;\n",
       "    }\n",
       "</style>\n",
       "<table border=\"1\" class=\"dataframe\">\n",
       "  <thead>\n",
       "    <tr style=\"text-align: right;\">\n",
       "      <th></th>\n",
       "      <th>School</th>\n",
       "      <th>Grade</th>\n",
       "      <th>Name</th>\n",
       "      <th>Gender</th>\n",
       "      <th>Height</th>\n",
       "      <th>Weight</th>\n",
       "      <th>Transfer</th>\n",
       "      <th>Test_Number</th>\n",
       "      <th>Test_Date</th>\n",
       "      <th>Time_Record</th>\n",
       "    </tr>\n",
       "  </thead>\n",
       "  <tbody>\n",
       "    <tr>\n",
       "      <th>0</th>\n",
       "      <td>A</td>\n",
       "      <td>Freshman</td>\n",
       "      <td>Gaopeng Yang</td>\n",
       "      <td>Female</td>\n",
       "      <td>158.9</td>\n",
       "      <td>46.0</td>\n",
       "      <td>N</td>\n",
       "      <td>1</td>\n",
       "      <td>2019/10/5</td>\n",
       "      <td>0:04:34</td>\n",
       "    </tr>\n",
       "    <tr>\n",
       "      <th>1</th>\n",
       "      <td>B</td>\n",
       "      <td>Freshman</td>\n",
       "      <td>Changqiang You</td>\n",
       "      <td>Male</td>\n",
       "      <td>166.5</td>\n",
       "      <td>70.0</td>\n",
       "      <td>N</td>\n",
       "      <td>1</td>\n",
       "      <td>2019/9/4</td>\n",
       "      <td>0:04:20</td>\n",
       "    </tr>\n",
       "    <tr>\n",
       "      <th>2</th>\n",
       "      <td>A</td>\n",
       "      <td>Senior</td>\n",
       "      <td>Mei Sun</td>\n",
       "      <td>Male</td>\n",
       "      <td>188.9</td>\n",
       "      <td>89.0</td>\n",
       "      <td>N</td>\n",
       "      <td>2</td>\n",
       "      <td>2019/9/12</td>\n",
       "      <td>0:05:22</td>\n",
       "    </tr>\n",
       "    <tr>\n",
       "      <th>3</th>\n",
       "      <td>C</td>\n",
       "      <td>Sophomore</td>\n",
       "      <td>Xiaojuan Sun</td>\n",
       "      <td>Female</td>\n",
       "      <td>NaN</td>\n",
       "      <td>41.0</td>\n",
       "      <td>N</td>\n",
       "      <td>2</td>\n",
       "      <td>2020/1/3</td>\n",
       "      <td>0:04:08</td>\n",
       "    </tr>\n",
       "    <tr>\n",
       "      <th>4</th>\n",
       "      <td>C</td>\n",
       "      <td>Sophomore</td>\n",
       "      <td>Gaojuan You</td>\n",
       "      <td>Male</td>\n",
       "      <td>174.0</td>\n",
       "      <td>74.0</td>\n",
       "      <td>N</td>\n",
       "      <td>2</td>\n",
       "      <td>2019/11/6</td>\n",
       "      <td>0:05:22</td>\n",
       "    </tr>\n",
       "  </tbody>\n",
       "</table>\n",
       "</div>"
      ],
      "text/plain": [
       "  School      Grade            Name  Gender  Height  Weight Transfer  \\\n",
       "0      A   Freshman    Gaopeng Yang  Female   158.9    46.0        N   \n",
       "1      B   Freshman  Changqiang You    Male   166.5    70.0        N   \n",
       "2      A     Senior         Mei Sun    Male   188.9    89.0        N   \n",
       "3      C  Sophomore    Xiaojuan Sun  Female     NaN    41.0        N   \n",
       "4      C  Sophomore     Gaojuan You    Male   174.0    74.0        N   \n",
       "\n",
       "   Test_Number  Test_Date Time_Record  \n",
       "0            1  2019/10/5     0:04:34  \n",
       "1            1   2019/9/4     0:04:20  \n",
       "2            2  2019/9/12     0:05:22  \n",
       "3            2   2020/1/3     0:04:08  \n",
       "4            2  2019/11/6     0:05:22  "
      ]
     },
     "execution_count": 119,
     "metadata": {},
     "output_type": "execute_result"
    }
   ],
   "source": [
    "df.head()"
   ]
  },
  {
   "cell_type": "code",
   "execution_count": 120,
   "id": "681d6bc1",
   "metadata": {},
   "outputs": [
    {
     "data": {
      "text/plain": [
       "<pandas.core.groupby.generic.DataFrameGroupBy object at 0x000001EE383D2EF0>"
      ]
     },
     "execution_count": 120,
     "metadata": {},
     "output_type": "execute_result"
    }
   ],
   "source": [
    "gb = df.groupby('Gender')[['Height','Weight']]\n",
    "gb"
   ]
  },
  {
   "cell_type": "code",
   "execution_count": 121,
   "id": "1f1c26d8",
   "metadata": {},
   "outputs": [
    {
     "data": {
      "text/html": [
       "<div>\n",
       "<style scoped>\n",
       "    .dataframe tbody tr th:only-of-type {\n",
       "        vertical-align: middle;\n",
       "    }\n",
       "\n",
       "    .dataframe tbody tr th {\n",
       "        vertical-align: top;\n",
       "    }\n",
       "\n",
       "    .dataframe thead tr th {\n",
       "        text-align: left;\n",
       "    }\n",
       "\n",
       "    .dataframe thead tr:last-of-type th {\n",
       "        text-align: right;\n",
       "    }\n",
       "</style>\n",
       "<table border=\"1\" class=\"dataframe\">\n",
       "  <thead>\n",
       "    <tr>\n",
       "      <th></th>\n",
       "      <th>Height</th>\n",
       "      <th>Weight</th>\n",
       "    </tr>\n",
       "    <tr>\n",
       "      <th></th>\n",
       "      <th>mean</th>\n",
       "      <th>mean</th>\n",
       "    </tr>\n",
       "    <tr>\n",
       "      <th>Gender</th>\n",
       "      <th></th>\n",
       "      <th></th>\n",
       "    </tr>\n",
       "  </thead>\n",
       "  <tbody>\n",
       "    <tr>\n",
       "      <th>Female</th>\n",
       "      <td>159.19697</td>\n",
       "      <td>47.918519</td>\n",
       "    </tr>\n",
       "    <tr>\n",
       "      <th>Male</th>\n",
       "      <td>173.62549</td>\n",
       "      <td>72.759259</td>\n",
       "    </tr>\n",
       "  </tbody>\n",
       "</table>\n",
       "</div>"
      ],
      "text/plain": [
       "           Height     Weight\n",
       "             mean       mean\n",
       "Gender                      \n",
       "Female  159.19697  47.918519\n",
       "Male    173.62549  72.759259"
      ]
     },
     "execution_count": 121,
     "metadata": {},
     "output_type": "execute_result"
    }
   ],
   "source": [
    "#基本用法\n",
    "#1、对单个列应用聚合函数\n",
    "gb.agg({'Height':['mean'],'Weight':['mean']})"
   ]
  },
  {
   "cell_type": "code",
   "execution_count": 122,
   "id": "b7f89e5b",
   "metadata": {},
   "outputs": [
    {
     "data": {
      "text/html": [
       "<div>\n",
       "<style scoped>\n",
       "    .dataframe tbody tr th:only-of-type {\n",
       "        vertical-align: middle;\n",
       "    }\n",
       "\n",
       "    .dataframe tbody tr th {\n",
       "        vertical-align: top;\n",
       "    }\n",
       "\n",
       "    .dataframe thead tr th {\n",
       "        text-align: left;\n",
       "    }\n",
       "\n",
       "    .dataframe thead tr:last-of-type th {\n",
       "        text-align: right;\n",
       "    }\n",
       "</style>\n",
       "<table border=\"1\" class=\"dataframe\">\n",
       "  <thead>\n",
       "    <tr>\n",
       "      <th></th>\n",
       "      <th colspan=\"3\" halign=\"left\">Height</th>\n",
       "      <th colspan=\"3\" halign=\"left\">Weight</th>\n",
       "    </tr>\n",
       "    <tr>\n",
       "      <th></th>\n",
       "      <th>sum</th>\n",
       "      <th>idxmax</th>\n",
       "      <th>skew</th>\n",
       "      <th>sum</th>\n",
       "      <th>idxmax</th>\n",
       "      <th>skew</th>\n",
       "    </tr>\n",
       "    <tr>\n",
       "      <th>Gender</th>\n",
       "      <th></th>\n",
       "      <th></th>\n",
       "      <th></th>\n",
       "      <th></th>\n",
       "      <th></th>\n",
       "      <th></th>\n",
       "    </tr>\n",
       "  </thead>\n",
       "  <tbody>\n",
       "    <tr>\n",
       "      <th>Female</th>\n",
       "      <td>21014.0</td>\n",
       "      <td>28</td>\n",
       "      <td>-0.219253</td>\n",
       "      <td>6469.0</td>\n",
       "      <td>28</td>\n",
       "      <td>-0.268482</td>\n",
       "    </tr>\n",
       "    <tr>\n",
       "      <th>Male</th>\n",
       "      <td>8854.9</td>\n",
       "      <td>193</td>\n",
       "      <td>0.437535</td>\n",
       "      <td>3929.0</td>\n",
       "      <td>2</td>\n",
       "      <td>-0.332393</td>\n",
       "    </tr>\n",
       "  </tbody>\n",
       "</table>\n",
       "</div>"
      ],
      "text/plain": [
       "         Height                   Weight                 \n",
       "            sum idxmax      skew     sum idxmax      skew\n",
       "Gender                                                   \n",
       "Female  21014.0     28 -0.219253  6469.0     28 -0.268482\n",
       "Male     8854.9    193  0.437535  3929.0      2 -0.332393"
      ]
     },
     "execution_count": 122,
     "metadata": {},
     "output_type": "execute_result"
    }
   ],
   "source": [
    "# 2、对单个列应用多个聚合函数\n",
    "gb.agg(['sum','idxmax','skew'])"
   ]
  },
  {
   "cell_type": "code",
   "execution_count": 123,
   "id": "df62655b",
   "metadata": {},
   "outputs": [
    {
     "data": {
      "text/html": [
       "<div>\n",
       "<style scoped>\n",
       "    .dataframe tbody tr th:only-of-type {\n",
       "        vertical-align: middle;\n",
       "    }\n",
       "\n",
       "    .dataframe tbody tr th {\n",
       "        vertical-align: top;\n",
       "    }\n",
       "\n",
       "    .dataframe thead tr th {\n",
       "        text-align: left;\n",
       "    }\n",
       "\n",
       "    .dataframe thead tr:last-of-type th {\n",
       "        text-align: right;\n",
       "    }\n",
       "</style>\n",
       "<table border=\"1\" class=\"dataframe\">\n",
       "  <thead>\n",
       "    <tr>\n",
       "      <th></th>\n",
       "      <th>Height</th>\n",
       "      <th>Weight</th>\n",
       "    </tr>\n",
       "    <tr>\n",
       "      <th></th>\n",
       "      <th>mean</th>\n",
       "      <th>sum</th>\n",
       "    </tr>\n",
       "    <tr>\n",
       "      <th>Gender</th>\n",
       "      <th></th>\n",
       "      <th></th>\n",
       "    </tr>\n",
       "  </thead>\n",
       "  <tbody>\n",
       "    <tr>\n",
       "      <th>Female</th>\n",
       "      <td>159.19697</td>\n",
       "      <td>6469.0</td>\n",
       "    </tr>\n",
       "    <tr>\n",
       "      <th>Male</th>\n",
       "      <td>173.62549</td>\n",
       "      <td>3929.0</td>\n",
       "    </tr>\n",
       "  </tbody>\n",
       "</table>\n",
       "</div>"
      ],
      "text/plain": [
       "           Height  Weight\n",
       "             mean     sum\n",
       "Gender                   \n",
       "Female  159.19697  6469.0\n",
       "Male    173.62549  3929.0"
      ]
     },
     "execution_count": 123,
     "metadata": {},
     "output_type": "execute_result"
    }
   ],
   "source": [
    "# 3、对多个列应用不同的聚合函数\n",
    "gb.agg({'Height':['mean'],'Weight':['sum']})"
   ]
  },
  {
   "cell_type": "code",
   "execution_count": 124,
   "id": "d74ab220",
   "metadata": {},
   "outputs": [
    {
     "data": {
      "text/html": [
       "<div>\n",
       "<style scoped>\n",
       "    .dataframe tbody tr th:only-of-type {\n",
       "        vertical-align: middle;\n",
       "    }\n",
       "\n",
       "    .dataframe tbody tr th {\n",
       "        vertical-align: top;\n",
       "    }\n",
       "\n",
       "    .dataframe thead th {\n",
       "        text-align: right;\n",
       "    }\n",
       "</style>\n",
       "<table border=\"1\" class=\"dataframe\">\n",
       "  <thead>\n",
       "    <tr style=\"text-align: right;\">\n",
       "      <th></th>\n",
       "      <th>Height</th>\n",
       "      <th>Weight</th>\n",
       "    </tr>\n",
       "    <tr>\n",
       "      <th>Gender</th>\n",
       "      <th></th>\n",
       "      <th></th>\n",
       "    </tr>\n",
       "  </thead>\n",
       "  <tbody>\n",
       "    <tr>\n",
       "      <th>Female</th>\n",
       "      <td>13.79697</td>\n",
       "      <td>13.918519</td>\n",
       "    </tr>\n",
       "    <tr>\n",
       "      <th>Male</th>\n",
       "      <td>17.92549</td>\n",
       "      <td>21.759259</td>\n",
       "    </tr>\n",
       "  </tbody>\n",
       "</table>\n",
       "</div>"
      ],
      "text/plain": [
       "          Height     Weight\n",
       "Gender                     \n",
       "Female  13.79697  13.918519\n",
       "Male    17.92549  21.759259"
      ]
     },
     "execution_count": 124,
     "metadata": {},
     "output_type": "execute_result"
    }
   ],
   "source": [
    "# 自定义函数\n",
    "gb.agg(lambda x:x.mean() - x.min())"
   ]
  },
  {
   "cell_type": "code",
   "execution_count": 126,
   "id": "4ced568c",
   "metadata": {},
   "outputs": [
    {
     "data": {
      "text/html": [
       "<div>\n",
       "<style scoped>\n",
       "    .dataframe tbody tr th:only-of-type {\n",
       "        vertical-align: middle;\n",
       "    }\n",
       "\n",
       "    .dataframe tbody tr th {\n",
       "        vertical-align: top;\n",
       "    }\n",
       "\n",
       "    .dataframe thead th {\n",
       "        text-align: right;\n",
       "    }\n",
       "</style>\n",
       "<table border=\"1\" class=\"dataframe\">\n",
       "  <thead>\n",
       "    <tr style=\"text-align: right;\">\n",
       "      <th></th>\n",
       "      <th>Height</th>\n",
       "      <th>Weight</th>\n",
       "    </tr>\n",
       "    <tr>\n",
       "      <th>Gender</th>\n",
       "      <th></th>\n",
       "      <th></th>\n",
       "    </tr>\n",
       "  </thead>\n",
       "  <tbody>\n",
       "    <tr>\n",
       "      <th>Female</th>\n",
       "      <td>Low</td>\n",
       "      <td>Low</td>\n",
       "    </tr>\n",
       "    <tr>\n",
       "      <th>Male</th>\n",
       "      <td>High</td>\n",
       "      <td>High</td>\n",
       "    </tr>\n",
       "  </tbody>\n",
       "</table>\n",
       "</div>"
      ],
      "text/plain": [
       "       Height Weight\n",
       "Gender              \n",
       "Female    Low    Low\n",
       "Male     High   High"
      ]
     },
     "execution_count": 126,
     "metadata": {},
     "output_type": "execute_result"
    }
   ],
   "source": [
    "# eg:定义一个函数，如果组的指标均值，超过该指标的总体均值\n",
    "def my_agg(s):\n",
    "    res = 'High'\n",
    "    if s.mean() <= df[s.name].mean():\n",
    "        res = 'Low'\n",
    "    return res\n",
    "gb.agg(my_agg)"
   ]
  },
  {
   "cell_type": "code",
   "execution_count": 127,
   "id": "8496cbc7",
   "metadata": {},
   "outputs": [
    {
     "data": {
      "text/html": [
       "<div>\n",
       "<style scoped>\n",
       "    .dataframe tbody tr th:only-of-type {\n",
       "        vertical-align: middle;\n",
       "    }\n",
       "\n",
       "    .dataframe tbody tr th {\n",
       "        vertical-align: top;\n",
       "    }\n",
       "\n",
       "    .dataframe thead tr th {\n",
       "        text-align: left;\n",
       "    }\n",
       "\n",
       "    .dataframe thead tr:last-of-type th {\n",
       "        text-align: right;\n",
       "    }\n",
       "</style>\n",
       "<table border=\"1\" class=\"dataframe\">\n",
       "  <thead>\n",
       "    <tr>\n",
       "      <th></th>\n",
       "      <th colspan=\"2\" halign=\"left\">Height</th>\n",
       "      <th colspan=\"2\" halign=\"left\">Weight</th>\n",
       "    </tr>\n",
       "    <tr>\n",
       "      <th></th>\n",
       "      <th>range</th>\n",
       "      <th>my_sum</th>\n",
       "      <th>range</th>\n",
       "      <th>my_sum</th>\n",
       "    </tr>\n",
       "    <tr>\n",
       "      <th>Gender</th>\n",
       "      <th></th>\n",
       "      <th></th>\n",
       "      <th></th>\n",
       "      <th></th>\n",
       "    </tr>\n",
       "  </thead>\n",
       "  <tbody>\n",
       "    <tr>\n",
       "      <th>Female</th>\n",
       "      <td>24.8</td>\n",
       "      <td>21014.0</td>\n",
       "      <td>29.0</td>\n",
       "      <td>6469.0</td>\n",
       "    </tr>\n",
       "    <tr>\n",
       "      <th>Male</th>\n",
       "      <td>38.2</td>\n",
       "      <td>8854.9</td>\n",
       "      <td>38.0</td>\n",
       "      <td>3929.0</td>\n",
       "    </tr>\n",
       "  </tbody>\n",
       "</table>\n",
       "</div>"
      ],
      "text/plain": [
       "       Height          Weight        \n",
       "        range   my_sum  range  my_sum\n",
       "Gender                               \n",
       "Female   24.8  21014.0   29.0  6469.0\n",
       "Male     38.2   8854.9   38.0  3929.0"
      ]
     },
     "execution_count": 127,
     "metadata": {},
     "output_type": "execute_result"
    }
   ],
   "source": [
    "# 5、聚合函数结果重命名\n",
    "# 如果想要对结果进行重命名,只需要对上述的位置改写成元组。\n",
    "# 元组的第一个元素为新的名字，元组的第二个元素为原来的函数\n",
    "gb.agg([('range',lambda x:x.max() - x.min()),('my_sum','sum')])"
   ]
  },
  {
   "cell_type": "markdown",
   "id": "536465e8",
   "metadata": {},
   "source": [
    "# 变换"
   ]
  },
  {
   "cell_type": "markdown",
   "id": "7e2d37bb",
   "metadata": {},
   "source": [
    "### 变换函数与transform方法"
   ]
  },
  {
   "cell_type": "code",
   "execution_count": null,
   "id": "31b879f8",
   "metadata": {},
   "outputs": [],
   "source": [
    "#cumcount/cummax/cummin/cumsum/cumprod\n",
    "#cumcount:对每个分组内的元素进行编号\n",
    "#cumsum():对每个分组内的数据进行累计求和\n",
    "#cummax():对每个分组内的数据累计求最大值\n",
    "#cummin():对每个分组内的数据累计求最小值\n",
    "#cumprod():对每个分组内的数据累计乘积\n"
   ]
  },
  {
   "cell_type": "code",
   "execution_count": 128,
   "id": "aefbc70c",
   "metadata": {},
   "outputs": [
    {
     "data": {
      "text/plain": [
       "<pandas.core.groupby.generic.DataFrameGroupBy object at 0x000001EE39D83790>"
      ]
     },
     "execution_count": 128,
     "metadata": {},
     "output_type": "execute_result"
    }
   ],
   "source": [
    "gb = df.groupby('Gender')[['Height','Weight']]\n",
    "gb"
   ]
  },
  {
   "cell_type": "code",
   "execution_count": 129,
   "id": "9d93003f",
   "metadata": {},
   "outputs": [
    {
     "data": {
      "text/plain": [
       "0        0\n",
       "1        0\n",
       "2        1\n",
       "3        1\n",
       "4        2\n",
       "      ... \n",
       "195    138\n",
       "196    139\n",
       "197    140\n",
       "198     57\n",
       "199     58\n",
       "Length: 200, dtype: int64"
      ]
     },
     "execution_count": 129,
     "metadata": {},
     "output_type": "execute_result"
    }
   ],
   "source": [
    "gb.cumcount()"
   ]
  },
  {
   "cell_type": "code",
   "execution_count": 130,
   "id": "1cc8ce74",
   "metadata": {},
   "outputs": [
    {
     "data": {
      "text/html": [
       "<div>\n",
       "<style scoped>\n",
       "    .dataframe tbody tr th:only-of-type {\n",
       "        vertical-align: middle;\n",
       "    }\n",
       "\n",
       "    .dataframe tbody tr th {\n",
       "        vertical-align: top;\n",
       "    }\n",
       "\n",
       "    .dataframe thead th {\n",
       "        text-align: right;\n",
       "    }\n",
       "</style>\n",
       "<table border=\"1\" class=\"dataframe\">\n",
       "  <thead>\n",
       "    <tr style=\"text-align: right;\">\n",
       "      <th></th>\n",
       "      <th>Height</th>\n",
       "      <th>Weight</th>\n",
       "    </tr>\n",
       "  </thead>\n",
       "  <tbody>\n",
       "    <tr>\n",
       "      <th>0</th>\n",
       "      <td>158.9</td>\n",
       "      <td>46.0</td>\n",
       "    </tr>\n",
       "    <tr>\n",
       "      <th>1</th>\n",
       "      <td>166.5</td>\n",
       "      <td>70.0</td>\n",
       "    </tr>\n",
       "    <tr>\n",
       "      <th>2</th>\n",
       "      <td>355.4</td>\n",
       "      <td>159.0</td>\n",
       "    </tr>\n",
       "    <tr>\n",
       "      <th>3</th>\n",
       "      <td>NaN</td>\n",
       "      <td>87.0</td>\n",
       "    </tr>\n",
       "    <tr>\n",
       "      <th>4</th>\n",
       "      <td>529.4</td>\n",
       "      <td>233.0</td>\n",
       "    </tr>\n",
       "    <tr>\n",
       "      <th>...</th>\n",
       "      <td>...</td>\n",
       "      <td>...</td>\n",
       "    </tr>\n",
       "    <tr>\n",
       "      <th>195</th>\n",
       "      <td>20699.2</td>\n",
       "      <td>6374.0</td>\n",
       "    </tr>\n",
       "    <tr>\n",
       "      <th>196</th>\n",
       "      <td>20860.1</td>\n",
       "      <td>6424.0</td>\n",
       "    </tr>\n",
       "    <tr>\n",
       "      <th>197</th>\n",
       "      <td>21014.0</td>\n",
       "      <td>6469.0</td>\n",
       "    </tr>\n",
       "    <tr>\n",
       "      <th>198</th>\n",
       "      <td>8699.2</td>\n",
       "      <td>3878.0</td>\n",
       "    </tr>\n",
       "    <tr>\n",
       "      <th>199</th>\n",
       "      <td>8854.9</td>\n",
       "      <td>3929.0</td>\n",
       "    </tr>\n",
       "  </tbody>\n",
       "</table>\n",
       "<p>200 rows × 2 columns</p>\n",
       "</div>"
      ],
      "text/plain": [
       "      Height  Weight\n",
       "0      158.9    46.0\n",
       "1      166.5    70.0\n",
       "2      355.4   159.0\n",
       "3        NaN    87.0\n",
       "4      529.4   233.0\n",
       "..       ...     ...\n",
       "195  20699.2  6374.0\n",
       "196  20860.1  6424.0\n",
       "197  21014.0  6469.0\n",
       "198   8699.2  3878.0\n",
       "199   8854.9  3929.0\n",
       "\n",
       "[200 rows x 2 columns]"
      ]
     },
     "execution_count": 130,
     "metadata": {},
     "output_type": "execute_result"
    }
   ],
   "source": [
    "gb.cumsum()"
   ]
  },
  {
   "cell_type": "code",
   "execution_count": 131,
   "id": "8cb4b929",
   "metadata": {},
   "outputs": [
    {
     "data": {
      "text/html": [
       "<div>\n",
       "<style scoped>\n",
       "    .dataframe tbody tr th:only-of-type {\n",
       "        vertical-align: middle;\n",
       "    }\n",
       "\n",
       "    .dataframe tbody tr th {\n",
       "        vertical-align: top;\n",
       "    }\n",
       "\n",
       "    .dataframe thead th {\n",
       "        text-align: right;\n",
       "    }\n",
       "</style>\n",
       "<table border=\"1\" class=\"dataframe\">\n",
       "  <thead>\n",
       "    <tr style=\"text-align: right;\">\n",
       "      <th></th>\n",
       "      <th>Height</th>\n",
       "      <th>Weight</th>\n",
       "    </tr>\n",
       "  </thead>\n",
       "  <tbody>\n",
       "    <tr>\n",
       "      <th>0</th>\n",
       "      <td>1.589000e+02</td>\n",
       "      <td>4.600000e+01</td>\n",
       "    </tr>\n",
       "    <tr>\n",
       "      <th>1</th>\n",
       "      <td>1.665000e+02</td>\n",
       "      <td>7.000000e+01</td>\n",
       "    </tr>\n",
       "    <tr>\n",
       "      <th>2</th>\n",
       "      <td>3.145185e+04</td>\n",
       "      <td>6.230000e+03</td>\n",
       "    </tr>\n",
       "    <tr>\n",
       "      <th>3</th>\n",
       "      <td>NaN</td>\n",
       "      <td>1.886000e+03</td>\n",
       "    </tr>\n",
       "    <tr>\n",
       "      <th>4</th>\n",
       "      <td>5.472622e+06</td>\n",
       "      <td>4.610200e+05</td>\n",
       "    </tr>\n",
       "    <tr>\n",
       "      <th>...</th>\n",
       "      <td>...</td>\n",
       "      <td>...</td>\n",
       "    </tr>\n",
       "    <tr>\n",
       "      <th>195</th>\n",
       "      <td>1.709067e+286</td>\n",
       "      <td>1.350757e+223</td>\n",
       "    </tr>\n",
       "    <tr>\n",
       "      <th>196</th>\n",
       "      <td>2.749889e+288</td>\n",
       "      <td>6.753783e+224</td>\n",
       "    </tr>\n",
       "    <tr>\n",
       "      <th>197</th>\n",
       "      <td>4.232080e+290</td>\n",
       "      <td>3.039202e+226</td>\n",
       "    </tr>\n",
       "    <tr>\n",
       "      <th>198</th>\n",
       "      <td>1.023899e+112</td>\n",
       "      <td>4.980836e+98</td>\n",
       "    </tr>\n",
       "    <tr>\n",
       "      <th>199</th>\n",
       "      <td>1.594210e+114</td>\n",
       "      <td>2.540227e+100</td>\n",
       "    </tr>\n",
       "  </tbody>\n",
       "</table>\n",
       "<p>200 rows × 2 columns</p>\n",
       "</div>"
      ],
      "text/plain": [
       "            Height         Weight\n",
       "0     1.589000e+02   4.600000e+01\n",
       "1     1.665000e+02   7.000000e+01\n",
       "2     3.145185e+04   6.230000e+03\n",
       "3              NaN   1.886000e+03\n",
       "4     5.472622e+06   4.610200e+05\n",
       "..             ...            ...\n",
       "195  1.709067e+286  1.350757e+223\n",
       "196  2.749889e+288  6.753783e+224\n",
       "197  4.232080e+290  3.039202e+226\n",
       "198  1.023899e+112   4.980836e+98\n",
       "199  1.594210e+114  2.540227e+100\n",
       "\n",
       "[200 rows x 2 columns]"
      ]
     },
     "execution_count": 131,
     "metadata": {},
     "output_type": "execute_result"
    }
   ],
   "source": [
    "gb.cumprod()"
   ]
  },
  {
   "cell_type": "code",
   "execution_count": 132,
   "id": "e8ab2e40",
   "metadata": {},
   "outputs": [
    {
     "data": {
      "text/html": [
       "<div>\n",
       "<style scoped>\n",
       "    .dataframe tbody tr th:only-of-type {\n",
       "        vertical-align: middle;\n",
       "    }\n",
       "\n",
       "    .dataframe tbody tr th {\n",
       "        vertical-align: top;\n",
       "    }\n",
       "\n",
       "    .dataframe thead th {\n",
       "        text-align: right;\n",
       "    }\n",
       "</style>\n",
       "<table border=\"1\" class=\"dataframe\">\n",
       "  <thead>\n",
       "    <tr style=\"text-align: right;\">\n",
       "      <th></th>\n",
       "      <th>Height</th>\n",
       "      <th>Weight</th>\n",
       "    </tr>\n",
       "  </thead>\n",
       "  <tbody>\n",
       "    <tr>\n",
       "      <th>0</th>\n",
       "      <td>158.9</td>\n",
       "      <td>46.0</td>\n",
       "    </tr>\n",
       "    <tr>\n",
       "      <th>1</th>\n",
       "      <td>166.5</td>\n",
       "      <td>70.0</td>\n",
       "    </tr>\n",
       "    <tr>\n",
       "      <th>2</th>\n",
       "      <td>188.9</td>\n",
       "      <td>89.0</td>\n",
       "    </tr>\n",
       "    <tr>\n",
       "      <th>3</th>\n",
       "      <td>NaN</td>\n",
       "      <td>46.0</td>\n",
       "    </tr>\n",
       "    <tr>\n",
       "      <th>4</th>\n",
       "      <td>188.9</td>\n",
       "      <td>89.0</td>\n",
       "    </tr>\n",
       "    <tr>\n",
       "      <th>...</th>\n",
       "      <td>...</td>\n",
       "      <td>...</td>\n",
       "    </tr>\n",
       "    <tr>\n",
       "      <th>195</th>\n",
       "      <td>170.2</td>\n",
       "      <td>63.0</td>\n",
       "    </tr>\n",
       "    <tr>\n",
       "      <th>196</th>\n",
       "      <td>170.2</td>\n",
       "      <td>63.0</td>\n",
       "    </tr>\n",
       "    <tr>\n",
       "      <th>197</th>\n",
       "      <td>170.2</td>\n",
       "      <td>63.0</td>\n",
       "    </tr>\n",
       "    <tr>\n",
       "      <th>198</th>\n",
       "      <td>193.9</td>\n",
       "      <td>89.0</td>\n",
       "    </tr>\n",
       "    <tr>\n",
       "      <th>199</th>\n",
       "      <td>193.9</td>\n",
       "      <td>89.0</td>\n",
       "    </tr>\n",
       "  </tbody>\n",
       "</table>\n",
       "<p>200 rows × 2 columns</p>\n",
       "</div>"
      ],
      "text/plain": [
       "     Height  Weight\n",
       "0     158.9    46.0\n",
       "1     166.5    70.0\n",
       "2     188.9    89.0\n",
       "3       NaN    46.0\n",
       "4     188.9    89.0\n",
       "..      ...     ...\n",
       "195   170.2    63.0\n",
       "196   170.2    63.0\n",
       "197   170.2    63.0\n",
       "198   193.9    89.0\n",
       "199   193.9    89.0\n",
       "\n",
       "[200 rows x 2 columns]"
      ]
     },
     "execution_count": 132,
     "metadata": {},
     "output_type": "execute_result"
    }
   ],
   "source": [
    "gb.cummax()"
   ]
  },
  {
   "cell_type": "code",
   "execution_count": 133,
   "id": "686b606c",
   "metadata": {},
   "outputs": [
    {
     "data": {
      "text/html": [
       "<div>\n",
       "<style scoped>\n",
       "    .dataframe tbody tr th:only-of-type {\n",
       "        vertical-align: middle;\n",
       "    }\n",
       "\n",
       "    .dataframe tbody tr th {\n",
       "        vertical-align: top;\n",
       "    }\n",
       "\n",
       "    .dataframe thead th {\n",
       "        text-align: right;\n",
       "    }\n",
       "</style>\n",
       "<table border=\"1\" class=\"dataframe\">\n",
       "  <thead>\n",
       "    <tr style=\"text-align: right;\">\n",
       "      <th></th>\n",
       "      <th>Height</th>\n",
       "      <th>Weight</th>\n",
       "    </tr>\n",
       "  </thead>\n",
       "  <tbody>\n",
       "    <tr>\n",
       "      <th>0</th>\n",
       "      <td>158.9</td>\n",
       "      <td>46.0</td>\n",
       "    </tr>\n",
       "    <tr>\n",
       "      <th>1</th>\n",
       "      <td>166.5</td>\n",
       "      <td>70.0</td>\n",
       "    </tr>\n",
       "    <tr>\n",
       "      <th>2</th>\n",
       "      <td>166.5</td>\n",
       "      <td>70.0</td>\n",
       "    </tr>\n",
       "    <tr>\n",
       "      <th>3</th>\n",
       "      <td>NaN</td>\n",
       "      <td>41.0</td>\n",
       "    </tr>\n",
       "    <tr>\n",
       "      <th>4</th>\n",
       "      <td>166.5</td>\n",
       "      <td>70.0</td>\n",
       "    </tr>\n",
       "    <tr>\n",
       "      <th>...</th>\n",
       "      <td>...</td>\n",
       "      <td>...</td>\n",
       "    </tr>\n",
       "    <tr>\n",
       "      <th>195</th>\n",
       "      <td>145.4</td>\n",
       "      <td>34.0</td>\n",
       "    </tr>\n",
       "    <tr>\n",
       "      <th>196</th>\n",
       "      <td>145.4</td>\n",
       "      <td>34.0</td>\n",
       "    </tr>\n",
       "    <tr>\n",
       "      <th>197</th>\n",
       "      <td>145.4</td>\n",
       "      <td>34.0</td>\n",
       "    </tr>\n",
       "    <tr>\n",
       "      <th>198</th>\n",
       "      <td>162.4</td>\n",
       "      <td>55.0</td>\n",
       "    </tr>\n",
       "    <tr>\n",
       "      <th>199</th>\n",
       "      <td>155.7</td>\n",
       "      <td>51.0</td>\n",
       "    </tr>\n",
       "  </tbody>\n",
       "</table>\n",
       "<p>200 rows × 2 columns</p>\n",
       "</div>"
      ],
      "text/plain": [
       "     Height  Weight\n",
       "0     158.9    46.0\n",
       "1     166.5    70.0\n",
       "2     166.5    70.0\n",
       "3       NaN    41.0\n",
       "4     166.5    70.0\n",
       "..      ...     ...\n",
       "195   145.4    34.0\n",
       "196   145.4    34.0\n",
       "197   145.4    34.0\n",
       "198   162.4    55.0\n",
       "199   155.7    51.0\n",
       "\n",
       "[200 rows x 2 columns]"
      ]
     },
     "execution_count": 133,
     "metadata": {},
     "output_type": "execute_result"
    }
   ],
   "source": [
    "gb.cummin()"
   ]
  },
  {
   "cell_type": "markdown",
   "id": "29bd815a",
   "metadata": {},
   "source": [
    "# transform 方法"
   ]
  },
  {
   "cell_type": "code",
   "execution_count": null,
   "id": "2f1161f0",
   "metadata": {},
   "outputs": [],
   "source": [
    "# 它可以对分组后的数据进行变换操作,与agg()方法不同,transform方法会返回一个与原数据具有相同索引的对象\n",
    "# 其主要作用是将聚合函数应用到每个分组,并将其结果广播到每个分组内的元素上。"
   ]
  },
  {
   "cell_type": "code",
   "execution_count": 134,
   "id": "4132fe86",
   "metadata": {},
   "outputs": [
    {
     "data": {
      "text/html": [
       "<div>\n",
       "<style scoped>\n",
       "    .dataframe tbody tr th:only-of-type {\n",
       "        vertical-align: middle;\n",
       "    }\n",
       "\n",
       "    .dataframe tbody tr th {\n",
       "        vertical-align: top;\n",
       "    }\n",
       "\n",
       "    .dataframe thead th {\n",
       "        text-align: right;\n",
       "    }\n",
       "</style>\n",
       "<table border=\"1\" class=\"dataframe\">\n",
       "  <thead>\n",
       "    <tr style=\"text-align: right;\">\n",
       "      <th></th>\n",
       "      <th>Height</th>\n",
       "      <th>Weight</th>\n",
       "    </tr>\n",
       "    <tr>\n",
       "      <th>Gender</th>\n",
       "      <th></th>\n",
       "      <th></th>\n",
       "    </tr>\n",
       "  </thead>\n",
       "  <tbody>\n",
       "    <tr>\n",
       "      <th>Female</th>\n",
       "      <td>159.19697</td>\n",
       "      <td>47.918519</td>\n",
       "    </tr>\n",
       "    <tr>\n",
       "      <th>Male</th>\n",
       "      <td>173.62549</td>\n",
       "      <td>72.759259</td>\n",
       "    </tr>\n",
       "  </tbody>\n",
       "</table>\n",
       "</div>"
      ],
      "text/plain": [
       "           Height     Weight\n",
       "Gender                      \n",
       "Female  159.19697  47.918519\n",
       "Male    173.62549  72.759259"
      ]
     },
     "execution_count": 134,
     "metadata": {},
     "output_type": "execute_result"
    }
   ],
   "source": [
    "# 基本用户\n",
    "# 1、对分组数据应用聚合函数\n",
    "gb.mean()"
   ]
  },
  {
   "cell_type": "code",
   "execution_count": 135,
   "id": "b3c95dc4",
   "metadata": {},
   "outputs": [
    {
     "data": {
      "text/html": [
       "<div>\n",
       "<style scoped>\n",
       "    .dataframe tbody tr th:only-of-type {\n",
       "        vertical-align: middle;\n",
       "    }\n",
       "\n",
       "    .dataframe tbody tr th {\n",
       "        vertical-align: top;\n",
       "    }\n",
       "\n",
       "    .dataframe thead th {\n",
       "        text-align: right;\n",
       "    }\n",
       "</style>\n",
       "<table border=\"1\" class=\"dataframe\">\n",
       "  <thead>\n",
       "    <tr style=\"text-align: right;\">\n",
       "      <th></th>\n",
       "      <th>Height</th>\n",
       "      <th>Weight</th>\n",
       "    </tr>\n",
       "  </thead>\n",
       "  <tbody>\n",
       "    <tr>\n",
       "      <th>0</th>\n",
       "      <td>159.19697</td>\n",
       "      <td>47.918519</td>\n",
       "    </tr>\n",
       "    <tr>\n",
       "      <th>1</th>\n",
       "      <td>173.62549</td>\n",
       "      <td>72.759259</td>\n",
       "    </tr>\n",
       "    <tr>\n",
       "      <th>2</th>\n",
       "      <td>173.62549</td>\n",
       "      <td>72.759259</td>\n",
       "    </tr>\n",
       "    <tr>\n",
       "      <th>3</th>\n",
       "      <td>159.19697</td>\n",
       "      <td>47.918519</td>\n",
       "    </tr>\n",
       "    <tr>\n",
       "      <th>4</th>\n",
       "      <td>173.62549</td>\n",
       "      <td>72.759259</td>\n",
       "    </tr>\n",
       "  </tbody>\n",
       "</table>\n",
       "</div>"
      ],
      "text/plain": [
       "      Height     Weight\n",
       "0  159.19697  47.918519\n",
       "1  173.62549  72.759259\n",
       "2  173.62549  72.759259\n",
       "3  159.19697  47.918519\n",
       "4  173.62549  72.759259"
      ]
     },
     "execution_count": 135,
     "metadata": {},
     "output_type": "execute_result"
    }
   ],
   "source": [
    "gb.transform('mean').head()"
   ]
  },
  {
   "cell_type": "code",
   "execution_count": 136,
   "id": "02020bbb",
   "metadata": {},
   "outputs": [
    {
     "data": {
      "text/html": [
       "<div>\n",
       "<style scoped>\n",
       "    .dataframe tbody tr th:only-of-type {\n",
       "        vertical-align: middle;\n",
       "    }\n",
       "\n",
       "    .dataframe tbody tr th {\n",
       "        vertical-align: top;\n",
       "    }\n",
       "\n",
       "    .dataframe thead th {\n",
       "        text-align: right;\n",
       "    }\n",
       "</style>\n",
       "<table border=\"1\" class=\"dataframe\">\n",
       "  <thead>\n",
       "    <tr style=\"text-align: right;\">\n",
       "      <th></th>\n",
       "      <th>Height</th>\n",
       "      <th>Weight</th>\n",
       "    </tr>\n",
       "  </thead>\n",
       "  <tbody>\n",
       "    <tr>\n",
       "      <th>0</th>\n",
       "      <td>24.8</td>\n",
       "      <td>29.0</td>\n",
       "    </tr>\n",
       "    <tr>\n",
       "      <th>1</th>\n",
       "      <td>38.2</td>\n",
       "      <td>38.0</td>\n",
       "    </tr>\n",
       "    <tr>\n",
       "      <th>2</th>\n",
       "      <td>38.2</td>\n",
       "      <td>38.0</td>\n",
       "    </tr>\n",
       "    <tr>\n",
       "      <th>3</th>\n",
       "      <td>24.8</td>\n",
       "      <td>29.0</td>\n",
       "    </tr>\n",
       "    <tr>\n",
       "      <th>4</th>\n",
       "      <td>38.2</td>\n",
       "      <td>38.0</td>\n",
       "    </tr>\n",
       "  </tbody>\n",
       "</table>\n",
       "</div>"
      ],
      "text/plain": [
       "   Height  Weight\n",
       "0    24.8    29.0\n",
       "1    38.2    38.0\n",
       "2    38.2    38.0\n",
       "3    24.8    29.0\n",
       "4    38.2    38.0"
      ]
     },
     "execution_count": 136,
     "metadata": {},
     "output_type": "execute_result"
    }
   ],
   "source": [
    "# 2、自定义函数的应用\n",
    "# lambda x:x.max() - x.min()\n",
    "gb.transform(lambda x:x.max() - x.min()).head()"
   ]
  },
  {
   "cell_type": "code",
   "execution_count": 137,
   "id": "8ac9644a",
   "metadata": {},
   "outputs": [
    {
     "data": {
      "text/html": [
       "<div>\n",
       "<style scoped>\n",
       "    .dataframe tbody tr th:only-of-type {\n",
       "        vertical-align: middle;\n",
       "    }\n",
       "\n",
       "    .dataframe tbody tr th {\n",
       "        vertical-align: top;\n",
       "    }\n",
       "\n",
       "    .dataframe thead th {\n",
       "        text-align: right;\n",
       "    }\n",
       "</style>\n",
       "<table border=\"1\" class=\"dataframe\">\n",
       "  <thead>\n",
       "    <tr style=\"text-align: right;\">\n",
       "      <th></th>\n",
       "      <th>Height</th>\n",
       "      <th>Weight</th>\n",
       "    </tr>\n",
       "  </thead>\n",
       "  <tbody>\n",
       "    <tr>\n",
       "      <th>0</th>\n",
       "      <td>-0.058760</td>\n",
       "      <td>-0.354888</td>\n",
       "    </tr>\n",
       "    <tr>\n",
       "      <th>1</th>\n",
       "      <td>-1.010925</td>\n",
       "      <td>-0.355000</td>\n",
       "    </tr>\n",
       "    <tr>\n",
       "      <th>2</th>\n",
       "      <td>2.167063</td>\n",
       "      <td>2.089498</td>\n",
       "    </tr>\n",
       "    <tr>\n",
       "      <th>3</th>\n",
       "      <td>NaN</td>\n",
       "      <td>-1.279789</td>\n",
       "    </tr>\n",
       "    <tr>\n",
       "      <th>4</th>\n",
       "      <td>0.053133</td>\n",
       "      <td>0.159631</td>\n",
       "    </tr>\n",
       "  </tbody>\n",
       "</table>\n",
       "</div>"
      ],
      "text/plain": [
       "     Height    Weight\n",
       "0 -0.058760 -0.354888\n",
       "1 -1.010925 -0.355000\n",
       "2  2.167063  2.089498\n",
       "3       NaN -1.279789\n",
       "4  0.053133  0.159631"
      ]
     },
     "execution_count": 137,
     "metadata": {},
     "output_type": "execute_result"
    }
   ],
   "source": [
    "# 常用应用场景\n",
    "# 1、数据标准化\n",
    "gb.transform(lambda x:(x - x.mean()) / x.std()).head()"
   ]
  },
  {
   "cell_type": "code",
   "execution_count": 139,
   "id": "7ca729e1",
   "metadata": {},
   "outputs": [
    {
     "data": {
      "text/plain": [
       "Height    200\n",
       "Weight    200\n",
       "dtype: int64"
      ]
     },
     "execution_count": 139,
     "metadata": {},
     "output_type": "execute_result"
    }
   ],
   "source": [
    "# 缺失值填充\n",
    "gb.transform(lambda x:x.fillna(x.mean())).count()"
   ]
  },
  {
   "cell_type": "code",
   "execution_count": 140,
   "id": "d0798917",
   "metadata": {},
   "outputs": [
    {
     "data": {
      "text/plain": [
       "0    10.0\n",
       "1    10.0\n",
       "2    30.0\n",
       "3    40.0\n",
       "Name: value, dtype: float64"
      ]
     },
     "execution_count": 140,
     "metadata": {},
     "output_type": "execute_result"
    }
   ],
   "source": [
    "data = {\n",
    "    'test1':['A','A','B','B'],\n",
    "    'value': [10,np.nan,30,40]\n",
    "}\n",
    "df_demo = pd.DataFrame(data)\n",
    "grouped = df_demo.groupby('test1')['value']\n",
    "# 用每个分组的均值填充缺失数据\n",
    "grouped.transform(lambda x:x.fillna(x.mean()))"
   ]
  },
  {
   "cell_type": "markdown",
   "id": "264cd11f",
   "metadata": {},
   "source": [
    "# 过滤"
   ]
  },
  {
   "cell_type": "markdown",
   "id": "d8d6f9e5",
   "metadata": {},
   "source": [
    "## 组索引操作"
   ]
  },
  {
   "cell_type": "code",
   "execution_count": 142,
   "id": "e97524f0",
   "metadata": {},
   "outputs": [
    {
     "data": {
      "text/html": [
       "<div>\n",
       "<style scoped>\n",
       "    .dataframe tbody tr th:only-of-type {\n",
       "        vertical-align: middle;\n",
       "    }\n",
       "\n",
       "    .dataframe tbody tr th {\n",
       "        vertical-align: top;\n",
       "    }\n",
       "\n",
       "    .dataframe thead th {\n",
       "        text-align: right;\n",
       "    }\n",
       "</style>\n",
       "<table border=\"1\" class=\"dataframe\">\n",
       "  <thead>\n",
       "    <tr style=\"text-align: right;\">\n",
       "      <th></th>\n",
       "      <th>test1</th>\n",
       "      <th>value</th>\n",
       "    </tr>\n",
       "  </thead>\n",
       "  <tbody>\n",
       "    <tr>\n",
       "      <th>0</th>\n",
       "      <td>A</td>\n",
       "      <td>10</td>\n",
       "    </tr>\n",
       "    <tr>\n",
       "      <th>1</th>\n",
       "      <td>B</td>\n",
       "      <td>20</td>\n",
       "    </tr>\n",
       "    <tr>\n",
       "      <th>2</th>\n",
       "      <td>A</td>\n",
       "      <td>15</td>\n",
       "    </tr>\n",
       "    <tr>\n",
       "      <th>3</th>\n",
       "      <td>B</td>\n",
       "      <td>25</td>\n",
       "    </tr>\n",
       "  </tbody>\n",
       "</table>\n",
       "</div>"
      ],
      "text/plain": [
       "  test1  value\n",
       "0     A     10\n",
       "1     B     20\n",
       "2     A     15\n",
       "3     B     25"
      ]
     },
     "execution_count": 142,
     "metadata": {},
     "output_type": "execute_result"
    }
   ],
   "source": [
    "# 1、获取分组索引\n",
    "data = {\n",
    "    'test1':['A','B','A','B'],\n",
    "    'value':[10,20,15,25]\n",
    "}\n",
    "df_demo = pd.DataFrame(data)\n",
    "df_demo"
   ]
  },
  {
   "cell_type": "code",
   "execution_count": 143,
   "id": "f530286b",
   "metadata": {},
   "outputs": [
    {
     "data": {
      "text/plain": [
       "{'A': [0, 2], 'B': [1, 3]}"
      ]
     },
     "execution_count": 143,
     "metadata": {},
     "output_type": "execute_result"
    }
   ],
   "source": [
    "grouped = df_demo.groupby('test1')\n",
    "grouped.groups"
   ]
  },
  {
   "cell_type": "code",
   "execution_count": 144,
   "id": "753a100e",
   "metadata": {},
   "outputs": [
    {
     "name": "stdout",
     "output_type": "stream",
     "text": [
      "分组的标签：A\n",
      "  test1  value\n",
      "0     A     10\n",
      "2     A     15\n",
      "\n",
      "分组的标签：B\n",
      "  test1  value\n",
      "1     B     20\n",
      "3     B     25\n",
      "\n"
     ]
    }
   ],
   "source": [
    "# 2.遍历分组索引\n",
    "# 使用for循环遍历分组后的结果,获取每个分组的标签和对应的DataFrame\n",
    "for group_label,group_df in grouped:\n",
    "    print(f'分组的标签：{group_label}')\n",
    "    print(group_df)\n",
    "    print()"
   ]
  },
  {
   "cell_type": "markdown",
   "id": "7a93cba6",
   "metadata": {},
   "source": [
    "# 组过滤操作"
   ]
  },
  {
   "cell_type": "code",
   "execution_count": 145,
   "id": "7f1ebc81",
   "metadata": {},
   "outputs": [
    {
     "name": "stdout",
     "output_type": "stream",
     "text": [
      "  test1  value\n",
      "0     A     10\n",
      "1     B     20\n",
      "2     A     15\n",
      "3     B     25\n"
     ]
    }
   ],
   "source": [
    "# 1.使用filter()方法\n",
    "# filter(): 方法用于根据自定义的条件过滤分组,返回一个满足条件的分组数据。filter()接受一个函数作为参数，该函数的输入是每个分组的DataFrame,返回的值为布尔类型。\n",
    "\n",
    "# 定义一个函数:实现过滤条件分组的平均值大于12\n",
    "# grouped = df_demo.groupby('test1')\n",
    "# grouped['value'].mean()>12\n",
    "def filter_con(group):\n",
    "    return group['value'].mean() > 12\n",
    "\n",
    "# 过滤分组\n",
    "a_df = grouped.filter(filter_con)\n",
    "print(a_df)"
   ]
  },
  {
   "cell_type": "code",
   "execution_count": 146,
   "id": "f403f3fd",
   "metadata": {},
   "outputs": [
    {
     "name": "stdout",
     "output_type": "stream",
     "text": [
      "  test1  value\n",
      "0     A     10\n",
      "2     A     15\n"
     ]
    }
   ],
   "source": [
    "# 2、基于索引过滤分组\n",
    "# 可以根据分组的标签选择特定分组\n",
    "# eg：选择A分组\n",
    "select_group = grouped.get_group('A')\n",
    "print(select_group)"
   ]
  }
 ],
 "metadata": {
  "kernelspec": {
   "display_name": "Python 3 (ipykernel)",
   "language": "python",
   "name": "python3"
  },
  "language_info": {
   "codemirror_mode": {
    "name": "ipython",
    "version": 3
   },
   "file_extension": ".py",
   "mimetype": "text/x-python",
   "name": "python",
   "nbconvert_exporter": "python",
   "pygments_lexer": "ipython3",
   "version": "3.10.11"
  }
 },
 "nbformat": 4,
 "nbformat_minor": 5
}

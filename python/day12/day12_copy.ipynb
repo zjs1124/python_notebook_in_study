{
 "cells": [
  {
   "cell_type": "code",
   "execution_count": 1,
   "id": "e164fda4-3b07-4318-98a7-3061ba2b3468",
   "metadata": {},
   "outputs": [],
   "source": [
    "import pandas as pd\n",
    "import numpy as np"
   ]
  },
  {
   "cell_type": "markdown",
   "id": "c69c66c2-caca-439e-87a6-999903b38ed9",
   "metadata": {},
   "source": [
    "## 分组"
   ]
  },
  {
   "cell_type": "code",
   "execution_count": 2,
   "id": "d11a96d7-a654-41a1-b31a-85aea96b157a",
   "metadata": {},
   "outputs": [],
   "source": [
    "# 语法格式：df.groupby(分组的依据)[数据来源].使用操作"
   ]
  },
  {
   "cell_type": "code",
   "execution_count": 3,
   "id": "22e23703-6e69-406e-8543-e7188cd4aba3",
   "metadata": {},
   "outputs": [
    {
     "data": {
      "text/html": [
       "<div>\n",
       "<style scoped>\n",
       "    .dataframe tbody tr th:only-of-type {\n",
       "        vertical-align: middle;\n",
       "    }\n",
       "\n",
       "    .dataframe tbody tr th {\n",
       "        vertical-align: top;\n",
       "    }\n",
       "\n",
       "    .dataframe thead th {\n",
       "        text-align: right;\n",
       "    }\n",
       "</style>\n",
       "<table border=\"1\" class=\"dataframe\">\n",
       "  <thead>\n",
       "    <tr style=\"text-align: right;\">\n",
       "      <th></th>\n",
       "      <th>School</th>\n",
       "      <th>Grade</th>\n",
       "      <th>Name</th>\n",
       "      <th>Gender</th>\n",
       "      <th>Height</th>\n",
       "      <th>Weight</th>\n",
       "      <th>Transfer</th>\n",
       "      <th>Test_Number</th>\n",
       "      <th>Test_Date</th>\n",
       "      <th>Time_Record</th>\n",
       "    </tr>\n",
       "  </thead>\n",
       "  <tbody>\n",
       "    <tr>\n",
       "      <th>0</th>\n",
       "      <td>A</td>\n",
       "      <td>Freshman</td>\n",
       "      <td>Gaopeng Yang</td>\n",
       "      <td>Female</td>\n",
       "      <td>158.9</td>\n",
       "      <td>46.0</td>\n",
       "      <td>N</td>\n",
       "      <td>1</td>\n",
       "      <td>2019/10/5</td>\n",
       "      <td>0:04:34</td>\n",
       "    </tr>\n",
       "    <tr>\n",
       "      <th>1</th>\n",
       "      <td>B</td>\n",
       "      <td>Freshman</td>\n",
       "      <td>Changqiang You</td>\n",
       "      <td>Male</td>\n",
       "      <td>166.5</td>\n",
       "      <td>70.0</td>\n",
       "      <td>N</td>\n",
       "      <td>1</td>\n",
       "      <td>2019/9/4</td>\n",
       "      <td>0:04:20</td>\n",
       "    </tr>\n",
       "    <tr>\n",
       "      <th>2</th>\n",
       "      <td>A</td>\n",
       "      <td>Senior</td>\n",
       "      <td>Mei Sun</td>\n",
       "      <td>Male</td>\n",
       "      <td>188.9</td>\n",
       "      <td>89.0</td>\n",
       "      <td>N</td>\n",
       "      <td>2</td>\n",
       "      <td>2019/9/12</td>\n",
       "      <td>0:05:22</td>\n",
       "    </tr>\n",
       "    <tr>\n",
       "      <th>3</th>\n",
       "      <td>C</td>\n",
       "      <td>Sophomore</td>\n",
       "      <td>Xiaojuan Sun</td>\n",
       "      <td>Female</td>\n",
       "      <td>NaN</td>\n",
       "      <td>41.0</td>\n",
       "      <td>N</td>\n",
       "      <td>2</td>\n",
       "      <td>2020/1/3</td>\n",
       "      <td>0:04:08</td>\n",
       "    </tr>\n",
       "    <tr>\n",
       "      <th>4</th>\n",
       "      <td>C</td>\n",
       "      <td>Sophomore</td>\n",
       "      <td>Gaojuan You</td>\n",
       "      <td>Male</td>\n",
       "      <td>174.0</td>\n",
       "      <td>74.0</td>\n",
       "      <td>N</td>\n",
       "      <td>2</td>\n",
       "      <td>2019/11/6</td>\n",
       "      <td>0:05:22</td>\n",
       "    </tr>\n",
       "  </tbody>\n",
       "</table>\n",
       "</div>"
      ],
      "text/plain": [
       "  School      Grade            Name  Gender  Height  Weight Transfer  \\\n",
       "0      A   Freshman    Gaopeng Yang  Female   158.9    46.0        N   \n",
       "1      B   Freshman  Changqiang You    Male   166.5    70.0        N   \n",
       "2      A     Senior         Mei Sun    Male   188.9    89.0        N   \n",
       "3      C  Sophomore    Xiaojuan Sun  Female     NaN    41.0        N   \n",
       "4      C  Sophomore     Gaojuan You    Male   174.0    74.0        N   \n",
       "\n",
       "   Test_Number  Test_Date Time_Record  \n",
       "0            1  2019/10/5     0:04:34  \n",
       "1            1   2019/9/4     0:04:20  \n",
       "2            2  2019/9/12     0:05:22  \n",
       "3            2   2020/1/3     0:04:08  \n",
       "4            2  2019/11/6     0:05:22  "
      ]
     },
     "execution_count": 3,
     "metadata": {},
     "output_type": "execute_result"
    }
   ],
   "source": [
    "df = pd.read_csv('data/learn_pandas.csv')\n",
    "df.head()"
   ]
  },
  {
   "cell_type": "code",
   "execution_count": null,
   "id": "51617129-10cc-4a0c-9de7-ea7022246d54",
   "metadata": {},
   "outputs": [
    {
     "data": {
      "text/plain": [
       "Gender\n",
       "Female    159.6\n",
       "Male      173.4\n",
       "Name: Height, dtype: float64"
      ]
     },
     "execution_count": 4,
     "metadata": {},
     "output_type": "execute_result"
    }
   ],
   "source": [
    "# 按照性别统计身高的中位数\n",
    "# median():返回行或列的所有元素的中位数\n",
    "df.groupby('Gender')['Height'].median() #对Height这一列根据Gender进行分组，然后使用median(方法)\n",
    "#df,groupby('Gender')['Height'].median()"
   ]
  },
  {
   "cell_type": "code",
   "execution_count": 5,
   "id": "9dec663e-94a9-47c8-8892-72aef3402f76",
   "metadata": {},
   "outputs": [
    {
     "data": {
      "text/plain": [
       "School  Gender\n",
       "A       Female    159.122500\n",
       "        Male      176.760000\n",
       "B       Female    158.666667\n",
       "        Male      172.030000\n",
       "C       Female    158.776923\n",
       "        Male      174.212500\n",
       "D       Female    159.753333\n",
       "        Male      171.638889\n",
       "Name: Height, dtype: float64"
      ]
     },
     "execution_count": 5,
     "metadata": {},
     "output_type": "execute_result"
    }
   ],
   "source": [
    "# 分组的本质：只需要在groupby函数中传入相应的列名，或者是列名构成的列表即可。\n",
    "# groupby的分组依据是从列中按名字进行获取即可\n",
    "df.groupby(['School','Gender'])['Height'].mean()"
   ]
  },
  {
   "cell_type": "code",
   "execution_count": 7,
   "id": "0296d91a-1c06-4f83-b31c-ff139b811d88",
   "metadata": {},
   "outputs": [
    {
     "data": {
      "text/plain": [
       "0      False\n",
       "1       True\n",
       "2       True\n",
       "3      False\n",
       "4       True\n",
       "       ...  \n",
       "195    False\n",
       "196    False\n",
       "197    False\n",
       "198     True\n",
       "199    False\n",
       "Name: Weight, Length: 200, dtype: bool"
      ]
     },
     "execution_count": 7,
     "metadata": {},
     "output_type": "execute_result"
    }
   ],
   "source": [
    "# eg:根据学生的体重是否超过总体的均值来分组\n",
    "condition = df.Weight > df.Weight.mean()\n",
    "condition"
   ]
  },
  {
   "cell_type": "code",
   "execution_count": 9,
   "id": "8db2e694-d0d3-47ef-a22e-fec5f7a81d9a",
   "metadata": {},
   "outputs": [
    {
     "data": {
      "text/plain": [
       "Weight\n",
       "False    159.034646\n",
       "True     172.705357\n",
       "Name: Height, dtype: float64"
      ]
     },
     "execution_count": 9,
     "metadata": {},
     "output_type": "execute_result"
    }
   ],
   "source": [
    "df.groupby(condition)['Height'].mean()"
   ]
  },
  {
   "cell_type": "code",
   "execution_count": 28,
   "id": "f98ad278-2afd-423d-818d-5b55312a207a",
   "metadata": {},
   "outputs": [
    {
     "data": {
      "text/plain": [
       "a    162.707692\n",
       "b    163.441667\n",
       "c    163.558621\n",
       "Name: Height, dtype: float64"
      ]
     },
     "execution_count": 28,
     "metadata": {},
     "output_type": "execute_result"
    }
   ],
   "source": [
    "# eg：使用随机传入字母序来验证以上结果\n",
    "# choice():用于从给定的一维数组或列表中选择元素。\n",
    "# 第一个参数可供选择的元素集合（列表）\n",
    "# 第二个参数size表示要选择元素的个数\n",
    "item = np.random.choice(list('abc'),df.shape[0])\n",
    "# item\n",
    "df.groupby(item)['Height'].mean()"
   ]
  },
  {
   "cell_type": "code",
   "execution_count": 18,
   "id": "c2242ffd-7055-4157-927b-57a156f2135d",
   "metadata": {},
   "outputs": [
    {
     "data": {
      "text/plain": [
       "Weight   \n",
       "False   a    158.767568\n",
       "        b    158.975926\n",
       "        c    159.397222\n",
       "True    a    171.604545\n",
       "        b    172.691667\n",
       "        c    173.813636\n",
       "Name: Height, dtype: float64"
      ]
     },
     "execution_count": 18,
     "metadata": {},
     "output_type": "execute_result"
    }
   ],
   "source": [
    "# 将condition、item都传入groupby\n",
    "df.groupby([condition,item])['Height'].mean()"
   ]
  },
  {
   "cell_type": "code",
   "execution_count": 29,
   "id": "dcfe246f-0143-4b43-935e-70f65cfbd8c7",
   "metadata": {},
   "outputs": [
    {
     "data": {
      "text/html": [
       "<div>\n",
       "<style scoped>\n",
       "    .dataframe tbody tr th:only-of-type {\n",
       "        vertical-align: middle;\n",
       "    }\n",
       "\n",
       "    .dataframe tbody tr th {\n",
       "        vertical-align: top;\n",
       "    }\n",
       "\n",
       "    .dataframe thead th {\n",
       "        text-align: right;\n",
       "    }\n",
       "</style>\n",
       "<table border=\"1\" class=\"dataframe\">\n",
       "  <thead>\n",
       "    <tr style=\"text-align: right;\">\n",
       "      <th></th>\n",
       "      <th>School</th>\n",
       "      <th>Gender</th>\n",
       "    </tr>\n",
       "  </thead>\n",
       "  <tbody>\n",
       "    <tr>\n",
       "      <th>0</th>\n",
       "      <td>A</td>\n",
       "      <td>Female</td>\n",
       "    </tr>\n",
       "    <tr>\n",
       "      <th>1</th>\n",
       "      <td>B</td>\n",
       "      <td>Male</td>\n",
       "    </tr>\n",
       "    <tr>\n",
       "      <th>2</th>\n",
       "      <td>A</td>\n",
       "      <td>Male</td>\n",
       "    </tr>\n",
       "    <tr>\n",
       "      <th>3</th>\n",
       "      <td>C</td>\n",
       "      <td>Female</td>\n",
       "    </tr>\n",
       "    <tr>\n",
       "      <th>4</th>\n",
       "      <td>C</td>\n",
       "      <td>Male</td>\n",
       "    </tr>\n",
       "    <tr>\n",
       "      <th>5</th>\n",
       "      <td>D</td>\n",
       "      <td>Female</td>\n",
       "    </tr>\n",
       "    <tr>\n",
       "      <th>9</th>\n",
       "      <td>B</td>\n",
       "      <td>Female</td>\n",
       "    </tr>\n",
       "    <tr>\n",
       "      <th>16</th>\n",
       "      <td>D</td>\n",
       "      <td>Male</td>\n",
       "    </tr>\n",
       "  </tbody>\n",
       "</table>\n",
       "</div>"
      ],
      "text/plain": [
       "   School  Gender\n",
       "0       A  Female\n",
       "1       B    Male\n",
       "2       A    Male\n",
       "3       C  Female\n",
       "4       C    Male\n",
       "5       D  Female\n",
       "9       B  Female\n",
       "16      D    Male"
      ]
     },
     "execution_count": 29,
     "metadata": {},
     "output_type": "execute_result"
    }
   ],
   "source": [
    "# drop_duplicates()\n",
    "df[['School','Gender']].drop_duplicates()"
   ]
  },
  {
   "cell_type": "code",
   "execution_count": 32,
   "id": "f307de80-2a8f-45e3-8d81-4e961fafa8c9",
   "metadata": {},
   "outputs": [
    {
     "data": {
      "text/plain": [
       "School  Gender\n",
       "A       Female    159.122500\n",
       "        Male      176.760000\n",
       "B       Female    158.666667\n",
       "        Male      172.030000\n",
       "C       Female    158.776923\n",
       "        Male      174.212500\n",
       "D       Female    159.753333\n",
       "        Male      171.638889\n",
       "Name: Height, dtype: float64"
      ]
     },
     "execution_count": 32,
     "metadata": {},
     "output_type": "execute_result"
    }
   ],
   "source": [
    "# df['School']   -----> df.School\n",
    "df.groupby([df['School'],df['Gender']])['Height'].mean()"
   ]
  },
  {
   "cell_type": "markdown",
   "id": "9544eb07-5d80-456a-a66f-15768241e752",
   "metadata": {},
   "source": [
    "### groupby对象"
   ]
  },
  {
   "cell_type": "code",
   "execution_count": 33,
   "id": "9f629f14-f406-48b8-9f71-8889f69c790f",
   "metadata": {},
   "outputs": [
    {
     "data": {
      "text/plain": [
       "<pandas.core.groupby.generic.DataFrameGroupBy object at 0x0000024FB99F22F0>"
      ]
     },
     "execution_count": 33,
     "metadata": {},
     "output_type": "execute_result"
    }
   ],
   "source": [
    "gb = df.groupby(['School','Grade'])\n",
    "gb"
   ]
  },
  {
   "cell_type": "code",
   "execution_count": 35,
   "id": "431d68dd-859d-4eeb-95db-345d6a8ce3af",
   "metadata": {},
   "outputs": [
    {
     "data": {
      "text/plain": [
       "dict_keys([('A', 'Freshman'), ('A', 'Junior'), ('A', 'Senior'), ('A', 'Sophomore'), ('B', 'Freshman'), ('B', 'Junior'), ('B', 'Senior'), ('B', 'Sophomore'), ('C', 'Freshman'), ('C', 'Junior'), ('C', 'Senior'), ('C', 'Sophomore'), ('D', 'Freshman'), ('D', 'Junior'), ('D', 'Senior'), ('D', 'Sophomore')])"
      ]
     },
     "execution_count": 35,
     "metadata": {},
     "output_type": "execute_result"
    }
   ],
   "source": [
    "# 常用属性\n",
    "# groups：返回一个字典，该字典的键是分组的标签，值是每个组中元素的索引列表。\n",
    "res = gb.groups\n",
    "res.keys()"
   ]
  },
  {
   "cell_type": "code",
   "execution_count": 36,
   "id": "cde23402-229d-42ce-bf56-f4ee2b6800d3",
   "metadata": {},
   "outputs": [
    {
     "data": {
      "text/plain": [
       "16"
      ]
     },
     "execution_count": 36,
     "metadata": {},
     "output_type": "execute_result"
    }
   ],
   "source": [
    "# ngroups:返回的分组的数量，也就是分组后不同的组的个数\n",
    "gb.ngroups"
   ]
  },
  {
   "cell_type": "code",
   "execution_count": 37,
   "id": "7a6c5aaf-e131-4bcc-b24f-7b7c631e9b93",
   "metadata": {},
   "outputs": [
    {
     "data": {
      "text/plain": [
       "School  Grade    \n",
       "A       Freshman     13\n",
       "        Junior       17\n",
       "        Senior       22\n",
       "        Sophomore     5\n",
       "B       Freshman     13\n",
       "        Junior        8\n",
       "        Senior        8\n",
       "        Sophomore     5\n",
       "C       Freshman      9\n",
       "        Junior       12\n",
       "        Senior       11\n",
       "        Sophomore     8\n",
       "D       Freshman     17\n",
       "        Junior       22\n",
       "        Senior       14\n",
       "        Sophomore    16\n",
       "dtype: int64"
      ]
     },
     "execution_count": 37,
     "metadata": {},
     "output_type": "execute_result"
    }
   ],
   "source": [
    "# size()方法，返回每个组的大小，即每个组中元素的数量。它会返回一个series，索引是分组的标签，值是每个组的元素数量。\n",
    "gb.size()"
   ]
  },
  {
   "cell_type": "code",
   "execution_count": 41,
   "id": "584b7bdb-05b3-4992-b984-20b353fe2b8e",
   "metadata": {},
   "outputs": [
    {
     "data": {
      "text/html": [
       "<div>\n",
       "<style scoped>\n",
       "    .dataframe tbody tr th:only-of-type {\n",
       "        vertical-align: middle;\n",
       "    }\n",
       "\n",
       "    .dataframe tbody tr th {\n",
       "        vertical-align: top;\n",
       "    }\n",
       "\n",
       "    .dataframe thead th {\n",
       "        text-align: right;\n",
       "    }\n",
       "</style>\n",
       "<table border=\"1\" class=\"dataframe\">\n",
       "  <thead>\n",
       "    <tr style=\"text-align: right;\">\n",
       "      <th></th>\n",
       "      <th>School</th>\n",
       "      <th>Grade</th>\n",
       "      <th>Name</th>\n",
       "    </tr>\n",
       "  </thead>\n",
       "  <tbody>\n",
       "    <tr>\n",
       "      <th>0</th>\n",
       "      <td>A</td>\n",
       "      <td>Freshman</td>\n",
       "      <td>Gaopeng Yang</td>\n",
       "    </tr>\n",
       "    <tr>\n",
       "      <th>6</th>\n",
       "      <td>A</td>\n",
       "      <td>Freshman</td>\n",
       "      <td>Qiang Chu</td>\n",
       "    </tr>\n",
       "    <tr>\n",
       "      <th>10</th>\n",
       "      <td>A</td>\n",
       "      <td>Freshman</td>\n",
       "      <td>Xiaopeng Zhou</td>\n",
       "    </tr>\n",
       "  </tbody>\n",
       "</table>\n",
       "</div>"
      ],
      "text/plain": [
       "   School     Grade           Name\n",
       "0       A  Freshman   Gaopeng Yang\n",
       "6       A  Freshman      Qiang Chu\n",
       "10      A  Freshman  Xiaopeng Zhou"
      ]
     },
     "execution_count": 41,
     "metadata": {},
     "output_type": "execute_result"
    }
   ],
   "source": [
    "# get_group():用户获取指定分组标签对应的组数据，返回的是DataFrame或者Series\n",
    "gb.get_group(('A','Freshman')).iloc[:3,:3]"
   ]
  },
  {
   "cell_type": "code",
   "execution_count": 42,
   "id": "d372a5a6-641d-4c9b-abe2-5b8bdd7e69de",
   "metadata": {},
   "outputs": [],
   "source": [
    "# 分组的三大操作：\n",
    "# 1、聚合*\n",
    "# 2、变换*\n",
    "# 3、过滤*"
   ]
  },
  {
   "cell_type": "markdown",
   "id": "2d3905e5-b999-42b7-a153-a5dda2fc02b6",
   "metadata": {},
   "source": [
    "## 聚合"
   ]
  },
  {
   "cell_type": "markdown",
   "id": "4cd369b3-a481-48c7-b28e-6c85713b1b5e",
   "metadata": {},
   "source": [
    "### 聚合的内置函数"
   ]
  },
  {
   "cell_type": "code",
   "execution_count": 44,
   "id": "c859e33a-fb64-4b26-9fae-47318c033fbd",
   "metadata": {},
   "outputs": [
    {
     "data": {
      "text/plain": [
       "<pandas.core.groupby.generic.SeriesGroupBy object at 0x0000024FBA1B4460>"
      ]
     },
     "execution_count": 44,
     "metadata": {},
     "output_type": "execute_result"
    }
   ],
   "source": [
    "# max/min/mean/median/count/all/any/idxmax/idxmin/mad/nunique/skew/quantile/sum/std/var/sem/size/prod\n",
    "gb = df.groupby('Gender')['Height']\n",
    "# gb.head()\n",
    "gb"
   ]
  },
  {
   "cell_type": "code",
   "execution_count": 45,
   "id": "f2ad8c15-8bcc-4cff-9c34-383b19111665",
   "metadata": {},
   "outputs": [
    {
     "data": {
      "text/plain": [
       "Gender\n",
       "Female    170.2\n",
       "Male      193.9\n",
       "Name: Height, dtype: float64"
      ]
     },
     "execution_count": 45,
     "metadata": {},
     "output_type": "execute_result"
    }
   ],
   "source": [
    "# max():计算每个组中的最大值\n",
    "gb.max()"
   ]
  },
  {
   "cell_type": "code",
   "execution_count": 46,
   "id": "972be48c-8add-4af3-a031-e388b27be4f9",
   "metadata": {},
   "outputs": [
    {
     "data": {
      "text/plain": [
       "Gender\n",
       "Female    145.4\n",
       "Male      155.7\n",
       "Name: Height, dtype: float64"
      ]
     },
     "execution_count": 46,
     "metadata": {},
     "output_type": "execute_result"
    }
   ],
   "source": [
    "# min():计算每个组中的最小值\n",
    "gb.min()"
   ]
  },
  {
   "cell_type": "code",
   "execution_count": 47,
   "id": "0ac6254c-2cf7-44ad-acd4-405e5e1cd432",
   "metadata": {},
   "outputs": [
    {
     "data": {
      "text/plain": [
       "Gender\n",
       "Female    159.19697\n",
       "Male      173.62549\n",
       "Name: Height, dtype: float64"
      ]
     },
     "execution_count": 47,
     "metadata": {},
     "output_type": "execute_result"
    }
   ],
   "source": [
    "# mean():计算每个组中的平均值。\n",
    "gb.mean()"
   ]
  },
  {
   "cell_type": "code",
   "execution_count": 48,
   "id": "9c279c75-5886-4ec2-865a-69db939181bf",
   "metadata": {},
   "outputs": [
    {
     "data": {
      "text/plain": [
       "Gender\n",
       "Female    159.6\n",
       "Male      173.4\n",
       "Name: Height, dtype: float64"
      ]
     },
     "execution_count": 48,
     "metadata": {},
     "output_type": "execute_result"
    }
   ],
   "source": [
    "# median():计算每个组中的中位数\n",
    "gb.median()"
   ]
  },
  {
   "cell_type": "code",
   "execution_count": 52,
   "id": "8c62af0e-05a9-4f56-a39a-50c78e9b4096",
   "metadata": {},
   "outputs": [
    {
     "name": "stdout",
     "output_type": "stream",
     "text": [
      "Gender\n",
      "Female    True\n",
      "Male      True\n",
      "Name: Height, dtype: bool\n",
      "Gender\n",
      "Female     28\n",
      "Male      193\n",
      "Name: Height, dtype: int64\n",
      "Gender\n",
      "Female    143\n",
      "Male      199\n",
      "Name: Height, dtype: int64\n",
      "Gender\n",
      "Female    99\n",
      "Male      47\n",
      "Name: Height, dtype: int64\n",
      "Gender\n",
      "Female   -0.219253\n",
      "Male      0.437535\n",
      "Name: Height, dtype: float64\n",
      "Gender\n",
      "Female    162.825\n",
      "Male      177.150\n",
      "Name: Height, dtype: float64\n",
      "Gender\n",
      "Female    21014.0\n",
      "Male       8854.9\n",
      "Name: Height, dtype: float64\n",
      "Gender\n",
      "Female    5.053982\n",
      "Male      7.048485\n",
      "Name: Height, dtype: float64\n",
      "Gender\n",
      "Female    25.542739\n",
      "Male      49.681137\n",
      "Name: Height, dtype: float64\n",
      "Gender\n",
      "Female    0.439893\n",
      "Male      0.986985\n",
      "Name: Height, dtype: float64\n",
      "Gender\n",
      "Female    141\n",
      "Male       59\n",
      "Name: Height, dtype: int64\n",
      "Gender\n",
      "Female    4.232080e+290\n",
      "Male      1.594210e+114\n",
      "Name: Height, dtype: float64\n"
     ]
    }
   ],
   "source": [
    "# count():计算每个组中的非空值数量。\n",
    "gb.count()\n",
    "# all():检查每个组中是否所有值为True（对于布尔类型的数据）\n",
    "gb.all()\n",
    "# any():检查每个族中是否至少有一个值为True（对于布尔类型的数据）\n",
    "# idxmax():返回每个组中最大值所在的索引。\n",
    "# idxmin():返回每个组中最小值所在的索引。\n",
    "# mad():计算每个组中的平均绝对偏差\n",
    "# nunique():每个组中唯一值的数量\n",
    "# skew():计算每个组中的偏度，衡量数据分布的不对称程度\n",
    "# quantile():计算每个组中的指定分位数。\n",
    "# sum():计算每组的总和\n",
    "# std():计算每个组中的标准差，衡量数据的离散程度\n",
    "# var():计算每个组中的方差，衡量数据的离散程度\n",
    "# sem():计算每个组中的标准误差\n",
    "# size():计算每个组的大小，即每个组中元素的数量。\n",
    "# prod():计算每个组中所有值的乘积。\n",
    "print(gb.any())\n",
    "print(gb.idxmax())\n",
    "print(gb.idxmin())\n",
    "# print(gb.mad())    搜索\n",
    "print(gb.nunique())\n",
    "print(gb.skew())\n",
    "print(gb.quantile(0.75))\n",
    "print(gb.sum())\n",
    "print(gb.std())\n",
    "print(gb.var())\n",
    "print(gb.sem())\n",
    "print(gb.size())\n",
    "print(gb.prod())\n"
   ]
  },
  {
   "cell_type": "code",
   "execution_count": 53,
   "id": "7a6e8029-464e-40a7-8d19-bee6c2e08f89",
   "metadata": {},
   "outputs": [],
   "source": [
    "# agg方法\n",
    "# 它能对分组后的数据应用一个或多个聚合函数，实现多样化的统计分析。"
   ]
  },
  {
   "cell_type": "code",
   "execution_count": 54,
   "id": "5a7e3c37-f3d6-49c3-b1ec-fd29f124fb9f",
   "metadata": {},
   "outputs": [
    {
     "data": {
      "text/html": [
       "<div>\n",
       "<style scoped>\n",
       "    .dataframe tbody tr th:only-of-type {\n",
       "        vertical-align: middle;\n",
       "    }\n",
       "\n",
       "    .dataframe tbody tr th {\n",
       "        vertical-align: top;\n",
       "    }\n",
       "\n",
       "    .dataframe thead th {\n",
       "        text-align: right;\n",
       "    }\n",
       "</style>\n",
       "<table border=\"1\" class=\"dataframe\">\n",
       "  <thead>\n",
       "    <tr style=\"text-align: right;\">\n",
       "      <th></th>\n",
       "      <th>School</th>\n",
       "      <th>Grade</th>\n",
       "      <th>Name</th>\n",
       "      <th>Gender</th>\n",
       "      <th>Height</th>\n",
       "      <th>Weight</th>\n",
       "      <th>Transfer</th>\n",
       "      <th>Test_Number</th>\n",
       "      <th>Test_Date</th>\n",
       "      <th>Time_Record</th>\n",
       "    </tr>\n",
       "  </thead>\n",
       "  <tbody>\n",
       "    <tr>\n",
       "      <th>0</th>\n",
       "      <td>A</td>\n",
       "      <td>Freshman</td>\n",
       "      <td>Gaopeng Yang</td>\n",
       "      <td>Female</td>\n",
       "      <td>158.9</td>\n",
       "      <td>46.0</td>\n",
       "      <td>N</td>\n",
       "      <td>1</td>\n",
       "      <td>2019/10/5</td>\n",
       "      <td>0:04:34</td>\n",
       "    </tr>\n",
       "    <tr>\n",
       "      <th>1</th>\n",
       "      <td>B</td>\n",
       "      <td>Freshman</td>\n",
       "      <td>Changqiang You</td>\n",
       "      <td>Male</td>\n",
       "      <td>166.5</td>\n",
       "      <td>70.0</td>\n",
       "      <td>N</td>\n",
       "      <td>1</td>\n",
       "      <td>2019/9/4</td>\n",
       "      <td>0:04:20</td>\n",
       "    </tr>\n",
       "    <tr>\n",
       "      <th>2</th>\n",
       "      <td>A</td>\n",
       "      <td>Senior</td>\n",
       "      <td>Mei Sun</td>\n",
       "      <td>Male</td>\n",
       "      <td>188.9</td>\n",
       "      <td>89.0</td>\n",
       "      <td>N</td>\n",
       "      <td>2</td>\n",
       "      <td>2019/9/12</td>\n",
       "      <td>0:05:22</td>\n",
       "    </tr>\n",
       "    <tr>\n",
       "      <th>3</th>\n",
       "      <td>C</td>\n",
       "      <td>Sophomore</td>\n",
       "      <td>Xiaojuan Sun</td>\n",
       "      <td>Female</td>\n",
       "      <td>NaN</td>\n",
       "      <td>41.0</td>\n",
       "      <td>N</td>\n",
       "      <td>2</td>\n",
       "      <td>2020/1/3</td>\n",
       "      <td>0:04:08</td>\n",
       "    </tr>\n",
       "    <tr>\n",
       "      <th>4</th>\n",
       "      <td>C</td>\n",
       "      <td>Sophomore</td>\n",
       "      <td>Gaojuan You</td>\n",
       "      <td>Male</td>\n",
       "      <td>174.0</td>\n",
       "      <td>74.0</td>\n",
       "      <td>N</td>\n",
       "      <td>2</td>\n",
       "      <td>2019/11/6</td>\n",
       "      <td>0:05:22</td>\n",
       "    </tr>\n",
       "  </tbody>\n",
       "</table>\n",
       "</div>"
      ],
      "text/plain": [
       "  School      Grade            Name  Gender  Height  Weight Transfer  \\\n",
       "0      A   Freshman    Gaopeng Yang  Female   158.9    46.0        N   \n",
       "1      B   Freshman  Changqiang You    Male   166.5    70.0        N   \n",
       "2      A     Senior         Mei Sun    Male   188.9    89.0        N   \n",
       "3      C  Sophomore    Xiaojuan Sun  Female     NaN    41.0        N   \n",
       "4      C  Sophomore     Gaojuan You    Male   174.0    74.0        N   \n",
       "\n",
       "   Test_Number  Test_Date Time_Record  \n",
       "0            1  2019/10/5     0:04:34  \n",
       "1            1   2019/9/4     0:04:20  \n",
       "2            2  2019/9/12     0:05:22  \n",
       "3            2   2020/1/3     0:04:08  \n",
       "4            2  2019/11/6     0:05:22  "
      ]
     },
     "execution_count": 54,
     "metadata": {},
     "output_type": "execute_result"
    }
   ],
   "source": [
    "df.head()"
   ]
  },
  {
   "cell_type": "code",
   "execution_count": 56,
   "id": "24c4cc22-35ad-4092-a85e-91a15352a863",
   "metadata": {},
   "outputs": [
    {
     "data": {
      "text/plain": [
       "<pandas.core.groupby.generic.DataFrameGroupBy object at 0x0000024FBA80C700>"
      ]
     },
     "execution_count": 56,
     "metadata": {},
     "output_type": "execute_result"
    }
   ],
   "source": [
    "gb = df.groupby('Gender')[['Height','Weight']]\n",
    "# gb.head()\n",
    "gb"
   ]
  },
  {
   "cell_type": "code",
   "execution_count": 57,
   "id": "be864f97-fdba-4fed-b04f-2efeea31132d",
   "metadata": {},
   "outputs": [
    {
     "data": {
      "text/html": [
       "<div>\n",
       "<style scoped>\n",
       "    .dataframe tbody tr th:only-of-type {\n",
       "        vertical-align: middle;\n",
       "    }\n",
       "\n",
       "    .dataframe tbody tr th {\n",
       "        vertical-align: top;\n",
       "    }\n",
       "\n",
       "    .dataframe thead tr th {\n",
       "        text-align: left;\n",
       "    }\n",
       "\n",
       "    .dataframe thead tr:last-of-type th {\n",
       "        text-align: right;\n",
       "    }\n",
       "</style>\n",
       "<table border=\"1\" class=\"dataframe\">\n",
       "  <thead>\n",
       "    <tr>\n",
       "      <th></th>\n",
       "      <th>Height</th>\n",
       "      <th>Weight</th>\n",
       "    </tr>\n",
       "    <tr>\n",
       "      <th></th>\n",
       "      <th>mean</th>\n",
       "      <th>mean</th>\n",
       "    </tr>\n",
       "    <tr>\n",
       "      <th>Gender</th>\n",
       "      <th></th>\n",
       "      <th></th>\n",
       "    </tr>\n",
       "  </thead>\n",
       "  <tbody>\n",
       "    <tr>\n",
       "      <th>Female</th>\n",
       "      <td>159.19697</td>\n",
       "      <td>47.918519</td>\n",
       "    </tr>\n",
       "    <tr>\n",
       "      <th>Male</th>\n",
       "      <td>173.62549</td>\n",
       "      <td>72.759259</td>\n",
       "    </tr>\n",
       "  </tbody>\n",
       "</table>\n",
       "</div>"
      ],
      "text/plain": [
       "           Height     Weight\n",
       "             mean       mean\n",
       "Gender                      \n",
       "Female  159.19697  47.918519\n",
       "Male    173.62549  72.759259"
      ]
     },
     "execution_count": 57,
     "metadata": {},
     "output_type": "execute_result"
    }
   ],
   "source": [
    "# 基本用法\n",
    "# 1、对单个列应用聚合函数\n",
    "gb.agg({'Height':['mean'],'Weight':['mean']})"
   ]
  },
  {
   "cell_type": "code",
   "execution_count": 58,
   "id": "a0ac2197-c431-4591-90f0-31680cfb8db5",
   "metadata": {},
   "outputs": [
    {
     "data": {
      "text/html": [
       "<div>\n",
       "<style scoped>\n",
       "    .dataframe tbody tr th:only-of-type {\n",
       "        vertical-align: middle;\n",
       "    }\n",
       "\n",
       "    .dataframe tbody tr th {\n",
       "        vertical-align: top;\n",
       "    }\n",
       "\n",
       "    .dataframe thead tr th {\n",
       "        text-align: left;\n",
       "    }\n",
       "\n",
       "    .dataframe thead tr:last-of-type th {\n",
       "        text-align: right;\n",
       "    }\n",
       "</style>\n",
       "<table border=\"1\" class=\"dataframe\">\n",
       "  <thead>\n",
       "    <tr>\n",
       "      <th></th>\n",
       "      <th colspan=\"3\" halign=\"left\">Height</th>\n",
       "      <th colspan=\"3\" halign=\"left\">Weight</th>\n",
       "    </tr>\n",
       "    <tr>\n",
       "      <th></th>\n",
       "      <th>sum</th>\n",
       "      <th>idxmax</th>\n",
       "      <th>skew</th>\n",
       "      <th>sum</th>\n",
       "      <th>idxmax</th>\n",
       "      <th>skew</th>\n",
       "    </tr>\n",
       "    <tr>\n",
       "      <th>Gender</th>\n",
       "      <th></th>\n",
       "      <th></th>\n",
       "      <th></th>\n",
       "      <th></th>\n",
       "      <th></th>\n",
       "      <th></th>\n",
       "    </tr>\n",
       "  </thead>\n",
       "  <tbody>\n",
       "    <tr>\n",
       "      <th>Female</th>\n",
       "      <td>21014.0</td>\n",
       "      <td>28</td>\n",
       "      <td>-0.219253</td>\n",
       "      <td>6469.0</td>\n",
       "      <td>28</td>\n",
       "      <td>-0.268482</td>\n",
       "    </tr>\n",
       "    <tr>\n",
       "      <th>Male</th>\n",
       "      <td>8854.9</td>\n",
       "      <td>193</td>\n",
       "      <td>0.437535</td>\n",
       "      <td>3929.0</td>\n",
       "      <td>2</td>\n",
       "      <td>-0.332393</td>\n",
       "    </tr>\n",
       "  </tbody>\n",
       "</table>\n",
       "</div>"
      ],
      "text/plain": [
       "         Height                   Weight                 \n",
       "            sum idxmax      skew     sum idxmax      skew\n",
       "Gender                                                   \n",
       "Female  21014.0     28 -0.219253  6469.0     28 -0.268482\n",
       "Male     8854.9    193  0.437535  3929.0      2 -0.332393"
      ]
     },
     "execution_count": 58,
     "metadata": {},
     "output_type": "execute_result"
    }
   ],
   "source": [
    "# 2、对单个列应用多个聚合函数\n",
    "gb.agg(['sum','idxmax','skew'])"
   ]
  },
  {
   "cell_type": "code",
   "execution_count": 59,
   "id": "e34ee236-5541-4b9e-bc04-7b9008f1336d",
   "metadata": {},
   "outputs": [
    {
     "data": {
      "text/html": [
       "<div>\n",
       "<style scoped>\n",
       "    .dataframe tbody tr th:only-of-type {\n",
       "        vertical-align: middle;\n",
       "    }\n",
       "\n",
       "    .dataframe tbody tr th {\n",
       "        vertical-align: top;\n",
       "    }\n",
       "\n",
       "    .dataframe thead tr th {\n",
       "        text-align: left;\n",
       "    }\n",
       "\n",
       "    .dataframe thead tr:last-of-type th {\n",
       "        text-align: right;\n",
       "    }\n",
       "</style>\n",
       "<table border=\"1\" class=\"dataframe\">\n",
       "  <thead>\n",
       "    <tr>\n",
       "      <th></th>\n",
       "      <th>Height</th>\n",
       "      <th>Weight</th>\n",
       "    </tr>\n",
       "    <tr>\n",
       "      <th></th>\n",
       "      <th>mean</th>\n",
       "      <th>sum</th>\n",
       "    </tr>\n",
       "    <tr>\n",
       "      <th>Gender</th>\n",
       "      <th></th>\n",
       "      <th></th>\n",
       "    </tr>\n",
       "  </thead>\n",
       "  <tbody>\n",
       "    <tr>\n",
       "      <th>Female</th>\n",
       "      <td>159.19697</td>\n",
       "      <td>6469.0</td>\n",
       "    </tr>\n",
       "    <tr>\n",
       "      <th>Male</th>\n",
       "      <td>173.62549</td>\n",
       "      <td>3929.0</td>\n",
       "    </tr>\n",
       "  </tbody>\n",
       "</table>\n",
       "</div>"
      ],
      "text/plain": [
       "           Height  Weight\n",
       "             mean     sum\n",
       "Gender                   \n",
       "Female  159.19697  6469.0\n",
       "Male    173.62549  3929.0"
      ]
     },
     "execution_count": 59,
     "metadata": {},
     "output_type": "execute_result"
    }
   ],
   "source": [
    "# 3、对多个列应用不同的聚合函数\n",
    "gb.agg({'Height':['mean'],'Weight':['sum']})"
   ]
  },
  {
   "cell_type": "code",
   "execution_count": 60,
   "id": "d53345d6-df24-4658-b92a-92386da62481",
   "metadata": {},
   "outputs": [
    {
     "data": {
      "text/html": [
       "<div>\n",
       "<style scoped>\n",
       "    .dataframe tbody tr th:only-of-type {\n",
       "        vertical-align: middle;\n",
       "    }\n",
       "\n",
       "    .dataframe tbody tr th {\n",
       "        vertical-align: top;\n",
       "    }\n",
       "\n",
       "    .dataframe thead th {\n",
       "        text-align: right;\n",
       "    }\n",
       "</style>\n",
       "<table border=\"1\" class=\"dataframe\">\n",
       "  <thead>\n",
       "    <tr style=\"text-align: right;\">\n",
       "      <th></th>\n",
       "      <th>Height</th>\n",
       "      <th>Weight</th>\n",
       "    </tr>\n",
       "    <tr>\n",
       "      <th>Gender</th>\n",
       "      <th></th>\n",
       "      <th></th>\n",
       "    </tr>\n",
       "  </thead>\n",
       "  <tbody>\n",
       "    <tr>\n",
       "      <th>Female</th>\n",
       "      <td>13.79697</td>\n",
       "      <td>13.918519</td>\n",
       "    </tr>\n",
       "    <tr>\n",
       "      <th>Male</th>\n",
       "      <td>17.92549</td>\n",
       "      <td>21.759259</td>\n",
       "    </tr>\n",
       "  </tbody>\n",
       "</table>\n",
       "</div>"
      ],
      "text/plain": [
       "          Height     Weight\n",
       "Gender                     \n",
       "Female  13.79697  13.918519\n",
       "Male    17.92549  21.759259"
      ]
     },
     "execution_count": 60,
     "metadata": {},
     "output_type": "execute_result"
    }
   ],
   "source": [
    "# 4、自定义聚合函数\n",
    "gb.agg(lambda x:x.mean() - x.min())"
   ]
  },
  {
   "cell_type": "code",
   "execution_count": 65,
   "id": "245c7230-90e9-463a-a359-cac0572f7c4f",
   "metadata": {},
   "outputs": [
    {
     "data": {
      "text/html": [
       "<div>\n",
       "<style scoped>\n",
       "    .dataframe tbody tr th:only-of-type {\n",
       "        vertical-align: middle;\n",
       "    }\n",
       "\n",
       "    .dataframe tbody tr th {\n",
       "        vertical-align: top;\n",
       "    }\n",
       "\n",
       "    .dataframe thead th {\n",
       "        text-align: right;\n",
       "    }\n",
       "</style>\n",
       "<table border=\"1\" class=\"dataframe\">\n",
       "  <thead>\n",
       "    <tr style=\"text-align: right;\">\n",
       "      <th></th>\n",
       "      <th>Height</th>\n",
       "      <th>Weight</th>\n",
       "    </tr>\n",
       "    <tr>\n",
       "      <th>Gender</th>\n",
       "      <th></th>\n",
       "      <th></th>\n",
       "    </tr>\n",
       "  </thead>\n",
       "  <tbody>\n",
       "    <tr>\n",
       "      <th>Female</th>\n",
       "      <td>Low</td>\n",
       "      <td>Low</td>\n",
       "    </tr>\n",
       "    <tr>\n",
       "      <th>Male</th>\n",
       "      <td>High</td>\n",
       "      <td>High</td>\n",
       "    </tr>\n",
       "  </tbody>\n",
       "</table>\n",
       "</div>"
      ],
      "text/plain": [
       "       Height Weight\n",
       "Gender              \n",
       "Female    Low    Low\n",
       "Male     High   High"
      ]
     },
     "execution_count": 65,
     "metadata": {},
     "output_type": "execute_result"
    }
   ],
   "source": [
    "# eg:定义一个函数，如果组的指标均值，超过该指标的总体均值，返回High，否则返回Low\n",
    "def my_agg(s):\n",
    "    res = 'High'\n",
    "    if s.mean() <= df[s.name].mean():\n",
    "        res = 'Low'\n",
    "    return res\n",
    "gb.agg(my_agg)\n",
    "\n",
    "# df"
   ]
  },
  {
   "cell_type": "code",
   "execution_count": 70,
   "id": "fc21efe5-5588-4ecf-8635-47a3bcbbcc05",
   "metadata": {},
   "outputs": [
    {
     "data": {
      "text/html": [
       "<div>\n",
       "<style scoped>\n",
       "    .dataframe tbody tr th:only-of-type {\n",
       "        vertical-align: middle;\n",
       "    }\n",
       "\n",
       "    .dataframe tbody tr th {\n",
       "        vertical-align: top;\n",
       "    }\n",
       "\n",
       "    .dataframe thead tr th {\n",
       "        text-align: left;\n",
       "    }\n",
       "\n",
       "    .dataframe thead tr:last-of-type th {\n",
       "        text-align: right;\n",
       "    }\n",
       "</style>\n",
       "<table border=\"1\" class=\"dataframe\">\n",
       "  <thead>\n",
       "    <tr>\n",
       "      <th></th>\n",
       "      <th colspan=\"2\" halign=\"left\">Height</th>\n",
       "      <th colspan=\"2\" halign=\"left\">Weight</th>\n",
       "    </tr>\n",
       "    <tr>\n",
       "      <th></th>\n",
       "      <th>range</th>\n",
       "      <th>my_sum</th>\n",
       "      <th>range</th>\n",
       "      <th>my_sum</th>\n",
       "    </tr>\n",
       "    <tr>\n",
       "      <th>Gender</th>\n",
       "      <th></th>\n",
       "      <th></th>\n",
       "      <th></th>\n",
       "      <th></th>\n",
       "    </tr>\n",
       "  </thead>\n",
       "  <tbody>\n",
       "    <tr>\n",
       "      <th>Female</th>\n",
       "      <td>24.8</td>\n",
       "      <td>21014.0</td>\n",
       "      <td>29.0</td>\n",
       "      <td>6469.0</td>\n",
       "    </tr>\n",
       "    <tr>\n",
       "      <th>Male</th>\n",
       "      <td>38.2</td>\n",
       "      <td>8854.9</td>\n",
       "      <td>38.0</td>\n",
       "      <td>3929.0</td>\n",
       "    </tr>\n",
       "  </tbody>\n",
       "</table>\n",
       "</div>"
      ],
      "text/plain": [
       "       Height          Weight        \n",
       "        range   my_sum  range  my_sum\n",
       "Gender                               \n",
       "Female   24.8  21014.0   29.0  6469.0\n",
       "Male     38.2   8854.9   38.0  3929.0"
      ]
     },
     "execution_count": 70,
     "metadata": {},
     "output_type": "execute_result"
    }
   ],
   "source": [
    "# 5、聚合结果重命名\n",
    "# 如果想要对结果进行重命名，只需要将上述的位置改写成元组。\n",
    "# 元组的第一个元素为新的名字，元组的第二个元素为原来的函数\n",
    "# gb.agg('sum')\n",
    "gb.agg([('range',lambda x:x.max() - x.min()),('my_sum','sum')])"
   ]
  },
  {
   "cell_type": "markdown",
   "id": "c58c4bbe-8ded-4d7b-b485-00545488b5bb",
   "metadata": {},
   "source": [
    "## 变换"
   ]
  },
  {
   "cell_type": "markdown",
   "id": "894d5e03-18f3-45fa-8a43-0bb4b98a1fff",
   "metadata": {},
   "source": [
    "### 变换函数与transform方法"
   ]
  },
  {
   "cell_type": "code",
   "execution_count": 71,
   "id": "34a3818a-5a12-4977-89cd-3efc27b4dcbb",
   "metadata": {},
   "outputs": [],
   "source": [
    "# 常用的变换内置函数：\n",
    "# cumcount/cumsum/cumprod/cummax/cummin\n",
    "# cumcount() 对每个分组内的元素进行编号，从0开始\n",
    "# cumsum() 对每个分组内的数据进行累积求和\n",
    "# cumprod()  对每个分组内的数据进行累积求积\n",
    "# cummax() 对每个分组内的数据进行累积求最大值\n",
    "# cummin() 对每个分组内的数据进行累积求最小值"
   ]
  },
  {
   "cell_type": "code",
   "execution_count": 75,
   "id": "31079dfb-102e-496c-9729-e32bc4524473",
   "metadata": {},
   "outputs": [
    {
     "data": {
      "text/plain": [
       "<pandas.core.groupby.generic.DataFrameGroupBy object at 0x0000024FB9D81B10>"
      ]
     },
     "execution_count": 75,
     "metadata": {},
     "output_type": "execute_result"
    }
   ],
   "source": [
    "gb = df.groupby('Gender')[['Height','Weight']]\n",
    "# gb.head()\n",
    "gb"
   ]
  },
  {
   "cell_type": "code",
   "execution_count": 76,
   "id": "8990adf4-e29c-4c90-850e-1a05dffdc25b",
   "metadata": {},
   "outputs": [
    {
     "data": {
      "text/plain": [
       "0    0\n",
       "1    0\n",
       "2    1\n",
       "3    1\n",
       "4    2\n",
       "dtype: int64"
      ]
     },
     "execution_count": 76,
     "metadata": {},
     "output_type": "execute_result"
    }
   ],
   "source": [
    "gb.cumcount().head()"
   ]
  },
  {
   "cell_type": "code",
   "execution_count": 77,
   "id": "5c906470-591c-4c1b-aceb-db19fa079103",
   "metadata": {},
   "outputs": [
    {
     "data": {
      "text/html": [
       "<div>\n",
       "<style scoped>\n",
       "    .dataframe tbody tr th:only-of-type {\n",
       "        vertical-align: middle;\n",
       "    }\n",
       "\n",
       "    .dataframe tbody tr th {\n",
       "        vertical-align: top;\n",
       "    }\n",
       "\n",
       "    .dataframe thead th {\n",
       "        text-align: right;\n",
       "    }\n",
       "</style>\n",
       "<table border=\"1\" class=\"dataframe\">\n",
       "  <thead>\n",
       "    <tr style=\"text-align: right;\">\n",
       "      <th></th>\n",
       "      <th>Height</th>\n",
       "      <th>Weight</th>\n",
       "    </tr>\n",
       "  </thead>\n",
       "  <tbody>\n",
       "    <tr>\n",
       "      <th>0</th>\n",
       "      <td>158.9</td>\n",
       "      <td>46.0</td>\n",
       "    </tr>\n",
       "    <tr>\n",
       "      <th>1</th>\n",
       "      <td>166.5</td>\n",
       "      <td>70.0</td>\n",
       "    </tr>\n",
       "    <tr>\n",
       "      <th>2</th>\n",
       "      <td>355.4</td>\n",
       "      <td>159.0</td>\n",
       "    </tr>\n",
       "    <tr>\n",
       "      <th>3</th>\n",
       "      <td>NaN</td>\n",
       "      <td>87.0</td>\n",
       "    </tr>\n",
       "    <tr>\n",
       "      <th>4</th>\n",
       "      <td>529.4</td>\n",
       "      <td>233.0</td>\n",
       "    </tr>\n",
       "  </tbody>\n",
       "</table>\n",
       "</div>"
      ],
      "text/plain": [
       "   Height  Weight\n",
       "0   158.9    46.0\n",
       "1   166.5    70.0\n",
       "2   355.4   159.0\n",
       "3     NaN    87.0\n",
       "4   529.4   233.0"
      ]
     },
     "execution_count": 77,
     "metadata": {},
     "output_type": "execute_result"
    }
   ],
   "source": [
    "gb.cumsum().head()"
   ]
  },
  {
   "cell_type": "code",
   "execution_count": 78,
   "id": "ffa2aa58-fb54-47e8-bb43-c1cb6413046c",
   "metadata": {},
   "outputs": [
    {
     "data": {
      "text/html": [
       "<div>\n",
       "<style scoped>\n",
       "    .dataframe tbody tr th:only-of-type {\n",
       "        vertical-align: middle;\n",
       "    }\n",
       "\n",
       "    .dataframe tbody tr th {\n",
       "        vertical-align: top;\n",
       "    }\n",
       "\n",
       "    .dataframe thead th {\n",
       "        text-align: right;\n",
       "    }\n",
       "</style>\n",
       "<table border=\"1\" class=\"dataframe\">\n",
       "  <thead>\n",
       "    <tr style=\"text-align: right;\">\n",
       "      <th></th>\n",
       "      <th>Height</th>\n",
       "      <th>Weight</th>\n",
       "    </tr>\n",
       "  </thead>\n",
       "  <tbody>\n",
       "    <tr>\n",
       "      <th>0</th>\n",
       "      <td>158.90</td>\n",
       "      <td>46.0</td>\n",
       "    </tr>\n",
       "    <tr>\n",
       "      <th>1</th>\n",
       "      <td>166.50</td>\n",
       "      <td>70.0</td>\n",
       "    </tr>\n",
       "    <tr>\n",
       "      <th>2</th>\n",
       "      <td>31451.85</td>\n",
       "      <td>6230.0</td>\n",
       "    </tr>\n",
       "    <tr>\n",
       "      <th>3</th>\n",
       "      <td>NaN</td>\n",
       "      <td>1886.0</td>\n",
       "    </tr>\n",
       "    <tr>\n",
       "      <th>4</th>\n",
       "      <td>5472621.90</td>\n",
       "      <td>461020.0</td>\n",
       "    </tr>\n",
       "  </tbody>\n",
       "</table>\n",
       "</div>"
      ],
      "text/plain": [
       "       Height    Weight\n",
       "0      158.90      46.0\n",
       "1      166.50      70.0\n",
       "2    31451.85    6230.0\n",
       "3         NaN    1886.0\n",
       "4  5472621.90  461020.0"
      ]
     },
     "execution_count": 78,
     "metadata": {},
     "output_type": "execute_result"
    }
   ],
   "source": [
    "gb.cumprod().head()"
   ]
  },
  {
   "cell_type": "code",
   "execution_count": 79,
   "id": "e89e6c8b-b728-4608-8ef8-28ebbd80f4f7",
   "metadata": {},
   "outputs": [
    {
     "data": {
      "text/html": [
       "<div>\n",
       "<style scoped>\n",
       "    .dataframe tbody tr th:only-of-type {\n",
       "        vertical-align: middle;\n",
       "    }\n",
       "\n",
       "    .dataframe tbody tr th {\n",
       "        vertical-align: top;\n",
       "    }\n",
       "\n",
       "    .dataframe thead th {\n",
       "        text-align: right;\n",
       "    }\n",
       "</style>\n",
       "<table border=\"1\" class=\"dataframe\">\n",
       "  <thead>\n",
       "    <tr style=\"text-align: right;\">\n",
       "      <th></th>\n",
       "      <th>Height</th>\n",
       "      <th>Weight</th>\n",
       "    </tr>\n",
       "  </thead>\n",
       "  <tbody>\n",
       "    <tr>\n",
       "      <th>0</th>\n",
       "      <td>158.9</td>\n",
       "      <td>46.0</td>\n",
       "    </tr>\n",
       "    <tr>\n",
       "      <th>1</th>\n",
       "      <td>166.5</td>\n",
       "      <td>70.0</td>\n",
       "    </tr>\n",
       "    <tr>\n",
       "      <th>2</th>\n",
       "      <td>188.9</td>\n",
       "      <td>89.0</td>\n",
       "    </tr>\n",
       "    <tr>\n",
       "      <th>3</th>\n",
       "      <td>NaN</td>\n",
       "      <td>46.0</td>\n",
       "    </tr>\n",
       "    <tr>\n",
       "      <th>4</th>\n",
       "      <td>188.9</td>\n",
       "      <td>89.0</td>\n",
       "    </tr>\n",
       "  </tbody>\n",
       "</table>\n",
       "</div>"
      ],
      "text/plain": [
       "   Height  Weight\n",
       "0   158.9    46.0\n",
       "1   166.5    70.0\n",
       "2   188.9    89.0\n",
       "3     NaN    46.0\n",
       "4   188.9    89.0"
      ]
     },
     "execution_count": 79,
     "metadata": {},
     "output_type": "execute_result"
    }
   ],
   "source": [
    "gb.cummax().head()"
   ]
  },
  {
   "cell_type": "code",
   "execution_count": 80,
   "id": "982f7c47-74e6-4878-9c83-30dd6dbb631c",
   "metadata": {},
   "outputs": [
    {
     "data": {
      "text/html": [
       "<div>\n",
       "<style scoped>\n",
       "    .dataframe tbody tr th:only-of-type {\n",
       "        vertical-align: middle;\n",
       "    }\n",
       "\n",
       "    .dataframe tbody tr th {\n",
       "        vertical-align: top;\n",
       "    }\n",
       "\n",
       "    .dataframe thead th {\n",
       "        text-align: right;\n",
       "    }\n",
       "</style>\n",
       "<table border=\"1\" class=\"dataframe\">\n",
       "  <thead>\n",
       "    <tr style=\"text-align: right;\">\n",
       "      <th></th>\n",
       "      <th>Height</th>\n",
       "      <th>Weight</th>\n",
       "    </tr>\n",
       "  </thead>\n",
       "  <tbody>\n",
       "    <tr>\n",
       "      <th>0</th>\n",
       "      <td>158.9</td>\n",
       "      <td>46.0</td>\n",
       "    </tr>\n",
       "    <tr>\n",
       "      <th>1</th>\n",
       "      <td>166.5</td>\n",
       "      <td>70.0</td>\n",
       "    </tr>\n",
       "    <tr>\n",
       "      <th>2</th>\n",
       "      <td>166.5</td>\n",
       "      <td>70.0</td>\n",
       "    </tr>\n",
       "    <tr>\n",
       "      <th>3</th>\n",
       "      <td>NaN</td>\n",
       "      <td>41.0</td>\n",
       "    </tr>\n",
       "    <tr>\n",
       "      <th>4</th>\n",
       "      <td>166.5</td>\n",
       "      <td>70.0</td>\n",
       "    </tr>\n",
       "  </tbody>\n",
       "</table>\n",
       "</div>"
      ],
      "text/plain": [
       "   Height  Weight\n",
       "0   158.9    46.0\n",
       "1   166.5    70.0\n",
       "2   166.5    70.0\n",
       "3     NaN    41.0\n",
       "4   166.5    70.0"
      ]
     },
     "execution_count": 80,
     "metadata": {},
     "output_type": "execute_result"
    }
   ],
   "source": [
    "gb.cummin().head()"
   ]
  },
  {
   "cell_type": "markdown",
   "id": "1c2fdd2f-3100-4d13-a261-aaf34d919258",
   "metadata": {},
   "source": [
    "### transform方法"
   ]
  },
  {
   "cell_type": "code",
   "execution_count": 81,
   "id": "380bfd84-2ff1-4628-8013-1038c2f23393",
   "metadata": {},
   "outputs": [],
   "source": [
    "# 它可以对分组后的数据进行变换操作，与agg()方法不同，transform方法会返回一个与原数据具有相同索引的对象\n",
    "#其主要作用是将聚合函数应用到每个分组，并将结果广播到每个分组内的所有元素上。"
   ]
  },
  {
   "cell_type": "code",
   "execution_count": 84,
   "id": "0cabe76e-f033-45c5-9b64-a7dc15636eb4",
   "metadata": {},
   "outputs": [
    {
     "data": {
      "text/html": [
       "<div>\n",
       "<style scoped>\n",
       "    .dataframe tbody tr th:only-of-type {\n",
       "        vertical-align: middle;\n",
       "    }\n",
       "\n",
       "    .dataframe tbody tr th {\n",
       "        vertical-align: top;\n",
       "    }\n",
       "\n",
       "    .dataframe thead th {\n",
       "        text-align: right;\n",
       "    }\n",
       "</style>\n",
       "<table border=\"1\" class=\"dataframe\">\n",
       "  <thead>\n",
       "    <tr style=\"text-align: right;\">\n",
       "      <th></th>\n",
       "      <th>Height</th>\n",
       "      <th>Weight</th>\n",
       "    </tr>\n",
       "    <tr>\n",
       "      <th>Gender</th>\n",
       "      <th></th>\n",
       "      <th></th>\n",
       "    </tr>\n",
       "  </thead>\n",
       "  <tbody>\n",
       "    <tr>\n",
       "      <th>Female</th>\n",
       "      <td>159.19697</td>\n",
       "      <td>47.918519</td>\n",
       "    </tr>\n",
       "    <tr>\n",
       "      <th>Male</th>\n",
       "      <td>173.62549</td>\n",
       "      <td>72.759259</td>\n",
       "    </tr>\n",
       "  </tbody>\n",
       "</table>\n",
       "</div>"
      ],
      "text/plain": [
       "           Height     Weight\n",
       "Gender                      \n",
       "Female  159.19697  47.918519\n",
       "Male    173.62549  72.759259"
      ]
     },
     "execution_count": 84,
     "metadata": {},
     "output_type": "execute_result"
    }
   ],
   "source": [
    "# 基本用户\n",
    "# 1、对分组数据应用聚合函数\n",
    "gb.mean()"
   ]
  },
  {
   "cell_type": "code",
   "execution_count": 85,
   "id": "4afbed95-a495-4aa9-9e8f-b4c78ae5c72f",
   "metadata": {},
   "outputs": [
    {
     "data": {
      "text/html": [
       "<div>\n",
       "<style scoped>\n",
       "    .dataframe tbody tr th:only-of-type {\n",
       "        vertical-align: middle;\n",
       "    }\n",
       "\n",
       "    .dataframe tbody tr th {\n",
       "        vertical-align: top;\n",
       "    }\n",
       "\n",
       "    .dataframe thead th {\n",
       "        text-align: right;\n",
       "    }\n",
       "</style>\n",
       "<table border=\"1\" class=\"dataframe\">\n",
       "  <thead>\n",
       "    <tr style=\"text-align: right;\">\n",
       "      <th></th>\n",
       "      <th>Height</th>\n",
       "      <th>Weight</th>\n",
       "    </tr>\n",
       "  </thead>\n",
       "  <tbody>\n",
       "    <tr>\n",
       "      <th>0</th>\n",
       "      <td>159.19697</td>\n",
       "      <td>47.918519</td>\n",
       "    </tr>\n",
       "    <tr>\n",
       "      <th>1</th>\n",
       "      <td>173.62549</td>\n",
       "      <td>72.759259</td>\n",
       "    </tr>\n",
       "    <tr>\n",
       "      <th>2</th>\n",
       "      <td>173.62549</td>\n",
       "      <td>72.759259</td>\n",
       "    </tr>\n",
       "    <tr>\n",
       "      <th>3</th>\n",
       "      <td>159.19697</td>\n",
       "      <td>47.918519</td>\n",
       "    </tr>\n",
       "    <tr>\n",
       "      <th>4</th>\n",
       "      <td>173.62549</td>\n",
       "      <td>72.759259</td>\n",
       "    </tr>\n",
       "  </tbody>\n",
       "</table>\n",
       "</div>"
      ],
      "text/plain": [
       "      Height     Weight\n",
       "0  159.19697  47.918519\n",
       "1  173.62549  72.759259\n",
       "2  173.62549  72.759259\n",
       "3  159.19697  47.918519\n",
       "4  173.62549  72.759259"
      ]
     },
     "execution_count": 85,
     "metadata": {},
     "output_type": "execute_result"
    }
   ],
   "source": [
    "gb.transform('mean').head()"
   ]
  },
  {
   "cell_type": "code",
   "execution_count": 86,
   "id": "148c334b-5e22-4d79-8135-55f0983af4d3",
   "metadata": {},
   "outputs": [
    {
     "data": {
      "text/html": [
       "<div>\n",
       "<style scoped>\n",
       "    .dataframe tbody tr th:only-of-type {\n",
       "        vertical-align: middle;\n",
       "    }\n",
       "\n",
       "    .dataframe tbody tr th {\n",
       "        vertical-align: top;\n",
       "    }\n",
       "\n",
       "    .dataframe thead th {\n",
       "        text-align: right;\n",
       "    }\n",
       "</style>\n",
       "<table border=\"1\" class=\"dataframe\">\n",
       "  <thead>\n",
       "    <tr style=\"text-align: right;\">\n",
       "      <th></th>\n",
       "      <th>Height</th>\n",
       "      <th>Weight</th>\n",
       "    </tr>\n",
       "  </thead>\n",
       "  <tbody>\n",
       "    <tr>\n",
       "      <th>0</th>\n",
       "      <td>24.8</td>\n",
       "      <td>29.0</td>\n",
       "    </tr>\n",
       "    <tr>\n",
       "      <th>1</th>\n",
       "      <td>38.2</td>\n",
       "      <td>38.0</td>\n",
       "    </tr>\n",
       "    <tr>\n",
       "      <th>2</th>\n",
       "      <td>38.2</td>\n",
       "      <td>38.0</td>\n",
       "    </tr>\n",
       "    <tr>\n",
       "      <th>3</th>\n",
       "      <td>24.8</td>\n",
       "      <td>29.0</td>\n",
       "    </tr>\n",
       "    <tr>\n",
       "      <th>4</th>\n",
       "      <td>38.2</td>\n",
       "      <td>38.0</td>\n",
       "    </tr>\n",
       "  </tbody>\n",
       "</table>\n",
       "</div>"
      ],
      "text/plain": [
       "   Height  Weight\n",
       "0    24.8    29.0\n",
       "1    38.2    38.0\n",
       "2    38.2    38.0\n",
       "3    24.8    29.0\n",
       "4    38.2    38.0"
      ]
     },
     "execution_count": 86,
     "metadata": {},
     "output_type": "execute_result"
    }
   ],
   "source": [
    "# 2、自定义函数的应用\n",
    "# lambda x: x.max() - x.min()\n",
    "gb.transform(lambda x: x.max() - x.min()).head()"
   ]
  },
  {
   "cell_type": "code",
   "execution_count": 87,
   "id": "f7fdbc17-652a-4916-a913-1db94af7c9e2",
   "metadata": {},
   "outputs": [
    {
     "data": {
      "text/html": [
       "<div>\n",
       "<style scoped>\n",
       "    .dataframe tbody tr th:only-of-type {\n",
       "        vertical-align: middle;\n",
       "    }\n",
       "\n",
       "    .dataframe tbody tr th {\n",
       "        vertical-align: top;\n",
       "    }\n",
       "\n",
       "    .dataframe thead th {\n",
       "        text-align: right;\n",
       "    }\n",
       "</style>\n",
       "<table border=\"1\" class=\"dataframe\">\n",
       "  <thead>\n",
       "    <tr style=\"text-align: right;\">\n",
       "      <th></th>\n",
       "      <th>Height</th>\n",
       "      <th>Weight</th>\n",
       "    </tr>\n",
       "  </thead>\n",
       "  <tbody>\n",
       "    <tr>\n",
       "      <th>0</th>\n",
       "      <td>-0.058760</td>\n",
       "      <td>-0.354888</td>\n",
       "    </tr>\n",
       "    <tr>\n",
       "      <th>1</th>\n",
       "      <td>-1.010925</td>\n",
       "      <td>-0.355000</td>\n",
       "    </tr>\n",
       "    <tr>\n",
       "      <th>2</th>\n",
       "      <td>2.167063</td>\n",
       "      <td>2.089498</td>\n",
       "    </tr>\n",
       "    <tr>\n",
       "      <th>3</th>\n",
       "      <td>NaN</td>\n",
       "      <td>-1.279789</td>\n",
       "    </tr>\n",
       "    <tr>\n",
       "      <th>4</th>\n",
       "      <td>0.053133</td>\n",
       "      <td>0.159631</td>\n",
       "    </tr>\n",
       "  </tbody>\n",
       "</table>\n",
       "</div>"
      ],
      "text/plain": [
       "     Height    Weight\n",
       "0 -0.058760 -0.354888\n",
       "1 -1.010925 -0.355000\n",
       "2  2.167063  2.089498\n",
       "3       NaN -1.279789\n",
       "4  0.053133  0.159631"
      ]
     },
     "execution_count": 87,
     "metadata": {},
     "output_type": "execute_result"
    }
   ],
   "source": [
    "# 常见应用场景\n",
    "# 1、数据标准化\n",
    "gb.transform(lambda x:(x - x.mean()) / x.std()).head()"
   ]
  },
  {
   "cell_type": "code",
   "execution_count": 89,
   "id": "3b95a0d0-2d2c-40a2-bac2-f69a2a464a17",
   "metadata": {},
   "outputs": [
    {
     "data": {
      "text/plain": [
       "Height    200\n",
       "Weight    200\n",
       "dtype: int64"
      ]
     },
     "execution_count": 89,
     "metadata": {},
     "output_type": "execute_result"
    }
   ],
   "source": [
    "# 缺失值填充\n",
    "gb.transform(lambda x:x.fillna(x.mean())).count()"
   ]
  },
  {
   "cell_type": "code",
   "execution_count": 90,
   "id": "c2f45055-017b-4d98-85fa-9eac144fa9fa",
   "metadata": {},
   "outputs": [
    {
     "data": {
      "text/plain": [
       "0    10.0\n",
       "1    10.0\n",
       "2    30.0\n",
       "3    40.0\n",
       "Name: value, dtype: float64"
      ]
     },
     "execution_count": 90,
     "metadata": {},
     "output_type": "execute_result"
    }
   ],
   "source": [
    "data = {\n",
    "    'test1':['A','A','B','B'],\n",
    "    'value':[10,np.nan,30,40]\n",
    "}\n",
    "df_demo = pd.DataFrame(data)\n",
    "grouped = df_demo.groupby('test1')['value']\n",
    "# 用每个分组的均值填充缺失数据\n",
    "grouped.transform(lambda x:x.fillna(x.mean()))"
   ]
  },
  {
   "cell_type": "markdown",
   "id": "a4a91855-0f7e-4c76-9c3d-557e701d1317",
   "metadata": {},
   "source": [
    "## 过滤"
   ]
  },
  {
   "cell_type": "markdown",
   "id": "c52e6337-d59d-43e9-9f8b-26134d4c8fc0",
   "metadata": {},
   "source": [
    "### 组索引操作"
   ]
  },
  {
   "cell_type": "code",
   "execution_count": 91,
   "id": "069afc91-b5eb-457b-b41b-30e428d587aa",
   "metadata": {},
   "outputs": [
    {
     "data": {
      "text/html": [
       "<div>\n",
       "<style scoped>\n",
       "    .dataframe tbody tr th:only-of-type {\n",
       "        vertical-align: middle;\n",
       "    }\n",
       "\n",
       "    .dataframe tbody tr th {\n",
       "        vertical-align: top;\n",
       "    }\n",
       "\n",
       "    .dataframe thead th {\n",
       "        text-align: right;\n",
       "    }\n",
       "</style>\n",
       "<table border=\"1\" class=\"dataframe\">\n",
       "  <thead>\n",
       "    <tr style=\"text-align: right;\">\n",
       "      <th></th>\n",
       "      <th>test1</th>\n",
       "      <th>value</th>\n",
       "    </tr>\n",
       "  </thead>\n",
       "  <tbody>\n",
       "    <tr>\n",
       "      <th>0</th>\n",
       "      <td>A</td>\n",
       "      <td>10</td>\n",
       "    </tr>\n",
       "    <tr>\n",
       "      <th>1</th>\n",
       "      <td>B</td>\n",
       "      <td>20</td>\n",
       "    </tr>\n",
       "    <tr>\n",
       "      <th>2</th>\n",
       "      <td>A</td>\n",
       "      <td>15</td>\n",
       "    </tr>\n",
       "    <tr>\n",
       "      <th>3</th>\n",
       "      <td>B</td>\n",
       "      <td>25</td>\n",
       "    </tr>\n",
       "  </tbody>\n",
       "</table>\n",
       "</div>"
      ],
      "text/plain": [
       "  test1  value\n",
       "0     A     10\n",
       "1     B     20\n",
       "2     A     15\n",
       "3     B     25"
      ]
     },
     "execution_count": 91,
     "metadata": {},
     "output_type": "execute_result"
    }
   ],
   "source": [
    "# 1、获取分组索引\n",
    "data = {\n",
    "    'test1':['A','B','A','B'],\n",
    "    'value':[10,20,15,25]\n",
    "}\n",
    "df_demo = pd.DataFrame(data)\n",
    "df_demo"
   ]
  },
  {
   "cell_type": "code",
   "execution_count": 92,
   "id": "cce43541-976b-4825-96f8-117e64031243",
   "metadata": {},
   "outputs": [
    {
     "data": {
      "text/plain": [
       "{'A': [0, 2], 'B': [1, 3]}"
      ]
     },
     "execution_count": 92,
     "metadata": {},
     "output_type": "execute_result"
    }
   ],
   "source": [
    "grouped = df_demo.groupby('test1')\n",
    "# 查看组的索引信息\n",
    "grouped.groups"
   ]
  },
  {
   "cell_type": "code",
   "execution_count": 93,
   "id": "db558423-90d3-48b0-85f0-2eee64a47d4b",
   "metadata": {},
   "outputs": [
    {
     "name": "stdout",
     "output_type": "stream",
     "text": [
      "分组的标签：A\n",
      "  test1  value\n",
      "0     A     10\n",
      "2     A     15\n",
      "\n",
      "分组的标签：B\n",
      "  test1  value\n",
      "1     B     20\n",
      "3     B     25\n",
      "\n"
     ]
    }
   ],
   "source": [
    "# 2、遍历分组索引\n",
    "# 使用for循环遍历分组后的结果，获取每个分组的标签和对应的DataFrame\n",
    "for group_label,group_df in grouped:\n",
    "    print(f\"分组的标签：{group_label}\")\n",
    "    print(group_df)\n",
    "    print()"
   ]
  },
  {
   "cell_type": "markdown",
   "id": "abf5c0a5-06c2-40e9-b269-68d2c79039db",
   "metadata": {},
   "source": [
    "### 组过滤操作"
   ]
  },
  {
   "cell_type": "code",
   "execution_count": 97,
   "id": "6bfb0ed7-342c-4745-a225-9dfb84254971",
   "metadata": {},
   "outputs": [
    {
     "name": "stdout",
     "output_type": "stream",
     "text": [
      "  test1  value\n",
      "1     B     20\n",
      "3     B     25\n"
     ]
    }
   ],
   "source": [
    "# 1、使用filter()方法\n",
    "# filter()：方法用于根据自定义的条件过滤分组，返回一个满足条件的分组数据。filter()接收一个函数作为参数，该函数的输入是每个分组的DataFrame，返回值为布尔类型。\n",
    "\n",
    "\n",
    "# 定义一个函数:实现过滤条件分组的平均值大于12\n",
    "# grouped = df_demo.groupby('test1')\n",
    "# grouped['value'].mean() > 12\n",
    "def filter_con(group):\n",
    "    return group['value'].mean() > 15\n",
    "\n",
    "# 过滤分组\n",
    "a_df = grouped.filter(filter_con)\n",
    "print(a_df)\n",
    "\n"
   ]
  },
  {
   "cell_type": "code",
   "execution_count": 96,
   "id": "b7758a2b-d2a4-4b62-83a2-d21b922b436e",
   "metadata": {},
   "outputs": [
    {
     "name": "stdout",
     "output_type": "stream",
     "text": [
      "  test1  value\n",
      "0     A     10\n",
      "2     A     15\n"
     ]
    }
   ],
   "source": [
    "# 2、基于索引过滤分组\n",
    "# 可以根据分组的标签选择特定分组\n",
    "# eg：选择A分组\n",
    "select_group = grouped.get_group('A')\n",
    "print(select_group)"
   ]
  },
  {
   "cell_type": "code",
   "execution_count": null,
   "id": "bd8d1b13-c826-403a-a15c-0c157c2fd2d1",
   "metadata": {},
   "outputs": [],
   "source": []
  }
 ],
 "metadata": {
  "kernelspec": {
   "display_name": "Python 3 (ipykernel)",
   "language": "python",
   "name": "python3"
  },
  "language_info": {
   "codemirror_mode": {
    "name": "ipython",
    "version": 3
   },
   "file_extension": ".py",
   "mimetype": "text/x-python",
   "name": "python",
   "nbconvert_exporter": "python",
   "pygments_lexer": "ipython3",
   "version": "3.10.11"
  }
 },
 "nbformat": 4,
 "nbformat_minor": 5
}
